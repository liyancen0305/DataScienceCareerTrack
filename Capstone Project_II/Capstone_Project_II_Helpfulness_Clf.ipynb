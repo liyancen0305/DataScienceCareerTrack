{
 "cells": [
  {
   "cell_type": "code",
   "execution_count": 2,
   "metadata": {},
   "outputs": [
    {
     "data": {
      "text/html": [
       "<div>\n",
       "<style scoped>\n",
       "    .dataframe tbody tr th:only-of-type {\n",
       "        vertical-align: middle;\n",
       "    }\n",
       "\n",
       "    .dataframe tbody tr th {\n",
       "        vertical-align: top;\n",
       "    }\n",
       "\n",
       "    .dataframe thead th {\n",
       "        text-align: right;\n",
       "    }\n",
       "</style>\n",
       "<table border=\"1\" class=\"dataframe\">\n",
       "  <thead>\n",
       "    <tr style=\"text-align: right;\">\n",
       "      <th></th>\n",
       "      <th>Id</th>\n",
       "      <th>ProductId</th>\n",
       "      <th>UserId</th>\n",
       "      <th>ProfileName</th>\n",
       "      <th>HelpfulnessNumerator</th>\n",
       "      <th>HelpfulnessDenominator</th>\n",
       "      <th>Score</th>\n",
       "      <th>Time</th>\n",
       "      <th>Summary</th>\n",
       "      <th>Text</th>\n",
       "    </tr>\n",
       "  </thead>\n",
       "  <tbody>\n",
       "    <tr>\n",
       "      <th>0</th>\n",
       "      <td>1</td>\n",
       "      <td>B001E4KFG0</td>\n",
       "      <td>A3SGXH7AUHU8GW</td>\n",
       "      <td>delmartian</td>\n",
       "      <td>1</td>\n",
       "      <td>1</td>\n",
       "      <td>5</td>\n",
       "      <td>1303862400</td>\n",
       "      <td>Good Quality Dog Food</td>\n",
       "      <td>I have bought several of the Vitality canned d...</td>\n",
       "    </tr>\n",
       "    <tr>\n",
       "      <th>1</th>\n",
       "      <td>2</td>\n",
       "      <td>B00813GRG4</td>\n",
       "      <td>A1D87F6ZCVE5NK</td>\n",
       "      <td>dll pa</td>\n",
       "      <td>0</td>\n",
       "      <td>0</td>\n",
       "      <td>1</td>\n",
       "      <td>1346976000</td>\n",
       "      <td>Not as Advertised</td>\n",
       "      <td>Product arrived labeled as Jumbo Salted Peanut...</td>\n",
       "    </tr>\n",
       "  </tbody>\n",
       "</table>\n",
       "</div>"
      ],
      "text/plain": [
       "   Id   ProductId          UserId ProfileName  HelpfulnessNumerator  \\\n",
       "0   1  B001E4KFG0  A3SGXH7AUHU8GW  delmartian                     1   \n",
       "1   2  B00813GRG4  A1D87F6ZCVE5NK      dll pa                     0   \n",
       "\n",
       "   HelpfulnessDenominator  Score        Time                Summary  \\\n",
       "0                       1      5  1303862400  Good Quality Dog Food   \n",
       "1                       0      1  1346976000      Not as Advertised   \n",
       "\n",
       "                                                Text  \n",
       "0  I have bought several of the Vitality canned d...  \n",
       "1  Product arrived labeled as Jumbo Salted Peanut...  "
      ]
     },
     "execution_count": 2,
     "metadata": {},
     "output_type": "execute_result"
    }
   ],
   "source": [
    "import pandas as pd\n",
    "import re \n",
    "import warnings \n",
    "\n",
    "warnings.filterwarnings('ignore')\n",
    "\n",
    "data = pd.read_csv('/home/liyan/Desktop/Capstone Project_II/Reviews.csv')\n",
    "data.head(2)"
   ]
  },
  {
   "cell_type": "code",
   "execution_count": 3,
   "metadata": {},
   "outputs": [
    {
     "data": {
      "text/html": [
       "<div>\n",
       "<style scoped>\n",
       "    .dataframe tbody tr th:only-of-type {\n",
       "        vertical-align: middle;\n",
       "    }\n",
       "\n",
       "    .dataframe tbody tr th {\n",
       "        vertical-align: top;\n",
       "    }\n",
       "\n",
       "    .dataframe thead th {\n",
       "        text-align: right;\n",
       "    }\n",
       "</style>\n",
       "<table border=\"1\" class=\"dataframe\">\n",
       "  <thead>\n",
       "    <tr style=\"text-align: right;\">\n",
       "      <th></th>\n",
       "      <th>HelpfulnessNumerator</th>\n",
       "      <th>HelpfulnessDenominator</th>\n",
       "      <th>Text</th>\n",
       "    </tr>\n",
       "  </thead>\n",
       "  <tbody>\n",
       "    <tr>\n",
       "      <th>0</th>\n",
       "      <td>1</td>\n",
       "      <td>1</td>\n",
       "      <td>I have bought several of the Vitality canned d...</td>\n",
       "    </tr>\n",
       "    <tr>\n",
       "      <th>1</th>\n",
       "      <td>0</td>\n",
       "      <td>0</td>\n",
       "      <td>Product arrived labeled as Jumbo Salted Peanut...</td>\n",
       "    </tr>\n",
       "    <tr>\n",
       "      <th>2</th>\n",
       "      <td>1</td>\n",
       "      <td>1</td>\n",
       "      <td>This is a confection that has been around a fe...</td>\n",
       "    </tr>\n",
       "    <tr>\n",
       "      <th>3</th>\n",
       "      <td>3</td>\n",
       "      <td>3</td>\n",
       "      <td>If you are looking for the secret ingredient i...</td>\n",
       "    </tr>\n",
       "    <tr>\n",
       "      <th>4</th>\n",
       "      <td>0</td>\n",
       "      <td>0</td>\n",
       "      <td>Great taffy at a great price.  There was a wid...</td>\n",
       "    </tr>\n",
       "  </tbody>\n",
       "</table>\n",
       "</div>"
      ],
      "text/plain": [
       "   HelpfulnessNumerator  HelpfulnessDenominator  \\\n",
       "0                     1                       1   \n",
       "1                     0                       0   \n",
       "2                     1                       1   \n",
       "3                     3                       3   \n",
       "4                     0                       0   \n",
       "\n",
       "                                                Text  \n",
       "0  I have bought several of the Vitality canned d...  \n",
       "1  Product arrived labeled as Jumbo Salted Peanut...  \n",
       "2  This is a confection that has been around a fe...  \n",
       "3  If you are looking for the secret ingredient i...  \n",
       "4  Great taffy at a great price.  There was a wid...  "
      ]
     },
     "execution_count": 3,
     "metadata": {},
     "output_type": "execute_result"
    }
   ],
   "source": [
    "df = data.iloc[:, [4,5,9]]\n",
    "df.head()"
   ]
  },
  {
   "cell_type": "code",
   "execution_count": 4,
   "metadata": {},
   "outputs": [
    {
     "data": {
      "text/plain": [
       "HelpfulnessNumerator      0\n",
       "HelpfulnessDenominator    0\n",
       "Text                      0\n",
       "dtype: int64"
      ]
     },
     "execution_count": 4,
     "metadata": {},
     "output_type": "execute_result"
    }
   ],
   "source": [
    "df.isnull().sum()"
   ]
  },
  {
   "cell_type": "code",
   "execution_count": 5,
   "metadata": {},
   "outputs": [
    {
     "data": {
      "text/html": [
       "<div>\n",
       "<style scoped>\n",
       "    .dataframe tbody tr th:only-of-type {\n",
       "        vertical-align: middle;\n",
       "    }\n",
       "\n",
       "    .dataframe tbody tr th {\n",
       "        vertical-align: top;\n",
       "    }\n",
       "\n",
       "    .dataframe thead th {\n",
       "        text-align: right;\n",
       "    }\n",
       "</style>\n",
       "<table border=\"1\" class=\"dataframe\">\n",
       "  <thead>\n",
       "    <tr style=\"text-align: right;\">\n",
       "      <th></th>\n",
       "      <th>HelpfulnessNumerator</th>\n",
       "      <th>HelpfulnessDenominator</th>\n",
       "      <th>Text</th>\n",
       "    </tr>\n",
       "  </thead>\n",
       "  <tbody>\n",
       "    <tr>\n",
       "      <th>32</th>\n",
       "      <td>19</td>\n",
       "      <td>19</td>\n",
       "      <td>McCann's Instant Oatmeal is great if you must ...</td>\n",
       "    </tr>\n",
       "    <tr>\n",
       "      <th>33</th>\n",
       "      <td>13</td>\n",
       "      <td>13</td>\n",
       "      <td>This is a good instant oatmeal from the best o...</td>\n",
       "    </tr>\n",
       "    <tr>\n",
       "      <th>82</th>\n",
       "      <td>15</td>\n",
       "      <td>15</td>\n",
       "      <td>I know the product title says Molecular Gastro...</td>\n",
       "    </tr>\n",
       "    <tr>\n",
       "      <th>158</th>\n",
       "      <td>17</td>\n",
       "      <td>19</td>\n",
       "      <td>&lt;span class=\"tiny\"&gt; Length:: 0:26 Mins&lt;br /&gt;&lt;b...</td>\n",
       "    </tr>\n",
       "    <tr>\n",
       "      <th>287</th>\n",
       "      <td>13</td>\n",
       "      <td>13</td>\n",
       "      <td>This is a fantastic product, and I wish it was...</td>\n",
       "    </tr>\n",
       "  </tbody>\n",
       "</table>\n",
       "</div>"
      ],
      "text/plain": [
       "     HelpfulnessNumerator  HelpfulnessDenominator  \\\n",
       "32                     19                      19   \n",
       "33                     13                      13   \n",
       "82                     15                      15   \n",
       "158                    17                      19   \n",
       "287                    13                      13   \n",
       "\n",
       "                                                  Text  \n",
       "32   McCann's Instant Oatmeal is great if you must ...  \n",
       "33   This is a good instant oatmeal from the best o...  \n",
       "82   I know the product title says Molecular Gastro...  \n",
       "158  <span class=\"tiny\"> Length:: 0:26 Mins<br /><b...  \n",
       "287  This is a fantastic product, and I wish it was...  "
      ]
     },
     "execution_count": 5,
     "metadata": {},
     "output_type": "execute_result"
    }
   ],
   "source": [
    "df = df[df.HelpfulnessDenominator.values >10]\n",
    "df.head()"
   ]
  },
  {
   "cell_type": "code",
   "execution_count": 6,
   "metadata": {},
   "outputs": [],
   "source": [
    "import numpy as np\n",
    "\n",
    "df['Helpfulness_Ratio']=\"\"\n",
    "df['Helpfulness_Ratio']=df['HelpfulnessNumerator']/df['HelpfulnessDenominator']\n"
   ]
  },
  {
   "cell_type": "code",
   "execution_count": 7,
   "metadata": {},
   "outputs": [
    {
     "data": {
      "text/html": [
       "<div>\n",
       "<style scoped>\n",
       "    .dataframe tbody tr th:only-of-type {\n",
       "        vertical-align: middle;\n",
       "    }\n",
       "\n",
       "    .dataframe tbody tr th {\n",
       "        vertical-align: top;\n",
       "    }\n",
       "\n",
       "    .dataframe thead th {\n",
       "        text-align: right;\n",
       "    }\n",
       "</style>\n",
       "<table border=\"1\" class=\"dataframe\">\n",
       "  <thead>\n",
       "    <tr style=\"text-align: right;\">\n",
       "      <th></th>\n",
       "      <th>HelpfulnessNumerator</th>\n",
       "      <th>HelpfulnessDenominator</th>\n",
       "      <th>Text</th>\n",
       "      <th>Helpfulness_Ratio</th>\n",
       "      <th>Helpful</th>\n",
       "    </tr>\n",
       "  </thead>\n",
       "  <tbody>\n",
       "    <tr>\n",
       "      <th>32</th>\n",
       "      <td>19</td>\n",
       "      <td>19</td>\n",
       "      <td>McCann's Instant Oatmeal is great if you must ...</td>\n",
       "      <td>1.000000</td>\n",
       "      <td>1.0</td>\n",
       "    </tr>\n",
       "    <tr>\n",
       "      <th>33</th>\n",
       "      <td>13</td>\n",
       "      <td>13</td>\n",
       "      <td>This is a good instant oatmeal from the best o...</td>\n",
       "      <td>1.000000</td>\n",
       "      <td>1.0</td>\n",
       "    </tr>\n",
       "    <tr>\n",
       "      <th>82</th>\n",
       "      <td>15</td>\n",
       "      <td>15</td>\n",
       "      <td>I know the product title says Molecular Gastro...</td>\n",
       "      <td>1.000000</td>\n",
       "      <td>1.0</td>\n",
       "    </tr>\n",
       "    <tr>\n",
       "      <th>158</th>\n",
       "      <td>17</td>\n",
       "      <td>19</td>\n",
       "      <td>&lt;span class=\"tiny\"&gt; Length:: 0:26 Mins&lt;br /&gt;&lt;b...</td>\n",
       "      <td>0.894737</td>\n",
       "      <td>1.0</td>\n",
       "    </tr>\n",
       "    <tr>\n",
       "      <th>287</th>\n",
       "      <td>13</td>\n",
       "      <td>13</td>\n",
       "      <td>This is a fantastic product, and I wish it was...</td>\n",
       "      <td>1.000000</td>\n",
       "      <td>1.0</td>\n",
       "    </tr>\n",
       "    <tr>\n",
       "      <th>324</th>\n",
       "      <td>5</td>\n",
       "      <td>19</td>\n",
       "      <td>So we cancelled the order.  It was cancelled w...</td>\n",
       "      <td>0.263158</td>\n",
       "      <td>0.0</td>\n",
       "    </tr>\n",
       "  </tbody>\n",
       "</table>\n",
       "</div>"
      ],
      "text/plain": [
       "     HelpfulnessNumerator  HelpfulnessDenominator  \\\n",
       "32                     19                      19   \n",
       "33                     13                      13   \n",
       "82                     15                      15   \n",
       "158                    17                      19   \n",
       "287                    13                      13   \n",
       "324                     5                      19   \n",
       "\n",
       "                                                  Text  Helpfulness_Ratio  \\\n",
       "32   McCann's Instant Oatmeal is great if you must ...           1.000000   \n",
       "33   This is a good instant oatmeal from the best o...           1.000000   \n",
       "82   I know the product title says Molecular Gastro...           1.000000   \n",
       "158  <span class=\"tiny\"> Length:: 0:26 Mins<br /><b...           0.894737   \n",
       "287  This is a fantastic product, and I wish it was...           1.000000   \n",
       "324  So we cancelled the order.  It was cancelled w...           0.263158   \n",
       "\n",
       "     Helpful  \n",
       "32       1.0  \n",
       "33       1.0  \n",
       "82       1.0  \n",
       "158      1.0  \n",
       "287      1.0  \n",
       "324      0.0  "
      ]
     },
     "execution_count": 7,
     "metadata": {},
     "output_type": "execute_result"
    }
   ],
   "source": [
    "#df.loc[df[df.Score < 3].index,'Feedback'] = 'Negative'\n",
    "\n",
    "mean = np.mean(df['Helpfulness_Ratio'])\n",
    "df.loc[df[df.Helpfulness_Ratio >= mean].index,'Helpful'] = 1\n",
    "df.loc[df[df.Helpfulness_Ratio < mean].index,'Helpful'] = 0\n",
    "df.head(6)"
   ]
  },
  {
   "cell_type": "code",
   "execution_count": 8,
   "metadata": {},
   "outputs": [
    {
     "data": {
      "text/html": [
       "<div>\n",
       "<style scoped>\n",
       "    .dataframe tbody tr th:only-of-type {\n",
       "        vertical-align: middle;\n",
       "    }\n",
       "\n",
       "    .dataframe tbody tr th {\n",
       "        vertical-align: top;\n",
       "    }\n",
       "\n",
       "    .dataframe thead th {\n",
       "        text-align: right;\n",
       "    }\n",
       "</style>\n",
       "<table border=\"1\" class=\"dataframe\">\n",
       "  <thead>\n",
       "    <tr style=\"text-align: right;\">\n",
       "      <th></th>\n",
       "      <th>index</th>\n",
       "      <th>HelpfulnessNumerator</th>\n",
       "      <th>HelpfulnessDenominator</th>\n",
       "      <th>Text</th>\n",
       "      <th>Helpfulness_Ratio</th>\n",
       "      <th>Helpful</th>\n",
       "    </tr>\n",
       "  </thead>\n",
       "  <tbody>\n",
       "    <tr>\n",
       "      <th>0</th>\n",
       "      <td>32</td>\n",
       "      <td>19</td>\n",
       "      <td>19</td>\n",
       "      <td>McCann's Instant Oatmeal is great if you must ...</td>\n",
       "      <td>1.0</td>\n",
       "      <td>1.0</td>\n",
       "    </tr>\n",
       "    <tr>\n",
       "      <th>1</th>\n",
       "      <td>33</td>\n",
       "      <td>13</td>\n",
       "      <td>13</td>\n",
       "      <td>This is a good instant oatmeal from the best o...</td>\n",
       "      <td>1.0</td>\n",
       "      <td>1.0</td>\n",
       "    </tr>\n",
       "  </tbody>\n",
       "</table>\n",
       "</div>"
      ],
      "text/plain": [
       "   index  HelpfulnessNumerator  HelpfulnessDenominator  \\\n",
       "0     32                    19                      19   \n",
       "1     33                    13                      13   \n",
       "\n",
       "                                                Text  Helpfulness_Ratio  \\\n",
       "0  McCann's Instant Oatmeal is great if you must ...                1.0   \n",
       "1  This is a good instant oatmeal from the best o...                1.0   \n",
       "\n",
       "   Helpful  \n",
       "0      1.0  \n",
       "1      1.0  "
      ]
     },
     "execution_count": 8,
     "metadata": {},
     "output_type": "execute_result"
    }
   ],
   "source": [
    "df = df.reset_index()\n",
    "df.head(2)"
   ]
  },
  {
   "cell_type": "code",
   "execution_count": 9,
   "metadata": {},
   "outputs": [
    {
     "data": {
      "text/plain": [
       "1.0"
      ]
     },
     "execution_count": 9,
     "metadata": {},
     "output_type": "execute_result"
    }
   ],
   "source": [
    "df.iloc[0,5]"
   ]
  },
  {
   "cell_type": "code",
   "execution_count": 10,
   "metadata": {},
   "outputs": [
    {
     "data": {
      "text/plain": [
       "numpy.float64"
      ]
     },
     "execution_count": 10,
     "metadata": {},
     "output_type": "execute_result"
    }
   ],
   "source": [
    "type(df.iloc[0,5])"
   ]
  },
  {
   "cell_type": "code",
   "execution_count": 11,
   "metadata": {},
   "outputs": [
    {
     "data": {
      "text/plain": [
       "index                     0\n",
       "HelpfulnessNumerator      0\n",
       "HelpfulnessDenominator    0\n",
       "Text                      0\n",
       "Helpfulness_Ratio         0\n",
       "Helpful                   0\n",
       "dtype: int64"
      ]
     },
     "execution_count": 11,
     "metadata": {},
     "output_type": "execute_result"
    }
   ],
   "source": [
    "df.isnull().sum()"
   ]
  },
  {
   "cell_type": "code",
   "execution_count": 12,
   "metadata": {},
   "outputs": [],
   "source": [
    "# convert text to lower case\n",
    "df.loc[:, 'Text'] = df['Text'].str.lower()"
   ]
  },
  {
   "cell_type": "code",
   "execution_count": 13,
   "metadata": {},
   "outputs": [],
   "source": [
    "import unicodedata\n",
    "import sys\n",
    "\n",
    "tbl = dict.fromkeys(i for i in range(sys.maxunicode)\n",
    "                      if unicodedata.category(chr(i)).startswith('P'))\n",
    "def remove_punctuation(text):\n",
    "    return text.translate(tbl)\n"
   ]
  },
  {
   "cell_type": "code",
   "execution_count": 14,
   "metadata": {},
   "outputs": [],
   "source": [
    "#remove digits\n",
    "from string import digits\n",
    "\n",
    "def remove_digits(text):\n",
    "    remove_digits = str.maketrans('', '', digits)\n",
    "    return text.translate(remove_digits)\n"
   ]
  },
  {
   "cell_type": "code",
   "execution_count": 15,
   "metadata": {},
   "outputs": [],
   "source": [
    "# Removing HTML tags\n",
    "from bs4 import BeautifulSoup\n",
    "\n",
    "def strip_html_tags(text):\n",
    "    soup = BeautifulSoup(text, \"html.parser\")\n",
    "    stripped_text = soup.get_text()\n",
    "    return stripped_text\n"
   ]
  },
  {
   "cell_type": "code",
   "execution_count": 16,
   "metadata": {},
   "outputs": [],
   "source": [
    "# remove accented characters\n",
    "import unicodedata \n",
    "\n",
    "def remove_accented_chars(text):\n",
    "    text = unicodedata.normalize('NFKD', text).encode('ascii','ignore').decode('utf-8','ignore')\n",
    "    return text\n"
   ]
  },
  {
   "cell_type": "code",
   "execution_count": 17,
   "metadata": {},
   "outputs": [],
   "source": [
    "# remove special characters\n",
    "\n",
    "def remove_special_characters(text, remove_digits=False):\n",
    "    pattern = r'[^a-zA-z0-9\\s]' if not remove_digits else r'[^a-zA-z\\s]'\n",
    "    text = re.sub(pattern, '', text)\n",
    "    return text\n"
   ]
  },
  {
   "cell_type": "code",
   "execution_count": 18,
   "metadata": {},
   "outputs": [
    {
     "name": "stdout",
     "output_type": "stream",
     "text": [
      "[nltk_data] Downloading package stopwords to /home/liyan/nltk_data...\n",
      "[nltk_data]   Package stopwords is already up-to-date!\n"
     ]
    },
    {
     "data": {
      "text/plain": [
       "True"
      ]
     },
     "execution_count": 18,
     "metadata": {},
     "output_type": "execute_result"
    }
   ],
   "source": [
    "import nltk\n",
    "nltk.download('stopwords')"
   ]
  },
  {
   "cell_type": "code",
   "execution_count": 19,
   "metadata": {},
   "outputs": [],
   "source": [
    "#remove stop words\n",
    "from nltk.corpus import stopwords\n",
    "from stop_words import get_stop_words\n",
    "from nltk.tokenize.toktok import ToktokTokenizer\n",
    "\n",
    "tokenizer = ToktokTokenizer()\n",
    "stopword_list = nltk.corpus.stopwords.words('english')\n",
    "stopword_list.remove('no')\n",
    "stopword_list.remove('not')\n",
    "\n",
    "def remove_stopwords(text, is_lower_case=False):\n",
    "    tokens = tokenizer.tokenize(text)\n",
    "    tokens = [token.strip() for token in tokens]\n",
    "    if is_lower_case:\n",
    "        filtered_tokens = [token for token in tokens if token not in stopword_list]\n",
    "    else:\n",
    "        filtered_tokens = [token for token in tokens if token.lower() not in stopword_list]\n",
    "    filtered_text = ' '.join(filtered_tokens)    \n",
    "    return filtered_text\n"
   ]
  },
  {
   "cell_type": "code",
   "execution_count": 20,
   "metadata": {},
   "outputs": [],
   "source": [
    "def normalize_corpus(corpus, html_stripping=True,\n",
    "                     accented_char_removal=True, \n",
    "                     special_char_removal=True, \n",
    "                        stopword_removal=True):\n",
    "    \n",
    "    #print(\"Corpus type: \", type(corpus))\n",
    "    #print(\"Corpus length: \", len(corpus))\n",
    "    \n",
    "    normalized_corpus = []\n",
    "    \n",
    "    # normalize each document in the corpus\n",
    "    for doc in corpus:\n",
    "        # strip HTML\n",
    "        if html_stripping:\n",
    "            doc = strip_html_tags(doc)\n",
    "        # remove accented characters\n",
    "        if accented_char_removal:\n",
    "            doc = remove_accented_chars(doc)\n",
    "        # remove extra newlines\n",
    "        doc = re.sub(r'[\\r|\\n|\\r\\n]+', ' ',doc)\n",
    "        # remove special characters and\\or digits    \n",
    "        if special_char_removal:\n",
    "            # insert spaces between special characters to isolate them    \n",
    "            special_char_pattern = re.compile(r'([{.(-)!}])')\n",
    "            doc = special_char_pattern.sub(\" \\\\1 \", doc)\n",
    "            doc = remove_special_characters(doc, remove_digits)  \n",
    "        # remove extra whitespace\n",
    "        doc = re.sub(' +', ' ', doc)\n",
    "        # remove stopwords\n",
    "        if stopword_removal:\n",
    "            doc = remove_stopwords(doc)\n",
    "        #doc = doc.to_string      \n",
    "        \n",
    "        normalized_corpus.append(doc)\n",
    "\n",
    "    return normalized_corpus\n",
    "        "
   ]
  },
  {
   "cell_type": "code",
   "execution_count": 21,
   "metadata": {},
   "outputs": [],
   "source": [
    "from sklearn.linear_model import LogisticRegression\n",
    "from sklearn.cross_validation import train_test_split\n",
    "from sklearn import preprocessing\n",
    "from sklearn.metrics import mean_squared_error\n",
    "from sklearn.metrics import classification_report"
   ]
  },
  {
   "cell_type": "code",
   "execution_count": 22,
   "metadata": {},
   "outputs": [],
   "source": [
    "from sklearn import metrics\n",
    "\n",
    "def get_metrics(true_labels, predicted_labels):\n",
    "    \n",
    "    print('Accuracy:', np.round(\n",
    "                        metrics.accuracy_score(true_labels, \n",
    "                                               predicted_labels),\n",
    "                        4))\n",
    "    print('Precision:', np.round(\n",
    "                        metrics.precision_score(true_labels, \n",
    "                                               predicted_labels,\n",
    "                                               average='weighted'),\n",
    "                        4))\n",
    "    print('Recall:', np.round(\n",
    "                        metrics.recall_score(true_labels, \n",
    "                                               predicted_labels,\n",
    "                                               average='weighted'),\n",
    "                        4))\n",
    "    print('F1 Score:', np.round(\n",
    "                        metrics.f1_score(true_labels, \n",
    "                                               predicted_labels,\n",
    "                                               average='weighted'),\n",
    "                        4))\n"
   ]
  },
  {
   "cell_type": "code",
   "execution_count": 23,
   "metadata": {},
   "outputs": [],
   "source": [
    "def display_confusion_matrix(true_labels, predicted_labels, classes=[1,0]):\n",
    "    \n",
    "    total_classes = len(classes)\n",
    "    level_labels = [total_classes*[0], list(range(total_classes))]\n",
    "\n",
    "    cm = metrics.confusion_matrix(y_true=true_labels, y_pred=predicted_labels, \n",
    "                                  labels=classes)\n",
    "    cm_frame = pd.DataFrame(data=cm, \n",
    "                            columns=pd.MultiIndex(levels=[['Predicted:'], classes], \n",
    "                                                  labels=level_labels), \n",
    "                            index=pd.MultiIndex(levels=[['Actual:'], classes], \n",
    "labels=level_labels)) \n",
    "\n",
    "    print(cm_frame)     "
   ]
  },
  {
   "cell_type": "code",
   "execution_count": 24,
   "metadata": {},
   "outputs": [],
   "source": [
    "def display_classification_report(true_labels, predicted_labels, classes=[1,0]):\n",
    "\n",
    "    report = metrics.classification_report(y_true=true_labels, \n",
    "                                           y_pred=predicted_labels, \n",
    "labels=classes) \n",
    "    print(report)"
   ]
  },
  {
   "cell_type": "code",
   "execution_count": 25,
   "metadata": {},
   "outputs": [],
   "source": [
    "import numpy as np\n",
    "\n",
    "def display_model_performance_metrics(true_labels, predicted_labels, classes=[1,0]):\n",
    "    print('Model Performance metrics:')\n",
    "    print('-'*30)\n",
    "    get_metrics(true_labels=true_labels, predicted_labels=predicted_labels)\n",
    "    print('\\nModel Classification report:')\n",
    "    print('-'*30)\n",
    "    display_classification_report(true_labels=true_labels, predicted_labels=predicted_labels, \n",
    "                                  classes=classes)\n",
    "    print('\\nPrediction Confusion Matrix:')\n",
    "    print('-'*30)\n",
    "    display_confusion_matrix(true_labels=true_labels, predicted_labels=predicted_labels, \n",
    "classes=classes)"
   ]
  },
  {
   "cell_type": "code",
   "execution_count": 26,
   "metadata": {},
   "outputs": [],
   "source": [
    "\n",
    "clean_text = normalize_corpus(df.Text)\n",
    "\n"
   ]
  },
  {
   "cell_type": "code",
   "execution_count": 27,
   "metadata": {},
   "outputs": [],
   "source": [
    "from sklearn.feature_extraction.text import CountVectorizer\n",
    "\n",
    "vectorizer = CountVectorizer()  #Convert a collection of text documents to a matrix of token counts\n",
    "X = vectorizer.fit_transform(clean_text) # a list of integers transformed from all text\n",
    "y = df.Helpful\n"
   ]
  },
  {
   "cell_type": "code",
   "execution_count": 28,
   "metadata": {},
   "outputs": [],
   "source": [
    "X_train, X_test, y_train, y_test = train_test_split(X, y, test_size= 0.30)"
   ]
  },
  {
   "cell_type": "code",
   "execution_count": 29,
   "metadata": {},
   "outputs": [],
   "source": [
    "doc_sum = X_train.toarray().sum(axis = 0) # The number of times each word is occuring over all the documents.\n",
    "len_text = len(doc_sum) # number of unique words in all documents"
   ]
  },
  {
   "cell_type": "code",
   "execution_count": 30,
   "metadata": {},
   "outputs": [
    {
     "data": {
      "text/plain": [
       "Text(0.5,1,'% of Words That Appear In <= X Documents, N = 50')"
      ]
     },
     "execution_count": 30,
     "metadata": {},
     "output_type": "execute_result"
    }
   ],
   "source": [
    "import matplotlib.pyplot as plt\n",
    "N = 50 \n",
    "x_ax = np.arange(0,len_text)[:N] # [:N] changes this to only run for x_i values from 0 to 100 \n",
    "y_ax = [sum(doc_sum <= i)/len_text for i in x_ax]# Determines the percentage values for y_i \n",
    "\n",
    "plt.plot(x_ax, y_ax) \n",
    "plt.xlabel('number of docs') \n",
    "plt.ylabel('% of words') \n",
    "plt.title('% of Words That Appear In <= X Documents, N = 50')\n"
   ]
  },
  {
   "cell_type": "code",
   "execution_count": 31,
   "metadata": {},
   "outputs": [],
   "source": [
    "train_docs, test_docs, y_train, y_test = train_test_split(np.array(clean_text), y, test_size= 0.30)"
   ]
  },
  {
   "cell_type": "code",
   "execution_count": 32,
   "metadata": {},
   "outputs": [],
   "source": [
    "from sklearn.feature_extraction.text import TfidfVectorizer\n",
    "\n",
    "tv = TfidfVectorizer(min_df=5, max_df=1.0, use_idf=True)\n",
    "X_train = tv.fit_transform(train_docs)\n",
    "X_test = tv.transform(test_docs)"
   ]
  },
  {
   "cell_type": "code",
   "execution_count": 33,
   "metadata": {},
   "outputs": [],
   "source": [
    "from sklearn.naive_bayes import MultinomialNB\n",
    "\n",
    "clf_nb = MultinomialNB().fit(X_train, y_train)\n",
    "# MultinomialNB() is for classification with dicrete features. In this case, freshness and text in integers.\n"
   ]
  },
  {
   "cell_type": "code",
   "execution_count": 34,
   "metadata": {},
   "outputs": [
    {
     "name": "stdout",
     "output_type": "stream",
     "text": [
      "Accuracy on training set: 0.7836794462193823\n",
      "Accuracy on testing set:  0.744836154682404\n"
     ]
    }
   ],
   "source": [
    "print ('Accuracy on training set: {}'.format(clf_nb.score(X_train, y_train)))\n",
    "print ('Accuracy on testing set:  {}'.format(clf_nb.score(X_test, y_test)))"
   ]
  },
  {
   "cell_type": "code",
   "execution_count": 35,
   "metadata": {},
   "outputs": [],
   "source": [
    "y_pred = clf_nb.predict(X_test)"
   ]
  },
  {
   "cell_type": "code",
   "execution_count": 36,
   "metadata": {},
   "outputs": [
    {
     "name": "stdout",
     "output_type": "stream",
     "text": [
      "Model Performance metrics:\n",
      "------------------------------\n",
      "Accuracy: 0.7448\n",
      "Precision: 0.7648\n",
      "Recall: 0.7448\n",
      "F1 Score: 0.6987\n",
      "\n",
      "Model Classification report:\n",
      "------------------------------\n",
      "             precision    recall  f1-score   support\n",
      "\n",
      "          0       0.83      0.27      0.41      2099\n",
      "          1       0.73      0.97      0.84      4340\n",
      "\n",
      "avg / total       0.76      0.74      0.70      6439\n",
      "\n",
      "\n",
      "Prediction Confusion Matrix:\n",
      "------------------------------\n",
      "          Predicted:      \n",
      "                   0     1\n",
      "Actual: 0        577  1522\n",
      "        1        121  4219\n"
     ]
    }
   ],
   "source": [
    "display_model_performance_metrics(true_labels= y_test, predicted_labels= y_pred, \n",
    "                                      classes=[0,1])"
   ]
  },
  {
   "cell_type": "code",
   "execution_count": 37,
   "metadata": {},
   "outputs": [],
   "source": [
    "from sklearn.cross_validation import train_test_split\n",
    "from sklearn import preprocessing\n",
    "from sklearn.metrics import mean_squared_error\n"
   ]
  },
  {
   "cell_type": "code",
   "execution_count": 38,
   "metadata": {},
   "outputs": [],
   "source": [
    "# multiple logistics regression \n",
    "\n",
    "clf_log = LogisticRegression(random_state= 1, max_iter=2000, \n",
    "                                multi_class='ovr', \n",
    "                                #n_jobs=4, \n",
    "                                solver='newton-cg',penalty='l2', \n",
    "                                class_weight='balanced')"
   ]
  },
  {
   "cell_type": "code",
   "execution_count": 39,
   "metadata": {},
   "outputs": [
    {
     "data": {
      "text/plain": [
       "LogisticRegression(C=1.0, class_weight='balanced', dual=False,\n",
       "          fit_intercept=True, intercept_scaling=1, max_iter=2000,\n",
       "          multi_class='ovr', n_jobs=1, penalty='l2', random_state=1,\n",
       "          solver='newton-cg', tol=0.0001, verbose=0, warm_start=False)"
      ]
     },
     "execution_count": 39,
     "metadata": {},
     "output_type": "execute_result"
    }
   ],
   "source": [
    "clf_log.fit(X_train, y_train)"
   ]
  },
  {
   "cell_type": "code",
   "execution_count": 40,
   "metadata": {},
   "outputs": [],
   "source": [
    "from sklearn.metrics import mean_squared_error\n",
    "\n",
    "y_pred = clf_log.predict(X_test)\n"
   ]
  },
  {
   "cell_type": "code",
   "execution_count": 41,
   "metadata": {},
   "outputs": [
    {
     "name": "stdout",
     "output_type": "stream",
     "text": [
      "Accuracy on training set: 0.8646831735889244\n",
      "Accuracy on testing set:  0.8030750116477714\n"
     ]
    }
   ],
   "source": [
    "print ('Accuracy on training set: {}'.format(clf_log.score(X_train, y_train)))\n",
    "print ('Accuracy on testing set:  {}'.format(clf_log.score(X_test, y_test)))"
   ]
  },
  {
   "cell_type": "code",
   "execution_count": 42,
   "metadata": {},
   "outputs": [
    {
     "name": "stdout",
     "output_type": "stream",
     "text": [
      "Model Performance metrics:\n",
      "------------------------------\n",
      "Accuracy: 0.8031\n",
      "Precision: 0.8155\n",
      "Recall: 0.8031\n",
      "F1 Score: 0.8066\n",
      "\n",
      "Model Classification report:\n",
      "------------------------------\n",
      "             precision    recall  f1-score   support\n",
      "\n",
      "          0       0.67      0.79      0.72      2099\n",
      "          1       0.89      0.81      0.85      4340\n",
      "\n",
      "avg / total       0.82      0.80      0.81      6439\n",
      "\n",
      "\n",
      "Prediction Confusion Matrix:\n",
      "------------------------------\n",
      "          Predicted:      \n",
      "                   0     1\n",
      "Actual: 0       1648   451\n",
      "        1        817  3523\n"
     ]
    }
   ],
   "source": [
    "display_model_performance_metrics(true_labels= y_test, predicted_labels= y_pred, \n",
    "                                      classes=[0,1])"
   ]
  },
  {
   "cell_type": "code",
   "execution_count": 43,
   "metadata": {},
   "outputs": [],
   "source": [
    "#SVM\n",
    "import numpy as np\n",
    "from sklearn.svm import LinearSVC\n",
    "import matplotlib.pyplot as plt\n",
    "\n",
    "clf_svc = LinearSVC(C=10)\n",
    "clf_svc_model = clf_svc.fit(X_train, y_train)\n",
    "\n",
    "y_c = clf_svc_model.predict(X_test)"
   ]
  },
  {
   "cell_type": "code",
   "execution_count": 44,
   "metadata": {},
   "outputs": [
    {
     "name": "stdout",
     "output_type": "stream",
     "text": [
      "Accuracy on training set: 0.9949414270500533\n",
      "Accuracy on testing set:  0.8077341202050008\n"
     ]
    }
   ],
   "source": [
    "print ('Accuracy on training set: {}'.format(clf_svc_model.score(X_train, y_train)))\n",
    "print ('Accuracy on testing set:  {}'.format(clf_svc_model.score(X_test, y_test)))"
   ]
  },
  {
   "cell_type": "code",
   "execution_count": 45,
   "metadata": {},
   "outputs": [
    {
     "name": "stdout",
     "output_type": "stream",
     "text": [
      "Model Performance metrics:\n",
      "------------------------------\n",
      "Accuracy: 0.8077\n",
      "Precision: 0.8087\n",
      "Recall: 0.8077\n",
      "F1 Score: 0.8082\n",
      "\n",
      "Model Classification report:\n",
      "------------------------------\n",
      "             precision    recall  f1-score   support\n",
      "\n",
      "          0       0.70      0.71      0.71      2099\n",
      "          1       0.86      0.85      0.86      4340\n",
      "\n",
      "avg / total       0.81      0.81      0.81      6439\n",
      "\n",
      "\n",
      "Prediction Confusion Matrix:\n",
      "------------------------------\n",
      "          Predicted:      \n",
      "                   0     1\n",
      "Actual: 0       1499   600\n",
      "        1        638  3702\n"
     ]
    }
   ],
   "source": [
    "display_model_performance_metrics(true_labels= y_test, predicted_labels= y_c, \n",
    "                                      classes=[0,1])"
   ]
  },
  {
   "cell_type": "code",
   "execution_count": 46,
   "metadata": {},
   "outputs": [
    {
     "data": {
      "text/plain": [
       "DecisionTreeClassifier(class_weight=None, criterion='gini', max_depth=5,\n",
       "            max_features=None, max_leaf_nodes=None,\n",
       "            min_impurity_decrease=0.0, min_impurity_split=None,\n",
       "            min_samples_leaf=1, min_samples_split=2,\n",
       "            min_weight_fraction_leaf=0.0, presort=False, random_state=None,\n",
       "            splitter='best')"
      ]
     },
     "execution_count": 46,
     "metadata": {},
     "output_type": "execute_result"
    }
   ],
   "source": [
    "#decision tree\n",
    "import numpy as np\n",
    "from sklearn.tree import DecisionTreeClassifier\n",
    "import matplotlib.pyplot as plt\n",
    "\n",
    "# Fit regression model\n",
    "clf_1 = DecisionTreeClassifier()\n",
    "clf_2 = DecisionTreeClassifier(max_depth=5)\n",
    "clf_1.fit(X_train, y_train)\n",
    "clf_2.fit(X_train, y_train)"
   ]
  },
  {
   "cell_type": "code",
   "execution_count": 47,
   "metadata": {},
   "outputs": [
    {
     "name": "stdout",
     "output_type": "stream",
     "text": [
      "Tree One, Accuracy on training set: 0.998269435569755\n",
      "Tree One, Accuracy on testing set:  0.7876999534089144\n"
     ]
    }
   ],
   "source": [
    "print ('Tree One, Accuracy on training set: {}'.format(clf_1.score(X_train, y_train)))\n",
    "print ('Tree One, Accuracy on testing set:  {}'.format(clf_1.score(X_test, y_test)))"
   ]
  },
  {
   "cell_type": "code",
   "execution_count": 48,
   "metadata": {},
   "outputs": [
    {
     "name": "stdout",
     "output_type": "stream",
     "text": [
      "Tree Two, Accuracy on training set: 0.6980830670926518\n",
      "Tree Two, on testing set:  0.6842677434384221\n"
     ]
    }
   ],
   "source": [
    "print ('Tree Two, Accuracy on training set: {}'.format(clf_2.score(X_train, y_train)))\n",
    "print ('Tree Two, on testing set:  {}'.format(clf_2.score(X_test, y_test)))"
   ]
  },
  {
   "cell_type": "code",
   "execution_count": 49,
   "metadata": {},
   "outputs": [],
   "source": [
    "y_1 = clf_1.predict(X_test)\n",
    "y_2 = clf_2.predict(X_test)"
   ]
  },
  {
   "cell_type": "code",
   "execution_count": 50,
   "metadata": {},
   "outputs": [
    {
     "name": "stdout",
     "output_type": "stream",
     "text": [
      "Model Performance metrics:\n",
      "------------------------------\n",
      "Accuracy: 0.7877\n",
      "Precision: 0.7882\n",
      "Recall: 0.7877\n",
      "F1 Score: 0.7879\n",
      "\n",
      "Model Classification report:\n",
      "------------------------------\n",
      "             precision    recall  f1-score   support\n",
      "\n",
      "          0       0.67      0.68      0.68      2099\n",
      "          1       0.84      0.84      0.84      4340\n",
      "\n",
      "avg / total       0.79      0.79      0.79      6439\n",
      "\n",
      "\n",
      "Prediction Confusion Matrix:\n",
      "------------------------------\n",
      "          Predicted:      \n",
      "                   0     1\n",
      "Actual: 0       1425   674\n",
      "        1        693  3647\n"
     ]
    }
   ],
   "source": [
    "display_model_performance_metrics(true_labels= y_test, predicted_labels= y_1, \n",
    "                                      classes=[0,1])"
   ]
  },
  {
   "cell_type": "code",
   "execution_count": 51,
   "metadata": {},
   "outputs": [
    {
     "name": "stdout",
     "output_type": "stream",
     "text": [
      "Model Performance metrics:\n",
      "------------------------------\n",
      "Accuracy: 0.6843\n",
      "Precision: 0.7003\n",
      "Recall: 0.6843\n",
      "F1 Score: 0.5752\n",
      "\n",
      "Model Classification report:\n",
      "------------------------------\n",
      "             precision    recall  f1-score   support\n",
      "\n",
      "          0       0.74      0.05      0.09      2099\n",
      "          1       0.68      0.99      0.81      4340\n",
      "\n",
      "avg / total       0.70      0.68      0.58      6439\n",
      "\n",
      "\n",
      "Prediction Confusion Matrix:\n",
      "------------------------------\n",
      "          Predicted:      \n",
      "                   0     1\n",
      "Actual: 0        103  1996\n",
      "        1         37  4303\n"
     ]
    }
   ],
   "source": [
    "display_model_performance_metrics(true_labels= y_test, predicted_labels= y_2, \n",
    "                                      classes=[0,1])"
   ]
  },
  {
   "cell_type": "code",
   "execution_count": 52,
   "metadata": {},
   "outputs": [],
   "source": [
    "# Random Forests\n",
    "from sklearn.ensemble import RandomForestClassifier\n",
    "from sklearn.datasets import make_regression\n",
    "import numpy as np\n",
    "\n",
    "clf_rf = RandomForestClassifier(random_state=1)\n",
    "clf_rf.fit(X_train, y_train)\n",
    "\n",
    "feature_names = tv.get_feature_names()\n",
    "\n",
    "clf_rf_feature_importances = clf_rf.feature_importances_\n",
    "clf_rf_feature_names, clf_rf_feature_scores = zip(*sorted(zip(feature_names, clf_rf_feature_importances), \n",
    "                                                          key=lambda x: -x[1]))\n"
   ]
  },
  {
   "cell_type": "code",
   "execution_count": 53,
   "metadata": {},
   "outputs": [
    {
     "data": {
      "image/png": "[encoded data removed]",
      "text/plain": [
       "<Figure size 432x288 with 1 Axes>"
      ]
     },
     "metadata": {},
     "output_type": "display_data"
    }
   ],
   "source": [
    "plt.barh(clf_rf_feature_names[:20], clf_rf_feature_scores[:20])\n",
    "#y_position = list(range(len(clf_rf_feature_names)))\n",
    "#plt.yticks(clf_rf_feature_names, y_position)\n",
    "plt.xlabel('Relative Importance Score')\n",
    "plt.ylabel('Target Variable')\n",
    "t = plt.title('Feature Importances for Random Forest')"
   ]
  },
  {
   "cell_type": "code",
   "execution_count": 54,
   "metadata": {},
   "outputs": [],
   "source": [
    "y_pred = clf_rf.predict(X_test)"
   ]
  },
  {
   "cell_type": "code",
   "execution_count": 55,
   "metadata": {},
   "outputs": [
    {
     "name": "stdout",
     "output_type": "stream",
     "text": [
      "Accuracy on training set: 0.9925452609158679\n",
      "Accuracy on testing set:  0.8142568721851219\n"
     ]
    }
   ],
   "source": [
    "print ('Accuracy on training set: {}'.format(clf_rf.score(X_train, y_train)))\n",
    "print ('Accuracy on testing set:  {}'.format(clf_rf.score(X_test, y_test)))"
   ]
  },
  {
   "cell_type": "code",
   "execution_count": 56,
   "metadata": {},
   "outputs": [
    {
     "name": "stdout",
     "output_type": "stream",
     "text": [
      "Model Performance metrics:\n",
      "------------------------------\n",
      "Accuracy: 0.8143\n",
      "Precision: 0.8101\n",
      "Recall: 0.8143\n",
      "F1 Score: 0.8095\n",
      "\n",
      "Model Classification report:\n",
      "------------------------------\n",
      "             precision    recall  f1-score   support\n",
      "\n",
      "          0       0.76      0.63      0.69      2099\n",
      "          1       0.84      0.90      0.87      4340\n",
      "\n",
      "avg / total       0.81      0.81      0.81      6439\n",
      "\n",
      "\n",
      "Prediction Confusion Matrix:\n",
      "------------------------------\n",
      "          Predicted:      \n",
      "                   0     1\n",
      "Actual: 0       1329   770\n",
      "        1        426  3914\n"
     ]
    }
   ],
   "source": [
    "display_model_performance_metrics(true_labels= y_test, predicted_labels= y_pred, \n",
    "                                      classes=[0,1])"
   ]
  },
  {
   "cell_type": "code",
   "execution_count": 57,
   "metadata": {},
   "outputs": [],
   "source": [
    "# Gradient Boosting\n",
    "import numpy as np\n",
    "import matplotlib.pyplot as plt\n",
    "\n",
    "from sklearn import ensemble\n",
    "from sklearn import datasets\n",
    "from sklearn.utils import shuffle\n",
    "from sklearn.metrics import mean_squared_error\n",
    "from sklearn.ensemble import GradientBoostingClassifier\n",
    "\n",
    "params = {'n_estimators':50, 'max_depth': 3, 'min_samples_split': 2,\n",
    "          'learning_rate': 0.01, 'loss': 'ls'}\n",
    "\n",
    "params = {'n_estimators':50}\n",
    "\n",
    "clf_gb = ensemble.GradientBoostingClassifier(**params)\n",
    "\n",
    "clf_gb.fit(X_train, y_train)\n",
    "\n",
    "feature_names = tv.get_feature_names()\n",
    "\n",
    "clf_gb_feature_importances = clf_gb.feature_importances_\n",
    "clf_gb_feature_names, clf_gb_feature_scores = zip(*sorted(zip(feature_names, clf_gb_feature_importances), \n",
    "                                                          key=lambda x: -x[1]))\n"
   ]
  },
  {
   "cell_type": "code",
   "execution_count": 58,
   "metadata": {},
   "outputs": [
    {
     "data": {
      "image/png": "[encoded data removed]",
      "text/plain": [
       "<Figure size 432x288 with 1 Axes>"
      ]
     },
     "metadata": {},
     "output_type": "display_data"
    }
   ],
   "source": [
    "plt.barh(clf_gb_feature_names[:20], clf_gb_feature_scores[:20])\n",
    "#plt.yticks(clf_rf_feature_names, y_position)\n",
    "plt.xlabel('Relative Importance Score')\n",
    "plt.ylabel('Target Variable')\n",
    "t = plt.title('Feature Importances for Gradient Boosting')"
   ]
  },
  {
   "cell_type": "code",
   "execution_count": 59,
   "metadata": {},
   "outputs": [],
   "source": [
    "y_pred = clf_gb.predict(X_test)"
   ]
  },
  {
   "cell_type": "code",
   "execution_count": 60,
   "metadata": {},
   "outputs": [
    {
     "name": "stdout",
     "output_type": "stream",
     "text": [
      "Accuracy on training set: 0.7348908413205538\n",
      "Accuracy on testing set:  0.7199875757105141\n"
     ]
    }
   ],
   "source": [
    "print ('Accuracy on training set: {}'.format(clf_gb.score(X_train, y_train)))\n",
    "print ('Accuracy on testing set:  {}'.format(clf_gb.score(X_test, y_test)))"
   ]
  },
  {
   "cell_type": "code",
   "execution_count": 61,
   "metadata": {},
   "outputs": [
    {
     "name": "stdout",
     "output_type": "stream",
     "text": [
      "Model Performance metrics:\n",
      "------------------------------\n",
      "Accuracy: 0.72\n",
      "Precision: 0.754\n",
      "Recall: 0.72\n",
      "F1 Score: 0.6503\n",
      "\n",
      "Model Classification report:\n",
      "------------------------------\n",
      "             precision    recall  f1-score   support\n",
      "\n",
      "          0       0.84      0.17      0.29      2099\n",
      "          1       0.71      0.98      0.83      4340\n",
      "\n",
      "avg / total       0.75      0.72      0.65      6439\n",
      "\n",
      "\n",
      "Prediction Confusion Matrix:\n",
      "------------------------------\n",
      "          Predicted:      \n",
      "                   0     1\n",
      "Actual: 0        364  1735\n",
      "        1         68  4272\n"
     ]
    }
   ],
   "source": [
    "display_model_performance_metrics(true_labels= y_test, predicted_labels= y_pred, \n",
    "                                      classes=[0,1])"
   ]
  },
  {
   "cell_type": "code",
   "execution_count": 62,
   "metadata": {},
   "outputs": [],
   "source": [
    "# SGDC classifier\n",
    "from sklearn import linear_model\n",
    "\n",
    "clf_sgdc = linear_model.SGDClassifier()\n",
    "clf_sgdc.fit(X_train, y_train)\n",
    "y_pred = clf_sgdc.predict(X_test)"
   ]
  },
  {
   "cell_type": "code",
   "execution_count": 63,
   "metadata": {},
   "outputs": [
    {
     "name": "stdout",
     "output_type": "stream",
     "text": [
      "Accuracy on training set: 0.8866480298189563\n",
      "Accuracy on testing set:  0.8136356577108247\n"
     ]
    }
   ],
   "source": [
    "print ('Accuracy on training set: {}'.format(clf_sgdc.score(X_train, y_train)))\n",
    "print ('Accuracy on testing set:  {}'.format(clf_sgdc.score(X_test, y_test)))"
   ]
  },
  {
   "cell_type": "code",
   "execution_count": 64,
   "metadata": {},
   "outputs": [
    {
     "name": "stdout",
     "output_type": "stream",
     "text": [
      "Model Performance metrics:\n",
      "------------------------------\n",
      "Accuracy: 0.8136\n",
      "Precision: 0.8097\n",
      "Recall: 0.8136\n",
      "F1 Score: 0.8073\n",
      "\n",
      "Model Classification report:\n",
      "------------------------------\n",
      "             precision    recall  f1-score   support\n",
      "\n",
      "          0       0.77      0.61      0.68      2099\n",
      "          1       0.83      0.91      0.87      4340\n",
      "\n",
      "avg / total       0.81      0.81      0.81      6439\n",
      "\n",
      "\n",
      "Prediction Confusion Matrix:\n",
      "------------------------------\n",
      "          Predicted:      \n",
      "                   0     1\n",
      "Actual: 0       1282   817\n",
      "        1        383  3957\n"
     ]
    }
   ],
   "source": [
    "display_model_performance_metrics(true_labels= y_test, predicted_labels= y_pred, \n",
    "                                      classes=[0,1])"
   ]
  },
  {
   "cell_type": "markdown",
   "metadata": {},
   "source": [
    "Grid Search Hyper-parameter Tuning"
   ]
  },
  {
   "cell_type": "code",
   "execution_count": 65,
   "metadata": {},
   "outputs": [
    {
     "name": "stdout",
     "output_type": "stream",
     "text": [
      "R-Squared::0.8081735889243876\n",
      "Best Hyperparameters::\n",
      "{'C': 1, 'class_weight': 'balanced'}\n"
     ]
    }
   ],
   "source": [
    "# LinearSVC\n",
    "from sklearn.model_selection import GridSearchCV\n",
    "\n",
    "svc_params_grid = {\"C\": [0.001, 0.01, 0.1, 1, 10, 100, 1000],\n",
    "                   \"class_weight\":['balanced']}\n",
    "\n",
    "grid_cv_svc = GridSearchCV(clf_svc, svc_params_grid, n_jobs=4, cv=5, return_train_score=True)\n",
    "grid_cv_svc.fit(X_train, y_train)\n",
    "\n",
    "print(\"R-Squared::{}\".format(grid_cv_svc.best_score_))\n",
    "print(\"Best Hyperparameters::\\n{}\".format(grid_cv_svc.best_params_))"
   ]
  },
  {
   "cell_type": "code",
   "execution_count": 66,
   "metadata": {},
   "outputs": [
    {
     "name": "stdout",
     "output_type": "stream",
     "text": [
      "Accuracy on training set: 0.94475505857295\n",
      "Accuracy on testing set:  0.8142568721851219\n"
     ]
    }
   ],
   "source": [
    "print ('Accuracy on training set: {}'.format(grid_cv_svc.score(X_train, y_train)))\n",
    "print ('Accuracy on testing set:  {}'.format(grid_cv_svc.score(X_test, y_test)))"
   ]
  },
  {
   "cell_type": "code",
   "execution_count": 67,
   "metadata": {},
   "outputs": [
    {
     "name": "stdout",
     "output_type": "stream",
     "text": [
      "Model Performance metrics:\n",
      "------------------------------\n",
      "Accuracy: 0.8143\n",
      "Precision: 0.8217\n",
      "Recall: 0.8143\n",
      "F1 Score: 0.8167\n",
      "\n",
      "Model Classification report:\n",
      "------------------------------\n",
      "             precision    recall  f1-score   support\n",
      "\n",
      "          0       0.69      0.77      0.73      2099\n",
      "          1       0.88      0.83      0.86      4340\n",
      "\n",
      "avg / total       0.82      0.81      0.82      6439\n",
      "\n",
      "\n",
      "Prediction Confusion Matrix:\n",
      "------------------------------\n",
      "          Predicted:      \n",
      "                   0     1\n",
      "Actual: 0       1626   473\n",
      "        1        723  3617\n"
     ]
    }
   ],
   "source": [
    "y_pred = grid_cv_svc.predict(X_test)\n",
    "\n",
    "display_model_performance_metrics(true_labels= y_test, predicted_labels= y_pred, \n",
    "                                      classes=[0,1])"
   ]
  },
  {
   "cell_type": "code",
   "execution_count": 68,
   "metadata": {},
   "outputs": [
    {
     "name": "stdout",
     "output_type": "stream",
     "text": [
      "R-Squared::0.7997870074547391\n",
      "Best Hyperparameters::\n",
      "{'class_weight': 'balanced', 'penalty': 'l2'}\n"
     ]
    }
   ],
   "source": [
    "#sgdc\n",
    "sgdc_params_grid = {\"penalty\": ['l1','l2','elasticnet'],\n",
    "                   \"class_weight\":['balanced']}\n",
    "\n",
    "grid_cv_sgdc = GridSearchCV(clf_sgdc, sgdc_params_grid, n_jobs=4, cv=5, return_train_score=True)\n",
    "\n",
    "grid_cv_sgdc.fit(X_train, y_train)\n",
    "\n",
    "print(\"R-Squared::{}\".format(grid_cv_sgdc.best_score_))\n",
    "print(\"Best Hyperparameters::\\n{}\".format(grid_cv_sgdc.best_params_))\n"
   ]
  },
  {
   "cell_type": "code",
   "execution_count": 69,
   "metadata": {},
   "outputs": [
    {
     "name": "stdout",
     "output_type": "stream",
     "text": [
      "Accuracy on training set: 0.8787939297124601\n",
      "Accuracy on testing set:  0.805870476782109\n"
     ]
    }
   ],
   "source": [
    "print ('Accuracy on training set: {}'.format(grid_cv_sgdc.score(X_train, y_train)))\n",
    "print ('Accuracy on testing set:  {}'.format(grid_cv_sgdc.score(X_test, y_test)))"
   ]
  },
  {
   "cell_type": "code",
   "execution_count": 70,
   "metadata": {},
   "outputs": [
    {
     "name": "stdout",
     "output_type": "stream",
     "text": [
      "Model Performance metrics:\n",
      "------------------------------\n",
      "Accuracy: 0.8143\n",
      "Precision: 0.8217\n",
      "Recall: 0.8143\n",
      "F1 Score: 0.8167\n",
      "\n",
      "Model Classification report:\n",
      "------------------------------\n",
      "             precision    recall  f1-score   support\n",
      "\n",
      "          0       0.69      0.77      0.73      2099\n",
      "          1       0.88      0.83      0.86      4340\n",
      "\n",
      "avg / total       0.82      0.81      0.82      6439\n",
      "\n",
      "\n",
      "Prediction Confusion Matrix:\n",
      "------------------------------\n",
      "          Predicted:      \n",
      "                   0     1\n",
      "Actual: 0       1626   473\n",
      "        1        723  3617\n"
     ]
    }
   ],
   "source": [
    "y_pred = grid_cv_svc.predict(X_test)\n",
    "\n",
    "display_model_performance_metrics(true_labels= y_test, predicted_labels= y_pred, \n",
    "                                      classes=[0,1])"
   ]
  },
  {
   "cell_type": "code",
   "execution_count": 71,
   "metadata": {},
   "outputs": [
    {
     "name": "stdout",
     "output_type": "stream",
     "text": [
      "R-Squared::0.8268104366347178\n",
      "Best Hyperparameters::\n",
      "{'class_weight': 'balanced', 'n_estimators': 200}\n"
     ]
    }
   ],
   "source": [
    "#RF\n",
    "rf_param_grid = {'n_estimators': [200],\n",
    "                 \"class_weight\":['balanced']\n",
    "              #\"criterion\": [\"mse\"],\n",
    "              #\"min_samples_split\": [2, 3],\n",
    "              #\"max_features\": ['auto','log2', None]\n",
    "              #\"max_depth\": [3, 4],\n",
    "              #\"min_samples_leaf\": [10, 20, 30],\n",
    "              #\"max_leaf_nodes\": [20,40,60]\n",
    "             }\n",
    "\n",
    "grid_cv_rf = GridSearchCV(clf_rf, rf_param_grid, n_jobs=1, cv=5, return_train_score=True)\n",
    "\n",
    "grid_cv_rf.fit(X_train, y_train)\n",
    "\n",
    "print(\"R-Squared::{}\".format(grid_cv_rf.best_score_))\n",
    "print(\"Best Hyperparameters::\\n{}\".format(grid_cv_rf.best_params_))"
   ]
  },
  {
   "cell_type": "code",
   "execution_count": 72,
   "metadata": {},
   "outputs": [
    {
     "name": "stdout",
     "output_type": "stream",
     "text": [
      "Accuracy on training set: 0.998269435569755\n",
      "Accuracy on testing set:  0.8378630222084175\n"
     ]
    }
   ],
   "source": [
    "print ('Accuracy on training set: {}'.format(grid_cv_rf.score(X_train, y_train)))\n",
    "print ('Accuracy on testing set:  {}'.format(grid_cv_rf.score(X_test, y_test)))"
   ]
  },
  {
   "cell_type": "code",
   "execution_count": 73,
   "metadata": {},
   "outputs": [
    {
     "name": "stdout",
     "output_type": "stream",
     "text": [
      "Model Performance metrics:\n",
      "------------------------------\n",
      "Accuracy: 0.8379\n",
      "Precision: 0.8387\n",
      "Recall: 0.8379\n",
      "F1 Score: 0.8301\n",
      "\n",
      "Model Classification report:\n",
      "------------------------------\n",
      "             precision    recall  f1-score   support\n",
      "\n",
      "          0       0.84      0.62      0.71      2099\n",
      "          1       0.84      0.95      0.89      4340\n",
      "\n",
      "avg / total       0.84      0.84      0.83      6439\n",
      "\n",
      "\n",
      "Prediction Confusion Matrix:\n",
      "------------------------------\n",
      "          Predicted:      \n",
      "                   0     1\n",
      "Actual: 0       1292   807\n",
      "        1        237  4103\n"
     ]
    }
   ],
   "source": [
    "y_pred = grid_cv_rf.predict(X_test)\n",
    "\n",
    "display_model_performance_metrics(true_labels= y_test, predicted_labels= y_pred, \n",
    "                                      classes=[0,1])"
   ]
  },
  {
   "cell_type": "code",
   "execution_count": 74,
   "metadata": {},
   "outputs": [
    {
     "name": "stdout",
     "output_type": "stream",
     "text": [
      "R-Squared::0.810636315228967\n",
      "Best Hyperparameters::\n",
      "{'C': 10, 'class_weight': 'balanced'}\n"
     ]
    }
   ],
   "source": [
    "#logistic regression\n",
    "log_param_grid = {\n",
    "                  \"C\": [0.001, 0.01, 0.1, 1, 10, 100, 1000],\n",
    "                  \"class_weight\":['balanced']\n",
    "                 }\n",
    "\n",
    "grid_cv_log = GridSearchCV(clf_log, log_param_grid, n_jobs=1, cv=5, return_train_score=True)\n",
    "\n",
    "grid_cv_log.fit(X_train, y_train)\n",
    "\n",
    "print(\"R-Squared::{}\".format(grid_cv_log.best_score_))\n",
    "print(\"Best Hyperparameters::\\n{}\".format(grid_cv_log.best_params_))"
   ]
  },
  {
   "cell_type": "code",
   "execution_count": 75,
   "metadata": {},
   "outputs": [
    {
     "name": "stdout",
     "output_type": "stream",
     "text": [
      "Accuracy on training set: 0.9450878594249201\n",
      "Accuracy on testing set:  0.8165864264637366\n"
     ]
    }
   ],
   "source": [
    "print ('Accuracy on training set: {}'.format(grid_cv_log.score(X_train, y_train)))\n",
    "print ('Accuracy on testing set:  {}'.format(grid_cv_log.score(X_test, y_test)))"
   ]
  },
  {
   "cell_type": "code",
   "execution_count": 76,
   "metadata": {},
   "outputs": [
    {
     "name": "stdout",
     "output_type": "stream",
     "text": [
      "Model Performance metrics:\n",
      "------------------------------\n",
      "Accuracy: 0.8166\n",
      "Precision: 0.8237\n",
      "Recall: 0.8166\n",
      "F1 Score: 0.819\n",
      "\n",
      "Model Classification report:\n",
      "------------------------------\n",
      "             precision    recall  f1-score   support\n",
      "\n",
      "          0       0.70      0.78      0.73      2099\n",
      "          1       0.89      0.84      0.86      4340\n",
      "\n",
      "avg / total       0.82      0.82      0.82      6439\n",
      "\n",
      "\n",
      "Prediction Confusion Matrix:\n",
      "------------------------------\n",
      "          Predicted:      \n",
      "                   0     1\n",
      "Actual: 0       1630   469\n",
      "        1        712  3628\n"
     ]
    }
   ],
   "source": [
    "y_pred = grid_cv_log.predict(X_test)\n",
    "\n",
    "display_model_performance_metrics(true_labels= y_test, predicted_labels= y_pred, \n",
    "                                      classes=[0,1])"
   ]
  }
 ],
 "metadata": {
  "kernelspec": {
   "display_name": "Python 3",
   "language": "python",
   "name": "python3"
  },
  "language_info": {
   "codemirror_mode": {
    "name": "ipython",
    "version": 3
   },
   "file_extension": ".py",
   "mimetype": "text/x-python",
   "name": "python",
   "nbconvert_exporter": "python",
   "pygments_lexer": "ipython3",
   "version": "3.6.5"
  }
 },
 "nbformat": 4,
 "nbformat_minor": 2
}
