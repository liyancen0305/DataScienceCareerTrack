{
 "cells": [
  {
   "cell_type": "markdown",
   "metadata": {},
   "source": [
    "# What is the True Normal Human Body Temperature? \n",
    "\n",
    "#### Background\n",
    "\n",
    "The mean normal body temperature was held to be 37$^{\\circ}$C or 98.6$^{\\circ}$F for more than 120 years since it was first conceptualized and reported by Carl Wunderlich in a famous 1868 book. But, is this value statistically correct?"
   ]
  },
  {
   "cell_type": "markdown",
   "metadata": {},
   "source": [
    "<h3>Exercises</h3>\n",
    "\n",
    "<p>In this exercise, you will analyze a dataset of human body temperatures and employ the concepts of hypothesis testing, confidence intervals, and statistical significance.</p>\n",
    "\n",
    "<p>Answer the following questions <b>in this notebook below and submit to your Github account</b>.</p> \n",
    "\n",
    "<ol>\n",
    "    <li> Think about the way you're going to check for the normality of the distribution. Graphical methods are usually used first, but there are also other ways: https://en.wikipedia.org/wiki/Normality_test\n",
    "        <font color='green'> ANS: The theoretical CDF and the ECDF of the data suggest    that the temperatures are, indeed, Normally distributed. This also suggests that in the last 120 years or so, there have not been major evolutions,climate changes, or other factors that have significantly affected the normal human body temperatures. However, because we only have 130 samples, in order to prove the population data is normally distributed, we need a larger size.</font>\n",
    "    </ul>\n",
    "<li>  Is the sample size large? Are the observations independent?\n",
    "    <ul>\n",
    "    <li> Remember that this is a condition for the Central Limit Theorem, and hence the statistical tests we are using, to apply.\n",
    "    <font color='green'> ANS: the sample size has 130 entries, which is larger than 30, so is considered large.However, because we only have 130 samples, in order to prove the population data is normally distributed, we need a larger size. The observation is independent because each entry is a single individual with his or her gender, and heart rate. But we wil prefer using t-statistics because the population variance was not known.</font>\n",
    "    </ul>\n",
    "<li>  Is the true population mean really 98.6 degrees F?\n",
    "    <ul>\n",
    "    <li> First, try a bootstrap hypothesis test.\n",
    "        <font color='green'> ANS: by trying bootstrap with the hyothesis test population mean is 0, p-value equals to zero, so the null hyothesis rejected. We should accept the alternate hypothesis that the true population mean is not 98.6 degrees F.</font>\n",
    "    <li> Now, let's try frequentist statistical testing. Would you use a one-sample or two-sample test? Why?\n",
    "        <font color='green'> ANS: I use one-sample test because temperature is the only sample we are testing.</font>\n",
    "    <li> In this situation, is it appropriate to use the $t$ or $z$ statistic? \n",
    "        <font color='green'> ANS: I use t statistics because t-statistics is done when the population standard deviation is unkown. </font>\n",
    "    <li> Now try using the other test. How is the result be different? Why?\n",
    "        <font color='green'> ANS: The result is differet because bootstrap approach relies on random sampling approach, we sampled 10,000 in size, so the p-value gets much closer to zero. </font>\n",
    "    </ul>\n",
    "<li>  Draw a small sample of size 10 from the data and repeat both frequentist tests. \n",
    "    <ul>\n",
    "    <li> Which one is the correct one to use?\n",
    "        <font color='green'> ANS: if we use sample size 10, the p_value is 0.13, which means we should accept the null hypothesis. Hence, we should actually increase the sample size so the hypothesis result is more accurate. </font>\n",
    "    <li> What do you notice? What does this tell you about the difference in application of the $t$ and $z$ statistic?\n",
    "        <font color='green'> ANS: T-stattistics test is used when the population variation or standard deviation is unkown.Also, when the sample size is 30 or less. Z-statistics test is just the opposite. </font>\n",
    "    </ul>\n",
    "<li>  At what temperature should we consider someone's temperature to be \"abnormal\"?\n",
    "    <ul>\n",
    "    <li> As in the previous example, try calculating everything using the boostrap approach, as well as the frequentist approach.\n",
    "    <li> Start by computing the margin of error and confidence interval. When calculating the confidence interval, keep in mind that you should use the appropriate formula for one draw, and not N draws.\n",
    "       <font color='green'> if a temperature is outside of a range of [98.12, 98.37], it will be considered abnormal.</font>\n",
    "        <font color='green'> The margin of error is 0.1256.Hence, we are 95% confident that samples will be within the range of +/- 0.1256 from the mean.</font>\n",
    "    </ul>\n",
    "<li>  Is there a significant difference between males and females in normal temperature?\n",
    "    <ul>\n",
    "    <li> What testing approach did you use and why?\n",
    "        <font color='green'> The test I use is the frequentist statistics approach - t-statitistics test. The t-test is used to compare the means of two samples. In this case, we have two sample, unpaired, which are independent with each other with equal values.</font>\n",
    "    <li> Write a story with your conclusion in the context of the original problem.\n",
    "        <font color='green'> Given p-value equals to 0.022 which is less than the significance level of 0.05,, we should reject the null hypothesis because it is in the favor of the alternate hypothesis. Hence, there is a significant difference between males and femals in normal temperature.</font>\n",
    "    </ul>\n",
    "</ol>\n",
    "\n",
    "You can include written notes in notebook cells using Markdown: \n",
    "   - In the control panel at the top, choose Cell > Cell Type > Markdown\n",
    "   - Markdown syntax: http://nestacms.com/docs/creating-content/markdown-cheat-sheet\n",
    "\n",
    "#### Resources\n",
    "\n",
    "+ Information and data sources: http://www.amstat.org/publications/jse/datasets/normtemp.txt, http://www.amstat.org/publications/jse/jse_data_archive.htm\n",
    "+ Markdown syntax: http://nestacms.com/docs/creating-content/markdown-cheat-sheet\n",
    "\n",
    "****"
   ]
  },
  {
   "cell_type": "markdown",
   "metadata": {},
   "source": [
    "1. Is the distribution of body temperatures normal?"
   ]
  },
  {
   "cell_type": "code",
   "execution_count": 11,
   "metadata": {},
   "outputs": [
    {
     "data": {
      "image/png": "[encoded data removed]",
      "text/plain": [
       "<matplotlib.figure.Figure at 0xb612358>"
      ]
     },
     "metadata": {},
     "output_type": "display_data"
    }
   ],
   "source": [
    "import pandas as pd\n",
    "import numpy as np\n",
    "import matplotlib.pyplot as plt\n",
    "import scipy\n",
    "\n",
    "df = pd.read_csv('data/human_body_temperature.csv')\n",
    "#compute ecdf\n",
    "def ecdf(data):\n",
    "    \"\"\"Compute ECDF for a one-dimensional array of measurements.\"\"\"\n",
    "    n=len(data)\n",
    "    x=np.sort(data)\n",
    "    y=np.arange(1,n+1)/n\n",
    "    return x, y\n",
    "\n",
    "sigma = np.std(df['temperature'])  \n",
    "mu = np.mean(df['temperature'])\n",
    "samples=np.random.normal(mu, sigma, size=10000)\n",
    "\n",
    "x_theor, y_theor = ecdf(samples)\n",
    "x, y=ecdf(df['temperature'])\n",
    "\n",
    "_ = plt.plot(x_theor, y_theor)\n",
    "_ = plt.plot(x, y, marker='.', linestyle='none')\n",
    "\n",
    "plt.margins(0.02)\n",
    "\n",
    "_ = plt.xlabel('Temperature')\n",
    "_ = plt.ylabel('CDF')\n",
    "\n",
    "plt.show()\n",
    "\n"
   ]
  },
  {
   "cell_type": "markdown",
   "metadata": {},
   "source": []
  },
  {
   "cell_type": "markdown",
   "metadata": {},
   "source": []
  },
  {
   "cell_type": "markdown",
   "metadata": {},
   "source": [
    "3. Is the true population mean really 98.6 degrees F?\n",
    "First, try a bootstrap hypothesis test\n",
    " hyphothesis #1: the true population mean is 98.6.\n",
    "  Write a function to generate many bootstrap replicates from the data set"
   ]
  },
  {
   "cell_type": "code",
   "execution_count": 12,
   "metadata": {},
   "outputs": [
    {
     "data": {
      "text/plain": [
       "0.0"
      ]
     },
     "execution_count": 12,
     "metadata": {},
     "output_type": "execute_result"
    }
   ],
   "source": [
    "def bootstrap_replicate_1d(data, func):\n",
    "    return func(np.random.choice(data, size=len(data)))\n",
    "\n",
    "def draw_bs_reps(data, func, size=1):\n",
    "    bs_replicates = np.empty(size)\n",
    "    for i in range(size):\n",
    "        bs_replicates[i] = bootstrap_replicate_1d(data, func)\n",
    "    return bs_replicates\n",
    "\n",
    "\n",
    "bs_replicates=draw_bs_reps(df.temperature, np.mean, size=10000)\n",
    "\n",
    "p=np.sum(bs_replicates >= 98.6)/10000\n",
    "p\n"
   ]
  },
  {
   "cell_type": "markdown",
   "metadata": {},
   "source": [
    "Becuse the p is zero, so the null hypothesis is rejected. As a result, the true population mean is not 98.6."
   ]
  },
  {
   "cell_type": "markdown",
   "metadata": {},
   "source": [
    "5 Draw a small sample of size 10 from the data and repeat both frequentist tests."
   ]
  },
  {
   "cell_type": "code",
   "execution_count": 13,
   "metadata": {},
   "outputs": [
    {
     "data": {
      "text/plain": [
       "5.454823292364079"
      ]
     },
     "execution_count": 13,
     "metadata": {},
     "output_type": "execute_result"
    }
   ],
   "source": [
    "import numpy as np\n",
    "import scipy.stats as st\n",
    "import scipy.special as sp\n",
    "data= df.temperature\n",
    "n = len(data)\n",
    "mu = data.mean()\n",
    "sigma =data.std()\n",
    "t=(98.6-mu)/(sigma/np.sqrt(n))\n",
    "t\n"
   ]
  },
  {
   "cell_type": "code",
   "execution_count": 14,
   "metadata": {},
   "outputs": [
    {
     "data": {
      "text/plain": [
       "4.90215701411338e-08"
      ]
     },
     "execution_count": 14,
     "metadata": {},
     "output_type": "execute_result"
    }
   ],
   "source": [
    "#pval_z=2*(1-st.norm.cdf(z))\n",
    "pval_t=st.norm.sf(abs(t)) * 2 \n",
    "pval_t"
   ]
  },
  {
   "cell_type": "code",
   "execution_count": 15,
   "metadata": {},
   "outputs": [
    {
     "data": {
      "text/plain": [
       "Ttest_1sampResult(statistic=-1.7936339323123727, pvalue=0.10645754000662676)"
      ]
     },
     "execution_count": 15,
     "metadata": {},
     "output_type": "execute_result"
    }
   ],
   "source": [
    "t_sample=np.random.choice(df.temperature, size=10)\n",
    "t=scipy.stats.ttest_1samp(t_sample,98.6)\n",
    "t\n"
   ]
  },
  {
   "cell_type": "code",
   "execution_count": 16,
   "metadata": {},
   "outputs": [
    {
     "data": {
      "text/plain": [
       "0.125550964802579"
      ]
     },
     "execution_count": 16,
     "metadata": {},
     "output_type": "execute_result"
    }
   ],
   "source": [
    "var = np.var(df.temperature)\n",
    "\n",
    "se = np.sqrt(var/len(df)) # standard error\n",
    "moe = se * 1.96 # 1.96 is the 95% z-score\n",
    "moe # margin of error  "
   ]
  },
  {
   "cell_type": "markdown",
   "metadata": {},
   "source": [
    "Now try using the other test. How is the result be different? Why?"
   ]
  },
  {
   "cell_type": "code",
   "execution_count": 26,
   "metadata": {},
   "outputs": [
    {
     "name": "stdout",
     "output_type": "stream",
     "text": [
      "95% confidence interval = [98.12461538 98.37538462] temperature\n",
      "Confidence Intervals:  98.12367980442819 98.37478173403336\n"
     ]
    }
   ],
   "source": [
    "#5.At what temperature should we consider someone's temperature to be \"abnormal\"? \n",
    "\n",
    "conf_int = np.percentile(bs_replicates, (2.5, 97.5))\n",
    "print('95% confidence interval =', conf_int, 'temperature')\n",
    "\n",
    "low_conf_int = mu - 1.96*se \n",
    "high_conf_int = mu + 1.96*se \n",
    "print('Confidence Intervals: ', low_conf_int, high_conf_int)"
   ]
  },
  {
   "cell_type": "markdown",
   "metadata": {},
   "source": [
    "\n",
    "and use the two sample t test formula to get t statistic\n",
    "and then get p value from that\n",
    "\n",
    "https://www.itl.nist.gov/div898/handbook/eda/section3/eda353.htm"
   ]
  },
  {
   "cell_type": "code",
   "execution_count": 18,
   "metadata": {},
   "outputs": [],
   "source": [
    "#create two data frames\n",
    "males = df[df.gender =='M']['temperature']\n",
    "females = df[df.gender=='F']['temperature']\n",
    "mu_males = males.mean()\n",
    "mu_females = females.mean()\n",
    "var_males = males.var()\n",
    "var_females = females.var()"
   ]
  },
  {
   "cell_type": "code",
   "execution_count": 19,
   "metadata": {},
   "outputs": [
    {
     "data": {
      "text/plain": [
       "0.02228736076067726"
      ]
     },
     "execution_count": 19,
     "metadata": {},
     "output_type": "execute_result"
    }
   ],
   "source": [
    "t = (mu_males - mu_females)/np.sqrt(var_males/len(males)+var_females/len(females))\n",
    "pval_t=st.norm.sf(abs(t)) * 2 \n",
    "pval_t"
   ]
  },
  {
   "cell_type": "code",
   "execution_count": null,
   "metadata": {},
   "outputs": [],
   "source": []
  },
  {
   "cell_type": "code",
   "execution_count": null,
   "metadata": {},
   "outputs": [],
   "source": []
  }
 ],
 "metadata": {
  "kernelspec": {
   "display_name": "Python 3",
   "language": "python",
   "name": "python3"
  },
  "language_info": {
   "codemirror_mode": {
    "name": "ipython",
    "version": 3
   },
   "file_extension": ".py",
   "mimetype": "text/x-python",
   "name": "python",
   "nbconvert_exporter": "python",
   "pygments_lexer": "ipython3",
   "version": "3.6.4"
  }
 },
 "nbformat": 4,
 "nbformat_minor": 1
}
