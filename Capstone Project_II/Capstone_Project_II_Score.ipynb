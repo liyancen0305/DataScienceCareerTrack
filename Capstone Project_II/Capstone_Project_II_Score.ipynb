{
 "cells": [
  {
   "cell_type": "code",
   "execution_count": 1,
   "metadata": {
    "scrolled": false
   },
   "outputs": [
    {
     "data": {
      "text/html": [
       "<div>\n",
       "<style scoped>\n",
       "    .dataframe tbody tr th:only-of-type {\n",
       "        vertical-align: middle;\n",
       "    }\n",
       "\n",
       "    .dataframe tbody tr th {\n",
       "        vertical-align: top;\n",
       "    }\n",
       "\n",
       "    .dataframe thead th {\n",
       "        text-align: right;\n",
       "    }\n",
       "</style>\n",
       "<table border=\"1\" class=\"dataframe\">\n",
       "  <thead>\n",
       "    <tr style=\"text-align: right;\">\n",
       "      <th></th>\n",
       "      <th>Id</th>\n",
       "      <th>ProductId</th>\n",
       "      <th>UserId</th>\n",
       "      <th>ProfileName</th>\n",
       "      <th>HelpfulnessNumerator</th>\n",
       "      <th>HelpfulnessDenominator</th>\n",
       "      <th>Score</th>\n",
       "      <th>Time</th>\n",
       "      <th>Summary</th>\n",
       "      <th>Text</th>\n",
       "    </tr>\n",
       "  </thead>\n",
       "  <tbody>\n",
       "    <tr>\n",
       "      <th>0</th>\n",
       "      <td>1</td>\n",
       "      <td>B001E4KFG0</td>\n",
       "      <td>A3SGXH7AUHU8GW</td>\n",
       "      <td>delmartian</td>\n",
       "      <td>1</td>\n",
       "      <td>1</td>\n",
       "      <td>5</td>\n",
       "      <td>1303862400</td>\n",
       "      <td>Good Quality Dog Food</td>\n",
       "      <td>I have bought several of the Vitality canned d...</td>\n",
       "    </tr>\n",
       "    <tr>\n",
       "      <th>1</th>\n",
       "      <td>2</td>\n",
       "      <td>B00813GRG4</td>\n",
       "      <td>A1D87F6ZCVE5NK</td>\n",
       "      <td>dll pa</td>\n",
       "      <td>0</td>\n",
       "      <td>0</td>\n",
       "      <td>1</td>\n",
       "      <td>1346976000</td>\n",
       "      <td>Not as Advertised</td>\n",
       "      <td>Product arrived labeled as Jumbo Salted Peanut...</td>\n",
       "    </tr>\n",
       "  </tbody>\n",
       "</table>\n",
       "</div>"
      ],
      "text/plain": [
       "   Id   ProductId          UserId ProfileName  HelpfulnessNumerator  \\\n",
       "0   1  B001E4KFG0  A3SGXH7AUHU8GW  delmartian                     1   \n",
       "1   2  B00813GRG4  A1D87F6ZCVE5NK      dll pa                     0   \n",
       "\n",
       "   HelpfulnessDenominator  Score        Time                Summary  \\\n",
       "0                       1      5  1303862400  Good Quality Dog Food   \n",
       "1                       0      1  1346976000      Not as Advertised   \n",
       "\n",
       "                                                Text  \n",
       "0  I have bought several of the Vitality canned d...  \n",
       "1  Product arrived labeled as Jumbo Salted Peanut...  "
      ]
     },
     "execution_count": 1,
     "metadata": {},
     "output_type": "execute_result"
    }
   ],
   "source": [
    "import pandas as pd\n",
    "import re \n",
    "import warnings \n",
    "\n",
    "warnings.filterwarnings('ignore')\n",
    "\n",
    "data = pd.read_csv('/home/liyan/Desktop/Capstone Project_II/Reviews.csv')\n",
    "data.head(2)"
   ]
  },
  {
   "cell_type": "markdown",
   "metadata": {},
   "source": [
    "https://github.com/dipanjanS/practical-machine-learning-with-python/blob/master/notebooks/Ch09_Analyzing_Wine_Types_and_Quality/model_evaluation_utils.py"
   ]
  },
  {
   "cell_type": "code",
   "execution_count": 2,
   "metadata": {},
   "outputs": [],
   "source": [
    "# remove HelpfulnessDenominator that is less than 10\n",
    "df = data[data.HelpfulnessDenominator >10]"
   ]
  },
  {
   "cell_type": "code",
   "execution_count": 3,
   "metadata": {},
   "outputs": [],
   "source": [
    "# drop all na values\n",
    "df = df.dropna()"
   ]
  },
  {
   "cell_type": "code",
   "execution_count": 4,
   "metadata": {},
   "outputs": [
    {
     "data": {
      "text/html": [
       "<div>\n",
       "<style scoped>\n",
       "    .dataframe tbody tr th:only-of-type {\n",
       "        vertical-align: middle;\n",
       "    }\n",
       "\n",
       "    .dataframe tbody tr th {\n",
       "        vertical-align: top;\n",
       "    }\n",
       "\n",
       "    .dataframe thead th {\n",
       "        text-align: right;\n",
       "    }\n",
       "</style>\n",
       "<table border=\"1\" class=\"dataframe\">\n",
       "  <thead>\n",
       "    <tr style=\"text-align: right;\">\n",
       "      <th></th>\n",
       "      <th>Score</th>\n",
       "      <th>Text</th>\n",
       "    </tr>\n",
       "  </thead>\n",
       "  <tbody>\n",
       "    <tr>\n",
       "      <th>32</th>\n",
       "      <td>4</td>\n",
       "      <td>McCann's Instant Oatmeal is great if you must ...</td>\n",
       "    </tr>\n",
       "    <tr>\n",
       "      <th>33</th>\n",
       "      <td>4</td>\n",
       "      <td>This is a good instant oatmeal from the best o...</td>\n",
       "    </tr>\n",
       "    <tr>\n",
       "      <th>82</th>\n",
       "      <td>5</td>\n",
       "      <td>I know the product title says Molecular Gastro...</td>\n",
       "    </tr>\n",
       "    <tr>\n",
       "      <th>158</th>\n",
       "      <td>5</td>\n",
       "      <td>&lt;span class=\"tiny\"&gt; Length:: 0:26 Mins&lt;br /&gt;&lt;b...</td>\n",
       "    </tr>\n",
       "    <tr>\n",
       "      <th>287</th>\n",
       "      <td>5</td>\n",
       "      <td>This is a fantastic product, and I wish it was...</td>\n",
       "    </tr>\n",
       "  </tbody>\n",
       "</table>\n",
       "</div>"
      ],
      "text/plain": [
       "     Score                                               Text\n",
       "32       4  McCann's Instant Oatmeal is great if you must ...\n",
       "33       4  This is a good instant oatmeal from the best o...\n",
       "82       5  I know the product title says Molecular Gastro...\n",
       "158      5  <span class=\"tiny\"> Length:: 0:26 Mins<br /><b...\n",
       "287      5  This is a fantastic product, and I wish it was..."
      ]
     },
     "execution_count": 4,
     "metadata": {},
     "output_type": "execute_result"
    }
   ],
   "source": [
    "# only select score and text as our dataframe\n",
    "df = df.iloc[:, [6,9]]\n",
    "df.head()"
   ]
  },
  {
   "cell_type": "code",
   "execution_count": 5,
   "metadata": {},
   "outputs": [
    {
     "data": {
      "text/plain": [
       "Score    0\n",
       "Text     0\n",
       "dtype: int64"
      ]
     },
     "execution_count": 5,
     "metadata": {},
     "output_type": "execute_result"
    }
   ],
   "source": [
    "# make sure the is no null value\n",
    "df.isnull().sum()"
   ]
  },
  {
   "cell_type": "code",
   "execution_count": 6,
   "metadata": {},
   "outputs": [
    {
     "data": {
      "text/html": [
       "<div>\n",
       "<style scoped>\n",
       "    .dataframe tbody tr th:only-of-type {\n",
       "        vertical-align: middle;\n",
       "    }\n",
       "\n",
       "    .dataframe tbody tr th {\n",
       "        vertical-align: top;\n",
       "    }\n",
       "\n",
       "    .dataframe thead th {\n",
       "        text-align: right;\n",
       "    }\n",
       "</style>\n",
       "<table border=\"1\" class=\"dataframe\">\n",
       "  <thead>\n",
       "    <tr style=\"text-align: right;\">\n",
       "      <th></th>\n",
       "      <th>index</th>\n",
       "      <th>Score</th>\n",
       "      <th>Text</th>\n",
       "    </tr>\n",
       "  </thead>\n",
       "  <tbody>\n",
       "    <tr>\n",
       "      <th>0</th>\n",
       "      <td>32</td>\n",
       "      <td>4</td>\n",
       "      <td>McCann's Instant Oatmeal is great if you must ...</td>\n",
       "    </tr>\n",
       "    <tr>\n",
       "      <th>1</th>\n",
       "      <td>33</td>\n",
       "      <td>4</td>\n",
       "      <td>This is a good instant oatmeal from the best o...</td>\n",
       "    </tr>\n",
       "  </tbody>\n",
       "</table>\n",
       "</div>"
      ],
      "text/plain": [
       "   index  Score                                               Text\n",
       "0     32      4  McCann's Instant Oatmeal is great if you must ...\n",
       "1     33      4  This is a good instant oatmeal from the best o..."
      ]
     },
     "execution_count": 6,
     "metadata": {},
     "output_type": "execute_result"
    }
   ],
   "source": [
    "# reset index\n",
    "df= df.reset_index()\n",
    "df.head(2)"
   ]
  },
  {
   "cell_type": "code",
   "execution_count": 7,
   "metadata": {},
   "outputs": [],
   "source": [
    "# convert text to lower case\n",
    "df.loc[:, 'Text'] = df['Text'].str.lower()"
   ]
  },
  {
   "cell_type": "code",
   "execution_count": 8,
   "metadata": {},
   "outputs": [],
   "source": [
    "# remove punctuation \n",
    "import unicodedata\n",
    "import sys\n",
    "\n",
    "tbl = dict.fromkeys(i for i in range(sys.maxunicode)\n",
    "                      if unicodedata.category(chr(i)).startswith('P'))\n",
    "def remove_punctuation(text):\n",
    "    return text.translate(tbl)\n"
   ]
  },
  {
   "cell_type": "code",
   "execution_count": 9,
   "metadata": {},
   "outputs": [],
   "source": [
    "#remove digits\n",
    "from string import digits\n",
    "\n",
    "def remove_digits(text):\n",
    "    remove_digits = str.maketrans('', '', digits)\n",
    "    return text.translate(remove_digits)\n"
   ]
  },
  {
   "cell_type": "code",
   "execution_count": 10,
   "metadata": {},
   "outputs": [],
   "source": [
    "# Removing HTML tags\n",
    "from bs4 import BeautifulSoup\n",
    "\n",
    "def strip_html_tags(text):\n",
    "    soup = BeautifulSoup(text, \"html.parser\")\n",
    "    stripped_text = soup.get_text()\n",
    "    return stripped_text\n"
   ]
  },
  {
   "cell_type": "code",
   "execution_count": 11,
   "metadata": {},
   "outputs": [],
   "source": [
    "# remove accented characters\n",
    "import unicodedata \n",
    "\n",
    "def remove_accented_chars(text):\n",
    "    text = unicodedata.normalize('NFKD', text).encode('ascii','ignore').decode('utf-8','ignore')\n",
    "    return text\n"
   ]
  },
  {
   "cell_type": "code",
   "execution_count": 12,
   "metadata": {},
   "outputs": [],
   "source": [
    "# remove special characters\n",
    "\n",
    "def remove_special_characters(text, remove_digits=False):\n",
    "    pattern = r'[^a-zA-z0-9\\s]' if not remove_digits else r'[^a-zA-z\\s]'\n",
    "    text = re.sub(pattern, '', text)\n",
    "    return text\n"
   ]
  },
  {
   "cell_type": "code",
   "execution_count": 13,
   "metadata": {},
   "outputs": [
    {
     "name": "stdout",
     "output_type": "stream",
     "text": [
      "[nltk_data] Downloading package stopwords to /home/liyan/nltk_data...\n",
      "[nltk_data]   Package stopwords is already up-to-date!\n"
     ]
    },
    {
     "data": {
      "text/plain": [
       "True"
      ]
     },
     "execution_count": 13,
     "metadata": {},
     "output_type": "execute_result"
    }
   ],
   "source": [
    "#download stopwords list\n",
    "import nltk\n",
    "nltk.download('stopwords')"
   ]
  },
  {
   "cell_type": "code",
   "execution_count": 14,
   "metadata": {},
   "outputs": [],
   "source": [
    "#remove stop words\n",
    "from nltk.corpus import stopwords\n",
    "from stop_words import get_stop_words\n",
    "from nltk.tokenize.toktok import ToktokTokenizer\n",
    "\n",
    "tokenizer = ToktokTokenizer()\n",
    "stopword_list = nltk.corpus.stopwords.words('english')\n",
    "stopword_list.remove('no')\n",
    "stopword_list.remove('not')\n",
    "\n",
    "def remove_stopwords(text, is_lower_case=False):\n",
    "    tokens = tokenizer.tokenize(text)\n",
    "    tokens = [token.strip() for token in tokens]\n",
    "    if is_lower_case:\n",
    "        filtered_tokens = [token for token in tokens if token not in stopword_list]\n",
    "    else:\n",
    "        filtered_tokens = [token for token in tokens if token.lower() not in stopword_list]\n",
    "    filtered_text = ' '.join(filtered_tokens)    \n",
    "    return filtered_text\n"
   ]
  },
  {
   "cell_type": "code",
   "execution_count": 15,
   "metadata": {},
   "outputs": [],
   "source": [
    "# combine all functions together \n",
    "def normalize_corpus(corpus, html_stripping=True,\n",
    "                     accented_char_removal=True, \n",
    "                     special_char_removal=True, \n",
    "                        stopword_removal=True):\n",
    "    \n",
    "    #print(\"Corpus type: \", type(corpus))\n",
    "    #print(\"Corpus length: \", len(corpus))\n",
    "    \n",
    "    normalized_corpus = []\n",
    "    \n",
    "    # normalize each document in the corpus\n",
    "    for doc in corpus:\n",
    "        # strip HTML\n",
    "        if html_stripping:\n",
    "            doc = strip_html_tags(doc)\n",
    "        # remove accented characters\n",
    "        if accented_char_removal:\n",
    "            doc = remove_accented_chars(doc)\n",
    "        # remove extra newlines\n",
    "        doc = re.sub(r'[\\r|\\n|\\r\\n]+', ' ',doc)\n",
    "        # remove special characters and\\or digits    \n",
    "        if special_char_removal:\n",
    "            # insert spaces between special characters to isolate them    \n",
    "            special_char_pattern = re.compile(r'([{.(-)!}])')\n",
    "            doc = special_char_pattern.sub(\" \\\\1 \", doc)\n",
    "            doc = remove_special_characters(doc, remove_digits)  \n",
    "        # remove extra whitespace\n",
    "        doc = re.sub(' +', ' ', doc)\n",
    "        # remove stopwords\n",
    "        if stopword_removal:\n",
    "            doc = remove_stopwords(doc)\n",
    "        #doc = doc.to_string      \n",
    "        \n",
    "        normalized_corpus.append(doc)\n",
    "\n",
    "    return normalized_corpus\n",
    "        "
   ]
  },
  {
   "cell_type": "code",
   "execution_count": 16,
   "metadata": {},
   "outputs": [
    {
     "name": "stderr",
     "output_type": "stream",
     "text": [
      "/home/liyan/anaconda3/lib/python3.6/site-packages/sklearn/cross_validation.py:41: DeprecationWarning: This module was deprecated in version 0.18 in favor of the model_selection module into which all the refactored classes and functions are moved. Also note that the interface of the new CV iterators are different from that of this module. This module will be removed in 0.20.\n",
      "  \"This module will be removed in 0.20.\", DeprecationWarning)\n"
     ]
    }
   ],
   "source": [
    "from sklearn.linear_model import LogisticRegression\n",
    "from sklearn.cross_validation import train_test_split\n",
    "from sklearn import preprocessing\n",
    "from sklearn.metrics import mean_squared_error\n",
    "from sklearn.metrics import classification_report\n",
    "#import model_evaluation_utils as meu"
   ]
  },
  {
   "cell_type": "code",
   "execution_count": 17,
   "metadata": {},
   "outputs": [],
   "source": [
    "from sklearn import metrics\n",
    "\n",
    "def get_metrics(true_labels, predicted_labels):\n",
    "    \n",
    "    print('Accuracy:', np.round(\n",
    "                        metrics.accuracy_score(true_labels, \n",
    "                                               predicted_labels),\n",
    "                        4))\n",
    "    print('Precision:', np.round(\n",
    "                        metrics.precision_score(true_labels, \n",
    "                                               predicted_labels,\n",
    "                                               average='weighted'),\n",
    "                        4))\n",
    "    print('Recall:', np.round(\n",
    "                        metrics.recall_score(true_labels, \n",
    "                                               predicted_labels,\n",
    "                                               average='weighted'),\n",
    "                        4))\n",
    "    print('F1 Score:', np.round(\n",
    "                        metrics.f1_score(true_labels, \n",
    "                                               predicted_labels,\n",
    "                                               average='weighted'),\n",
    "                        4))\n"
   ]
  },
  {
   "cell_type": "code",
   "execution_count": 18,
   "metadata": {},
   "outputs": [],
   "source": [
    "def display_confusion_matrix(true_labels, predicted_labels, classes=[1,0]):\n",
    "    \n",
    "    total_classes = len(classes)\n",
    "    level_labels = [total_classes*[0], list(range(total_classes))]\n",
    "\n",
    "    cm = metrics.confusion_matrix(y_true=true_labels, y_pred=predicted_labels, \n",
    "                                  labels=classes)\n",
    "    cm_frame = pd.DataFrame(data=cm, \n",
    "                            columns=pd.MultiIndex(levels=[['Predicted:'], classes], \n",
    "                                                  labels=level_labels), \n",
    "                            index=pd.MultiIndex(levels=[['Actual:'], classes], \n",
    "labels=level_labels)) \n",
    "\n",
    "    print(cm_frame)     "
   ]
  },
  {
   "cell_type": "code",
   "execution_count": 19,
   "metadata": {},
   "outputs": [],
   "source": [
    "def display_classification_report(true_labels, predicted_labels, classes=[1,0]):\n",
    "\n",
    "    report = metrics.classification_report(y_true=true_labels, \n",
    "                                           y_pred=predicted_labels, \n",
    "labels=classes) \n",
    "    print(report)"
   ]
  },
  {
   "cell_type": "code",
   "execution_count": 20,
   "metadata": {},
   "outputs": [],
   "source": [
    "import numpy as np\n",
    "\n",
    "def display_model_performance_metrics(true_labels, predicted_labels, classes=[1,0]):\n",
    "    print('Model Performance metrics:')\n",
    "    print('-'*30)\n",
    "    get_metrics(true_labels=true_labels, predicted_labels=predicted_labels)\n",
    "    print('\\nModel Classification report:')\n",
    "    print('-'*30)\n",
    "    display_classification_report(true_labels=true_labels, predicted_labels=predicted_labels, \n",
    "                                  classes=classes)\n",
    "    print('\\nPrediction Confusion Matrix:')\n",
    "    print('-'*30)\n",
    "    display_confusion_matrix(true_labels=true_labels, predicted_labels=predicted_labels, \n",
    "classes=classes)"
   ]
  },
  {
   "cell_type": "code",
   "execution_count": 21,
   "metadata": {},
   "outputs": [],
   "source": [
    "\n",
    "clean_text = normalize_corpus(df.Text)\n"
   ]
  },
  {
   "cell_type": "code",
   "execution_count": 22,
   "metadata": {},
   "outputs": [],
   "source": [
    "from sklearn.feature_extraction.text import CountVectorizer\n",
    "\n",
    "vectorizer = CountVectorizer()  #Convert a collection of text documents to a matrix of token counts\n",
    "X = vectorizer.fit_transform(clean_text) # a list of integers transformed from all text\n",
    "y = df.Score\n"
   ]
  },
  {
   "cell_type": "code",
   "execution_count": 23,
   "metadata": {},
   "outputs": [],
   "source": [
    "X_train, X_test, y_train, y_test = train_test_split(X, y, test_size= 0.30)"
   ]
  },
  {
   "cell_type": "code",
   "execution_count": 24,
   "metadata": {},
   "outputs": [
    {
     "data": {
      "text/plain": [
       "<21437x44755 sparse matrix of type '<class 'numpy.int64'>'\n",
       "\twith 1251129 stored elements in Compressed Sparse Row format>"
      ]
     },
     "execution_count": 24,
     "metadata": {},
     "output_type": "execute_result"
    }
   ],
   "source": [
    "X"
   ]
  },
  {
   "cell_type": "code",
   "execution_count": 25,
   "metadata": {},
   "outputs": [],
   "source": [
    "doc_sum = X_train.toarray().sum(axis = 0) # The number of times each word is occuring over all the documents.\n",
    "len_text = len(doc_sum) # number of unique words in all documents"
   ]
  },
  {
   "cell_type": "code",
   "execution_count": 26,
   "metadata": {},
   "outputs": [
    {
     "data": {
      "text/plain": [
       "Text(0.5,1,'% of Words That Appear In <= X Documents, N = 80')"
      ]
     },
     "execution_count": 26,
     "metadata": {},
     "output_type": "execute_result"
    }
   ],
   "source": [
    "import matplotlib.pyplot as plt\n",
    "N = 80 \n",
    "x_ax = np.arange(0,len_text)[:N] # [:N] changes this to only run for x_i values from 0 to 100 \n",
    "y_ax = [sum(doc_sum <= i)/len_text for i in x_ax]# Determines the percentage values for y_i \n",
    "\n",
    "plt.plot(x_ax, y_ax) \n",
    "plt.xlabel('number of docs') \n",
    "plt.ylabel('% of words') \n",
    "plt.title('% of Words That Appear In <= X Documents, N = 80')\n"
   ]
  },
  {
   "cell_type": "code",
   "execution_count": 27,
   "metadata": {},
   "outputs": [],
   "source": [
    "#sklearn.feature_extraction.text.TfidfVectorizer¶ http://scikit-learn.org/stable/modules/generated/sklearn.feature_extraction.text.TfidfVectorizer.html"
   ]
  },
  {
   "cell_type": "code",
   "execution_count": 28,
   "metadata": {},
   "outputs": [
    {
     "data": {
      "text/plain": [
       "(21437, 44755)"
      ]
     },
     "execution_count": 28,
     "metadata": {},
     "output_type": "execute_result"
    }
   ],
   "source": [
    "X.shape"
   ]
  },
  {
   "cell_type": "code",
   "execution_count": 29,
   "metadata": {},
   "outputs": [
    {
     "data": {
      "text/plain": [
       "(15005, 44755)"
      ]
     },
     "execution_count": 29,
     "metadata": {},
     "output_type": "execute_result"
    }
   ],
   "source": [
    "X_train.shape"
   ]
  },
  {
   "cell_type": "code",
   "execution_count": 30,
   "metadata": {},
   "outputs": [],
   "source": [
    "train_docs, test_docs, y_train, y_test = train_test_split(np.array(clean_text), y, test_size= 0.30)"
   ]
  },
  {
   "cell_type": "code",
   "execution_count": 31,
   "metadata": {},
   "outputs": [],
   "source": [
    "from sklearn.feature_extraction.text import TfidfVectorizer\n",
    "\n",
    "tv = TfidfVectorizer(min_df=5, max_df=1.0, use_idf=True)\n",
    "X_train = tv.fit_transform(train_docs)\n",
    "X_test = tv.transform(test_docs)"
   ]
  },
  {
   "cell_type": "code",
   "execution_count": 32,
   "metadata": {},
   "outputs": [
    {
     "name": "stdout",
     "output_type": "stream",
     "text": [
      "Accuracy on training set: 0.6829723425524825\n",
      "Accuracy on testing set:  0.6588930348258707\n"
     ]
    }
   ],
   "source": [
    "# Multinomial Naive Bayes\n",
    "from sklearn.naive_bayes import MultinomialNB\n",
    "clf_nb = MultinomialNB().fit(X_train, y_train)\n",
    "# MultinomialNB() is for classification with dicrete features. In this case, freshness and text in integers.\n",
    "print ('Accuracy on training set: {}'.format(clf_nb.score(X_train, y_train)))\n",
    "print ('Accuracy on testing set:  {}'.format(clf_nb.score(X_test, y_test)))"
   ]
  },
  {
   "cell_type": "code",
   "execution_count": 33,
   "metadata": {},
   "outputs": [
    {
     "data": {
      "text/plain": [
       "array([1, 5, 5, ..., 5, 5, 5])"
      ]
     },
     "execution_count": 33,
     "metadata": {},
     "output_type": "execute_result"
    }
   ],
   "source": [
    "y_pred = clf_nb.predict(X_test)\n",
    "y_pred"
   ]
  },
  {
   "cell_type": "code",
   "execution_count": 34,
   "metadata": {},
   "outputs": [
    {
     "name": "stdout",
     "output_type": "stream",
     "text": [
      "Model Performance metrics:\n",
      "------------------------------\n",
      "Accuracy: 0.6589\n",
      "Precision: 0.7413\n",
      "Recall: 0.6589\n",
      "F1 Score: 0.5765\n",
      "\n",
      "Model Classification report:\n",
      "------------------------------\n",
      "             precision    recall  f1-score   support\n",
      "\n",
      "          1       0.75      0.64      0.69      1806\n",
      "          2       1.00      0.04      0.08       473\n",
      "          3       1.00      0.01      0.02       506\n",
      "          4       0.92      0.02      0.04       516\n",
      "          5       0.63      0.97      0.76      3131\n",
      "\n",
      "avg / total       0.74      0.66      0.58      6432\n",
      "\n",
      "\n",
      "Prediction Confusion Matrix:\n",
      "------------------------------\n",
      "          Predicted:                 \n",
      "                   1   2  3   4     5\n",
      "Actual: 1       1160   0  0   0   646\n",
      "        2        143  20  0   0   310\n",
      "        3        109   0  6   0   391\n",
      "        4         52   0  0  11   453\n",
      "        5         89   0  0   1  3041\n"
     ]
    }
   ],
   "source": [
    "display_model_performance_metrics(true_labels= y_test, predicted_labels= y_pred, \n",
    "                                      classes=[1,2,3,4,5])"
   ]
  },
  {
   "cell_type": "code",
   "execution_count": 35,
   "metadata": {},
   "outputs": [],
   "source": [
    "# multiple logistics regression \n",
    "\n",
    "clf_log = LogisticRegression(random_state= 1, max_iter=2000, \n",
    "                                multi_class='ovr', \n",
    "                                #n_jobs=4, \n",
    "                                solver='newton-cg',penalty='l2',\n",
    "                                class_weight='balanced'\n",
    "                                )"
   ]
  },
  {
   "cell_type": "code",
   "execution_count": 36,
   "metadata": {},
   "outputs": [
    {
     "data": {
      "text/plain": [
       "LogisticRegression(C=1.0, class_weight='balanced', dual=False,\n",
       "          fit_intercept=True, intercept_scaling=1, max_iter=2000,\n",
       "          multi_class='ovr', n_jobs=1, penalty='l2', random_state=1,\n",
       "          solver='newton-cg', tol=0.0001, verbose=0, warm_start=False)"
      ]
     },
     "execution_count": 36,
     "metadata": {},
     "output_type": "execute_result"
    }
   ],
   "source": [
    "clf_log.fit(X_train, y_train)"
   ]
  },
  {
   "cell_type": "code",
   "execution_count": 37,
   "metadata": {},
   "outputs": [
    {
     "data": {
      "text/plain": [
       "(21437, 44755)"
      ]
     },
     "execution_count": 37,
     "metadata": {},
     "output_type": "execute_result"
    }
   ],
   "source": [
    "X.shape"
   ]
  },
  {
   "cell_type": "code",
   "execution_count": 38,
   "metadata": {},
   "outputs": [],
   "source": [
    "y_pred = clf_log.predict(X_test)"
   ]
  },
  {
   "cell_type": "code",
   "execution_count": 39,
   "metadata": {},
   "outputs": [
    {
     "name": "stdout",
     "output_type": "stream",
     "text": [
      "Accuracy on training set: 0.8711096301232922\n",
      "Accuracy on testing set:  0.7321206467661692\n"
     ]
    }
   ],
   "source": [
    "print ('Accuracy on training set: {}'.format(clf_log.score(X_train, y_train)))\n",
    "print ('Accuracy on testing set:  {}'.format(clf_log.score(X_test, y_test)))"
   ]
  },
  {
   "cell_type": "code",
   "execution_count": 40,
   "metadata": {},
   "outputs": [
    {
     "name": "stdout",
     "output_type": "stream",
     "text": [
      "Model Performance metrics:\n",
      "------------------------------\n",
      "Accuracy: 0.7321\n",
      "Precision: 0.7355\n",
      "Recall: 0.7321\n",
      "F1 Score: 0.7334\n",
      "\n",
      "Model Classification report:\n",
      "------------------------------\n",
      "             precision    recall  f1-score   support\n",
      "\n",
      "          1       0.77      0.80      0.78      1806\n",
      "          2       0.47      0.42      0.44       473\n",
      "          3       0.43      0.46      0.45       506\n",
      "          4       0.41      0.44      0.42       516\n",
      "          5       0.86      0.83      0.84      3131\n",
      "\n",
      "avg / total       0.74      0.73      0.73      6432\n",
      "\n",
      "\n",
      "Prediction Confusion Matrix:\n",
      "------------------------------\n",
      "          Predicted:                     \n",
      "                   1    2    3    4     5\n",
      "Actual: 1       1449  115   82   50   110\n",
      "        2        116  201   68   36    52\n",
      "        3         95   33  235   65    78\n",
      "        4         41   18   49  225   183\n",
      "        5        185   65  112  170  2599\n"
     ]
    }
   ],
   "source": [
    "display_model_performance_metrics(true_labels= y_test, predicted_labels= y_pred, \n",
    "                                      classes=[1,2,3,4,5])"
   ]
  },
  {
   "cell_type": "markdown",
   "metadata": {},
   "source": [
    "Model training: Naive bayes, logistic regression, SVM, decision tree, random forest, gradient boosting"
   ]
  },
  {
   "cell_type": "code",
   "execution_count": 41,
   "metadata": {},
   "outputs": [],
   "source": [
    "#SVM\n",
    "import numpy as np\n",
    "from sklearn.svm import LinearSVC\n",
    "import matplotlib.pyplot as plt\n",
    "\n",
    "clf_svc = LinearSVC(C=1)\n",
    "clf_svc_model = clf_svc.fit(X_train, y_train)\n",
    "\n",
    "y_c = clf_svc_model.predict(X_test)"
   ]
  },
  {
   "cell_type": "code",
   "execution_count": 42,
   "metadata": {},
   "outputs": [
    {
     "name": "stdout",
     "output_type": "stream",
     "text": [
      "Accuracy on training set: 0.953615461512829\n",
      "Accuracy on testing set:  0.7655472636815921\n"
     ]
    }
   ],
   "source": [
    "print ('Accuracy on training set: {}'.format(clf_svc_model.score(X_train, y_train)))\n",
    "print ('Accuracy on testing set:  {}'.format(clf_svc_model.score(X_test, y_test)))"
   ]
  },
  {
   "cell_type": "code",
   "execution_count": 43,
   "metadata": {},
   "outputs": [
    {
     "name": "stdout",
     "output_type": "stream",
     "text": [
      "Model Performance metrics:\n",
      "------------------------------\n",
      "Accuracy: 0.7655\n",
      "Precision: 0.7494\n",
      "Recall: 0.7655\n",
      "F1 Score: 0.7506\n",
      "\n",
      "Model Classification report:\n",
      "------------------------------\n",
      "             precision    recall  f1-score   support\n",
      "\n",
      "          1       0.77      0.83      0.80      1806\n",
      "          2       0.63      0.39      0.48       473\n",
      "          3       0.60      0.41      0.48       506\n",
      "          4       0.57      0.37      0.45       516\n",
      "          5       0.81      0.91      0.86      3131\n",
      "\n",
      "avg / total       0.75      0.77      0.75      6432\n",
      "\n",
      "\n",
      "Prediction Confusion Matrix:\n",
      "------------------------------\n",
      "          Predicted:                     \n",
      "                   1    2    3    4     5\n",
      "Actual: 1       1502   47   39   21   197\n",
      "        2        144  185   39   19    86\n",
      "        3        115   20  205   32   134\n",
      "        4         41   19   22  191   243\n",
      "        5        158   21   38   73  2841\n"
     ]
    }
   ],
   "source": [
    "display_model_performance_metrics(true_labels= y_test, predicted_labels= y_c, \n",
    "                                      classes=[1,2,3,4,5])"
   ]
  },
  {
   "cell_type": "code",
   "execution_count": 44,
   "metadata": {},
   "outputs": [
    {
     "data": {
      "text/plain": [
       "DecisionTreeClassifier(class_weight=None, criterion='gini', max_depth=5,\n",
       "            max_features=None, max_leaf_nodes=None,\n",
       "            min_impurity_decrease=0.0, min_impurity_split=None,\n",
       "            min_samples_leaf=1, min_samples_split=2,\n",
       "            min_weight_fraction_leaf=0.0, presort=False, random_state=None,\n",
       "            splitter='best')"
      ]
     },
     "execution_count": 44,
     "metadata": {},
     "output_type": "execute_result"
    }
   ],
   "source": [
    "#decision tree\n",
    "import numpy as np\n",
    "from sklearn.tree import DecisionTreeClassifier\n",
    "import matplotlib.pyplot as plt\n",
    "\n",
    "# Fit regression model\n",
    "clf_1 = DecisionTreeClassifier(max_depth=68)\n",
    "clf_2 = DecisionTreeClassifier(max_depth=5)\n",
    "clf_1.fit(X_train, y_train)\n",
    "clf_2.fit(X_train, y_train)"
   ]
  },
  {
   "cell_type": "code",
   "execution_count": 45,
   "metadata": {},
   "outputs": [
    {
     "name": "stdout",
     "output_type": "stream",
     "text": [
      "Accuracy on training set: 0.949950016661113\n",
      "Accuracy on testing set:  0.6775497512437811\n"
     ]
    }
   ],
   "source": [
    "print ('Accuracy on training set: {}'.format(clf_1.score(X_train, y_train)))\n",
    "print ('Accuracy on testing set:  {}'.format(clf_1.score(X_test, y_test)))"
   ]
  },
  {
   "cell_type": "code",
   "execution_count": 46,
   "metadata": {},
   "outputs": [
    {
     "name": "stdout",
     "output_type": "stream",
     "text": [
      "Accuracy on training set: 0.5542819060313229\n",
      "Accuracy on testing set:  0.5466417910447762\n"
     ]
    }
   ],
   "source": [
    "print ('Accuracy on training set: {}'.format(clf_2.score(X_train, y_train)))\n",
    "print ('Accuracy on testing set:  {}'.format(clf_2.score(X_test, y_test)))"
   ]
  },
  {
   "cell_type": "code",
   "execution_count": 47,
   "metadata": {},
   "outputs": [],
   "source": [
    "y_1 = clf_1.predict(X_test)\n",
    "y_2 = clf_2.predict(X_test)"
   ]
  },
  {
   "cell_type": "code",
   "execution_count": 48,
   "metadata": {},
   "outputs": [
    {
     "name": "stdout",
     "output_type": "stream",
     "text": [
      "Model Performance metrics:\n",
      "------------------------------\n",
      "Accuracy: 0.6775\n",
      "Precision: 0.6693\n",
      "Recall: 0.6775\n",
      "F1 Score: 0.6708\n",
      "\n",
      "Model Classification report:\n",
      "------------------------------\n",
      "             precision    recall  f1-score   support\n",
      "\n",
      "          1       0.64      0.74      0.69      1806\n",
      "          2       0.44      0.36      0.39       473\n",
      "          3       0.47      0.40      0.43       506\n",
      "          4       0.53      0.38      0.44       516\n",
      "          5       0.77      0.78      0.78      3131\n",
      "\n",
      "avg / total       0.67      0.68      0.67      6432\n",
      "\n",
      "\n",
      "Prediction Confusion Matrix:\n",
      "------------------------------\n",
      "          Predicted:                     \n",
      "                   1    2    3    4     5\n",
      "Actual: 1       1344   63   64   33   302\n",
      "        2        150  168   24   22   109\n",
      "        3        142   26  200   17   121\n",
      "        4         89   27   22  196   182\n",
      "        5        364   99  116  102  2450\n"
     ]
    }
   ],
   "source": [
    "display_model_performance_metrics(true_labels= y_test, predicted_labels= y_1, \n",
    "                                      classes=[1,2,3,4,5])\n"
   ]
  },
  {
   "cell_type": "code",
   "execution_count": 49,
   "metadata": {},
   "outputs": [
    {
     "name": "stdout",
     "output_type": "stream",
     "text": [
      "Model Performance metrics:\n",
      "------------------------------\n",
      "Accuracy: 0.5466\n",
      "Precision: 0.5401\n",
      "Recall: 0.5466\n",
      "F1 Score: 0.4643\n",
      "\n",
      "Model Classification report:\n",
      "------------------------------\n",
      "             precision    recall  f1-score   support\n",
      "\n",
      "          1       0.50      0.41      0.45      1806\n",
      "          2       0.60      0.01      0.02       473\n",
      "          3       0.50      0.00      0.01       506\n",
      "          4       0.54      0.01      0.03       516\n",
      "          5       0.56      0.88      0.69      3131\n",
      "\n",
      "avg / total       0.54      0.55      0.46      6432\n",
      "\n",
      "\n",
      "Prediction Confusion Matrix:\n",
      "------------------------------\n",
      "          Predicted:               \n",
      "                   1  2  3  4     5\n",
      "Actual: 1        733  2  0  2  1069\n",
      "        2        156  6  0  1   310\n",
      "        3        132  0  2  1   371\n",
      "        4         79  1  1  7   428\n",
      "        5        359  1  1  2  2768\n"
     ]
    }
   ],
   "source": [
    "display_model_performance_metrics(true_labels= y_test, predicted_labels= y_2, \n",
    "                                      classes=[1,2,3,4,5])"
   ]
  },
  {
   "cell_type": "code",
   "execution_count": 50,
   "metadata": {},
   "outputs": [],
   "source": [
    "# Random Forests\n",
    "from sklearn.ensemble import RandomForestClassifier\n",
    "from sklearn.datasets import make_regression\n",
    "import numpy as np\n",
    "\n",
    "clf_rf = RandomForestClassifier(random_state=1)\n",
    "clf_rf.fit(X_train, y_train)\n",
    "\n",
    "feature_names = tv.get_feature_names()\n",
    "\n",
    "clf_rf_feature_importances = clf_rf.feature_importances_\n",
    "clf_rf_feature_names, clf_rf_feature_scores = zip(*sorted(zip(feature_names, clf_rf_feature_importances), \n",
    "                                                          key=lambda x: -x[1]))\n"
   ]
  },
  {
   "cell_type": "code",
   "execution_count": 51,
   "metadata": {},
   "outputs": [
    {
     "data": {
      "image/png": "[encoded data removed]",
      "text/plain": [
       "<Figure size 432x288 with 1 Axes>"
      ]
     },
     "metadata": {},
     "output_type": "display_data"
    }
   ],
   "source": [
    "import matplotlib.pyplot as plt\n",
    "#y_position = list(range(len(clf_rf_feature_names)))\n",
    "plt.barh(clf_rf_feature_names[:20], clf_rf_feature_scores[:20])\n",
    "#plt.yticks(clf_rf_feature_names, y_position)\n",
    "plt.xlabel('Relative Importance Score in 100%')\n",
    "plt.ylabel('Target Variable')\n",
    "t = plt.title('Feature Importances for Random Forest')"
   ]
  },
  {
   "cell_type": "code",
   "execution_count": 52,
   "metadata": {},
   "outputs": [],
   "source": [
    "y_pred = clf_rf.predict(X_test)"
   ]
  },
  {
   "cell_type": "code",
   "execution_count": 53,
   "metadata": {},
   "outputs": [
    {
     "name": "stdout",
     "output_type": "stream",
     "text": [
      "Accuracy on training set: 0.9905364878373876\n",
      "Accuracy on testing set:  0.744247512437811\n"
     ]
    }
   ],
   "source": [
    "print ('Accuracy on training set: {}'.format(clf_rf.score(X_train, y_train)))\n",
    "print ('Accuracy on testing set:  {}'.format(clf_rf.score(X_test, y_test)))"
   ]
  },
  {
   "cell_type": "code",
   "execution_count": 54,
   "metadata": {},
   "outputs": [
    {
     "name": "stdout",
     "output_type": "stream",
     "text": [
      "Model Performance metrics:\n",
      "------------------------------\n",
      "Accuracy: 0.7442\n",
      "Precision: 0.7724\n",
      "Recall: 0.7442\n",
      "F1 Score: 0.7224\n",
      "\n",
      "Model Classification report:\n",
      "------------------------------\n",
      "             precision    recall  f1-score   support\n",
      "\n",
      "          1       0.70      0.79      0.74      1806\n",
      "          2       0.91      0.34      0.49       473\n",
      "          3       0.94      0.36      0.52       506\n",
      "          4       0.93      0.34      0.49       516\n",
      "          5       0.74      0.91      0.82      3131\n",
      "\n",
      "avg / total       0.77      0.74      0.72      6432\n",
      "\n",
      "\n",
      "Prediction Confusion Matrix:\n",
      "------------------------------\n",
      "          Predicted:                     \n",
      "                   1    2    3    4     5\n",
      "Actual: 1       1420    3    1    3   379\n",
      "        2        150  159    0    3   161\n",
      "        3        133    5  181    1   186\n",
      "        4         66    3    5  173   269\n",
      "        5        259    5    6    7  2854\n"
     ]
    }
   ],
   "source": [
    "display_model_performance_metrics(true_labels= y_test, predicted_labels= y_pred, \n",
    "                                      classes=[1,2,3,4,5])"
   ]
  },
  {
   "cell_type": "code",
   "execution_count": 55,
   "metadata": {},
   "outputs": [],
   "source": [
    "# feature importance, sklearn.linear_model.SGDClassifier after PCA only for svc\n",
    "#http://scikit-learn.org/stable/modules/generated/sklearn.linear_model.SGDClassifier.html"
   ]
  },
  {
   "cell_type": "code",
   "execution_count": 56,
   "metadata": {},
   "outputs": [],
   "source": [
    "# Gradient Boosting\n",
    "import numpy as np\n",
    "import matplotlib.pyplot as plt\n",
    "\n",
    "from sklearn import ensemble\n",
    "from sklearn import datasets\n",
    "from sklearn.utils import shuffle\n",
    "from sklearn.metrics import mean_squared_error\n",
    "from sklearn.ensemble import GradientBoostingClassifier\n",
    "\n",
    "params = {'n_estimators':100, 'max_depth': None, 'min_samples_split': 2,\n",
    "          'learning_rate': 0.01, 'loss': 'ls'}\n",
    "\n",
    "params = {'n_estimators':100}\n",
    "\n",
    "clf_gb = ensemble.GradientBoostingClassifier(**params)\n",
    "\n",
    "clf_gb.fit(X_train, y_train)\n",
    "\n",
    "feature_names = tv.get_feature_names()\n",
    "\n",
    "clf_gb_feature_importances = clf_gb.feature_importances_\n",
    "clf_gb_feature_names, clf_gb_feature_scores = zip(*sorted(zip(feature_names, clf_gb_feature_importances), \n",
    "                                                          key=lambda x: - x[1]))\n"
   ]
  },
  {
   "cell_type": "code",
   "execution_count": 57,
   "metadata": {},
   "outputs": [
    {
     "data": {
      "image/png": "[encoded data removed]",
      "text/plain": [
       "<Figure size 432x288 with 1 Axes>"
      ]
     },
     "metadata": {},
     "output_type": "display_data"
    }
   ],
   "source": [
    "#y_position = list(range(len(clf_rf_feature_names)))\n",
    "plt.barh(clf_gb_feature_names[:20], clf_gb_feature_scores[:20])\n",
    "#plt.yticks(clf_rf_feature_names, y_position)\n",
    "plt.xlabel('Relative Importance Score in 100%')\n",
    "plt.ylabel('Target Variable')\n",
    "t = plt.title('Feature Importances for Gradient Boosting')"
   ]
  },
  {
   "cell_type": "code",
   "execution_count": 58,
   "metadata": {},
   "outputs": [],
   "source": [
    "y_pred = clf_gb.predict(X_test)"
   ]
  },
  {
   "cell_type": "code",
   "execution_count": 59,
   "metadata": {},
   "outputs": [
    {
     "name": "stdout",
     "output_type": "stream",
     "text": [
      "Accuracy on training set: 0.7344218593802065\n",
      "Accuracy on testing set:  0.6909203980099502\n"
     ]
    }
   ],
   "source": [
    "print ('Accuracy on training set: {}'.format(clf_gb.score(X_train, y_train)))\n",
    "print ('Accuracy on testing set:  {}'.format(clf_gb.score(X_test, y_test)))"
   ]
  },
  {
   "cell_type": "code",
   "execution_count": 60,
   "metadata": {},
   "outputs": [
    {
     "name": "stdout",
     "output_type": "stream",
     "text": [
      "Model Performance metrics:\n",
      "------------------------------\n",
      "Accuracy: 0.6909\n",
      "Precision: 0.7152\n",
      "Recall: 0.6909\n",
      "F1 Score: 0.6413\n",
      "\n",
      "Model Classification report:\n",
      "------------------------------\n",
      "             precision    recall  f1-score   support\n",
      "\n",
      "          1       0.70      0.71      0.71      1806\n",
      "          2       0.82      0.18      0.29       473\n",
      "          3       0.85      0.14      0.24       506\n",
      "          4       0.75      0.15      0.25       516\n",
      "          5       0.68      0.94      0.79      3131\n",
      "\n",
      "avg / total       0.72      0.69      0.64      6432\n",
      "\n",
      "\n",
      "Prediction Confusion Matrix:\n",
      "------------------------------\n",
      "          Predicted:                  \n",
      "                   1   2   3   4     5\n",
      "Actual: 1       1276   7   2   5   516\n",
      "        2        159  83   5   2   224\n",
      "        3        144   4  72   7   279\n",
      "        4         55   3   3  76   379\n",
      "        5        176   4   3  11  2937\n"
     ]
    }
   ],
   "source": [
    "display_model_performance_metrics(true_labels= y_test, predicted_labels= y_pred, \n",
    "                                      classes=[1,2,3,4,5])"
   ]
  },
  {
   "cell_type": "code",
   "execution_count": 61,
   "metadata": {},
   "outputs": [],
   "source": [
    "# SGDC classifier\n",
    "from sklearn import linear_model\n",
    "\n",
    "clf_sgdc = linear_model.SGDClassifier()\n",
    "clf_sgdc.fit(X_train, y_train)\n",
    "y_pred = clf_sgdc.predict(X_test)\n"
   ]
  },
  {
   "cell_type": "code",
   "execution_count": 62,
   "metadata": {},
   "outputs": [
    {
     "name": "stdout",
     "output_type": "stream",
     "text": [
      "Accuracy on training set: 0.8393868710429857\n",
      "Accuracy on testing set:  0.7507773631840796\n"
     ]
    }
   ],
   "source": [
    "print ('Accuracy on training set: {}'.format(clf_sgdc.score(X_train, y_train)))\n",
    "print ('Accuracy on testing set:  {}'.format(clf_sgdc.score(X_test, y_test)))"
   ]
  },
  {
   "cell_type": "code",
   "execution_count": 63,
   "metadata": {},
   "outputs": [
    {
     "name": "stdout",
     "output_type": "stream",
     "text": [
      "Model Performance metrics:\n",
      "------------------------------\n",
      "Accuracy: 0.7508\n",
      "Precision: 0.7461\n",
      "Recall: 0.7508\n",
      "F1 Score: 0.7152\n",
      "\n",
      "Model Classification report:\n",
      "------------------------------\n",
      "             precision    recall  f1-score   support\n",
      "\n",
      "          1       0.74      0.85      0.79      1806\n",
      "          2       0.79      0.25      0.38       473\n",
      "          3       0.72      0.26      0.39       506\n",
      "          4       0.66      0.22      0.33       516\n",
      "          5       0.76      0.94      0.84      3131\n",
      "\n",
      "avg / total       0.75      0.75      0.72      6432\n",
      "\n",
      "\n",
      "Prediction Confusion Matrix:\n",
      "------------------------------\n",
      "          Predicted:                     \n",
      "                   1    2    3    4     5\n",
      "Actual: 1       1533    6   10   10   247\n",
      "        2        190  119   19    9   136\n",
      "        3        150   10  133   13   200\n",
      "        4         56   10    8  112   330\n",
      "        5        155    5   14   25  2932\n"
     ]
    }
   ],
   "source": [
    "display_model_performance_metrics(true_labels= y_test, predicted_labels= y_pred, \n",
    "                                      classes=[1,2,3,4,5])"
   ]
  },
  {
   "cell_type": "code",
   "execution_count": 64,
   "metadata": {},
   "outputs": [],
   "source": [
    "# hyperparameter tuning linear svc, random forests, and SGDClassifier"
   ]
  },
  {
   "cell_type": "code",
   "execution_count": 65,
   "metadata": {},
   "outputs": [],
   "source": [
    "# LinearSVC\n",
    "from sklearn.model_selection import GridSearchCV\n",
    "\n",
    "svc_params_grid = {\"C\": [0.001, 0.01, 0.1, 1, 10, 100, 1000],\n",
    "                  \"class_weight\":['balanced']}\n",
    "\n",
    "grid_cv_svc = GridSearchCV(clf_svc, svc_params_grid, n_jobs=4, cv=5, return_train_score=True)"
   ]
  },
  {
   "cell_type": "code",
   "execution_count": 66,
   "metadata": {},
   "outputs": [
    {
     "data": {
      "text/plain": [
       "LinearSVC(C=1, class_weight=None, dual=True, fit_intercept=True,\n",
       "     intercept_scaling=1, loss='squared_hinge', max_iter=1000,\n",
       "     multi_class='ovr', penalty='l2', random_state=None, tol=0.0001,\n",
       "     verbose=0)"
      ]
     },
     "execution_count": 66,
     "metadata": {},
     "output_type": "execute_result"
    }
   ],
   "source": [
    "clf_svc"
   ]
  },
  {
   "cell_type": "code",
   "execution_count": 67,
   "metadata": {},
   "outputs": [
    {
     "data": {
      "text/plain": [
       "GridSearchCV(cv=5, error_score='raise',\n",
       "       estimator=LinearSVC(C=1, class_weight=None, dual=True, fit_intercept=True,\n",
       "     intercept_scaling=1, loss='squared_hinge', max_iter=1000,\n",
       "     multi_class='ovr', penalty='l2', random_state=None, tol=0.0001,\n",
       "     verbose=0),\n",
       "       fit_params=None, iid=True, n_jobs=4,\n",
       "       param_grid={'C': [0.001, 0.01, 0.1, 1, 10, 100, 1000], 'class_weight': ['balanced']},\n",
       "       pre_dispatch='2*n_jobs', refit=True, return_train_score=True,\n",
       "       scoring=None, verbose=0)"
      ]
     },
     "execution_count": 67,
     "metadata": {},
     "output_type": "execute_result"
    }
   ],
   "source": [
    "grid_cv_svc.fit(X_train, y_train)"
   ]
  },
  {
   "cell_type": "code",
   "execution_count": 68,
   "metadata": {},
   "outputs": [
    {
     "name": "stdout",
     "output_type": "stream",
     "text": [
      "R-Squared::0.7357547484171942\n",
      "Best Hyperparameters::\n",
      "{'C': 1, 'class_weight': 'balanced'}\n"
     ]
    }
   ],
   "source": [
    "print(\"R-Squared::{}\".format(grid_cv_svc.best_score_))\n",
    "print(\"Best Hyperparameters::\\n{}\".format(grid_cv_svc.best_params_))"
   ]
  },
  {
   "cell_type": "code",
   "execution_count": 69,
   "metadata": {},
   "outputs": [
    {
     "name": "stdout",
     "output_type": "stream",
     "text": [
      "Accuracy on training set: 0.9668777074308563\n",
      "Accuracy on testing set:  0.7380286069651741\n"
     ]
    }
   ],
   "source": [
    "print ('Accuracy on training set: {}'.format(grid_cv_svc.score(X_train, y_train)))\n",
    "print ('Accuracy on testing set:  {}'.format(grid_cv_svc.score(X_test, y_test)))"
   ]
  },
  {
   "cell_type": "code",
   "execution_count": 70,
   "metadata": {},
   "outputs": [
    {
     "name": "stdout",
     "output_type": "stream",
     "text": [
      "Model Performance metrics:\n",
      "------------------------------\n",
      "Accuracy: 0.738\n",
      "Precision: 0.7375\n",
      "Recall: 0.738\n",
      "F1 Score: 0.7377\n",
      "\n",
      "Model Classification report:\n",
      "------------------------------\n",
      "             precision    recall  f1-score   support\n",
      "\n",
      "          1       0.78      0.79      0.79      1806\n",
      "          2       0.46      0.42      0.44       473\n",
      "          3       0.47      0.48      0.47       506\n",
      "          4       0.42      0.43      0.43       516\n",
      "          5       0.85      0.85      0.85      3131\n",
      "\n",
      "avg / total       0.74      0.74      0.74      6432\n",
      "\n",
      "\n",
      "Prediction Confusion Matrix:\n",
      "------------------------------\n",
      "          Predicted:                     \n",
      "                   1    2    3    4     5\n",
      "Actual: 1       1425  112   80   54   135\n",
      "        2        117  200   58   34    64\n",
      "        3         86   37  243   57    83\n",
      "        4         36   22   45  223   190\n",
      "        5        157   63   94  161  2656\n"
     ]
    }
   ],
   "source": [
    "y_pred = grid_cv_svc.predict(X_test)\n",
    "\n",
    "display_model_performance_metrics(true_labels= y_test, predicted_labels= y_pred, \n",
    "                                      classes=[1,2,3,4,5])"
   ]
  },
  {
   "cell_type": "code",
   "execution_count": 71,
   "metadata": {},
   "outputs": [],
   "source": [
    "# SGDClassifier\n",
    "\n",
    "sgdc_params_grid = {\"penalty\": ['l1','l2','elasticnet'],\n",
    "                    \"class_weight\":['balanced']\n",
    "                   #\"l1_ratio\": [0.2, 0.5, 0.7]\n",
    "                   }\n",
    "\n",
    "grid_cv_sgdc = GridSearchCV(clf_sgdc, sgdc_params_grid, n_jobs=4, cv=5, return_train_score=True)"
   ]
  },
  {
   "cell_type": "code",
   "execution_count": 72,
   "metadata": {},
   "outputs": [
    {
     "data": {
      "text/plain": [
       "GridSearchCV(cv=5, error_score='raise',\n",
       "       estimator=SGDClassifier(alpha=0.0001, average=False, class_weight=None, epsilon=0.1,\n",
       "       eta0=0.0, fit_intercept=True, l1_ratio=0.15,\n",
       "       learning_rate='optimal', loss='hinge', max_iter=None, n_iter=None,\n",
       "       n_jobs=1, penalty='l2', power_t=0.5, random_state=None,\n",
       "       shuffle=True, tol=None, verbose=0, warm_start=False),\n",
       "       fit_params=None, iid=True, n_jobs=4,\n",
       "       param_grid={'penalty': ['l1', 'l2', 'elasticnet'], 'class_weight': ['balanced']},\n",
       "       pre_dispatch='2*n_jobs', refit=True, return_train_score=True,\n",
       "       scoring=None, verbose=0)"
      ]
     },
     "execution_count": 72,
     "metadata": {},
     "output_type": "execute_result"
    }
   ],
   "source": [
    "grid_cv_sgdc.fit(X_train, y_train)"
   ]
  },
  {
   "cell_type": "code",
   "execution_count": null,
   "metadata": {},
   "outputs": [],
   "source": []
  },
  {
   "cell_type": "code",
   "execution_count": 73,
   "metadata": {},
   "outputs": [
    {
     "name": "stdout",
     "output_type": "stream",
     "text": [
      "R-Squared::0.7288903698767077\n",
      "Best Hyperparameters::\n",
      "{'class_weight': 'balanced', 'penalty': 'l2'}\n"
     ]
    }
   ],
   "source": [
    "print(\"R-Squared::{}\".format(grid_cv_sgdc.best_score_))\n",
    "print(\"Best Hyperparameters::\\n{}\".format(grid_cv_sgdc.best_params_))"
   ]
  },
  {
   "cell_type": "code",
   "execution_count": 74,
   "metadata": {},
   "outputs": [
    {
     "name": "stdout",
     "output_type": "stream",
     "text": [
      "Accuracy on training set: 0.891569476841053\n",
      "Accuracy on testing set:  0.7380286069651741\n"
     ]
    }
   ],
   "source": [
    "print ('Accuracy on training set: {}'.format(grid_cv_sgdc.score(X_train, y_train)))\n",
    "print ('Accuracy on testing set:  {}'.format(grid_cv_sgdc.score(X_test, y_test)))"
   ]
  },
  {
   "cell_type": "code",
   "execution_count": 75,
   "metadata": {},
   "outputs": [
    {
     "name": "stdout",
     "output_type": "stream",
     "text": [
      "Model Performance metrics:\n",
      "------------------------------\n",
      "Accuracy: 0.738\n",
      "Precision: 0.7339\n",
      "Recall: 0.738\n",
      "F1 Score: 0.7353\n",
      "\n",
      "Model Classification report:\n",
      "------------------------------\n",
      "             precision    recall  f1-score   support\n",
      "\n",
      "          1       0.77      0.80      0.78      1806\n",
      "          2       0.45      0.40      0.42       473\n",
      "          3       0.44      0.49      0.46       506\n",
      "          4       0.46      0.38      0.42       516\n",
      "          5       0.85      0.85      0.85      3131\n",
      "\n",
      "avg / total       0.73      0.74      0.74      6432\n",
      "\n",
      "\n",
      "Prediction Confusion Matrix:\n",
      "------------------------------\n",
      "          Predicted:                     \n",
      "                   1    2    3    4     5\n",
      "Actual: 1       1439  110   93   37   127\n",
      "        2        130  188   68   30    57\n",
      "        3         92   35  249   45    85\n",
      "        4         41   21   52  195   207\n",
      "        5        168   64  108  115  2676\n"
     ]
    }
   ],
   "source": [
    "y_pred = grid_cv_sgdc.predict(X_test)\n",
    "\n",
    "display_model_performance_metrics(true_labels= y_test, predicted_labels= y_pred, \n",
    "                                      classes=[1,2,3,4,5])"
   ]
  },
  {
   "cell_type": "code",
   "execution_count": 76,
   "metadata": {},
   "outputs": [],
   "source": [
    "#random forests\n",
    "\n",
    "rf_param_grid = {'n_estimators': [200],\n",
    "                 \"class_weight\":['balanced']\n",
    "              #\"criterion\": [\"mse\"],\n",
    "              #\"min_samples_split\": [2, 3],\n",
    "              #\"max_features\": ['auto','log2', None]\n",
    "              #\"max_depth\": [3, 4],\n",
    "              #\"min_samples_leaf\": [10, 20, 30],\n",
    "              #\"max_leaf_nodes\": [20,40,60]\n",
    "             }\n",
    "\n",
    "grid_cv_rf = GridSearchCV(clf_rf, rf_param_grid, n_jobs=1, cv=5, return_train_score=True)"
   ]
  },
  {
   "cell_type": "code",
   "execution_count": 77,
   "metadata": {},
   "outputs": [
    {
     "data": {
      "text/plain": [
       "GridSearchCV(cv=5, error_score='raise',\n",
       "       estimator=RandomForestClassifier(bootstrap=True, class_weight=None, criterion='gini',\n",
       "            max_depth=None, max_features='auto', max_leaf_nodes=None,\n",
       "            min_impurity_decrease=0.0, min_impurity_split=None,\n",
       "            min_samples_leaf=1, min_samples_split=2,\n",
       "            min_weight_fraction_leaf=0.0, n_estimators=10, n_jobs=1,\n",
       "            oob_score=False, random_state=1, verbose=0, warm_start=False),\n",
       "       fit_params=None, iid=True, n_jobs=1,\n",
       "       param_grid={'n_estimators': [200], 'class_weight': ['balanced']},\n",
       "       pre_dispatch='2*n_jobs', refit=True, return_train_score=True,\n",
       "       scoring=None, verbose=0)"
      ]
     },
     "execution_count": 77,
     "metadata": {},
     "output_type": "execute_result"
    }
   ],
   "source": [
    "grid_cv_rf.fit(X_train, y_train)"
   ]
  },
  {
   "cell_type": "code",
   "execution_count": 78,
   "metadata": {},
   "outputs": [
    {
     "name": "stdout",
     "output_type": "stream",
     "text": [
      "R-Squared::0.7472175941352882\n",
      "Best Hyperparameters::\n",
      "{'class_weight': 'balanced', 'n_estimators': 200}\n"
     ]
    }
   ],
   "source": [
    "print(\"R-Squared::{}\".format(grid_cv_rf.best_score_))\n",
    "print(\"Best Hyperparameters::\\n{}\".format(grid_cv_rf.best_params_))"
   ]
  },
  {
   "cell_type": "code",
   "execution_count": 79,
   "metadata": {},
   "outputs": [
    {
     "name": "stdout",
     "output_type": "stream",
     "text": [
      "Accuracy on training set: 1.0\n",
      "Accuracy on testing set:  0.7618159203980099\n"
     ]
    }
   ],
   "source": [
    "print ('Accuracy on training set: {}'.format(grid_cv_rf.score(X_train, y_train)))\n",
    "print ('Accuracy on testing set:  {}'.format(grid_cv_rf.score(X_test, y_test)))"
   ]
  },
  {
   "cell_type": "code",
   "execution_count": 80,
   "metadata": {},
   "outputs": [
    {
     "name": "stdout",
     "output_type": "stream",
     "text": [
      "Model Performance metrics:\n",
      "------------------------------\n",
      "Accuracy: 0.7618\n",
      "Precision: 0.8018\n",
      "Recall: 0.7618\n",
      "F1 Score: 0.7376\n",
      "\n",
      "Model Classification report:\n",
      "------------------------------\n",
      "             precision    recall  f1-score   support\n",
      "\n",
      "          1       0.76      0.79      0.78      1806\n",
      "          2       1.00      0.33      0.50       473\n",
      "          3       0.99      0.36      0.53       506\n",
      "          4       0.99      0.33      0.49       516\n",
      "          5       0.73      0.95      0.82      3131\n",
      "\n",
      "avg / total       0.80      0.76      0.74      6432\n",
      "\n",
      "\n",
      "Prediction Confusion Matrix:\n",
      "------------------------------\n",
      "          Predicted:                     \n",
      "                   1    2    3    4     5\n",
      "Actual: 1       1431    0    0    0   375\n",
      "        2        132  158    0    0   183\n",
      "        3         99    0  181    0   226\n",
      "        4         42    0    1  168   305\n",
      "        5        167    0    1    1  2962\n"
     ]
    }
   ],
   "source": [
    "y_pred = grid_cv_rf.predict(X_test)\n",
    "\n",
    "display_model_performance_metrics(true_labels= y_test, predicted_labels= y_pred, \n",
    "                                      classes=[1,2,3,4,5])"
   ]
  }
 ],
 "metadata": {
  "kernelspec": {
   "display_name": "Python 3",
   "language": "python",
   "name": "python3"
  },
  "language_info": {
   "codemirror_mode": {
    "name": "ipython",
    "version": 3
   },
   "file_extension": ".py",
   "mimetype": "text/x-python",
   "name": "python",
   "nbconvert_exporter": "python",
   "pygments_lexer": "ipython3",
   "version": "3.6.5"
  }
 },
 "nbformat": 4,
 "nbformat_minor": 2
}
