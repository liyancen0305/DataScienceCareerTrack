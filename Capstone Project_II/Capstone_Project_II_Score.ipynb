{
 "cells": [
  {
   "cell_type": "code",
   "execution_count": 1,
   "metadata": {
    "scrolled": false
   },
   "outputs": [
    {
     "data": {
      "text/html": [
       "<div>\n",
       "<style scoped>\n",
       "    .dataframe tbody tr th:only-of-type {\n",
       "        vertical-align: middle;\n",
       "    }\n",
       "\n",
       "    .dataframe tbody tr th {\n",
       "        vertical-align: top;\n",
       "    }\n",
       "\n",
       "    .dataframe thead th {\n",
       "        text-align: right;\n",
       "    }\n",
       "</style>\n",
       "<table border=\"1\" class=\"dataframe\">\n",
       "  <thead>\n",
       "    <tr style=\"text-align: right;\">\n",
       "      <th></th>\n",
       "      <th>Id</th>\n",
       "      <th>ProductId</th>\n",
       "      <th>UserId</th>\n",
       "      <th>ProfileName</th>\n",
       "      <th>HelpfulnessNumerator</th>\n",
       "      <th>HelpfulnessDenominator</th>\n",
       "      <th>Score</th>\n",
       "      <th>Time</th>\n",
       "      <th>Summary</th>\n",
       "      <th>Text</th>\n",
       "    </tr>\n",
       "  </thead>\n",
       "  <tbody>\n",
       "    <tr>\n",
       "      <th>0</th>\n",
       "      <td>1</td>\n",
       "      <td>B001E4KFG0</td>\n",
       "      <td>A3SGXH7AUHU8GW</td>\n",
       "      <td>delmartian</td>\n",
       "      <td>1</td>\n",
       "      <td>1</td>\n",
       "      <td>5</td>\n",
       "      <td>1303862400</td>\n",
       "      <td>Good Quality Dog Food</td>\n",
       "      <td>I have bought several of the Vitality canned d...</td>\n",
       "    </tr>\n",
       "    <tr>\n",
       "      <th>1</th>\n",
       "      <td>2</td>\n",
       "      <td>B00813GRG4</td>\n",
       "      <td>A1D87F6ZCVE5NK</td>\n",
       "      <td>dll pa</td>\n",
       "      <td>0</td>\n",
       "      <td>0</td>\n",
       "      <td>1</td>\n",
       "      <td>1346976000</td>\n",
       "      <td>Not as Advertised</td>\n",
       "      <td>Product arrived labeled as Jumbo Salted Peanut...</td>\n",
       "    </tr>\n",
       "  </tbody>\n",
       "</table>\n",
       "</div>"
      ],
      "text/plain": [
       "   Id   ProductId          UserId ProfileName  HelpfulnessNumerator  \\\n",
       "0   1  B001E4KFG0  A3SGXH7AUHU8GW  delmartian                     1   \n",
       "1   2  B00813GRG4  A1D87F6ZCVE5NK      dll pa                     0   \n",
       "\n",
       "   HelpfulnessDenominator  Score        Time                Summary  \\\n",
       "0                       1      5  1303862400  Good Quality Dog Food   \n",
       "1                       0      1  1346976000      Not as Advertised   \n",
       "\n",
       "                                                Text  \n",
       "0  I have bought several of the Vitality canned d...  \n",
       "1  Product arrived labeled as Jumbo Salted Peanut...  "
      ]
     },
     "execution_count": 1,
     "metadata": {},
     "output_type": "execute_result"
    }
   ],
   "source": [
    "import pandas as pd\n",
    "import re \n",
    "import warnings \n",
    "\n",
    "warnings.filterwarnings('ignore')\n",
    "\n",
    "data = pd.read_csv('/home/liyan/Desktop/Capstone Project_II/Reviews.csv')\n",
    "data.head(2)"
   ]
  },
  {
   "cell_type": "markdown",
   "metadata": {},
   "source": [
    "https://github.com/dipanjanS/practical-machine-learning-with-python/blob/master/notebooks/Ch09_Analyzing_Wine_Types_and_Quality/model_evaluation_utils.py"
   ]
  },
  {
   "cell_type": "code",
   "execution_count": 2,
   "metadata": {},
   "outputs": [],
   "source": [
    "# remove HelpfulnessDenominator that is less than 10\n",
    "df = data[data.HelpfulnessDenominator >10]"
   ]
  },
  {
   "cell_type": "code",
   "execution_count": 3,
   "metadata": {},
   "outputs": [],
   "source": [
    "# drop all na values\n",
    "df = df.dropna()"
   ]
  },
  {
   "cell_type": "code",
   "execution_count": 4,
   "metadata": {},
   "outputs": [
    {
     "data": {
      "text/html": [
       "<div>\n",
       "<style scoped>\n",
       "    .dataframe tbody tr th:only-of-type {\n",
       "        vertical-align: middle;\n",
       "    }\n",
       "\n",
       "    .dataframe tbody tr th {\n",
       "        vertical-align: top;\n",
       "    }\n",
       "\n",
       "    .dataframe thead th {\n",
       "        text-align: right;\n",
       "    }\n",
       "</style>\n",
       "<table border=\"1\" class=\"dataframe\">\n",
       "  <thead>\n",
       "    <tr style=\"text-align: right;\">\n",
       "      <th></th>\n",
       "      <th>Score</th>\n",
       "      <th>Text</th>\n",
       "    </tr>\n",
       "  </thead>\n",
       "  <tbody>\n",
       "    <tr>\n",
       "      <th>32</th>\n",
       "      <td>4</td>\n",
       "      <td>McCann's Instant Oatmeal is great if you must ...</td>\n",
       "    </tr>\n",
       "    <tr>\n",
       "      <th>33</th>\n",
       "      <td>4</td>\n",
       "      <td>This is a good instant oatmeal from the best o...</td>\n",
       "    </tr>\n",
       "    <tr>\n",
       "      <th>82</th>\n",
       "      <td>5</td>\n",
       "      <td>I know the product title says Molecular Gastro...</td>\n",
       "    </tr>\n",
       "    <tr>\n",
       "      <th>158</th>\n",
       "      <td>5</td>\n",
       "      <td>&lt;span class=\"tiny\"&gt; Length:: 0:26 Mins&lt;br /&gt;&lt;b...</td>\n",
       "    </tr>\n",
       "    <tr>\n",
       "      <th>287</th>\n",
       "      <td>5</td>\n",
       "      <td>This is a fantastic product, and I wish it was...</td>\n",
       "    </tr>\n",
       "  </tbody>\n",
       "</table>\n",
       "</div>"
      ],
      "text/plain": [
       "     Score                                               Text\n",
       "32       4  McCann's Instant Oatmeal is great if you must ...\n",
       "33       4  This is a good instant oatmeal from the best o...\n",
       "82       5  I know the product title says Molecular Gastro...\n",
       "158      5  <span class=\"tiny\"> Length:: 0:26 Mins<br /><b...\n",
       "287      5  This is a fantastic product, and I wish it was..."
      ]
     },
     "execution_count": 4,
     "metadata": {},
     "output_type": "execute_result"
    }
   ],
   "source": [
    "# only select score and text as our dataframe\n",
    "df = df.iloc[:, [6,9]]\n",
    "df.head()"
   ]
  },
  {
   "cell_type": "code",
   "execution_count": 5,
   "metadata": {},
   "outputs": [
    {
     "data": {
      "text/plain": [
       "Score    0\n",
       "Text     0\n",
       "dtype: int64"
      ]
     },
     "execution_count": 5,
     "metadata": {},
     "output_type": "execute_result"
    }
   ],
   "source": [
    "# make sure the is no null value\n",
    "df.isnull().sum()"
   ]
  },
  {
   "cell_type": "code",
   "execution_count": 6,
   "metadata": {},
   "outputs": [
    {
     "data": {
      "text/html": [
       "<div>\n",
       "<style scoped>\n",
       "    .dataframe tbody tr th:only-of-type {\n",
       "        vertical-align: middle;\n",
       "    }\n",
       "\n",
       "    .dataframe tbody tr th {\n",
       "        vertical-align: top;\n",
       "    }\n",
       "\n",
       "    .dataframe thead th {\n",
       "        text-align: right;\n",
       "    }\n",
       "</style>\n",
       "<table border=\"1\" class=\"dataframe\">\n",
       "  <thead>\n",
       "    <tr style=\"text-align: right;\">\n",
       "      <th></th>\n",
       "      <th>index</th>\n",
       "      <th>Score</th>\n",
       "      <th>Text</th>\n",
       "    </tr>\n",
       "  </thead>\n",
       "  <tbody>\n",
       "    <tr>\n",
       "      <th>0</th>\n",
       "      <td>32</td>\n",
       "      <td>4</td>\n",
       "      <td>McCann's Instant Oatmeal is great if you must ...</td>\n",
       "    </tr>\n",
       "    <tr>\n",
       "      <th>1</th>\n",
       "      <td>33</td>\n",
       "      <td>4</td>\n",
       "      <td>This is a good instant oatmeal from the best o...</td>\n",
       "    </tr>\n",
       "  </tbody>\n",
       "</table>\n",
       "</div>"
      ],
      "text/plain": [
       "   index  Score                                               Text\n",
       "0     32      4  McCann's Instant Oatmeal is great if you must ...\n",
       "1     33      4  This is a good instant oatmeal from the best o..."
      ]
     },
     "execution_count": 6,
     "metadata": {},
     "output_type": "execute_result"
    }
   ],
   "source": [
    "# reset index\n",
    "df= df.reset_index()\n",
    "df.head(2)"
   ]
  },
  {
   "cell_type": "code",
   "execution_count": 7,
   "metadata": {},
   "outputs": [],
   "source": [
    "# convert text to lower case\n",
    "df.loc[:, 'Text'] = df['Text'].str.lower()"
   ]
  },
  {
   "cell_type": "code",
   "execution_count": 8,
   "metadata": {},
   "outputs": [],
   "source": [
    "# remove punctuation \n",
    "import unicodedata\n",
    "import sys\n",
    "\n",
    "tbl = dict.fromkeys(i for i in range(sys.maxunicode)\n",
    "                      if unicodedata.category(chr(i)).startswith('P'))\n",
    "def remove_punctuation(text):\n",
    "    return text.translate(tbl)\n"
   ]
  },
  {
   "cell_type": "code",
   "execution_count": 9,
   "metadata": {},
   "outputs": [],
   "source": [
    "#remove digits\n",
    "from string import digits\n",
    "\n",
    "def remove_digits(text):\n",
    "    remove_digits = str.maketrans('', '', digits)\n",
    "    return text.translate(remove_digits)\n"
   ]
  },
  {
   "cell_type": "code",
   "execution_count": 10,
   "metadata": {},
   "outputs": [],
   "source": [
    "# Removing HTML tags\n",
    "from bs4 import BeautifulSoup\n",
    "\n",
    "def strip_html_tags(text):\n",
    "    soup = BeautifulSoup(text, \"html.parser\")\n",
    "    stripped_text = soup.get_text()\n",
    "    return stripped_text\n"
   ]
  },
  {
   "cell_type": "code",
   "execution_count": 11,
   "metadata": {},
   "outputs": [],
   "source": [
    "# remove accented characters\n",
    "import unicodedata \n",
    "\n",
    "def remove_accented_chars(text):\n",
    "    text = unicodedata.normalize('NFKD', text).encode('ascii','ignore').decode('utf-8','ignore')\n",
    "    return text\n"
   ]
  },
  {
   "cell_type": "code",
   "execution_count": 12,
   "metadata": {},
   "outputs": [],
   "source": [
    "# remove special characters\n",
    "\n",
    "def remove_special_characters(text, remove_digits=False):\n",
    "    pattern = r'[^a-zA-z0-9\\s]' if not remove_digits else r'[^a-zA-z\\s]'\n",
    "    text = re.sub(pattern, '', text)\n",
    "    return text\n"
   ]
  },
  {
   "cell_type": "code",
   "execution_count": 13,
   "metadata": {},
   "outputs": [
    {
     "name": "stdout",
     "output_type": "stream",
     "text": [
      "[nltk_data] Downloading package stopwords to /home/liyan/nltk_data...\n",
      "[nltk_data]   Package stopwords is already up-to-date!\n"
     ]
    },
    {
     "data": {
      "text/plain": [
       "True"
      ]
     },
     "execution_count": 13,
     "metadata": {},
     "output_type": "execute_result"
    }
   ],
   "source": [
    "#download stopwords list\n",
    "import nltk\n",
    "nltk.download('stopwords')"
   ]
  },
  {
   "cell_type": "code",
   "execution_count": 14,
   "metadata": {},
   "outputs": [],
   "source": [
    "#remove stop words\n",
    "from nltk.corpus import stopwords\n",
    "from stop_words import get_stop_words\n",
    "from nltk.tokenize.toktok import ToktokTokenizer\n",
    "\n",
    "tokenizer = ToktokTokenizer()\n",
    "stopword_list = nltk.corpus.stopwords.words('english')\n",
    "stopword_list.remove('no')\n",
    "stopword_list.remove('not')\n",
    "\n",
    "def remove_stopwords(text, is_lower_case=False):\n",
    "    tokens = tokenizer.tokenize(text)\n",
    "    tokens = [token.strip() for token in tokens]\n",
    "    if is_lower_case:\n",
    "        filtered_tokens = [token for token in tokens if token not in stopword_list]\n",
    "    else:\n",
    "        filtered_tokens = [token for token in tokens if token.lower() not in stopword_list]\n",
    "    filtered_text = ' '.join(filtered_tokens)    \n",
    "    return filtered_text\n"
   ]
  },
  {
   "cell_type": "code",
   "execution_count": 15,
   "metadata": {},
   "outputs": [],
   "source": [
    "# combine all functions together \n",
    "def normalize_corpus(corpus, html_stripping=True,\n",
    "                     accented_char_removal=True, \n",
    "                     special_char_removal=True, \n",
    "                        stopword_removal=True):\n",
    "    \n",
    "    #print(\"Corpus type: \", type(corpus))\n",
    "    #print(\"Corpus length: \", len(corpus))\n",
    "    \n",
    "    normalized_corpus = []\n",
    "    \n",
    "    # normalize each document in the corpus\n",
    "    for doc in corpus:\n",
    "        # strip HTML\n",
    "        if html_stripping:\n",
    "            doc = strip_html_tags(doc)\n",
    "        # remove accented characters\n",
    "        if accented_char_removal:\n",
    "            doc = remove_accented_chars(doc)\n",
    "        # remove extra newlines\n",
    "        doc = re.sub(r'[\\r|\\n|\\r\\n]+', ' ',doc)\n",
    "        # remove special characters and\\or digits    \n",
    "        if special_char_removal:\n",
    "            # insert spaces between special characters to isolate them    \n",
    "            special_char_pattern = re.compile(r'([{.(-)!}])')\n",
    "            doc = special_char_pattern.sub(\" \\\\1 \", doc)\n",
    "            doc = remove_special_characters(doc, remove_digits)  \n",
    "        # remove extra whitespace\n",
    "        doc = re.sub(' +', ' ', doc)\n",
    "        # remove stopwords\n",
    "        if stopword_removal:\n",
    "            doc = remove_stopwords(doc)\n",
    "        #doc = doc.to_string      \n",
    "        \n",
    "        normalized_corpus.append(doc)\n",
    "\n",
    "    return normalized_corpus\n",
    "        "
   ]
  },
  {
   "cell_type": "code",
   "execution_count": 16,
   "metadata": {},
   "outputs": [
    {
     "name": "stderr",
     "output_type": "stream",
     "text": [
      "/home/liyan/anaconda3/lib/python3.6/site-packages/sklearn/cross_validation.py:41: DeprecationWarning: This module was deprecated in version 0.18 in favor of the model_selection module into which all the refactored classes and functions are moved. Also note that the interface of the new CV iterators are different from that of this module. This module will be removed in 0.20.\n",
      "  \"This module will be removed in 0.20.\", DeprecationWarning)\n"
     ]
    }
   ],
   "source": [
    "from sklearn.linear_model import LogisticRegression\n",
    "from sklearn.cross_validation import train_test_split\n",
    "from sklearn import preprocessing\n",
    "from sklearn.metrics import mean_squared_error\n",
    "from sklearn.metrics import classification_report\n",
    "#import model_evaluation_utils as meu"
   ]
  },
  {
   "cell_type": "code",
   "execution_count": 17,
   "metadata": {},
   "outputs": [],
   "source": [
    "from sklearn import metrics\n",
    "\n",
    "def get_metrics(true_labels, predicted_labels):\n",
    "    \n",
    "    print('Accuracy:', np.round(\n",
    "                        metrics.accuracy_score(true_labels, \n",
    "                                               predicted_labels),\n",
    "                        4))\n",
    "    print('Precision:', np.round(\n",
    "                        metrics.precision_score(true_labels, \n",
    "                                               predicted_labels,\n",
    "                                               average='weighted'),\n",
    "                        4))\n",
    "    print('Recall:', np.round(\n",
    "                        metrics.recall_score(true_labels, \n",
    "                                               predicted_labels,\n",
    "                                               average='weighted'),\n",
    "                        4))\n",
    "    print('F1 Score:', np.round(\n",
    "                        metrics.f1_score(true_labels, \n",
    "                                               predicted_labels,\n",
    "                                               average='weighted'),\n",
    "                        4))\n"
   ]
  },
  {
   "cell_type": "code",
   "execution_count": 18,
   "metadata": {},
   "outputs": [],
   "source": [
    "def display_confusion_matrix(true_labels, predicted_labels, classes=[1,0]):\n",
    "    \n",
    "    total_classes = len(classes)\n",
    "    level_labels = [total_classes*[0], list(range(total_classes))]\n",
    "\n",
    "    cm = metrics.confusion_matrix(y_true=true_labels, y_pred=predicted_labels, \n",
    "                                  labels=classes)\n",
    "    cm_frame = pd.DataFrame(data=cm, \n",
    "                            columns=pd.MultiIndex(levels=[['Predicted:'], classes], \n",
    "                                                  labels=level_labels), \n",
    "                            index=pd.MultiIndex(levels=[['Actual:'], classes], \n",
    "labels=level_labels)) \n",
    "\n",
    "    print(cm_frame)     "
   ]
  },
  {
   "cell_type": "code",
   "execution_count": 19,
   "metadata": {},
   "outputs": [],
   "source": [
    "def display_classification_report(true_labels, predicted_labels, classes=[1,0]):\n",
    "\n",
    "    report = metrics.classification_report(y_true=true_labels, \n",
    "                                           y_pred=predicted_labels, \n",
    "labels=classes) \n",
    "    print(report)"
   ]
  },
  {
   "cell_type": "code",
   "execution_count": 20,
   "metadata": {},
   "outputs": [],
   "source": [
    "import numpy as np\n",
    "\n",
    "def display_model_performance_metrics(true_labels, predicted_labels, classes=[1,0]):\n",
    "    print('Model Performance metrics:')\n",
    "    print('-'*30)\n",
    "    get_metrics(true_labels=true_labels, predicted_labels=predicted_labels)\n",
    "    print('\\nModel Classification report:')\n",
    "    print('-'*30)\n",
    "    display_classification_report(true_labels=true_labels, predicted_labels=predicted_labels, \n",
    "                                  classes=classes)\n",
    "    print('\\nPrediction Confusion Matrix:')\n",
    "    print('-'*30)\n",
    "    display_confusion_matrix(true_labels=true_labels, predicted_labels=predicted_labels, \n",
    "classes=classes)"
   ]
  },
  {
   "cell_type": "code",
   "execution_count": 21,
   "metadata": {},
   "outputs": [
    {
     "data": {
      "text/plain": [
       "['mccanns instant oatmeal great must oatmeal scrape together two three minutes prepare no escaping fact however even best instant oatmeal nowhere near good even store brand oatmeal requiring stovetop preparation still mccanns good gets instant oatmeal even better organic allnatural brands tried varieties mccanns variety pack taste good prepared microwave adding boiling water convenient extreme time issue mccanns use actual cane sugar instead high fructose corn syrup helped decide buy product real sugar tastes better not harmful stuff one thing not like though mccanns use thickeners oats plus water plus heat make creamy tasty oatmeal without need guar gum convenience product maybe guar gum sitting bowl instant mccanns becomes thick gluey',\n",
       " 'good instant oatmeal best oatmeal brand uses cane sugar instead high fructouse corn syrup not better sweetness doctors say form sugar better great cold morning dont time make mccanns steel cut oats apple cinnamon best maple brown sugar regular good plus dont require doctoring actually tell three flavors apart',\n",
       " 'know product title says molecular gastronomy dont let scare looking not food science something earth use make coffee creamer coffee blonde sweet flavored creamers full bad kinds fat honestly hate use manufactured food items really dont think good body hand hate using cold milk cream like hot coffee stumbled across amazon one day got idea making creamer also bought lowfat noninstant milk powder regular milk powder noninstant lowfat milk little sweeter tastes fresher regular instant lowfat milk not dissolve good cold water not problem hot coffee play ratios would not heavy cream made coffee rich also think powder expensive use like mixing together flavoring bough cocoa bean powder vanilla bean powder caster superfine sugar mix small batches along spices like cinnamon nutmeg make flavored creamers wanted could use fake sweetner powder instead make small amounts store jelly canning jars also use little food chopperfood processor blend everything sugar not heavier sinks bottom let settle bit opening top though stuff tastes way better storebought creamers fun experiment come flavors going try using essential oils next see get good chocolateorange mix ingredients mentioned online take time experiment maybe dont use lowfat milk dont add flavorings also would make great housewarminghost ess gifts sure molecular people able tell sure experiment cooking main reason bought make creamer worked great',\n",
       " 'length minsthe expiration date months day bought product tuna tomato combination delicious one many items reorder amazon every month edit added short video see combination looks like wearing one headlamps didnt good job focusing tuna film doesnt look like many people view product anyway',\n",
       " 'fantastic product wish readily available stores taste not greatest oz shot gone second tastes less like concentrated sweet tea record ive hour energy tastes far worse put taste results got mg caffeine equivalent big red bulls monsters cant stand sucralose sugar substitutes one shot sized energy drinks sugar sugar g isnt horrible used drink oz red bulls day caffeine gives far better energy much subtle preference black coffee cant drink cups day anymore overall steaz right real organic ingredients moderate amounts create big results',\n",
       " 'cancelled order cancelled without problem positive note',\n",
       " 'condiments overpriced terrible classic disgustingly sweet spiced tastes like bad spicy marinara sauce chain restaurant',\n",
       " 'first discovered kettle chips sea salt vinegar shopping trader joes daughter mindy couldnt believe tasty best chip ever eaten love first bite ive munching ever since things favor theyre thicker chips dont crumble im devouring theyre delightfully crunchy saltandvinegar combination heavenly tried create original line describe palatepleasing taste treat couldnt beat manufacturer said tonguepuckering tang crunch isnt poeticas health values since kettle chips not peeled preparation im getting nutrition potassium vitamin c mother would approve fact theyre handcooked small batches often enjoy kettle chips afternoon snack favorite soda iced tea theyre also delicious tuna sandwich hot dog lunch well actually kettle chips go perfect everything except sweets course problem theyre delicious cant stop eating thats reason chose smaller packets figured could last almost month good girl kept appetite controland hid kids sake fewer calories try hard succeeded far isnt easy told much love themreviewed betty dravis millennium babe prophecy',\n",
       " 'dont need salt hide taste potato chips chips prove taste potato comes instead masked ok theyre still snack food no salt no transfats mean healthiest potato chips get youre lowsalt diet like available means eat chips kettle best',\n",
       " 'potato chips excellent no trans fats taste absolutely delicious whenever mood potatoe chips kettles brand buy great product anyone enjoy highly recommend enjoy',\n",
       " 'kettle brand chips crunchy would say regular plain old lays potato chips soft end softcrunchy spectrum ruffles brand potato chips used considered crunchiest kettle brand chips far crunchy tender mouth bad teeth dentures might want steer clear kettle brand otherwise youll love chips sea salt vinegar chips super tangy enjoy taking swigs vinegar bottles time time dissapointed salt vinegar chips either chips soft andor vinegar taste whimpy andor chemically rest assured kettle sea salt vinegar gourmet flavor vinegar flavor no chemical flavor could never called whimpy',\n",
       " 'loved chips chips would buy discovered england back quickly became fan year ago picked bag sale local supermarket finding odd sale much took advantage opening bag found chips not even close kettle chips used uniform whitish yellow color flavor way lovely extra crisp brown chips gone completely disappointed emailed kettle following happened bought bag chips day different taste tastes cheaper dont know else put also noticed chips seemed less cooked not see browner colored chips flavor hoping nothing changed ingredients process used produce product get weird batch buying kettle chips years wondering receive reply thanks letting us know experience kettle brand chips sounds like may received bag not slipped inspections apologize potatoes vary seasonally could account variation colorbut chips still taste great thanks providing us best code bag really helps passing comments staff sending coupons replace purchase kettle brand flavors nut butters believing great experience next purchase case buy product suggest avoiding best date still rare instance another bag case slipped inspections time thanks letting us know expect coupons arrive within weeks please let know help well next bag good since time picked bags chips like bad bag pretty sure changed product reduce cost research found kettle bought private equity company cookie cutter management processes probably employed kettle acquire company high quality brand recognition sell product mass merchants lower qualitycost product increase margin finally sell company customer base starts realize brand no longer quality brand increased profits make company valuable paper make nice profit investors customer employees lose course unsuspecting buyer exploited brand stay away kettle chips no longer',\n",
       " 'want find good flavor substitute maple syrup barley malt brown rice syrup nicely use madhavas agave nectar baked goods time always pleased results time im writing amazon stock vendor however stock priced well pack baking ive used top waffles pancakes small doses teaspoon added oatmeal little goes long way using agave nectar use less agave nectar would another sweetener depending taste recipe recipes dried fruit need much less cut heat oven degrees f oil recipe cut alternately use tablespoon two sifted coconut flour absorb liquid dont use much recipe dry additionally baking make sure mix wet ingredients prior adding dry bakers might already know remember read recipes first sugar typically added dry ingredients unless beaten butter first agave nectar not crystalize like sugars wont able substitute corn syrup making hard candy however highly recommend baking makes everything moister looking less caramel flavor youll need use light version product equally good applications',\n",
       " 'good quality nectar tasty however expecting fluid ounces not ounces weight find ounces weight makes fluid ounces',\n",
       " 'pretty good regular style soy sauce not superwonderfulbetter good quality soy sauce buy asian market main value unique gift japanese soy sauce world types regular mild usukuchi raw fish sashimi light colored bluegrass soy sauce regular style compared kikoman good commercial brand widely available bluegrass starts saltier flat middle ends complex interesting flavor kikoman less salty initially round full flavor middle doesnt complex ending flavors initial saltiness bluegrass minus kikomans full middle flavor plus prefere kikoman especially dipping sushi flavor direct lived japan many years used standard japanese flavor havent tried bluegrass blended food background flavor soy sauce usually used bluegrass perfectly good soy sauce brand different flavor everyone favorite want unique kentucky gift asian friend different standard bottle bourbon box chocolate',\n",
       " 'lb bag oatmeal seemed like way much time went found uses many recipes make weekly im running high quality oatmeal much cheaper better anything ive found grocery store',\n",
       " 'better organic oats advertised elsewhere takes lots water not minute oats oatmeal cookies come right not crumbly soggy instant oats place not cookies',\n",
       " 'us made version cadbury chocolate distinct taste uk version chocolate eating since childhood not like new taste friends india buy chocolate either made uk india otherwise disappointed',\n",
       " 'no secret high fructose corn syrup detrimental health unfortunately also no secret replaced forms sugar disturbingly large number manufactured foods even worse high fructose corn syrup made genetically modified corn since late hfcs replaced regular table sugar honey similar sweeteners practically everything prolonged consumption hfcs topic much debate learning cause longterm damage body high fructose corn syrup dangers significant risk weight gain obesity increased risk developing type diabetes hypertension elevated bad cholesterol levels longterm liver damage mercury exposure hfcskelloggs manufacturers know slowly getting rid sweetner look cover post rain bran advertising contains no high fructose corn syrup applaud high fructose corn syrup made genetically modified corn monsanto uses systemic pesticides seeds causing colony collapse disorder bees bee keeper avoiding products hfcs save family bees watch vanishing beesfood matters food inc sold amazon excellent movies change health dramatically way think eat',\n",
       " 'claim product unadulterated would make think oh sweet going best nobody elses coconut oil says unadulterated checked website dont know want go cold pressed oils theyre not cold pressed means theyve processed major machinery subjected high heats anything goes usually kill good minerals vitamins site posts information extraction process today statesmanila coco oil extraction method proprietary stateoftheart mechanical expeller manila virginflo thermostable hold lowest moisture possible avoid rancidity keep shelf life consistent years normal conditions oils st nd stage pressinduced without chemical solvents no bleaching no deodorizing no hydrogenation no fermentation enzymes keep natural light sweet coconut aroma taste method sustains unique character even subjected high degrees celsius heat temperatures mechanical expeller form extraction also say sustains unique character blah blah blah subjected high heat temperatures therefore personal opinion not unadulterated information products amazon make sound steering clear products im sorry review offends youre going pay good money something know would use different brands sticking one looking larger quantities looked product however sticking nutiva coconut oil cold pressed soon coconuts cut open information direct website makes nutivas virgin coconut oil special much magic lies way oil processed within several hours coconuts chopped meat coldpressed unlike varieties coconut oil left hours pressing nutivas approach preserves much oils natural color flavor aroma giving best results use dont care processed still going much healthier average grocery store found vegetable canola oils want read scary things look dark information processed yuck talk horrifying thank time amyps used one organic kind fruitcake think youre special anybody else people learned much past year half dealing sons allergies intollerances theres oh expensive making feel special afford no theres way urge everybody talk people organic foods way life healthier way life deserve live healthier live healthier even though costs long term youre saving money healthier means less doctor visits less expensive nasty harmful medications etc',\n",
       " 'purchased product name rumford naturals corn starch word naturals appears large clear pictured product label also amazon description said made nongenetically modified corn label product actually received not say rumford naturals still made nongenetically modified corn say made product contains one ingredient ingredients cornstarch calcium sulfate one suggested servings tblsp contains daily value calcium makes product potentially good source dietary calcium supplementation hand persons must restrict calcium intake example persons kidney stones pose potential problem even danger amazon provides nice list following legal disclaimer actual product packaging materials may contain different information shown website recommend not rely solely information presented always read labels warnings directions using consuming product not fair amazon not least list correct ingredients photo package not order product order read labels find purchased not buy product dont need extra calcium dont believe calcium sulfate added interest consumers health make product cheaper produce priced competitively brands still touted made fromwith nongenetically modified corn principal cant afford throw away not want hassle returning displeased amazons incorrect listing product brought attention purchased february far nothing done although calcium sulfate considered safe food additive basically thing plaster paris use much product basically amount previous used pure corn starch stiff sediment bottom cooking container make pudding pyrex microwave usually stir every seconds remind damp plaster',\n",
       " 'ordered lollipops friends wizard oz themed shower arrived packaged well noticed box said theyre oriental trading company wanted cheap product knew low quality china would bought directly site however picture looked well made picture deceiving description show samecolored lollipops mine came variety colors also gave dimentions lollipops x noticed looked bit small measured didnt even come long not even though theyre differnet lengths disappointing since planned stand vase lemon drops overall im disappointed product seller not honest product theyre providing consumers',\n",
       " 'purchased give children come place business arrived says clearly back individual wrapper made china no way im giving children manufactured china following whole poisoned pet food debacle fact made china needs highlighted much clearly',\n",
       " 'despite think ton fillers see ingredient list omaha site not bad thing case not unhealthy fillers delicious kids love serve one ball serving perfect healthy carb portion meal piece following nutrition case wonderingcalories fat trans fat sodium carbohydrate protein dinners try keep carb side fat carb fits perfectly taste superb baked oven come crispy outside moist tender inside no grease keep hand instead french fries know cost taste better much healthier wait one sales buy several boxes time',\n",
       " 'perfect year round meat dish omaha steaks twice baked potatoes gourmet delight consistency whipped potatoes smooth little bits bacon peppers cheese add explosion flavor cook easily either conventional oven grill wrapped foil go ahead treat',\n",
       " 'christmas ordered coupons daughters school ohama steaks excited try bombarded ads last years ready test went online looked packages looking forward receiving package fine foods cook made choice fell last min addons choice went pay use gift cards well use one time naturally thought getting total said still willing go ahead order later ordered one package deals addons received order ups days packaged styro cooler packaged cooler several cardboard boxes vacuumed packaged tiny steaks person loves grill nights week know little meat cook first not high end dryaged meat wet aged inferior quality meat bought good butcher steaks pound shipping high prices hamburgers tiny frozen pucks dry disappointed quantity quality really no words describe disappointed whole deal top everything received email coupon next order coupon purchased online deals wow favor spend money good butcher shop grocery store',\n",
       " 'actually tasty pure potatoes great texture no nasty filler stuff no bacon no cheese tasty potatoes cook well either oven microwave add touch either salt pepper fajita seasoning spice rated stars could bit bigger portion however item fairly good value money',\n",
       " 'actually pretty good little potato puffs best no cheese unless like sort thing dont nice actually find potato side dish no cheese anyways surprisingly good toast nicely oven like minutes worth',\n",
       " 'diamond would cheaper ship car dont buy supplier ships price item pay shipping no way would pay one jar',\n",
       " 'terrific english triffle beware though pack containers makes gallon pudding',\n",
       " 'youve made customary authentic english trifle birds custard powder might not want go back usual grocerystore pudding packages purchase large quantity birds custard power pack six packs longish shelf life enjoyed sending surprise packcontainer friend originally england christmas also include container birds custard powder special relatives friends learn easy make excellent trifle product nonenglish family friends include laminated instructions based successes birds custard recipe trifle english trifle easy make following birds custard powder storebought pound cake thawed frozen fruit sherry wine slightly sweetened juice thawed frozen fruit poured small slices cake final touch add nondairy whipped creme delicious inexpensive highly recommend product pleased able purchase amazon price six containers reasonable almost unreal go',\n",
       " 'current product certified organic raw cacao powder ecuador sold saaqin terrible quality somehow reviews similar item produced alive aware associated product cocoa received ordering page made organic herbal essence alive aware delicious organic herbal essence not another warning receiving lb bag organic herbal essence hating ordered alive aware certified organic raw cacao powder ecuador pounds shipped halaleveryday thought sure id get alive aware given product title halaleveryday actually shipped organic herbal essence grr',\n",
       " 'love sorghum flour mild flavor smell easily mixed flour blends gluten free baking one favorites along millet sweet rice coconut almond',\n",
       " 'sister alergic wheat make lot gluten free foods searched local stores could not find sorghum flour looked amazon finally found packed wonderfully arrived perfectly fine im already using',\n",
       " 'taste isnt good least isnt good japanese chinese taste basically sort american japanese taste plus price isnt competitive id suggest asians never buy',\n",
       " 'length minsskip pad thai go edit soup moved spot typed dr mcdougall today im glad want order dont want soup seen unprofitable right foods dr mcdougall',\n",
       " 'question followed reply good customer service hey guysso trying feed new born much breast milk however not enough meet nutritional needs formula order supplement interested toddler formula appears since meets fda infant formula guidelines safe opinions internet seem feel way however doctor says not used higher amounts calcium phosphorous also concerned using dhaara supplement concerns egg white process proteins egg whites not good infant thoughts thanks answerdear davethank contacting natures one firstly correct babys organic formulas meet nutritional requirements fdas infant formula act no dilution needed babies months age please follow label mixing instructions regarding calcium phosphorous content babys organic formulas calcium essential nutrient needed bone health american academy pediatrics expert panel nutrient levels infant formula provided recommendations amount calcium minimum per calories milligrams maximum milligrams per calories phosphorus another important mineral bone health expert panel also recommended calcium phosphorus ratio infant formula no less babys organic falls within ranges calcium milligrams per calories calcium phosphorus ratio reference committee nutrition pediatric nutrition handbook american academy pediatrics pages balance calcium phosphorus important bone development calcium phosphorus ratio babys organic formula enfamil nextstep thus babys organic formulas provide appropriate ratio calcium phosphorus toddlers appropriate overall quantity calcium phosphorus regarding babys essentials dhaara supplement dha utilized babys essentials dha ara supplement sourced egg yolk phospholipids probably aware often egg allergy caused egg white rather yolk additionally protein component foods usually elicit allergic reaction use phospholipids not protein egg yolk minute chance allergic response ensue child history allergies highly recommend consult childs healthcare provider dha also found naturally foods including oily fish like trout sardines tuna salmon yolk eggs dietary ara available animal meats dairy foods eggs peanuts nori seaweed child increases variety foods diet include foods diet natural sources dha would include fish oil fish oil supplements unfortunately difficult insure free mercury environmental toxins also remember fatty acids formed dietary linoleic linolenic acids nuts seeds grains legumes vegetables coldpressed oils including good sources high quality fats diet child easily able meet specific needsmost egg allergies result ingestion egg white egg yolk allergies rare proteins component foods cause allergic reactions egg allergy usually due proteins egg white protein allergens ovomucoid ovalbumin ovotransferrin lysozyme ovomucin however rare situation egg yolk allergy literature date usually associates egg yolk allergy reaction triggered inhaled bird allergen referred birdegg syndrome rare syndrome egg allergy also seasonal oak pollen short western ragweed goosefoot family weeds may cross react eggs pollens season estimated point prevalence egg allergy children years age egg white usually cause egg allergy children outgrow allergy eggs years age eggesbo botten g halvorsen r magnus p prevalence allergy egg populationbased study young children allergy hope information helpful thank interest babys organic formulas please let know additional questions sincerelylorinatures one inc [ ] [ ] toll free [ ]',\n",
       " 'doggie really likes newmans organic better dog foods pet bigbox stores sell budget doesnt like newmans organic much harmony farms compromise keeps doggie budget happy eats heartily dont worry hes getting enough high quality food otherwise wont eat food hell graze trash seeking egg shells bones fill void theres no barfing digestion problems accidents high quality food means good digestion shiny coat high energy bright eyes good attitude without tons additional elixers treats vet bills definite cost effective winwin doggie ive great results newmans dog food orderd amazon theres pounds less price psst im not organic fanatic nutritional value counts fur baby human kids update noticed jumped almost thirty bucks opt newmans organic costs per pound dog likes harmony newman budget likes one cost effective time purchase update last batch harmony farms ordered rancid oil smell opened bag pooch wouldnt eat readily past wouldnt eat day started checking trash subsequently purchased canned pouch foods cooked brown rice etc mixins encourage make pricey bag not sure stored arrives home texas heat make anything stalerancidyucky quickly probably called customer service felt replacement would issue due hot weather definitely exploring hot weather alternatives',\n",
       " 'years back prompted death one dogs due inoperable brain tumor switched dogs foods without corn convinced right wrong animal died needlessly usage steriods prescribed cure constant ear infections believe right wrong recurring ear infections caused allergy corn turned main ingredient food sorry ill get soapbox address issue hand found food accident type store weight loss formula turns dogs love havent seen spunky full energy ive got coon hound two jack russells mine not bounce wall kind mine mellow laid back kinda dudes gobble stuff seem stay full no begging kitchen normal everyones skin seems smoother eyes brighter heck think ill go bowl say looking good quality dog food one not disappointed',\n",
       " 'year old portuguese water dog always seemed sensitive stomach year old shepherd x dog beginning lose weight slept almost time getting fussy shed eat believe dogs sense smell know exactly food however no choice eat feed google commercial dog foods youll see dog may not thrilled eat dog detect cancer person detect sorts things arent supposed eaten anyway used feed purina lamb rice dogs finding young porty trouble yr old would eat bits leave dish started making food came wonderfully nutritious tasty recipe dogs loved homemade dog food yr old began putting weight didnt always time make food homemade dog food kind hard wallet started research natural dog foods compare costs etc arrived harmony farms guess dogs love much love home made dog food young porty no longer stomach troubles looks great yr old finishes meals looks shiny coats energy no one believe old girl years old told friends harmony farms dog food theyve switched theyve reported similar positive results brotherinlaws dog always fussy eater skin problems thinning coat started feed harmony farms became eager eater happy outgoing skin coat condition completely cleared im thinking allergy whatever food think iams friends commented happy dogs meal time feeding dogs premium top line dogs foods paying top line prices harmony farms products reasonably priced not cheapest dog food shelf opinion buying best quality food market incredibly good deal may also mean make fewer trips veterinarians office friends happy found food dogs',\n",
       " 'read reviews thought id get dog pup not touch even mix home cooked food like dollar store dog food better amazon let even allowing dog food sold name',\n",
       " 'fence buying months read reviews impressed possibility stuck bags chips hated made nervous first food order amazon glad picked product absolutely love chips deiced variety pack start case didnt like one flavor others could eat turns though enjoy thicker normal potato chip great crunch airy texture one bag fills midday snack flavors bit bolder would expect chip good thing would say bbq favorite flavor reminded lot lays bqq bolder version sweet bqq flavor bold kick end bags broken chips everything order great father around trying first bag making fun cause healthy offered one accepted probably dramatic spitting eww effect looked confused ate promptly took bag hand walked away man hates anything healthy shows good flavors definitely buying',\n",
       " 'picked oz bag salt vinegar chips last weekend wegmans blink eye bag gone nice vinegar flavor bad side blink eye gone not good portion control ordered variety pack oz size single serving help portion control flavors like fair warning parmesan garlic garlic love salt pepper calories pack nice change baked chips try like',\n",
       " 'popchips really really good dont expect regular old greasy potato chip expect something equally awesome stands popchips dont leave funny residue mouth like diet chips dont lot fat calories cal per singleserve bag got variety pack liked every one six flavors better others im not big fan cheddar chips maker good good great even nondieters tried liked seems like cost bit average bag chips maybe thats buy case even theyre worth youre fighting battle bulge want local indulgence wouldnt otherwise able enjoy recommendation eat popchips',\n",
       " 'heres straight talk foodie not top chef food critic foodiename pop chips cooked kettle pressure heat fantastic not baked fried made company pop chips isnt frito lays mars trying forcefeed america disguise packaging branding colorful way heavyduty bags slightly expensive similar kettle chips packaging fun opening bags pop packaging great ive eaten small bags not one even slightly damaged taste texture size halfdollar coins kind puffy like pork rind rice cake not crunchy hard like potato chips crunch definitely distinctive deserve place market nutrition calories unfortunately know means not big grab means chips per oz bag honestly great portion control probably need popchips knows definitely filling calorie snacks made say snackwell oreosmini muffins type flavor pack comes cheddar potato sea salt vinegar barbecue potato english major im inclined take potato label salty flavorful normal chips not overpowering like cheap tortilla chipssome doritos natural taste bought sale discount believe might purchase gift card something would rather look store warehouse club save cashtrees gigantic box come fence worried disappointed wont definitely quality quantity',\n",
       " 'hate type many people really enjoy product take look ingredients socalled allnatural product cheddar cheese flavor right front flavor vouch right halfway list ingredients youll see yeast extract unfortunately new msg many people still unaware fact natural food companies taking advantage chemical flavor enhancer whose potential side effects scary google msg yeast extract check [ ]',\n",
       " 'bought chips thinking natural per description no preservatives no artificial flavors colors received checked ingredients contain yeast extract synonymous msg yeast extract contains processed free glutamic acid never purchase product',\n",
       " 'chips taste average insanely expensive compare big bags chips safeway costco get big bag times amount chips compare oz bag chips safeway get worth popchips bags tiny like serve size fat people trying lose weigh something never gain weigh rather go buy big bag chips expensive ripoff chips never buy maybe think price high bought amazon com maybe elsewhere cheaper chips junk food shouldnt expensive compare local stores',\n",
       " 'bought seeing pod magazines places thought would great addition fridge save money cilantro however poorly designed could not open whatsorever even searching reviews reviews finally genius boyfriend found solution basically need open bottom need squeeze two sides next cap order open careful opening closing theres water pot one reading still problem opening let know ill try explain better anyway pretty useless product productivity bit useful lazy make wants prettier fridge make cup container filled bit water wrapped plastic bag herb unless money waste dont buy useless pot',\n",
       " 'product works great hate spending money herbs use little rest go bad shortly put herbs mostly basil fresh weeks no leakage probs either bottom clearly labeled twist lock plug stays flush thing already paid money saved looks pretty cool fridge counter im ready cook',\n",
       " 'enptied noticed black area top appeared corroded course afraid eat fruit threw away waiting response native forest ascertain type metal harmful one would expect went effort certified organic would use safe canning post addendum w response',\n",
       " 'received mix along waffle maker gift good keep buying brand mix run cut farmhouse waffles recipe half thats cup farmhouse pancake waffle mix egg cup water tablespoon melted butter enough batter waffles fullsize belgian waffle maker easy make tasty',\n",
       " 'nothing compare waffle mix delivered stonewall kitchen mom complained price think quality deserves higher price regular pancakewaffle mix waffle comes golden crispy using presto flipside waffle maker',\n",
       " 'making belgian waffles using stonewall kitchen farmhouse pancake waffle mix three years waffles undoubtedly best ever like waffles light crisp cant stand heavy soggy waffle melt mouth made homemade waffles yet find anything compare mix',\n",
       " 'laugh reviews said much work add egg little butter well worth not cook come perfect everytime crisp outside fluffy inside family loves loves thing different instead extra tbsp water call add tbsp vanilla place best waffle mix',\n",
       " 'usually make pancakes scratch never found mix doesnt taste mix best family love way tastes quick easy',\n",
       " 'used buy bobs red mill organic grain pancake waffle whole grain mix saw rave reviews stonewall kitchen farmhouse pancake waffle mix decided order amazon tried morning pancake mix fine powdery made pancake mix mix kitchen floor mix almost foamy like done mixing waffle recipe label asks tbsp melted butter never use much use robs red mill pancake mix could make two perfect round pancakes even though claims serving pancakes pancake indeed fluffy others claimed review however also tasted lot chemicals guess one reason fluffy lot baking soda ingredient looking ingredient label realize chemicals brands not understand artificial flavor added pancake mix normal type no fancy flavors like cinnamon apple etc short going back robs red mill brand least know digesting stomach',\n",
       " 'im not sure favorite pancake waffle mix tastes best us',\n",
       " 'bought mix time oster waffle maker pleased results light well baked waffles tasted good problems mix first expense secondly mix finely ground flies around poured may sort perfume added simply smells good happy product probably not reorder',\n",
       " 'wont believe many ways product saved life gave one star im dehydrated drinking regular water week ran money penta ran afford another shipment ill jack back stars seriously folks waters run system pee right away not penta sticks ribs like oatmeal restoring bodys natural tendencies develop sympathetic electrolytic rehydration wont weigh things noticed producti accidentally dropped cell phone glass pulled better reception going discipline kids tried clean computer discovered improved functionality threw jumping beans bottle next day pair baby pogo sticks growing refrigerator hey fill solar shower stuff wont even need soap comes price super tired uninvigorating boring old swill people call water lethargic unenhanced blah thats bad cant attach higher market value youre cheap readily available monitored crap mcburbia proffers look no',\n",
       " 'bought bottles stuff purity vpi record washing machine get gunk grooves record collection basically scrub records vacuum glop using mix water detergent water pure ever sinks deeper grooves visably better penetrating fluid compared distilled water much less tap oh no water impurities wouldnt believe great records play deep cleaned wife always tell playing vinyl instead cd sounds aliveshe says water highly recommended purpose may even drink sometime see fuss',\n",
       " 'feeding dogs year past months problem cases grammys pot pie cans cans full chunks fat thick lardlike gravy no veggies cases fine chicken veggiesetc happened truth labeling also problem cans halffull sometimes dogs getting bad diarhea fat food stop giving merrick need start testing food used great look old reviews last year',\n",
       " 'two recipes im anxious try call pomegranate molasses ive called specialty best markets sacramento area no ones heard much less carries common mediterranean recipes goes shrimp fish chicken beef pork delighted find amazon look forward using mine fabulous short ribs recipe im also passing along info friends order may give gifts gourmet cook friends',\n",
       " 'always wanted make hummus eggplant dip brand tahini id never tried seen supermarkets decided order try excellent recipes highly recommended',\n",
       " 'good puchase shipper fast friendly tahini fresh good quality order',\n",
       " 'much confusion tomatoes shopping online case adds complexity not best tomatoes offered time writing strianese hands best local store sells using fifteen years significantly expensive shipping brutal no prime shipping use specific cento not home depends much sauce means need know buying cento tomatoes san marzano sauce tomatoes p certified point often overlooked sarnese nocerino second best terms absolute flavor bright proper acid deep proper natural saltsugar balance probably cannot get better tomatoes fresh unless know specialty grower no day job cento sells many others much cheaper not price per good best deal amazon prime get regular shipments get three large batches per case enough feed mob forms sauce day people happy many good canned tomatoes especially look poor genetically engineered ersatz fresh tomatoes supermarket maestro want',\n",
       " 'ive lot san marzano tomatoes day fresh canned typically best tomatoes planet opened first order tomatoes werent good nothing like used later noticed not p certified label like photo amazon page tomatoes not p certified not real san marzano tomatoes cheap imitation seller tried mimic label real san marzano tomatoes could sell higher price would recommend stay away get better tomatoes fourth price local grocery store',\n",
       " 'dop san marzano canned tomatoes finest canned tomatoes planet get literally half price local grocery store unusual boston pretty heavily italian areas maybe makes difference dont understand anyone would buy price check local grocery store buy price',\n",
       " 'order pay p certified san marzano tomatoes receive certified means absolutely nothing true sm tomato eu p emblem label plus corsorzio san marzano stamp false advertising enlarge picture shown see upper left side partially one stamps not receive dop label receive another tomato somewhere region cento name typical marketing hoodwinking amazon refuses take returns item beware',\n",
       " 'since dop product not readily available local grocery stores got really excited saw photo product amazon website photo states product p certified received shipment huge disappointment different product photo promised buy one delivered local grocery stores easily disappointing',\n",
       " 'middle aged runner take cherry concentrate help recovery time long races works better ibuprofen natural long run take couple tablespoons gatorade muscles recover quicker experimented not taking love stuff',\n",
       " 'juice consentrate good like much tart smart price increase considerably cheaper even subscribe save staple tart cherry juice',\n",
       " 'bought bottles tart cherry juice cheaper tart smart may providing anti oxidents say completely failed helping sleep better night returned bottle amazon went back tart smart used wake times night trouble getting back sleep nearly retired sleep choose tis formula get sleep fairly quick wake hours later get anothert hour two visiting bathroom product may work much better found one works stick forever hope read opinion product soon',\n",
       " 'coffee smooth carmely dark finish love husband gets dark blends taste like charcoal one smooth hint sweetness wish amazon monthly purchase program would love save however glad find someplace besides green mountain prime members get coffee replaced shipping days v week longer gm sweet',\n",
       " 'great coffee rich robust coffeelovers choice like french roast italian roast like coffee',\n",
       " 'actually sojos strongly recommends meat add mixes raw cooked choose dog arrived coccidia giardia puppy veterinary mismanagement never completely healthy first years life watching get sicker aggressive course antibiotics prednisone inflammatory bowel disease took holistic veterinarian part treatment homemade diet sojos meat plus no medications im extremely pleased report no gi episodes months reached point consider healthy coat glossy much fluffier hes finally good weight photos show dramatic improvementmuch credit sojos take extra time prepare opposed kibble make days worth time takes minutes total includes time meat cooking cleaning completely honest im not thrilled cooking dog thrilled results able feed raw perhaps road vet gives ok preparation time would almost nothing',\n",
       " 'sojos foods tested nutritional content formulated calcium phosphorus ratio not need add calcium phosphorus',\n",
       " 'sojos diet lacks calcium fed directed cause severe metabolic bone disease dog diet requires supplementation balanced calciumphosphorous additive safe',\n",
       " 'could give product minus stars would strong evidence chlothianidin product one pesticides affecting honeybees contributing colony collapse disorder us yet ban pesticide already banned countries avoid product others containing clothianidin',\n",
       " 'canned soup hits spot decently theres definitely lobster flavor small chunks however whole thing tastes little fishy side served restaraunt think id walk',\n",
       " 'advise web search determine health risk could affect tomally functions lobsters liver pancreas however even cold scottish waters dioxin harmful agents present warnings general public disappointed discover information ordered mushroom seafood flavors',\n",
       " 'europe find bowl dark flaxseeds side muesli set breakfast buffet great source omega oil improve health eating tasty nutty seeds good gut good heart golden seeds attractive alternative nutbrown seeds look nice baked goods like lighter breads taste dark seeds ground dont show white bread bust blender throw standard bread recipe add needed nutrients fiber like sprinkled oatmeal muesli yogurt',\n",
       " 'ive taking flaxseeds several years due health benefits excited see great price reputable company best tasting flaxseeds ever get maximum health benefits finely grind standard coffee grinder usually grind tablespoons per person twice day add lemonade crystal light tea drink quick expands flaxseeds loaded minerals vitamins amino acids fiber excellent weight loss work well chronic constipation several web sites tout health benefits flaxseeds unfortunately review guidelines post links ill suggest wanting information search google',\n",
       " 'flaxseed great way get fiber diet brand delivers mild taste put tablespoons morning smoothie gives daily fiber required intake flaxseed also contain omega also place powerhouse nutrients diet little seed excellent source protein fiber minerals magnesium copper go wrong',\n",
       " 'given recent issues products made china decided not buy food products wont buying anymore snack ever switch made u ill buy like',\n",
       " 'product made china would not believe claims make regarding allergy safety vegankosher considering mrs mays markets healthy product shocked glanced back noticed product made china china proven not trust manufacturing practices unsafe toys dog food supposed trust making health foodnot mention carbon footprint created shipping something halfway around world not buy product anymore',\n",
       " 'used like product learned made china many horror stories need hear atrocities lead baby toys made china contaminated baby formula made china contaminated tooth paste made china poisoned pet food learn comes china not go mouth babys mouth pets mouth',\n",
       " 'love drinking green tea delicious hot cold able take anywhere key searched long hard alternative canned bottled green tea cumbersome expensive hard come parts us beginning found either expensive sugar defeats purpose drinking green tea first place not get good reviews found product quickly ordered great price free shipping pleasantly surprised product works advertised dissolves quickly cold water making great carry anywhere tastes great instructions say use one packet ounces water actually used ounces water otherwise bitter not saves money replaced canned green tea completely eliminating number cans need recycle monthly',\n",
       " 'popcorn yummy warned trouble popping using air popper kernels light would blow popper popped great microwave pan maybe larger white yellow would better match air popper',\n",
       " 'wont claim professional food taster know like dont like dont like yellow popcorn dont like microwave popcorn like white popcorn cooked pan popping style baby white pops great wo lots hard kernels nuf said',\n",
       " 'really good tender little sweet easy make whirley pop excellent cheddar spice popcorn seasoning',\n",
       " 'little concerned buy popcorn never know going get glad popcorn nice tender pops easy great taste hullless moved microwave popcorns glad product like fact popped corn small great',\n",
       " 'love popcorn shipping costs insane total rip wabash valley farms amazon whoever charging shipping mind stars popcorn minus stars terrible cost associated shipping argh yes popcorn tender luscious melts mouth like youre eating cooked grasshoppers come cant ship product lessshipping pound bag even worse sigh bad really',\n",
       " 'bar harbor clam chowder absolutely fantastic not usually fan soup really picky clam chowder said get stuff bulk several reasons first great flavor clams potatoes second like fact ingredients natural third one adjust level creaminess viscosity one adds soup like use mixture milk cream fourth plus soup contains neither bacon excessive amounts spice pepper two things ruin clam chowder know bacon popular lot folks really want taste clams bowl new england clam chowder youre like respect think like soup p child fan friendlys clam chowder changed recipe bar harbor even better',\n",
       " 'ive definitely stigma canned anything still picked supermarket drawn natural ingredients no msg really anything else didnt recognize really quite good especially coming excellent clam chowder little milk butter exactly liking warm within minutes one canned goods keep cabinet one convenient surprisingly satisfying meals always minutes away highly recommended',\n",
       " 'one perfect box no rips tears gouges inside box badly dented cans chowder looked like fell airplane every single disappointed return chowder good joke rate star unblemished box',\n",
       " 'according article cnn com nutritional content brand not live lable researchers consumerlab com tested sodium potassium magnesium sugar content three leading brands coconut water found one zico natural contained stated amount four ingredients sugar potassium content two brands vita coco n e also matched label amounts sodium magnesiumtwo nutrients key hydrationwere much lower respectively listed amount',\n",
       " 'love super dark rich bold thick flavored coffee coffee one problem personally love coffee embodies everything said love esspresso like find kcup bold even oz setting great problem smells tastes leaves taste burnt urine like someone torched public restroom mopped floor coffee packaged yum dark bold kcups better smell flavor not nasty taste may not believe fine get sample pack going youll thank later try green mountain coffee extra bold sumatran reserve kcups better around cup coffee',\n",
       " 'review make sound really stupid whatever dont really care long people find whats real avoid mistakes got wonderful little sweet bella bean days shy three years old bounced around house house eating whatever cheap cats around entire life twentyfive years mother always fed whatever kinds food buy supermarket friskies nine lives kit kaboodle stuff like cats always fine least terms eating habits would eat morning stop done come back eat got hungry housemate time working hills assured best food ever made great forth know utter buffoon initially trusted judgment unfortunate doesnt think also plenty coupons free deeply discounted bags made much attractive choice first tried feeding little bean unmeasured amount science diet bowl didnt work would devour one sitting took measuring thing started parsing twice day didnt work either would start going crazy middle day running around intentionally destroying things deliberately spilling water crying etc got food split three servings thing got four servings little better much maintenance unrealistic around every day feed four times went back three trying reduce amount food feeding less cup little chubby reducing hell became even hungry figured would get used not really year would wake every morning looking food serious way knocking things desk ripping paper could find scratching door committing general acts mischief soon got food back sweet self three four hours thought bored thought little nutty maybe even kitty eating disorder always wanted food kind funny end sad weeks back took new good nonmoney factory vet second checkup since ive talked always hungry asked ate told adult indoor science diet without saying much basically told food garbage look something else said cat food protein followed carbohydrate first two ingredients science diet loose byproduct kind way ground slaughterhouse leftovers corn dust put bunch vitamins make healthy instead using good ingredients beginning not care spending money bean food way expensive began transitioning onto wellness indoor formula two weeks ago still eating percent science diet percent wellness really shouldnt give cat different food one day blue never freaks anymore amazing percent eating real food along sawdust chicken hearts still regrettable feed eating twice day cup total eating three times day cup total eats morning walks away eats hours later looks dinner twelve hours initial feeding no knocking things no trashing dads papers desk no howling no deliberately spilled water floor incredible feel bad long really thought dramatic whatever no genuinely hungry wasnt eating real food cat favor buy food made real ingredients things would eat wellness halo innova evo whatever figure please dont feed cat garbage',\n",
       " 'fortune cookies shipped immediately packed well e none arrived broken cookie delicious fortunes classic chinese not modern version',\n",
       " 'use breadmaker make warm milk additional egg greatly improves texture made water small amount butter crust comes chewy breadmachine also made bread used carrot juice place water makes beautiful color naturally sweet',\n",
       " 'gentleman reviewed said go store get better well im disabled disability van allows us two packages carry see carrying two big cases water home think not wonderful water sure could get sale better price drive someone drive carry please sweet deal ordered six cases watched ups guy set inside door nothing complain price right considered wont go wrong',\n",
       " 'feel like ive tried every hot cocoa kcups think best hot cocoa far still isnt great im not sure cocoa kcups seem weird taste almost like artificial sweetener know not set smallest cup setting cocoa body others im still waiting hoping dunkin donuts put hot cocoa kcup really nothing better want kcup hot cocoa would def recommend others',\n",
       " 'hate sucralose honestly dont know people cant taste sweetened products got unpleasant fake flavor cant ignore think company uses junk required law indicate box advertising said seems like hot cocoa less sucralose cafe escapes hot cocoa give higher marks competition still cant believe product nearest competitor use sucralose dont say theyre diet lite lowsugar otherwise unnaturallysweetened product frustrating taste stuff really dislike also dont like chemical makeup sucralose wont go believe natural sugar way better long run theres one choice hot cocoa kcup thats swiss miss unfortunately swiss miss kcups ridiculously high priced hard find opinion probably better get favorite hot cocoa packets use hot water function keurig not worth kcup convenience put artificial sweeteners significantly higher prices spending seventyfive cents per cup waterbased hot cocoa limit youre sucralosesplenda means grab enjoy weird aftertaste decidedly notsugar flavor youre like though cant stand artificial stuff avoid product find another option three stars tasting decent despite awful artificial sweetener minus two stars artificially sweetened not mentioning anywhere update found swiss miss kcups also use sucralose really choice get packets use keurig hot water dispenser disappointing update research found one kcup hot cocoa doesnt sucralose however loaded fructose instead not greatest tradeoff since tastes different sugarsucrose opinion no actual sugarsucrose one green mountain coffee hot cocoa unfortunately reviews say strong coconut flavor probably second ingredient coconut oil salty side avoided also expensive percup unless think single cup cocoa worth dollar twentyfive cents opposed box packets around two dollars go ahead try refrain point stick using packets would also like clarify despite comments say cafe escapes hot cocoa kcups swiss miss hot cocoa kcups grove square hot cocoa kcups use sucralose yes sugar addition sucralosesplenda not choices right pure sucralose sucralose plus sugar pure fructose none appetizing make cost per cup cocoa quite unpleasant servings sugarsweetened cocoa canister run around six bucks no complicated kcup know operate spoon',\n",
       " 'grove square hot cocoa flavors far best tasting found keurig took chance due high review ratings pleasant surprise three flavors really good dark chocolate favorite good even large cup settingmilk chocolate excellent small cup good large cup settingpeppermint everyone likes one either cup size settingthese contain sucralose addition sugar dont notice taste wife still likes highly recommended cfh',\n",
       " 'excellent product tip keurig people shake kcup using prevents cocoa clumping results flavor',\n",
       " 'read really funny reviews product complain noting left pod filled cup therefore must instant mix brilliant deduction sherlock expect see chocogrounds cup yes no doubt cheaper go route thats instead stars taste want know right dark chocolate flavor fairly robust little grittyness plop marshmallow cup brewing youll real treat comes strong enough either oz oz setting brewer not surprisingly milk chocolate flavor not strong little smoother marshmallow trick little different effect making milk chocolate not creamier smoother little dilute maybe minimarshmallows instead fullsized one flavor oh definitely go oz cup oldest granddaughter contest peppermint chocolate wins course pretty good get one no marshmallow needed hint peppermint enough oz cup one best way go think got cups sizes right didnt youll figure btw id imagine reason always stock people keep buying ive dipped supply well times pretty good pretty cheap pretty hard get times ill buy',\n",
       " 'everyone family likes hot cocoa running plain water kcup maker using hot cocoa canister kids didnt really get right measurements often not would overflow decided try kids makes perfect cup every time no overflow taste good creamy enough cocoa water ratio kids ordering product family interest product comparison ordered timothys white hot chocolate green mountain hot cocoa timothys great pricy green mountain didnt really taste great family watered taste',\n",
       " 'weigh convenience k cup price taste would characterize winner not best cup cocoa planet compared making using packet pretty darn good nice nice chocolate flavor no funny taste ive brands not select oz machine though make oz otherwise watery opinion fine cup hot chocolate',\n",
       " 'actually surprised good product cuisinart keurig owner two teens love drink hot cocoa cider pretty much year round price point price store exact brand almost triple pay amount subscribe save makes quite affordable family use comparison expensive brands great bargain without sacrificing quality quantity flavor wise kids love already asked purchase daughter says peppermint right not weak even using larger cup love dark chocolate coffee make mocha oz coffee oz chocolate much better brands tried past overall impression great value good flavor excellent price point purchasing',\n",
       " 'known cocoa sugarfree would not purchased realize not bother people really dont like aftertaste fake sugar interest fairness not seem trouble nephew update description',\n",
       " 'whole family people tasted flavors sickly sweet disappointed product sucralose wouldnt buy',\n",
       " 'cant tell tastes read ingredients first transfats every flavor seller disclose ingredients description wouldnt purchased otherwise',\n",
       " 'received order grove square hot cocoa mix today shocked see hydrogenated oil one ingredients mix avoided using products contains trans fats negative effects blood lipid levels would urge amazon require itemized list ingredients food items listed sale ingredients listed us concerns health avoid products',\n",
       " 'decided ship order one huge box cans instead green beans one box corn another barely able get inside house every single green beans dented cans corn dented',\n",
       " 'wait cereal go sale buy sale price usually per ounce box regular price small boxes less one ounce cents per boxnearly per ounce sale price cents per ounce regular price cents per ounce hand make two rice krispie treats one box starbucks sells rice krispie treats one lowest priced snacks',\n",
       " 'really didnt notice elmo package kids adults nothing wrong flavor priced kids scream alot',\n",
       " 'pure breed gsd problems years upset stomach eating grass throwing bile morning would not eat stomach upset finally dawned due throwing bile food not staying even tried feeding going bed night still not work tried evo could not believe change not get us night go outside bowel movements every day sometimes evo large bites almost year not sick higher protein food stays longer made lives much better thank thank evo',\n",
       " 'golden retriever feeding wellness dog food ate begrudgingly decided find something else read ingredients evo red meat really impressed gawked price decided cheaper dog food isnt really bargain dog wont eat get enjoyment first time fed pretty much inhaled literally go sit bag look like might open stares hard enough agree first reviewer loose stools factor believe time clear happy keep buying although wish price little reasonable',\n",
       " 'read nine reviews preceded wondered product depending persons taste could consistently receive five stars something suspicious herenope heres tenth fivestar rating row im tough best sauce kind kind ive ever im old guy whos around right sweetness right hotness id love soak chicken well dip egg rolls chicken nuggets big bottles wont last ill back fer shure absolutely worth worth little price stuff standard every home along plumbing sincere apologies reviewers doubting',\n",
       " 'goes self proclaimed condiment queen nation keeper saw asian market go huge bottle looked ingredients no preservatives added colors good good said went everything also good got home wow amazing garlic hot sweet dippin fool',\n",
       " 'large bottles good dipping sauce sweetspicy flavor',\n",
       " 'looking good sweet sour sauce chicken based reviews took chance well no one family likes stuff tastes nothing like sweet sour sauce like says chili sauce im stuck two huge bottles sometimes reading label really matters',\n",
       " 'gevalia best coffee always mellow never bitter id never drink brand',\n",
       " 'received box christmas really good not overly strong like black licorice indeed soft simple ingredient list no high fructose corn syrup like candymolasseswheat flourlicorice extractnatural flavor aniseed oil',\n",
       " 'best licorice ever least best ive ever conceive problem pack gone hard concentrate work go panda withdrawal cannot think anything panda',\n",
       " 'panda good flavor texture shape not best not enough chew find bit dry much prefer rjs big solid tubes excellent natural licorice flavor satisfying right chew without gummy',\n",
       " 'ive found new licoricethis one ok really dont need extra sodium body',\n",
       " 'melitta java pods slightly smaller circumference senseo pods thicker using senseo coffee machine probably moisten java pod smooth attempting latch lid otherwise risk breaking latching mechanism resulting decaf coffee not bad seems reviewer richer taste senseo decaf pods melitta java pods not really designed senseo machine several brands halo fratello millstone work better senseo machine',\n",
       " 'really choice comes soy dairy free baking unless want use lard spectrum shortening uses palm kernel oil consistancy regular crisco perhaps little stiffer seems bake fine need soy dairy free highly recommend',\n",
       " 'love product bottle design terrible order get last body wash bottle timely manner would normally store bottle upside pointy top impossible must stand shower try shake remaining product length bottle squirt takes much time youll want take redesign bottle flat top please',\n",
       " 'product gave horrible rash contains soybean oil fragrance allergens need list allergens',\n",
       " 'overall not happy crumbiness cookies way fragile crumby many crumbs bed supposed sleep like',\n",
       " 'wanted give soy crisps justice stars ordering time bought bag sea salt flavor crisps bag bbq crisps month ago bid eat healthy food ive always loved bbq chips especially ruffles lays k c masterpiece chips theyve got killing slowly right busted open bbq soy crisps gagged could bbq tasted like cardboard gave friends eat anything begrudgingly opened sea salt bag though palatable still disappointed know thought said stars gets better anyway sworn chips midday snacking two weeks saw nothing counter genisoy soy crisps id eat two three ran bought bags sea salt flavor happened must akin rebooting computer defragging hard drivemy body forgot strong bbq flavored chips like started craving soy crisps began taste delicious roasted soybean flavor like roasted salted soy beans sell jars completely missed apparently wasnt sweet redcrusted overbearing bbq powder polished next bags three days im ordering amazon cheaper per bag local grocery store seems want punish wallet trying eat healthy food advice thisgive soy crisps chance dont mix regular doritos bbq ruffles youll think theyre awful stop eating month oily bbq chips deadened taste buds years reboot taste buds markedly healthier chips youll feel better snacking',\n",
       " 'bought blue icicle quickly record trumpet lines didnt interface well actually pick open box unit didnt work couldnt provide external power supply took back got icicle quick fix would get needed go timely manner hardware imac dual core ghz processor gb ram os software garage band mic shure sm pros recording trumpet sm perfect clear sound low noise lots signal gain little half way icicle garage band got hot horn lines gain spare hotter would started clipping definitely gave enough signal get job done cons gain knob no dial indicators far turned done feel making almost impossible duplicate settings exactly could improved knob arrow marked dial see set also feels bit cheap lightweight feels almost fragile treated care fine doubt would take much abuse would break ultra careful feels lightweight cheap also used recommended accompanying literature didnt plug directly back mic used mic cable needed perfect simple plug play got good sound computer worked well pinch wish little higher quality terms construction bit heavier better dial analog gain would rated full stars best give',\n",
       " 'needed make condensor mic work mlx works great without going need buy preamp something converted xlr usb phantom power generator little thing exactly says nothing nothing less not professional recorder means wanted set small studio room able mic go straight laptop without buy small soundboard might not work someone fancier setup mine basic stuff works amazing thing surprised size picture looks like really small really like round long hand no way effects performance anything thought noteworthy helpful please take seconds hit helpful button would really appreciate',\n",
       " 'several converters home studio quality amazing dynamics condenser mics icicle initially low hum contacted blue said first units produced low hum since fixed sent replacement unit works perfectly buy product need',\n",
       " 'icicle truly great piece hardware simple plugging mic cord product plugging usb best thing product allows take mic wherever usb equipped computer light weight dont know durability dont plan throwing find icicle comes gain knob plus remember dollar plug n play tool doesnt features also didnt noisefeedback issue',\n",
       " 'plug play preferred software no hassles worked great months stopped working didnt drop made flimsy plastic light feather feels cheap stopped working buy product dont want work great three months totally dissapointed',\n",
       " 'works reasonably well condenser microphones dynamics hum exceeds signal works windows not linux build cheap anything much',\n",
       " 'ordered item march nd expect get replacement people blue sometime today whats month anyway first one came amazon constant highpitched tone emailed called blue eventually spoke pleasant tech support guy aware problem allowed company shipped number units defect thats always good hear several emails later received return merchandise authorization shipped right back knows one works maybe ill like blues products look good make strong case buying locally',\n",
       " 'usually make gluten free stuff scratch love days feel lazy feel like using mix one best one yet mix tastes closely like real wheat thing made pancakes waffles oven baked chicken strawberry shortcakes absolutely delicious',\n",
       " 'family wheatfree years glutenfree weve tried every mix found bisquick gf mix grocery store decided give try definitely best mix ever tasted smooth not grainy dont know sidebyside regular wheat pancakes would notice difference',\n",
       " 'one versatile mixes ive found recipes come tasting much like full gluten blends like many struggling celiacs disease ive found im not quite sure buy whats healthy doesnt taste like cardboard gluten free way life adjust almost every way giving many favorites training pallet love new found grains bisquick rice based much like original version however aware pancakes little less fluffy follow recipe comes betty crocker recipe website theyve published using product quite tasty treats youll love calls vegetable shortening sure use example biscuits made without shortening butter dry not satisfying even difficult swallow use recipes include shortening result moist fluffy foods breads help end enjoyable addition meal fun tasty gluten free recipes mix found betty crocker website wont allow post link sorry update fun tip gluten free mixes mom figured youre mixing together ingredients youre using one calls milk mix together base mix milk let set minutes continuing recipe adding ingredients end result much fluffier tastier would much like making tapioca pudding let milk tapioca soak activate tapioca moving think type reaction whats happening bisquick mix yay mom hope helps purchasing decision thanks reading',\n",
       " 'rice flour sugar leavening baking soda sodium aluminum phosphate monocalcium phosphate modified potato starch salt xanthan gum may include soy ingredients',\n",
       " 'gf past year tried sorts flour alternatives one certainly best best part substitute creation calls original bisquick best far waffles make following directions back ordering complaint boxes small compared boxes bisquick available shelves',\n",
       " 'excellent best gf mix ive yet try five years trying not grainy none rice grainy thing going texture everything ive used excellent winner price bummer product amazing',\n",
       " 'bought product uncertain would worth money quickly came love made gf biscuits gravy family didnt mention gluten free everyone loved biscuits didnt fall apart like lot brands used butter flavored shortening think made biscuits even delicious havent tried yet try buy box week amazon much better price find stores vegas',\n",
       " 'overall mix okay sugar content high actually see sugar mix look closely pancakes waffles fine savory concoctions not acceptable sausage balls casseroles biscuits come almost inedible mix also oddly gritty grit fine still makes teeth want curl recommend pamelas baking pancake mix smoother much versatile not sweet good cook knows always add something cant take youve added much said youre traveling mix better nothing',\n",
       " 'excited get try unfortunately im not impressed starters value terrible get cups mix per box thats enough make batch pancakes batch biscuits batches pancakes whatever almost box thats not worth especially end result mediocre best biscuits made cheddar biscuits not even bread loving toddler would eat pancakes okay used twice much real maple syrup normally prosthe biscuits puff nicely thats pro',\n",
       " 'second ingredient sugar need say make bisquit mix super easy',\n",
       " 'saw ingredients box knew would disappointment would much better pretty easy make mix also plenty quality mixes like pamelas bobs red mill huge disappointment dont waste money',\n",
       " 'great idea falls short bisquick glutenfree still uses aluminumbased baking powder toxic humans aluminum lodges bodies found quantities unacceptable autistic individuals company refuses respond customer inquiries concerning cannot give family baking powder formula changed',\n",
       " 'actually delighted find product family loved recipes made however sugar nd ingredient worse aluminum would intentionally feed family something neurotoxic trying avoid gluten keep healthy sure wish companies jump gf bandwagon would keep health equation kids bowel movements gluten free wouldnt serve breakfast sayin',\n",
       " 'love mix favorite ive tried reason starred not deal get boxes walmart less dollars heard places seriously pricing states ymmv',\n",
       " 'thorougly disgusted betty crocker product glutenfree bisquick shame applaud excellent cake cookie brownie mixes im not upset coming glutenfree baking mix marketing though equivalent bisquick pricing ridiculously high ingredients regular bisquick enriched flour partiallly hydrogenated soybean andor cottonseed oil leavening dextrose salt ingredients glutenfree bisquick rice flour sugar leavening baking soda sodium aluminum phosphate monocalcium phosphate modified potato starch salt xanthan gumnotice anything missing ingredients glutenfree bisquick yup thats righttheres no shortening oil whole point original bisquicka baking mix already shortening mixed avoids longest messiest step baking things like biscuits people buy baking mixesfor specific convenience betty crocker decided leave shortening oil altogether even though shortening oil always naturally glutenfree cant pretend safetyforceliacs factor costsavings pure simple heres breakdown youre paying pound forrice flour cents pound local asian store sugar pound bag walmart potato starch also cents pound asian store baking powder pound emergency essentials salt ounces mortons xanthan gum ounce amazon yes xanthan gum expensivebut little needed ounce box glutenfree bisquick would contain teaspoon xanthan gummaybe cents worth xanthan gum betty crocker charging times would cost make mix home eliminating major convenience factor cost not regular baking mix dont mind making fair profit especially product really equivalent regular bisquick theyre gouging us misleading product make easily less charge since theres no oil glutenfree bisquick easily stir equivalent make pounds time little effort keep several months want real bisquick substitutes betterbatter org recipe site cupforcup substitute bisquick use shortening nonfat dry milk powder use buttermilk powder even vances dairyfree powder makes cups time stores well dont use glutenfree flouryou use glutenfree flour replacement want like rice flour potato starch local asian store mixed appropriate amount xanthan gum teaspoon every two cups find recipe google search betterbatter bisquick substitute master mix boo betty crocker',\n",
       " 'going gluten free not optional diagnosed celiac disease eating pizza made dough created product optionaland definitely not recommended knew something amiss opened product consistency fine white beach sand putting reservations aside proceeded make pizza dough directed box needless say pizza dough chewy tasted strange would not recommmend product pizza dough',\n",
       " 'must true says package americas favorite cake seem remember check box census regarding cake preference dont think voted yellow cake would voted devils food cake although may politically incorrect days mention know devil may voted german chocolate cake germany know old europe may voted chocolate cupcake without peanuts many people allergic peanuts cant even serve grams salted nuts airplanes sigh hmmm oh yes certainly would vote duncan hines cake feel mentioned not cake yet cake mix sort cake fetus cake stem cell still needs lots development add additional ingredients warmth time develop mix cake promise cake unless follow protocol written box carefully may not get cake depending may get something odd rubbery something dark charred complicated amazon allowed thirdparty vendors offer duncan hines cake mixes sale quite time example duncan hines classic yellow layer cake mix oz unit pack amazon clever retailer obviously read numerous highly enthusiastic customer reviews product started selling products directly customers many must begging six pack product readily available supermarket convenience store order enhance customer demand amazons copywriters outdone listing products outstanding featurespack six ounces oz lighter moistest deliciousa special treat special peopleof course special people must voted duncan hines yellow cake mix thats americas favorite cake makes perfect sense democracy great country great cake mix another thing know get six boxes cake mix enough mix incubate big sheet cake would require large incubator oven could also prepare tall layer cake would kind look like miniature version coit tower san francisco certainly enough moistest delicious yellow cake large number special people finally charming aspect page product amazon suggests customers bought product also bought cottonelle fresh flushable wipes refills case ct obviously special people anticipate getting cake six boxes cake mix bound make mess kitchen later cake crumbs lips chins fingers cottonelle fresh flushable wipes could come handy smart',\n",
       " 'made one daughters birthday party everyone died uranium poisoning still tasted pretty good though',\n",
       " 'ordered collection arrived although wellpackaged not prevent usps managing break one tubes seller contacted email replacement requested birthday gift occasion week away offered pay expedited shipping seller responded immediately stating replacement would shipped asap replacement tube arrived three days later good shape offer pay additional shipping charges declined summary product excellent customer service absolutely first rate highly recommend product seller',\n",
       " 'not greatest thought would great hand guest come not not expected',\n",
       " 'dont know sugar sand time since ingredients kavli crispy thin listed amazon time received order sugar added product going get trouble mister',\n",
       " 'looking actual organic dog food newmans not way go accidently purchased thinking claimed front package read ingredient list find basically everything else chicken organic drugs hormones fed conventionally raised food animals ingredient important one organic',\n",
       " 'cringed little reading ingredient list way much grains not enough quality protein dogs notice beginning means make quite bit diet soy protein included dogs dont well soy mine meat protein source dog food not grains not recommended furry ones',\n",
       " 'purchased two bags dogfood one week feeding newman brand dog started vomiting eating gas time lied around whimpering due stomach ache checked stomach disorder took newman dogfood symptoms disappeared sent three emails newman dogfood website no replies acknowledgement phone number not available dogfood expensive customer service non existent',\n",
       " 'pick grocery store brand running regular innova dog food fed lb dog week could not believe amount waste brand produced going times day unbelievable goes show much filler food would never recommend',\n",
       " 'dogs sick food one actually almost died ressucitated spent vets bills decided call fda analize food found ethoxyquin pesticide [ ] want make sure someone problem must known im still not happy incident decided not pursue longer still feel people know organic companies cant get away misleading people everyone exposed would better world think newmans organics chicken rice advanced dry pound',\n",
       " 'put dogs bowl first time dogbob saget licked bowl clean ol ol put uranium ore bamy waowi turned green good results next day eyes startes glow took daily stroll looked neighbors cat levitated exploded good results think ill try people world dosent need',\n",
       " 'never even consider dog food corn wheat soy grain no place dogs diet',\n",
       " 'say beginning not tried food sold said oh boy made paul newman good not catarized organic deceitful advertized partially organic wont upset important thing want organicthe meatis not cares veggies r organic well yeh helps def dont normally raise veggies antibiotics etc etc organic ur looking walk aisle castor pollux organix dog food every single ingrediant r g n c shame company one fav actors im truly surprised let reviews organic',\n",
       " 'cannot express enough pleased dog food feed year old german shepard two year old pittie girl food every day benefits astounding shepards life fed well known vet recommended food yet always stomach problems trying many things not rescued really say rescued dog food recall began research brands food long investigation decided newmans not no recall food ingredients proceeds going charity choosing brand would mean would order online local stores not carry right not enjoy online ordering older disabled woman getting store hauling packages hard well want tell year old thrives food no digestive issues beautiful white coat loves eating vigor two year old american pit bull terrier another love life also thrives food beautiful shiny coat ever people say time beautiful coat spoil fur kids health well number one priority recently switched feeding cats newmans cat food dry canned food since noticed difference elimination hair balls know truly pet lover believe love pets want best well unnecessary medical issues around good health good balanced safe natural food way go highly recommend newmans dog cat food also feed two dogs newmans biscuits treats',\n",
       " 'adopted dog raised bunch frat age boys imagine diet burgers fries icecream cheapest dog foods market no wasnt crazy newmans dog food switched think people react healthy diet beginning makes sense takes time taste buds adjust not want artificial ingredients put food almost year dog molly bouncy healthy almost allergy free gets dry newmans fed free style ounces newmans canned every day weight stays stable pounds perfect treats real meat jerky strips times week another note diet made doggy duty much easier never vomits anymore scat always firm making easy clean regular clockwork plusses make enjoyable dog owner',\n",
       " 'dog years old last couple years stomach become particularly sensitive tried various brands dog food settling newmans dog loves not trouble stomach hard find though buying small local organic grocery store carried smallest size paying almost twice much amazon set amazon ship monthly',\n",
       " 'using newmans organic dry dog food years godsend discovered little jack severe allergies tormented day night unrelieved itching trying endless avenues find relief point thought might put find relief idea came maybe chemical sensitivities decided go organic deals miraculously cleared started newmans however giving glowing reviews many years concede something changed little jacks itching returned point drawing blood clear something changed believe clearly no longer organic hunt not saying not good quality ingredients dog highly chemical sensitive likely not bad superior product',\n",
       " 'ive yet find dogs know love still allergic dog eating hungry eat without doctoring vet doesnt want feeding people food add newmans happy hips canned ive talked couple vets prescription diet push big company brand names common objection appears soy used newmans increase protein count willing put little flavor feed may dog high quality social responsible food may person made following mistake assuming catch amazon sales make sure ordering bag size want thought getting good price one order food came seven instead twelve pound bag',\n",
       " 'originally bought replacement science diets id always much expensive anything else id also expensive newmans local vets office ton issues getting dog accept dog foods past tried pretty much every brand buy pet shops always problems dog scratching ears get bright red found problem one cases almost went renal failure eating milkbone treats needed something organic without lot beef one biproduct protein doesnt seem bother dog also normal stools every time wasnt case even id dog hated id would often leave good portion ground bowl rarely ate entirety newmans night day scarfs less couple minutes usually eats bowl one sitting seems like loves way eats couple reports reviewers originally scared reports scratching exactly problem dog foods gave try husky never problem since almost three months husky always problems digestive issues seems one dog food likes not problems side note wish newmans offered bigger size bag order time due pound bag husky kills bag roughly two weeks due size still works cheaper bag pound id ordering im still happy science diet sending poor house',\n",
       " 'adopted dog months ago digestive problems vet could find no cause would get diarrhea mucous stools regularly stools would vary constipated unformed soft stool decided switch better quality food lot research newmans qualities looking switched gradually purina one newmans first gradually newmans mix finally n ever since switching six weeks ago not constipation loose stools also dont hear tummy roiling meals like despite reviewers written chicken beef used pet food not organic natural raised without hormones antibiotics according [ ] ingredients list natural chicken raised without growth hormones antibiotics fed natural allvegetable diet chicken meat provides amino acids essential muscles hormones enzymes antibodies structural protective tissues also beef freerange anad range fed w no hormones antibiotics evidence clear good quality food dog loves love buy newmans products royalties go charity',\n",
       " 'since began using several years ago senior dogs raely need visit vet feeding well know premium petstore brand least time every six weeks love taste newmans keeps tummy tip top shape no food alergies no vomiting made bells evans chicken chicken sold whole foods organic food sellers good enough good enough mr newmans profits go animal shelter rescue organization give food weeks see improvememnt',\n",
       " 'kidding buy day long popular wholesale clubs no reqular stores watch prices guys',\n",
       " 'ive tried different energy shots found hour energy flowery note lavender flavours cant say like _effect_ ok flavour like badflat orange pop otherwise uninspiring think id prefer standard berry flavour shots vs one',\n",
       " 'enfamil premium lipil formula previous flagship mead johnson formulaenfamil lipilexcept prebiotics added son enfamil lipil september september breastfed formula fed time daughter due january also breastfed formula fed first year life tried two formulas sonsimilac advance parents choice similac fine clumped badly time experimented parents choice formula son consistently troubled colds flu think parents choice formula lowered immunity somehow never use believe mead johnsons decision use prebiotics good one son colicacid reflux part digestive system not yet populated good bacteria breaking milk proteins lot comfortable started putting little culturelle probiotic formula evening since lot immune system digestive tract fewer sick days introducing culturelle probiotics prebiotics also help infants rebound negative effects antibiotics like amoxicillin quicker regarding bpa found formula liners talked enfamil customer service representative told mead johnson uses cans lined modified polyester bpa free similac advance earlyshield comes bpafree also simplepac container another concern parents cost formula name brand formulas expensive think feeding human week usually lasts us weeks week peanuts compared hungry teenager devours name brand formulas getting absolute best product availablebill gates couldnt buy better formula whats shelves target walmart new parent feel overwhelmed infant formula section grocery store september suggest starting flagship formula either mead johnson enfamil premium lipil abbott laboratories similac advance earlyshield nestle good start gentle plus good start protect plus excellent infant formulas see works baby',\n",
       " 'one reads products ingredients find first ingredient cows milk sugar diabetic maker milk fourth ingredient sunflower oil fifth ingredient maltodextrin starch produced grain containing sugars maltose dextrin seventh ingredient get tuna fish oil even feature vitamin animal derived four different sugar sources artificial flavor good measure really think feeding babies would use product know wouldnt know food sources',\n",
       " 'coconut water not sweetened actually no sugar ever added sweeting things american custom ruins real flavor coconut water lived jamaica years bahamas coconut water real coconut not added sugar natural stick buying brown hard shell coconuts supermarket drink natural unaltered boxed caned packaged coconut water nasty still yet try brand one many tried make wanna buy',\n",
       " 'someone goes lots thyme use everything except cereal pleasantly surprised see product amazon reasonable price looks smells tastes like thyme not beat not running grocery store paying x tiny bottle would last maybe weeks house',\n",
       " 'youre setting whole transferring container later use flip use opener remove bottom pop top releasing vacuum holding food place whole thing slide cleanly much easier tidier scraping spoon',\n",
       " 'cat grass seeds sprout easilyyou sprinkle top kind moisture retaining soil peat moss cats eat sprouts quickly suggest purchase multiple seed packs insure would sprouts ready first wave gobbled drawback shipping costwhich seed packets thats another reason order multiples shipping cost several packages single packet',\n",
       " 'good stuff however planted no cats grew grass',\n",
       " 'cat grass not treat cats love eat also good help deter away eating houseplants cat often nibbles houseplants throws im always afraid damage digestive system cat grass around though eats really chows makes happy cat grass also good cats contains vitamins may may not present cat food aids digestive system helps eliminate fur balls even not green thumb cat grass easy grow anyone also great project kids seeds sprout quickly keep moist grow quickly inches window sill cats cat grass must',\n",
       " 'packet seeds received must old dont believe even grew tried several times soil water got sprigs grass garden regularly live florida not dont know even followed instructions letter not grow',\n",
       " 'fact title product includes number misleading im not even sure number refers tell not refer quantity gumballs package true product details stated actual quantity apparently glossed fact price still good deal compared vendors amazon not quite good originally thought shipping took week longer expected receive apology email gumballs well packaged would buy vendor assuming consumption gumballs not kill',\n",
       " 'received case tea tastes good bit sweet side not overly sweet would give higher better rating not made china though',\n",
       " 'discovered earths best oldest started solids years ago limited selection offered variety regular brands bought jars trip flavors couldnt get another brand second child added rd baby started larger brands wouldnt eat blame theyre runny lacking flavor not mention no matter good sweet potatoes many jars eat gobbles every jar earths best without problems introduce new flavor hes agree posts flavors runny add tsp cereal problem solved earths best expensive calculated every weeks food costs buying brands however decided since eats vs picky brands wash want use earths best baby wout breaking bank try tipsvisit earths bests website print coupons theyll allow usually family friends samebuy whole foods good prices buy lot give bulk discountyou also buy case meijers less cheaper',\n",
       " 'thought kid favor invested case earths best dinners unfortunately second ingredient water applesauce case sweet potato chicken variety sweet potatoes followed apricot puree getting used sweetness try em theyre like jam difficult kids adjust real food im going stick pureeing homecooked food lot cheaper',\n",
       " 'dont let earths best name fool stated multiple reviews check ingredients no wonder many positive reviews theme kids eat earths best well thats sweetened one worst things feed child regularly develop sweet tooth quickly start rejecting pure vegetables good things no need inject applesauce sweeteners foods thats shameful one reason child eat want brand best advice must buy premade food sure ingredients main ingredient needed water thats dont buy vegetable applesauce another silly ingredient added make child love want brand sweetened shame earths best company kudos marketing department creating name whereas consumers automatically drawn think great product based solely name',\n",
       " 'latest updatewe past baby food stage may missed formally announced recently heard switched packaging late completely bpa free confirmed customer service leaving remaining review wife made baby food daughter first eight months daughter going begin daycare certain convenience factor send jars baby food bought earths best organic figured closest bought brand making variety packs nice easy way stock different kinds baby enjoy enjoy several flavors though hated well pleased baby seemed pleased needless say pretty surprised read review bpa lids spent time trying verify lot different blogs stated couldnt find anything definitive heres bothered clearly earths best knows people concerned bpa lids facebook site littered people asking question admin answers way food safety baby health highest priority call us discuss thats slightly paraphrased going website zero articles bpa none faqs section either nothing im not worried enough issue stop using purchased would felt whole lot better company products would acknowledge parents concerns tell parents something hey check food laboratory testing regularly amount bpa found food x low no health concerns say something anything really want onus customer contact keep using productas taking time review product decided would call give fair chance explain something likely wouldnt done wasnt writing review office closed pm est not convenient times working parent attempt follow update accordingly updated old spoke someone customer service says liner comes contact food bpa free another section lid behind liner contain bpa section lid not come contact food im sure not everyone okay answer im ok still think answer thats readily available consumers without calling say no hold time least',\n",
       " 'response got emailed question bpa lids glass jarswhile earths best foods safe earths best organic jarred baby food converted packaging not use bpa october satisfies concerns include number people questions please feel free contact us monday friday pm mountain time dont know dont advertise packaging website etc would reassure lot parents',\n",
       " 'disappointed find lids earths best jarred foods coated epoxy lining contains bpa thought avoiding whole bpa issue glass rather plastic containers lids going get food food moves around jar packaging shipping storage etc planning devoted earths best jarred food user organic glass found bpa note bpa doesnt bother earths best food tasty',\n",
       " 'several broke transit causing mold grow jars jars cheaper walmart',\n",
       " 'food phenomenal way overpriced pay case new york city often sale less case babiesrus new york city grocery prices obscene ny paying less no deal',\n",
       " 'bad tastei finish giving away son started cry everytime tried give prefer beech nut gerber yuck',\n",
       " 'reviewer florida extremely kind review gruel not even fit farm animals ive lived hawaii mostof life shopped mostly local health food storesso hadmany many different batches basmati rice amazon sent notedible opinion not long grained basmati notcook fully cooks soon not need full amount ofwater basmati usually tempted contact fda see really apologies reviewer florida listened andpassed frustration amazon not allow returns groceries needless say stuck several pounds inedible rice',\n",
       " 'maybe used extract oatmeal amount mccormick extracts cant taste flavor disappointing',\n",
       " 'wasa crispn light inside packaging cannot recycled crackerbread excellent inside packaging cellophane type plastic cannot recycled anywhere six states contacted todate wasa not revealed inside packaging made recycle',\n",
       " 'first experience bad darjeeling hadnt known thing first brew yielded dark rust color tinged olivegreen bottom cup invisible taste sharp astringent thinking id brewed long strong set first cup aside tried light brew minutes improved clarity however nothing tried since removed level astringency furred taste associate lesser teas wet leaves typical size light brown unexpectedly interspersed limp green squares aroma dry tea bag reminds old hay neither moldy spoiled old contrast davidsons keemun conjou arrived shipment smells tastes like delicious keemun conjou nothing else given price knew gamboling consider lost bet given product two stars instead one havent thrown yet keep supply liptons bulk tea emergencies long periods unemployment dont really need emergency tea perhaps work iced tea no means expert value tea hope opinion helps buyers trying decide two darjeelings davidsons ships quickly value pricing not giving merchant particular darjeeling',\n",
       " 'price right organic tea great price thats far goes ive tried davidsons far lack character',\n",
       " 'extremely good deal placed order tuesday got package saturday packaging good vanilla beans vacuum packed well comes heavy ziploc bag open vacuum pack vanilla bean little vanilla beans every grocery store go wegmans whole foods weiss etc etc carries vanilla beans usually sells packets vanilla beans typically buy vanilla beans time thats basically youre saving',\n",
       " 'professional chef specialize mostly pastry cakes desserts plays hell diabetes love creating delicious dessert friends small gatherings usually buy vanilla beans tijuana mexico get good quality decent price mean beans tend supple shiny aromatic decent price mean usually costs around per piece saw halfpound package low price skeptical figured would not big risk bad always return ordered jan got jan free twoday shipping another great feature amazon prime membership believe excellent value beans high quality gourmet bourbon means moisture good thing shiny nicely oily want oily surface one part lot flavor located part seeds reason bean split seeds scrapped used beans fresh shown flexibility beans grow old dry get brittle still usable not good come sealed vacuum bag inside zip bag even double packaging scent noticeable complex large quantity beans not going use rapidly recommend separating two three bean lots vacuum packing optimal shelflife keep mine wine refrigerator gets cool not cold keep pounds various chocolates excellent deal good quality cant figure manage make buck one',\n",
       " 'ton vanilla beans package supple fragrant smell without breaking seal truly fantastic deal',\n",
       " 'prince tea brand teas great premium oolong tea good found like organic oolong taste better premium generally costs less prince tea well known environmentally concious company youll well buy products',\n",
       " 'delicious oil walnut flavor really stands keep oil refrigerator preserve freshness taste definitely shake well use everyone comments good tastes whenever use pretty universal appeal make salad dressing using walnut oil blood orange vinegar honey ratio ingredients e g cup blood orange vinegar cup roasted walnut oil cup honey adjust taste buds mix blender hand blender shaking jar blender mixes much better especially thick honey wow wonderful salad dressing way use blood orange vinegar cuisine perel blood orange vinegar available via amazon wonderful flavor',\n",
       " 'make extended butter using oil water liquid lecithin best tasting spread ever much healthier walnut oil keep mine refrigerated preserve wonderful taste aroma tends settle sure shake using get full flavor consistency didnt know first container got bottom thick almost sludgy roasted bits amazons price pretty fair although occasionally find locally tj maxx bit cheaper must say ordering amazon getting shipped straight convenient ive never problems damaged leaking containers product well maybe small dent metal thats',\n",
       " 'ive used la tourangelle roasted walnut oil barbeque season past four years great product wont fireup hibachi without along various vinegars ill splash mushrooms peppers whatever veggies garden main dish usually tofu special marinade one ml lasts one season two keep well refrigerator little shoppingaround ive done think price would hard beat',\n",
       " 'found oil bit weak taste expected stronger walnut flavor hope not chemically produced like truffle oils',\n",
       " 'baby enjoyed flavor purchased store ordered case amazon whole case arrived moldy jar popped opened showing properly sealed contacted earths best said would look would not follow given going food industry not purchase products company scary feeding baby amazon refunded not take careful inform families update disappointed lack concern earths best amazon contacted fda referred usda product contained meat took serious also received several complaints come house written report anyone else noticed problem please contact usda report claimproblem investigate problem earths best plant make sure following regulations',\n",
       " 'lets honest severe anxiety depression issues gone whole life prescribed dozens different meds help nothing also dont insurance literally put hundreds month try new drugs didnt help importantly side effects sometimes bad worse symptoms also tried natural cures didnt help several friends suggested smoke hemp natural cure im not im not smoker ive professional jobs could tested anyway thought lets check amazon see natural hemp products available first tried hemp powder also reviewed youre interested tasted like sand take year able finish lb bag thats ever tried im honest reviews wouldnt recommend didnt truly help not placeboeffect thing either tried many meds even possibility trust one thing tell certain within first week greatly noticeably increased energy levels done around house past months ive done past years gone subscriptions energy hasnt gone away big tall person take morning night usually anyone depressionanxiety issues knows sometimes barely feel like getting bed days get heavy feeling like theres lead veins youve understand im talking say honesty given way energy helped heavy feeling guarantee work no aunt mom tried couple one time didnt notice difference sure worked taking daily tell least try doesnt help dont buy sure worth try might help much take supplement rest life far im concerned thats much helped hope works',\n",
       " 'not really sure expected since like ghirardelli chocolate like hot chocolate hot mochas coffee shops thought id like product unfortunately despite following directions making milk not rich satifying hoped hate say think swiss miss mixed instant coffee tastes better thats unfortunate four pack cannisters im half way first one',\n",
       " 'licorice freakin rocks man like take licorice ropes choke self till im blue chew way man stuff like crack want roll smoke like big fatty',\n",
       " 'bought kit dabble spherification item asdescribed arrived time complaint instructions measure required chemicals fractions grams kitchen scale measures low gram not fractions grams cannot find kitchen scale measures fractions grams therefore find kit difficult use would not recommend kit requires purchase specialized scale measure tenths grams',\n",
       " 'welcome heaven judy whatyes arrived whatyou asleep thanks celestial seasonings sleepytime tea dont remember going sleep point exactly thats call heaven youi sleepytime judy asleep welcome relief knowing pleasant calming antidote stresses relentlessly busy mind sometimes refuses shut walk kitchen put kettle pull celestial seasonings sleepytime teabag place favorite cupmine slender version blue willow cup pour water boiling point wait tea steep meanwhile pick boxhow many times nowand read words natural herb tea caffeine free comforting blend chamomile spearmint creates lullaby tender flavor soothe senses lets curl quilt flavor quiet tensions world sweetest way think day done emily dickinsoningredients chamomile spearmint lemon grass tilia flowers blackberry leaves orange blossoms hawthorn berries rosebuds take cup back bed look last panel box theres papa bear asleep cozy chair front fire mama carrying baby holding hand another taking bed open door one see two little bears already asleep bed cozy room happiness warmth promise sleep sip cup sleepytime tea quickly almost gulping learned sip usual slow sipping fall asleep halfway finished efficacious tea really',\n",
       " 'cat loves fancy feast cat food variety pack particular makes mealtime veritable newsworthy event always eats loves tell get eight cans ocean whitefish tuna feast eight cans savory salmon feast cod eight cans still sole shrimp feast good food nutritional content always look buy food cat theres vitamin e b b like naturally ask vet concerns cats personal individual needs nutritional content daily diet catch sale stock however would use cans food within six months buying overall one better brands cat food recommend cat love nutritional content great',\n",
       " 'drawn product called feast somewhat put fancy feast cat certainly deserves feast mean runs ragged morning till night going mice end day hes bushed frustrated since declawed dont need anything fancy thats sure want enjoy cat feast leave hes not one cats prances around bushy tail waving around like lady feline know tubby toughie would cat heaven changed name fighter feast beastly feast im giving product stars five stars pretty great feast minus three stars name offends tubby toughie plus one star like lick',\n",
       " 'little wary ordering reviews said super salty way tough gave shot anyway dont know ordered different flavor teriyaki got lucky nonetheless think jerky strips best ive ever admit fact little salty nothing ice cold cola beer choice wont fix per tough munched five six right container soon opened couldnt stop good chewing jaw none worse wear real jerky fans definitely worth trying update little research curious everyone thought jerky salty looked nutrition facts flavors original peppered contain mg sodium wood smoked mg teriyaki mg sodium thought others salty worried jerky salty try teriyaki highly recommend not salty hint sweet teriyaki still nice pepper flavor well',\n",
       " 'many people buying food believing safer made new zealand made us performance pet products feeding food cats since recall horror prior change excellent food thrilled since ziwipeak switched canning us nightmare several times last year opened food find green blue colour return cans made cats vomit loose stools also recently found large sharp bone pieces present large strange chunks greyish pink material looks like connective tissue ive contacted us distributor twice never replied batch got month expiry date caused severe vomiting shedding cats previously healthy',\n",
       " 'moved europe us settled apartment etc week decided wanted candy went supermarket started looking mms weird red bag caught eye thought hah country funny put instead mms bag different took one bag home try grabbed handful presumed mms surprise obviously not bargained considered ditching wrong purchase instead figured id give weird stuff another chance time realize mortal soul could _still_ saved point next days addiction set found longing flavor bag wouldnt reckoned first would actually buy many bags purpose willpower eternally challenged stomach never like jaw numb endless compulsive chewing feel teeth desintegrating right take another dose forever ache soothing acidic taste theyre delicious ought outlawed',\n",
       " 'im runner miles week currently training chicago marathon ive tried gels chews favorite dont like gels squirt mush activates gag reflex plus always need water ive tried brands energy chews think sharkies good sticky not tasty clif shot bloks nice package sticky fingers gu chomps super sticky caused nausea powerbar gel blasts good tough chew cold honey stinger chews easy chew dont need water dont stick teeth either main selling point taste good dont cause nausea no matter im sticking ones',\n",
       " 'theyre not compact gels like gu great marathoners empty bags small plastic baggy carry baggy neoprene pouch try eat chews every miles beginning mile water wash helps isnt necessity easy eat run good consistent natural energy electrolytes no stomach upset always got w gu',\n",
       " 'good alternative candy still lot sugar better form sharkies energy sports chews not quite sweet healthier becasue man ingredient brown rice syrup complex carbohydrate low glycemic index hypogylcemic brown rice syrup agave nectar two natural sweetners dont cause sugar crash reason stingers get stars sharkies get want sweeter sharkies get kids version like stingers no brown rice syrup oh brown rice version fill faster complex carbohydrate dont cause blood sugar fluctuations',\n",
       " 'switch orange tangerine soda attempt made fruit soda real fruit juice real fruit flavor no added sugar mostly succeeded glass switch looks like juice lightly distinctly carbonated easy drink orange tangerine flavors true none burn fake orange flavor hit tangerine really nice greatly enjoyed flavor problem switch sweet taste surprised sweet given advertised no added sugar ingredient list mentions grape apple juice concentrates thats get sugars without adding sugar fruit juice concentrates loaded natural fruit sugars nutritional label tells story oz grams sugar thats cocoa cola grams per oz bottom line sweet bad flavors awesome sweet tooth maybe',\n",
       " 'living germany several years acquired taste apfelsaftschorle schorle short apple juice sparkling water soda water cuts sweetness gives juice little tang makes drink better hydrator juice makes soda water little interesting usually drink fruit juice way switch premakes schorle blend orange citrus rather apple good regardless tried straight would better ice mixed little soda water little less juice ingredients juice sparkling water couple stabilizers without two pet peeves artificial color especially red high fructose corn syrup enjoyed recommend excellent alternative conventional soda e van court',\n",
       " 'looking forward tasting switch orange tangerine drink since orange tangerine flavors two favorite disappointed result tangy tasted ascorbic acid smelled orange candy reminded breakfast reminded yes powdered tang mixed carbonated water followed strong unpleasant artificial aftertaste found drink simply not good tried like beverage appreciate concept considering unusual flavors high calorie count cals oz cost almost dollarserving cannot recommend switch',\n",
       " 'look like good idea wife thought would give try pretty easy use thing dont like mess make machine even top secure leak machine keep cleaning filter basket gets sticky would advise use something better like ez cup',\n",
       " 'looking disposablereusable kcup designs think forgo purchasing time continue use tried true free method free cost original kcup using kcup filled coffee youve purchasedtake aluminum lid seals top empty grounds trash compost rinse inside see already filter inside fill coffee place small square aluminum foil top sure make tight sealed around top edges cup reuse cup times many long filter holds redo steps cup make',\n",
       " 'known design flaw gasket upper needle hear screams reading reviews cup gasket moves much result not seal correctly green mountain seems not want fix since means selling less overpriced coffee machines designed no matter method use learned carefully reach pull little washergasket far upper needle ensure better seal avoid overflow importantly put disposakup press make sure lower needle pierced cup completely make sure flow water streams cup fill tap cup counter settle coffee grinds cup not press coffee pack key take couple extra seconds work perfectly save money love mine ordering available',\n",
       " 'daughter lives hawaii sent great coffee keurig not sure use new coffee got fast fast using hawaiian coffee great product',\n",
       " 'like white popcorn grocery store option live jolly time not bad fun started ordering various white popcorns online far best white popcorn wish little less expensive weve decided really much better others snappy white popcorn snobs',\n",
       " 'snappy white popcorn excellent pops nicely great texture extremely fresh taste times better store brands imo give try',\n",
       " 'although kernels may not large fluffy popped really enjoyed first pop great flavor consistency recommend using hot air popper microwave nopops',\n",
       " 'tried pumpkin seeds past chances heavily salted seasoned deprived nutritional value taste consistency styrofoam fortunately neither description applies indeed raw removed hull easy eating no added salt nuisance chemicals delicious nutritious snack mix raisins andor sunflower seeds healthy snack rich zincother vital nutrition use breads cereals flavor favorite recipe',\n",
       " 'red mills pumkin seeds simply best seeds pepitas dont come even close red mills seeds crunchy tasty product u not china like pepitas well worth price',\n",
       " 'usually healthy food hard swallow not fresh crunchy delicious pumpkin seeds switched potato chips wife tells good prostate know im taking word',\n",
       " 'bobs red mill pumkin seeds came great box inside box well packaged extremly secure shelled seeds cannot say enough quality packaginga really nice thing mebecause takes time finish alland stay fresh secure special care taken packaging quality seeds good uniform appearance well shaped appetizing healty looking price totally right us need closer bulk level foods came multipack carton not items bob red mills manyand grains nuts seeds diet childrens diet even pets diet cannot recommend line enough youfor fresh healthy eating try',\n",
       " 'not black winter truffles tuber melanosporum thought price good true even though arent fresh tuber indicums says right label angry jr mushrooms said refund truffles even let keep give jr credit excellent responsiveness customer service although still feel not labeled black winter truffles',\n",
       " 'every seller like jr mushrooms world would much better place wont stop customer completly satisfied ordered winter black truffles got package lightning fast came find wasnt ordered called jr said sent better quality black truffles cost price story doesnt end even sent jar original truffles ordered taste diffrence free name another seller would',\n",
       " 'finally company cares reputation products ordered truffles recieved securely packaged protected ensure arrived safely quickly possible even planning special dinner friends entirely based around truffles ordered please also saw products company carries attention detail information provided every product outstanding like quality e saffron found gourmet source',\n",
       " 'true story surfed online looking difficult expensive find gourmet ingredients came across listing every review raved excellent service provided jr mushrooms phoned ask question refrigeration vs shelf storage got voicemail left message five minutes later man personally called gave friendly professional answers questions ordered truffles several items next morning little personal email jr thanking order noon order arrived although chose cheapest shipping best customer service ever experienced online shopping thanks',\n",
       " 'first package lost mail jr shipped backup no charge hour shipment',\n",
       " 'not truffles excellent package arrived record speed standard shipping chosen pleased truffles experience company ordering',\n",
       " 'though product lack flavor taste different brands far better no real flavor expected sorry',\n",
       " 'truffles not great made thought price would greater taste didnt much taste not worth price find not buying truffles im not going spend fresh one',\n",
       " 'happy way turned similar traditional american beers budcoors extra kick flavor smooth creamy head ends slight bitternes great beer start new brewers veterans alike anxious wait age drink weeks taste good get better age make sure put fridge carbonates lager ages taste best colder conditions',\n",
       " 'cornflour period ground masa make good corn tortilla great flavor tortillas real pain fanny make many people worry doesnt look like commercial tortilla ill bet crooked leave tia rosa dust hardest part getting mix right need rolling pin two pieces wax paper make get hang really dont need tortilla press really need practice',\n",
       " 'corn flour isnt treated lime treating corn flour lime gives fairly distinct bitter aftertaste dense construction chocolate chip cookies made masa harina tastes like tortillas meant little bitter bricks chocolate chips eek wish corn flour writing none major mills americasthat means north southmake glutenfree corn flour not even bobs red mill anymore bless integrity say soalthough hear order someplace canada cut clueless texas roadrunner face masa harina sorry guys',\n",
       " 'preserve really delicious aromatic not sweet piquant cut right size pieces spreading not lumpy jammy ive wasted money many different preserves eat teaspoonfulls usually find sweet sit frige finally throw away brand ate months really fast stayed edible condition fridge last spoonful amazon listing four bottles containing pound preserve bottle costs plus shipping',\n",
       " 'first purchased food pomona pet expo year cooking animals looking natural grain free dry add wet learned feeding dogs right food early age key keeping healthy long possible far one best natural foods purchased dogs love holistic primitive high protein well tolerated sensitive stomachs food never recalled made plant unlike major brands manufactured plant different names price find fare paid much higher holistic food not received well dogs highly recommend earthborn natural food anyone really knows importance feeding companions healthy food really love pets',\n",
       " 'ordered several plants seller quite suprised find plant much larger expected full six heads well packed every plant got shipment thriving happy two weeks nothing failed thrive say others bought buying company',\n",
       " 'got mother love named harold though dont flies give growing well diligent make sure trim heads start turn black not let plant dry isnt much work cant wait get bell jar keep windowsill',\n",
       " 'received plant paid extra quick delivery secure plants condition arrived time however arrived wrapped moist news paperwithout protection plant plant completely smashed complete waste time money paid shipping item didnt bit good disappointing',\n",
       " 'god anything stuff cant dorecently snowed holy hell rock saltwith ensafen driveway sure enough meyebergspowederized saviour came rescue sprinkles remarkable jesus every last bit ice didnt melt literally sublimated away leaving bare dry actually kind unnervingly warm concrete beneath however managed turn snow ice cream also apparently induces water wine proximity alone however since occoured never able reproduce breathtaking effects except oneit makes rich quishe',\n",
       " 'given track number told delivered pobox never happened received refund process wating new reorder',\n",
       " 'prefer powdered milk condensed form meyerberg sells condensed sour flavor one realize goats milk not cows milk richer creamier flavor startle one palate gets used something tastes different warm honestly tastes close milk product taste cold slight powdered milk processed flavor actually made ice cream powdered milk turned pretty good like ice milk milk different enjoyable quite sweet recipe quart milk scoops powdered milk made warm allowed chill cup white sugar tsp vanilla flavoring try flavorings like banana tsp saltmy electric freezer freeze minutes like powdered ease keeps well make quart keep weeks hand not wasting forcing someone limited use drink gallon milk granted one used cows milk something one get used allergies glad comes nice metal plastic lid reseal pop top plastic measuring scoop get right one make quarts milk',\n",
       " 'really not know issue goat milk one year old daughter suffered horrible constipation since switching cow milk birthday month us suffering help along get drift switched goat milk days passing perfectly soft stools goat milk definitely cured constipation open seems different sometimes reconsitute know right away going taste terrible smell strong cans hardly notice not drink badsmelling milk tried nearly vomitted majorly salty gamey tasting compared fresh meyenberg fridge section grocery store well really doesnt compare found fresh taste sweet like cream little gamey aftertaste nothing like slapyouintheface taste powdered hoping save money powdered since chance wont drink certain cans really wasting money thinking stick fresh anyone ideas difference cans could would love hear always prepared brittafiltered water warmed stove mixed pyrex stored large ball jar fridge know prob call company talk would require actually remember time open able never happens thanks',\n",
       " 'used meyenberg powdered goat milk first litter pups five years ago pleased made sure stock second litter born supplement mothers food mix ground puppy food make puppy gruel transition pups puppy food pups mother seem love suffered no digestive problems dissolves quickly warm water convenient easy store recommend nutritional supplement nursing mothers pups',\n",
       " 'almosttwoyearold allergic cows milk give mixture goats milk rice milk liquid goats milk expensive least live switched powdered form months ago dont drink milk son seems like okay goats milk products distinct flavor either love hate love goat cheese goat butter wife hates judge',\n",
       " 'best stuff going child unable drink formula soy milk used son baby started months old allergies doctor said leave soy milk even though causing much discomfort couldnt let son suffer took upon put goats milk ended healthy kid doctor also convert',\n",
       " 'threeyearold daughter drinking brand goat milk last years dairy intolerant great product easy carry powder mix need awesome price less usually pay three cans',\n",
       " 'must odd man powdered goat milk horrible month old son allergic dairy soy hence reason goat milk going vacation two weeks afraid would not source goat milk destination drinks almost quart day regular liquid goat milk purchase trader joes figured would go gusto buy two weeks supply smelled horrible importantly tasted horrible words cannot even describe disgusting stuff poor son almost threw tasting prompted smell smelled bad couldnt even taste maybe used regular brand drinks advice try small amount first not returnable',\n",
       " 'product easy use good people pets lactose intolerant use treat ferrets love help sick ferrets feel better gain weight thank offering something easy use',\n",
       " 'not say no antibiotics called company asked not say first tells no antibiotics fda wont allow put said lots companies put no antibiotics label said making new label felt definate flippant attitude felt like wanted get phone well canceled autoship goat milk looking another goat milk puts no antibiotics label know good goat milk companies',\n",
       " 'good tea good blood pressure tastes good smells good webvitamins good place order fast efficient especially amazon gobetween',\n",
       " 'court understand youre not supposed testify anything dont direct experience discount review want since second hand experience soup gave case soup young friend college student worry starving never mentioned whether liked soup asked finally admitted quote worst thing ive ever tasted apparently boyfriend also tried thought bad well friend rather picky boyfriend much wider culinary range disliked soup im inclinded think not good',\n",
       " 'one chicken jerky type treats thats made usa connecticut isnt made china time time recalls types treats come china not buy treats made china pets sure tad expensive long run save money not vet bills save health pet call kitty dog candy come running room house hear bag open love bravos real meat treats',\n",
       " 'write letter considerable thought anguish friday morning february awakened screams fiancee lori sat living room floor cradling greta yearold registered female pug greta crawled coffee table choked death alone purina busy bone im left wondering purina company name iconic betty crocker bayer gerber general mills could not manufactured lethal product ive since discovered internet issues deaths dogs time not pulled dangerous item shelves find absolutely appalling im yearsold ive put trust purina products since child beloved greta purchased breeder adorable puppy fall dead product lori sweetheart years stroke victim certainly without kind stressful catastrophe great animal lover heart torn asunder shes simply devastated angry know united states citizens spend pets children familiar westminster kennel club dog show series includes worlds finest breeds competition best show including chinese pug idea loss weve suffered negligent hands could talk money paid greta breeder spayed dont breed beloved pets keep loving companions long regular checkups shots find bitterly ironic veterinary office use within walking distance kroger store purchased killing busy bone yearold father lives alone visit least twice week sometimes time allows certainly appreciates visits also fulltime companion spencer jack russell terrier spencer turn may dad disabled uses walker scheduled heartvalve replacement surgery cleveland clinic myriad health issues yet despite managed take good care dog believe werent loving attention spencer gives dad would not alive today dog given something special gift life something purina stolen away us youd think purina would consideration welfare dogs country disabled yearold man tragically thats not case yet theres also male pug named winston tenacious bulldog features etched amazing face winston churchill winston like greta truly individual soulful companion like us hes subdued hes actually depressed playmate disappeared doesnt understand concerns professional photographer writer trade work general public present side instills confidence writing nature requires certain state mind well result losing greta think handing busy bone not knowing would snatch away us forever short later guilt killing write anything grief passes say tragic memories remain fixed lifetime makes things worse case gretas death could prevented though winston greta liked busy bone several times past greta gagged served smaller portion time careful observation assumed resolved problem retrospect responded concerns lori expressed potential danger begin brief moment another room greta died product product even exist wasnt least labeled choking hazard didnt purina conduct adequate safety research releasing product stores answer selfevident gross negligence negligence caused death not beloved greta dogs indelibly left mark loris life well never able erase painful images seared minds lying still floor lie awake night thinking well remembering digging grave backyard anguish even writer cannot express words closest get special friend utterly distraught greta yearsold healthy prime wonderful loving companion gone forever horrid loss cannot replaced thanks purina least purina pull forms busy bone market immediately conduct adequate responsible research future releasing purina product karl lori former owners beloved greta purebred female pug baby gone forever',\n",
       " 'difficult time trying find aluminum free baking soda finally found amazon shipped quickly seller put several free samples natural beverage mixes really appreciated use pleased product',\n",
       " 'real happy find no stores area carry health food store feel better knowing aluminum free basically use maintain ph around works perfect',\n",
       " 'aluminumfree baking soda something every ic sufferer hand case flareups baking soda effective regular baking soda without toxic aluminum highly highly recommend super fast shipping great seller',\n",
       " 'arm hammers baking soda aluminum free dont write packaging wasnt sure called said no aluminum would state people take product internally leads believe isnt aluminum baking soda researching showed might past not anymore not long time resent bobs red mill writes aluminum free package charges premium product also arsenic free hope label arsenic free assume brands arent dont like kind marketing',\n",
       " 'well bought item enjoyed immensely pink salmon good time ordered received albacore tuna instead pink salmon amazon not returns groceries even not opened see sent personally email raincoast trading company based canada also left phone message well delayed response finally got emails courteous redirected try help center get credit get correct item gone hoops help center amazon no avail found toll free amazon phone number amazon llc confirmed not accept return send correct item promptly shall see awaiting replacement item minor complaint smaller sizes normal pink salmon used ordering anyone want tuna well p updated review sept th finally got ordered item partly amazon rep corrected called sent fast btw cost toll call canada company without prompt reply added insult injury well able order different merchant amazon thank amazon coming',\n",
       " 'used order product per box cans turned dollars double nowhere',\n",
       " 'love flavored coffees never tried wolfgang puck line moved top favorites list first cup not aroma delightful flavor excellent well drink coffee black one no bitter taste flavor isnt overpowering flavor light coconut coffee medium body must admit little hesitant coconut flavor dont everyone around wants cup refuse share',\n",
       " 'wolfgang puck french roast nice bold not bold flavorful cup coffee like coffee people extra bold organic dark roast coffee keurig brewers count kcups pack like wolfgang pucks french roast french roast deep flavor hint sweetness smooth finish good choice morning cup coffee recommended note manufacturer consumer wish would use real coffee descriptions e hints xxx smooth finish rather fluff advertising like bring aromas france home profitez des bons moments enjoy good moments really mean took awhile decide purchase coffee description gave zero idea expect',\n",
       " 'good choice morning coffee like medium slightly bold flavor vienna coffee not real bold coffee medium roast coffee drinkers like flavor vienna coffee house less kick wolfgang puck french roast dark roast count kcups pack little coffee people donut shop medium roast extra bold keurig brewers count kcups pack good flavor slightly sweet good bean taste isnt tough stomach manufacturer please revise coffee descriptions terrible give consumer no information flavorstyle coffee featured want us buy coffee forthright descriptions',\n",
       " 'love rich fullbodied flavor darkroast coffee bought first keurig machine wasted no time ordering dark roast kcups could find initially settled newmans dark roast goto coffee didnt stop like keep experimenting looking something new happened find coffee peoples organic extra bold blend blown away favorite ever since first tried last week saw listing colombian dark roast sold wolfgang puck name processed distributed van houtte decided give try impression itafter brewing cup used oz setting first thing noticed didnt freshlybrewed aroma coffee people xbold however taste another story hits palate medium acidity nice sharp bite gets attention right away finish surprising clean hint spice nutmeg cinnamon slight lingering pleasant bitterness really like coffee think stick coffee peoples extra bold backup brand however keep looking something new knows findnewmans organics special blend extra bold kcups keurig brewers count boxes pack coffee people organic extra bold kcups keurig brewers pack [ amazon frustrationfree packaging ]',\n",
       " 'first must know one roasts green beans home including sumatran also many african varieties like strong cup coffee use kcups work no facility rinsingcleaninggetting water regular machine sumatran coffees generally rich earthy taste would describe tangy almost tried two main brands sumatran kcups puck far best not bold something would get starbucks roasting flavor elements good sumatran cup especially nice earthy taste even aftertaste rich important looking kcup use smallest cup setting coffee not opinion get sumatran love strong coffee watered loses distinctiveness get generic french roast want weaker coffee flavor make mine kcups smallest setting camparison would give starbucks sumatra mandheling rating boldness puck diedrich highly recommend coffee bold coffee lovers provided use smallest cup setting not disappointed best kcup yet tried many newman timothys donut shop diedrich etc addendum since tried th green mountain sumatran gave one star stale bitter definitely stay pucks',\n",
       " 'bought wolfgang puck sampler certainly one favorites ordered bigger box truly enjoying classic mediumroast cup coffee smooth no bitterness would say enjoy donut shop tullys kona caribou like blend label adorable makes smile pop keurig morning',\n",
       " 'taste good opinion coffee decaffinated required info clearly visible warning big red letters mistakenly rely upon get going morning small print bottom box mean point font tells several mornings splitting headaches could avoided caused check several flavors online none say anything one way another caffeine dont know avoid products info clearly stated every coffee sale',\n",
       " 'bad no one else reviewed purchase not bold dark enough stand keurigs rd button tasted little tangy liking',\n",
       " 'bought pack drank almost realizing flavor reminded tastes like hotdog water',\n",
       " 'use product frequently like tofu need press paper towels heavy skillet top works fine get excess water water remove less youll deal sloppiness cooking something previous reviewer not like blank slate taste thats exactly makes tofu great take flavor want impart common marinade placing pressed cubed tofu ziploc mix soy honey lemon lime juice quick search online marinade give ideas many also include minced garlic ginger etc also purchase premade marinade like teriyaki sauce liquid marinade water removed pressing better penetrate tofu even half hour bag works fine saute right pan stir fry veggies add tofu lastit needs get warm firmer style bake brown separately first pour remaining marinade final sauce thicken cornstarch desired handle tofu cubes gently not firm like meats broken pieces taste fine marinated tofu cubes also well kebabs veggies grill plain tofu creams well often good dish requires thickness weve made chocolate mousse well scrambling like eggs great success breading pressed cubes tofu like would chicken general tso recipe general tsos tofu awesome flavor comes sauce dont need marinate first people also freeze tofugenerally remove packaging press firstto give firmer consistency tofu prepare people not like plain dont expect dig fork particluar product great allpurpose nature firm definitely better soft saute etc shelf life would given five stars mustberefrigerated versions packaged fluid seem firmer dont last long house though perfect choice keep pantry usually dated several months',\n",
       " 'greatest stuff planet first think best silken tofu isfirm silken silken needs basically use make mousses desserts food processor instance add melted chocolate chips corn starch add graham cracker crust youve got pie add peanut butter cocoa powder maple syrup make mousse also like add strawberries bananas maple syrup yogurt use make sour cream onion dips vegetables also like make sour cream mexican food potatoesmy omni boyfriend cant even tell difference also good make mayonnaise potato salad recommend food processor blender really get smooth creamy texture tofu best stuff planet order pack got week also like get organic soybeans typically highly sprayed crops worth extra bucks love stuffbehind almond milk vital ingredient',\n",
       " 'find upon grand amazon day morinu feeds like nourishing mother cherishes consents whims wonderful food eschew animal byproducts cadavers tofu strengthening food fit human consumption convenient mighty amazon sent right front porch case post office box free shipping rather driving thirty seventy five miles product three times price plus gas fit food humans food bodies created food feeds us rather kills source consumer may read written selfdeceived tofu mushy firmness must pressed towels cooking confused askcookingeach day least day draw forth serrated knife one sacrificial box excellent tofu without remorse slice hole top great tenderness care gratitude releasing slightest apologetic gentle spurt clearest liquid certain yearning not observe indications written sternly upon short edge box lie box gently upon smooth flat slab wood face take knife gently sliding upon edge top belly box upon edge top gently along bottom edge top time releasing apologetically slightest hint clear liquid revealing thusly means three slits gentle hidden secrets box soft white substance lying shyly within awaiting embarrassment processing feel need explain procedure greater care attention tip point knife uncovers tenderly certain point certain distance corner broad top box side picture product label pictured side reads morinu broad flat side laid flat tip knife say discovers probingly certain point near one corner offers proper resistance without great resistance without little resistance penetrate membrane close corner found hard resistant unwilling although convenient later proceedings distant corner implies simply random slashings without specific purpose purpose procedure serious purposeful intent word therefore point knife penetrates membrane slowly yet purposefully close corner possible penetrating deeply possible without piercing wooden slab beneath certain spurt clear liquid may emerge let prove no inhibition knife reaches depth box slowly withdraw knife slowly diagonal allowing serration softly friction continue separate slight slit along ege box slowly resolutely patiently purpose serration creates ever longer slit along edge closely possible continue first slit along contiguous edge top box third edge inserting carefully knife slowly withdrawing friction sufficient separate membrane without shredding without eliciting muchly clear liquid may spurt forth let us call top right corner box point bottom right corner point b left bottom corner point c upper left corner point begin pierce point proceed turn b c ending forming slit along three edges arriving point withdraw knife completely wipe blade soft dry cloth set aside cleansing may lift flap thus created exposing delicate white contents within feel remiss not address probable misconception writtenonly rhetorical convenience feel compelled necesity correcting counterindication no matter unclear may due severely limiting literary incapacities employing alphabetical coordinates described consumer may discover procedure far efficacious begin point proceed gently yet firmly point b described divergently however please proceed point directly knife edge point c parallel line ab already created yet along opposing edge thusly formed two parallel slits find midpoint point b point c close edge possible probing plunging tip knife cardboard membrane bottom box orientation perpendicular previously used formation lines ab dc withdraw slowly delicately yet sufficient friction angle proceed effectively corner point b withdraw completely reverse knife blade returning deeply midpoint previously entered withdraw similar care opposite diagonal completing slit thus formed entirely point c confident consumer may discover procedure far delightful effective previously described firmly roll back top flap created three slits proceed mercilessly proceed not frenetically ardently nevertheless dice within selfsame box contents slowly gently decisively fresh tip serrated knife recent memory touched no animal part vegetable alone never shall become adulterate blood animal dairy animal sanctified reserved faithful tip never known sense animal vegetable purified thus unadulterate sacred knife dares therefore pierce gentle pure white tofu ruthless grid slits fully bottom box plunging first vertically rhythmically repeated rows spaced gently centimeters apart relentlessly horizontally pushing ever softly yielding unresisting white tofu laid back upon flat slab awaiting without word process utter patience yielding completed repeated slicing back forth across lift one hand upwards entire box gently yet unrelentingly recipient reserved purpose alone often daily lunch container reusable soft top receive securely gently daily offering removed demurely box cautiously hermit crab borrowed shell vulnerable exposure one finger one may remove whatever residue remains relunctly within package passing reassuringly ultimate recipient lime juice freshly squeezed upon tofu deposited ablution meets fragrant sprigs fresh green cilantro mated whole corriander seeds oz generous ladling eden organic garbanzo beans ounce unit pack also available upon generously nutrient amazon meal comes welcome noon night rather cold lunch cold winter warmer meal wanted gentle yielding box nutritious tofu might discover pushed gently saucepan simmering miso soup perhaps shiro miso paste non gmo no msg added miso soup would take far greater space describe making container miso paste draw forth goodly spoonful introduce slowly politely gently heating small saucepan water later place seaweed deceive palate place small flat spinach leaves available organic department local market perhaps results small onion diced carefully manner approved described green onion quite ready dinner add last essence gentle box tofu sliced described great tender care leaving bathing one might dare say long enough warm eating veritable meal many manners use abuse pure white utterly nutritious gentle product utmost recommendation say greatest gratitude long last may know food willingly fit human consumption one readily available upon wonderful amazon',\n",
       " 'disappointing folks like say tofu no flavor discern type neutrality thisone blankest blank slateswet watery gelatinous not product buy soon got shopping isa challenge not awful disappointing benefits packaging shelf life',\n",
       " 'k not officially kosherbut make gelatin without cows hooves get grossed jello think much foods company sells glutenfree stuff no exception celiac wont make sick even better powdered agar agar not flaked agar agar means last months not yearsalthough also easy use much tablespoon flakes tsp powder ratio cooks call cup liquid teaspoon flaked agar agar means tsp powder cup liquid added acidic things like orange juice however agar agar doesnt gel well jello dont expect get results would jellofor need jello kosher gelatin add agar agar add firmness starts taste like seaweed',\n",
       " 'product great ordered paid lbs received oz unable get response custom service no way reach company phone put credit card transaction disputed still want lbs',\n",
       " 'medaglia doro instant espresso coffee far best way make latte comfort home also cheapest use make awesome vanilla latte put two spoonfuls medaglia doro espresso coffee cup add shots hot water mix place shot vanilla syrup tall glass less according individual taste next add enough cubed [ not crushed ] ice fill glass rds way fill glass enough cold milk cover ice pout hot coffee mix milk ice stir vigorously mixed add ice needed pour enough half half color coffee mix yummy caramel color delicious cheaper espresso stands ingredients hand medaglio also great recipes call instant espresso not stores carry product order gristedes amazon com',\n",
       " 'havent bought online yet saw first time today ive buying locally almost year originally bought mocha dessert recipe south beach diet book tried make latte pleasantly surprised hadnt expected much instant espresso based past experience instant coffees actually good used lattes mochas dont espresso shot particularly like go camping ive shared fellow campers also liked flavor rich adjusted taste varying amount per cup also light froth top recommend highly',\n",
       " 'really best decaf tried hard find better italian decafs like one illy unless course average local coffee drinker used embarassments like folgers accustomized overburned stinking like charcoal brands named unknown reason french roast italian roast etc believe nothing french italian coffee not mention local decafs taste like tea made burned wood shavings',\n",
       " 'ordered coffee read reviews amazon sites used reviewers comments base decision purchase lover starbucks espresso decaf coffee breville espresso machine home using starbucks years lavazzo coffee arrived eager give try opened tin find brown coffee already knew would disappointed already know prefer black coffee beans brown pulled decent looking cup put mouth find not match tastebuds one sip took hand husband verdict like enjoy black bean coffee not buy product prefer brown bean coffee give go',\n",
       " 'little maltese spoil no end treats perfect size loves little picky among daily treats greenies since found amazon zukes jerky naturals say tried two different kinds along tried wellness wellbites chicken venison recipe dog treats ounce pouch zukes really potent open bag catch big whiff strong theyre probably real flavorful didnt try one wellness treats seem little dryer little guy likes treats zukes win wellness plus theyre cheaper thats even better cant get enough also tried zukes zridge mini carrot fresh breath dental chew bones count pouch made zukes doesnt like much greenies would say product one best found dog plus able take advantage free super saver shipping well highly recommended [ edit august ] still loves weve start giving little guy remedel little shoulder injury zukes make real easy give pill since theyre moist put pill inside press around pill way doesnt even know hes taking trying give pills wellness treats doesnt work well since theyre dryer [ edit september ] anyone else notice seem different last couple packs bought dryer brittle also werent potent ones doesnt seem like much dont know bags bought partially opened dried time delivered recipe changed ill buy see turn little disappointed',\n",
       " 'love flavored coffees never tried wolfgang puck line moved top favorites list first cup not aroma delightful flavor excellent well drink coffee black one no bitter taste flavor isnt overpowering flavor light coconut coffee medium body must admit little hesitant coconut flavor dont everyone around wants cup refuse share',\n",
       " 'wolfgang puck french roast nice bold not bold flavorful cup coffee like coffee people extra bold organic dark roast coffee keurig brewers count kcups pack like wolfgang pucks french roast french roast deep flavor hint sweetness smooth finish good choice morning cup coffee recommended note manufacturer consumer wish would use real coffee descriptions e hints xxx smooth finish rather fluff advertising like bring aromas france home profitez des bons moments enjoy good moments really mean took awhile decide purchase coffee description gave zero idea expect',\n",
       " 'good choice morning coffee like medium slightly bold flavor vienna coffee not real bold coffee medium roast coffee drinkers like flavor vienna coffee house less kick wolfgang puck french roast dark roast count kcups pack little coffee people donut shop medium roast extra bold keurig brewers count kcups pack good flavor slightly sweet good bean taste isnt tough stomach manufacturer please revise coffee descriptions terrible give consumer no information flavorstyle coffee featured want us buy coffee forthright descriptions',\n",
       " 'love rich fullbodied flavor darkroast coffee bought first keurig machine wasted no time ordering dark roast kcups could find initially settled newmans dark roast goto coffee didnt stop like keep experimenting looking something new happened find coffee peoples organic extra bold blend blown away favorite ever since first tried last week saw listing colombian dark roast sold wolfgang puck name processed distributed van houtte decided give try impression itafter brewing cup used oz setting first thing noticed didnt freshlybrewed aroma coffee people xbold however taste another story hits palate medium acidity nice sharp bite gets attention right away finish surprising clean hint spice nutmeg cinnamon slight lingering pleasant bitterness really like coffee think stick coffee peoples extra bold backup brand however keep looking something new knows findnewmans organics special blend extra bold kcups keurig brewers count boxes pack coffee people organic extra bold kcups keurig brewers pack [ amazon frustrationfree packaging ]',\n",
       " 'first must know one roasts green beans home including sumatran also many african varieties like strong cup coffee use kcups work no facility rinsingcleaninggetting water regular machine sumatran coffees generally rich earthy taste would describe tangy almost tried two main brands sumatran kcups puck far best not bold something would get starbucks roasting flavor elements good sumatran cup especially nice earthy taste even aftertaste rich important looking kcup use smallest cup setting coffee not opinion get sumatran love strong coffee watered loses distinctiveness get generic french roast want weaker coffee flavor make mine kcups smallest setting camparison would give starbucks sumatra mandheling rating boldness puck diedrich highly recommend coffee bold coffee lovers provided use smallest cup setting not disappointed best kcup yet tried many newman timothys donut shop diedrich etc addendum since tried th green mountain sumatran gave one star stale bitter definitely stay pucks',\n",
       " 'bought wolfgang puck sampler certainly one favorites ordered bigger box truly enjoying classic mediumroast cup coffee smooth no bitterness would say enjoy donut shop tullys kona caribou like blend label adorable makes smile pop keurig morning',\n",
       " 'taste good opinion coffee decaffinated required info clearly visible warning big red letters mistakenly rely upon get going morning small print bottom box mean point font tells several mornings splitting headaches could avoided caused check several flavors online none say anything one way another caffeine dont know avoid products info clearly stated every coffee sale',\n",
       " 'bad no one else reviewed purchase not bold dark enough stand keurigs rd button tasted little tangy liking',\n",
       " 'bought pack drank almost realizing flavor reminded tastes like hotdog water',\n",
       " 'called medium roast would give stars good coffee called french vanilla caramel review based products name let say vanilla caramel perhaps favorite flavors coffee ice cream candy name vanilla caramel love exception wheres vanilla wheres caramel dont get wrong im not trying say flavors mild im saying nonexistent therefore based name coffee gets star',\n",
       " 'without doubt hands best coconut water product ive tried others ive experienced flat slightly bitter taste one subtle essence sweetness coconut water drank directly freshly opened raw coconut let tell refreshing hydrating reenergizing elixir partake ill take gatorade day week great way start day',\n",
       " 'best coco water plz bring back ive drinking last years one [ liter pack ] really best unfortunatley manf seems discontinued shame small size product not good one hope company gets common sense continues product good one large starsone small starsone kids starzico upsets stomach starsvitacoco tastes awful starbluemonkey starsamybrian starsco starsnaked starsnirvana stars',\n",
       " 'first heard kopi luwak coffee horrified idea grew decided really wanted try bucket list went purchase package directly producer nearly twice price theres not really servings per package maybe half pretty amazing coffee im thrilled tried remember shopping kopi luak coffe make sure youre getting civit coffee not blend little kopi luwak coffee check realkopiluwak com info civit coffee produced brew perfect cup',\n",
       " 'wanted try coffee life happy company mailed timely manner sent',\n",
       " 'havent used yet going past marshal creek products good',\n",
       " 'dissolved entire tab mouth ate bitter greens nothing added vinegar greens make tad sweeter didnt make taste good makes really sour things slightly sweeter no miracle',\n",
       " 'didnt work maybe couldnt get past letting whole tablet dissolve tablet tasted like vomit',\n",
       " 'product definitely works not aware supposed break tablet half eating whole tablet ate lemon way way sweet waited hours product wear could eat regular food tried tablet next day added lemon glass water tasted like lemonade packets splenda didnt taste like regular sugar guess good sweet taste different also ate cottage cheese tasted like cottage cheese sweetener product works immediately way no waiting work think product last day review took tiny nibble leftover tablet made another glass lemon water lemonade perfect not overly sweet tasted like lemon drop pyour mileage may vary product ive heard brands taste bit better one ordered pack another company report back huge sweet tooth im trying lose weight im hoping tablets help',\n",
       " 'reading reviews testing friends say everyones tastes tastebuds different not sweet one person super sweet another ye warned results may vary found tablets didnt make things sweet much cut sourness almost like numbing effect ever put sugar lemon slice bit sour kick still canceled im certainly not going eating like candy reviews suggest tried beer types mixed results beers fruitycitrus ended gross would taste like mixed mouthful juice beer dark beers like irish red favorite really recommend going eat try variety things certain foods take surprise ranch dressing example notably different good',\n",
       " 'wow not expect quick shocking result product definitely delivers brother told tablets flavor tripping parties never heard decided give try claim sounded wildly strange sort ripleys believe not kind novelty anyway tablets work immediately took one lemon voila sweet also tried sip chianti wine sweet poured spoonful white vinegar small glass water sweet havent tried beer things sooner later best thing see coming finally dont need sweeten tea ill squeeze lemon hmmm perhaps add lemon juice soda water turn new diet softdrink possibilities endless',\n",
       " 'reccomend product effective fun try setbacks lasts around minutes not hours bought lieu actual berries vs werent potent read aboutexpected nonetheless work lemons limes delicious oh sure move tablet entire surface tounge order cover taste buds',\n",
       " 'basically tables change way taste acidic things instead taste sweet lemons taste like strong lemonade might thinking well thats fun would lover taste well kind sweet men women give try youll see complaint made look much like drug convince prudish friends ground fruit',\n",
       " 'dissolving one tab tongue ate large lime tasted mostly sweet hint tartness would eaten whole lime worried acid might upset stomach didnt notice difference ate parsley thoughthe parsley still tasted somewhat bitter miracle berry worked extremely well sour stuff not far could tell bitter stuff still well worth price experience amazing transformation taste edit craving blackberries bought large container warehousetype store planned eating one sitting one two couldnt eat themthey mostly sour hardly sweet remembered tablets left rolled one around tongue dissolved thereafter blackberries tasted pleasantly sweet able finish',\n",
       " 'tablets hardly work comparison actual berries want flavor tripping buy box synsepalum dulcificum berries grow plant instead wasting money pilltablets opinion',\n",
       " 'house call hot vanilla best hot chocolatetype drink ive ever tasted lifelong chocoholic order stephens french vanilla case others pale comparison dont want anymore wont regret springing case makes terrific gift mmmmmmm',\n",
       " 'bought chocolate mother cant much caffeine used drink nestle hot cocolate fat freecaffeine free stopped making canisters buy expensive way puches anyway saw milk chocolate flavor stephens looked info found low caffeine ordered bunch mom bucks worth got today opened cans minct chocolate flaovor thought sent wrong kind checked order found indeed ordered wrong flavor see canisters look exactly except milk chocolate flavor small brown strip middle mint chocolate small green strip middle thats difference canisters since initial thumbnail images amazon small easy not see little difference yes technically fault need difference artwork canisters not amazon would not take back even though unopened food company makes basically said sorry sucks sit dollars worth hot chocolate no one use',\n",
       " 'first product pictured not get really get tiny packets called sticks suitable flavoring bottled water box doesnt even say size bottle sized im not keeping cant tell tastes',\n",
       " 'havent tasted chocolates yet shipping fast look pictured well see christmas taste good also go directly companys website save bucks',\n",
       " 'vanilla beans typically run dollars two major supermarkets prices make reluctant use dishes call instead use vanilla bean paste williams sonoma sells good product beans good deal less fifth supermarket price im willing use almost reckless abandon vanilla beans really provide superior flavor things like rice pudding custards vanilla ice cream complex luxurious flavor vanilla extract beans arrived fresh fragrant tightly bagged theyre madagascar vanilla beans considered cognoscenti inferior tahitian beans not one cognoscenti cant detect much difference product made fan internet grocery shopping',\n",
       " 'bought navitas naturals chia seeds great put shaker bottle use sweet potatoes salads coleslaw learned replace half fat baking first didnt know lowering blood glucose something else confirmed day stopped using seeds morning blood glucose shot decided start using seeds within days blood sugars dropped thing changed diet addition chia seeds love havent made gel yet used raw like eating poppy seeds love hope help diabetics navitas quality product reasonably priced definitely continue buy',\n",
       " 'found pregnant first child read baby magazine wonderful health benefits chia seeds packed omega fatty acids healthy brain function nurtured omega fatty acids wanted supplement diet something fish oil pills pack fairly unpleasant aftertaste seeds tiny flavorless mix cereal even juice without ever realizing consumed also found adding seeds breakfast keeps fuller longer chia seeds convenient flax seeds pound costing around depending seller lasts months want avoid potential unpleasantness fish oil supplements chia seeds great alternative new expecting mothers great way ensure baby getting needs optimum brain health development lastly not considering motherhood consider adding chia diet wonderful allnatural supplement perfectly painless taste cost undertake would thought seeds responsible infamous chia pet would offer much gawdy table ornamenthighly recommended',\n",
       " 'health reasons try eat highly nutritious low carb foods love tapioca carbs no nutritional value introduced chia seeds highly nutritious low carb food also fun food absorbs x weight liquids puffs reminds tapioca strawberry seed inside thats tastesfeels like another one favorites mexican drink called chia fresca basically soaked chia seeds lemonade experience know popular one lb added liquid create highly nutritious food chia seeds best known chia pet high protein x calcium milk high omega oils chia seeds seeds herb grown mexico south central america food aztecs would think could make faux tapioca pudding coconut milk chia seeds sweetener dont know well chia would absorb coconut milk since fatty coconut milk cup chia seeds sweetener taste make cups water scoops whey protein soak one cup chia seeds plumped add cans coconut milk sweetener sometimes cream package cream cheese pumpkin cinnamon add nutrition pumpkin pie tapioca pudding',\n",
       " 'chia seeds great healthy food add diet make chia gel mixing water c per tablespoon seeds stir gel yogurt oatmeal smoothies flavorless seeds pleasant crunch brand high quality wouldnt hesitate recommend',\n",
       " 'seeds perfect tossing yogurt smoothie must consume quickly seeds draw moisture quickly causing swell picking teeth days not drink staw taken straight spoon washed glass water light lunch really give feeling fullness severe sensitivity caffeine sort stimulus wanted try something natural would not raise pulse quicken mvp heart not make overall jittery trick drink meal replacement drink still feel hollow inside want snack adding full rounded table spoon seeds minutes feel nice full tossed powdered drink canned ready go drink milkshake type even vitamin water believe say must consume quickly need spoon turn jello consistency quick actually not bad either bulk calorie pudding snack stirring teaspoon many ways get creative chia seeds enjoy',\n",
       " 'nutritional benefits chia seeds incredible startaccording studies chia possesses highest percentage polyunsaturated fatty acids linolenic linoleic crops chia seeds contain omega fatty acids protein content chia higher nutritional grains unlike grains complete protein meaning appropriate balance essential amino acids chia seeds weight protein chia seeds high fiber gm serving chia seeds provide gm fiber body requires least gm fiber day stay healthy chia seeds contain boron essential bone health chia seeds rich calcium oz chia seeds contains mg calcium compared mg cup milk chia seeds times potassium banana chia seeds times antioxidants blueberriesregardless astonishing nutritional values chia seeds also tastes good girlfriend make big pot steel cut oatmeal night quick way throw cup oats cups boiling water let sit overnight put good helping chia seeds next morning wonderful breakfast could last week depending many people eating feel free add little cinnamon peanut butter fruit oatmeal favorite additions many recipes eating chia oatmeal personal favorite started eating chia last year reading ny times bestseller born run tribe mexicans eat chia drink beer smoke tobacco run miles footrace following days one primary contributors tribal mexicans seemingly supernatural physical ability diet full nutrientrich chia seeds havent put miles previously failing finish mile marathon without chia diet added chia diet knees allowed finish first mile marathon could chia seeds helped think certainly energy joints felt better second attempt marathon chia started paying armandaleg whole foods navitas naturals chia seeds since started buying amazon fraction price buy chia seeds make delicious bowl oatmeal one healthiest breakfasts possible',\n",
       " 'make chia gel add large spoonful yogurt fruit morning tried make cookies gel failure great subbing sauces add bulk without fat easy sprinkle top food product since virtually no taste versatile easy eat',\n",
       " 'chia seeds amazing nutritional powerhouse dont even really taste like anything positive no funky taste great sprinkled salads added smoothie used make raw vegan pudding etc uses many also wanted add really good price coop charges almost lb chia seeds amazon',\n",
       " 'love chia gotten two different packages brand rancid expiration dates year away amazon doesnt allow food returns navitas said would ship seeds check would send new ones still enjoy chia ill avoid brand',\n",
       " 'started eating recently hearing positive qualities omega bit expecting take spoonful swallow like medication instead decided mix strawberry kefir love way little seeds swell give kefir little bit chewy texture reminds asian drink places add tapioca lychee pieces fruit smoothies great aware though eat little black seeds seem love stick teeth look like kind nasty old redneck chewing tobacco mouth dont floss eating bag nice size think last worth price',\n",
       " 'dont know chia seeds really super food brand seems good quality ive bought kinds look better since eat sprinkled morning cereal not expensive buy higherpriced brand',\n",
       " 'love nativa brand however always seem leave important details packaging heard many praises much better chia seeds flax seeds upon arrival opted use salad opposed flax seeds ive using chia seeds caused horrible painful bloating ever experienced granted use full serving size since lowered amount still even quarter teaspoon less get bloating since switched back flax seeds didnt wreak havoc intestinal tract hoping find way use seeds future hate seeing anything go waste advice set trying chia seeds start low amount stick low amount stomach builds tolerance seeds',\n",
       " 'surprised number star reviews product tiny gritty seed gets stuck every corner mouth taste like nothing kind like poppy seeds taste finally ask eating annoying seed put back bird feeder unfortunately dont seem like much either',\n",
       " 'think youre something good kid invest little get organic formula sadly thats not case horrifically constipating formula lots pain straining guaranteed take measures prevent offering juices water etc not sensible approach also manufacturers use sucrose instead lactose save money use lot sweetness country time lemonade similac organics sucrosebased formula may also set child future diabetes check ny times article info bottom line painful constipation near term possible diabetes certainly sweet tooth future no thanks',\n",
       " 'stars read article first august pregbaby florida see reviewsi thought right thing buying organic thought similac brand could trust good baby came across ny times article sugar use [ ] articleparents may buying [ similac organic ] believe organic healthier babies may reason preferring similac organic significantly sweeter formulas major brand organic formula sweetened cane sugar sucrose much sweeter sugars used formulas no health problems babies associated similac organic pediatricians risks giving babies cane sugar sucrose harm tooth enamel faster sugars babies get used sweeter taste might resist less sweet formulas solid foods studies suggest might overeat leading rapid weight gain first year often statistical predictor childhood obesity',\n",
       " 'good product highquality majority people post amazon internet not medical providers not least bit inclined area sciences infant nutrition theres large amount misinformation misinformation evident propagated throughout reviews formula product specifically similac organic top echelon quality regard consistency nutritional value weve great success product pleased overall adjunct breastmilk abbott labs product maker large research reagent laboratory medical sciences rigorous quality controls inplace published research also provide reagents scientific research community exacting standards said would less inclined trust small makers formula ie organic products suggested better reviews especially referenced smallname organic powders said done components similac products highest quality monitored advanced scientific protocols wellresearched published studies id trust brand similac smaller nonames plain simple keep mind best suits baby nascentdeveloping gi tracts babies experience degree gas discomfort regardless formula nutritional source even breastmilk sad see people reviews propagating misinformation neither pediatriciansphysicians research best avoid ulterior motives well misinformative reviews internet blogs overly slanted biased',\n",
       " 'switched advance similac organic product thinking would better prefer organic foods disaster month old baby getting constipated progressively worsening intake till fell drastically calorie intake discontinued product within five days switched back previous similac fine feeding calorie intake back normal',\n",
       " 'breastfeed month old boy since bilirubin level still high doctors recommended switch formula hours started similac advance shield plus still hospital first hours wonderful terms pooping decided switch similac organic known reasons first ounce bottle began notice stool getting harder eventually stopped pooing actually produced two stoneball like poops hard time another hours breast milk similac advance tested similarly sweet similac organic much much less sweet made research internet found following may help understand cause constipation httpwww drhull comencymastercconstipation_infant html constipation means infrequent hard stools not mean grunting straining although baby may certainly exhibit behaviors bowel movement first question ask child really constipatednext consider true constipation excessively hard dry stools arises normal function colon remove water stool otherwise would rapidly dehydrate die severe diarrhea dangerous stool moving colon expelled body fast no time properly reabsorb stool water back bloodstream conversely fecal material remains colon long water removal process may extract much fecal water leave stool mass excessively dry hard simple constipation arises feces remain colon long colon naturally sluggish decreased motility say low residue diet produces insufficient stimulation colon trigger normal propulsive activity clear feces combination two factors obstruction lower gi tract functional neurologic lower rectum anus cannot properly relax allow evacuation hirschprung disease functional anatomic analrectal positioning doesnt allow easy evacuation mechanical tumor physically blocks stool passagebreast fed babies essentially never truly constipated breast milk low residue diet almost milk absorbed baby used stools consist small amount unabsorbed protein curds large amount bowel secretions chiefly mucus course lot noisy gas infrequent stools not indicate constipation infrequent stools later breast feeding infants start solids technically become constipated unusual experience not child pretty much solids especially weaned whole cow milk constipation much issue really discussing toddlers breast fed infants tend save first months poop less often worries parents despite reassurances contrary folks see poop every day little darling happy fulfilled go figure forget stool stay colon long time not hurt anything stool hoarding breast feeder finally get ready go another problem comes fore grunting straining babys rectum forms utero state permanent contraction nigh onto nine months baby not pass meconium fetal stool utero perhaps right end gestation right delivery baby several months old passed stretched quite bowel movements rectum particularly anus may quite tight resist easy dilation allow stool pass baby weak flabby abdominal musculature little tummy poochy must push tight anal spincter diaphragm mom pushed delivery seemingly equal discomfort hence grunting redfaced straining major problem breast bottle fed newborns creates sort straining dyschezia uncoordinated stooling cure problem tight anus pretty simple gentle rectal exam welllubricated pinky finger doctor done babies stooling troubles anyway rule physical obstruction diagnostic curative one gentle dilation doesnt trick mom bring baby back week repeat procedure anal spincter stretched pretty soon no terrible straining topbottle fed infants whole nother story infant formulas not nearly well digested breast milk leave quite bit residue colon exception rule mind new similac really seem leave stools consistency breast milk true constipation bottle fed infants much common feeling soy formulas even worse cow milk based formulas regard young infants colon simply not designed residue stool bulk residue builds dried much becomes hard pebbly stool naturally difficult uncomfortable baby pass addition cereal diet compounds whatever problems already exist cereal milk concrete cereal formula bottle seems especially bad probably parents dont realise much cereal baby getting toptreatment constipation mainly involves common sense diet modifications sometimes medication breast fed babies search cause constipation gentle rectal exam work wonders use lot karo corn syrup bottle feeders constipation first choice recomendation almost always works used properly unfortunately many doctors nurses dont use properly get poor results dont recommend often start two measuring teaspoons every formula bottle regardless size adjust dose depending things going usually baby weaned karo pretty soon may need stay periodically first months life important put corn syrup formula not give water excess corn syrup not get digested well baby already digesting sugar formula excess sugar passes colon produces sugar diarrhea similar sorbitol prunes apple juice scolding risk botulism corn syrup please see clinical pediatric emergency medicine volume number september pediatric neurologic potpourri cases remember past c botulinum also found corn syrup no longer risk factor infant botulism recent change processing formula complete source statement see olsen sj swerdlow dl risk infant botulism corn syrup reply pediatr infect dis j certain fruits juices example prunes apple juice apricots rich sorbitol nondigestible sugar passes body colon causes water retained drawn stool mass increased diet loosen stool relieve prevent constipation lactulose nonabsorbable sugar product processed colon bacteria produce inflow water stool mass use lot seems favorite local pediatric gastroenterologists dose adjusted according respose side effects usually not serious include cramping diarrhea obviously stop medicine call doctor occur glycerine suppositories helpful relieve child hard stool wont come easily suppository melts heat rectum lubricates stool glycerine also mild effect attracting water stool softens act insertion also serves stimulate rectum anus initiate defecation reflex glycerine completely safe food found candy not drug fiber containing foods helpful older children adults not really much use treatment young infant constipation dietary reasons babies dont eat lot fiber believe isoyalac high fiber soy formula discontinued never available place practiced anyway topmyths misconceptions concerning infant constipation iron formula causes constipation no way understand lay people thinking case adults take iron preparations large doses may become constipated tiny amount present infant formula not nearly enough cause problems irritating thing hear doctors nurses know better repeating nonsense switching infants less healthy low noiron formulas increasing water diet commonly recommended makes little sense demonstrates failure reflect basic physiologic cause overdry stool problem little water retention stool not little water body unless increased fiber chemical substance sugar karo lactulose retain water stool excess water simply wind diaper urine top',\n",
       " 'not buy product not infant favors possible breastfeeding know not always easy convenient cant opinion best formula earths best even disappointing basically dry cows milk remove natural nutrients fortify synthetic vitaminsminerals pathetic buy whole organic milk raw possible recipes online make closer human breast milk sorry matter fact im losing patience evil corporations capitalizing green movement oh way second ingredient garbage sugar good way start diabetesobesity theyre young',\n",
       " 'nutritional benefits chia seeds amazing startaccording studies chia possesses highest percentage polyunsaturated fatty acids linolenic linoleic crops chia seeds contain omega fatty acids protein content chia higher nutritional grains unlike grains complete protein meaning appropriate balance essential amino acids chia seeds weight protein chia seeds high fiber gm serving chia seeds provide gm fiber body requires least gm fiber day stay healthy chia seeds contain boron essential bone health chia seeds rich calcium oz chia seeds contains mg calcium compared mg cup milk chia seeds times potassium banana chia seeds times antioxidants blueberriesregardless astonishing nutritional values chia also tastes good girlfriend make big pot steel cut oatmeal night quick way throw cup oats cups boiling water let sit overnight put good helping chia powder next morning wonderful breakfast could last week depending many people eating feel free add little cinnamon peanut butter fruit oatmeal favorite additions many recipes eating chia oatmeal personal favorite started eating chia last year reading ny times bestseller born run tribe mexicans eat chia drink beer smoke tobacco run miles footrace following days one primary contributors tribal mexicans seemingly supernatural physical ability diet full nutrientrich chia seeds havent put miles previously failing finish mile marathon without chia diet added chia diet knees allowed finish first mile marathon could chia helped think certainly energy joints felt better second attempt marathon chia started paying armandaleg whole foods chia powder since started buying amazon fraction price suggestion get chia make delicious bowl oatmeal one healthiest breakfasts possible',\n",
       " 'coffee smooth not bitter wonderfully aromatic rich flavor personally bought beans jamaica ounces seen inflated prices internet product truly not worth',\n",
       " 'coffee lover many years always interested finding good coffees first time try blue mountain purchasing gift certificate allowed bit extravagant otherwise would coffee good dont find superior coffees ordered considerably less expensive',\n",
       " 'delighted able order since local stores no longer carry bags contain appear chips pork skin parboiled salt water flattened high pressure sure shake around distribute throughout bag cooking expand considerably bag nuking depending wattage etc slow expansion unlike vigorous popping corn also bag expands half much popcorn ready resemble ones available cellophane bags deepfried far tastier fresher much lower fat calories whole bag calories calories fat less lowfat microwave popcorn use one bag however daily salt limit adult especially like sprinkled garlic powder dried marjoram together herbs spices interesting variations sage cumin whatever else might appeal',\n",
       " 'love less two minutes microwave hot crispy fresh key already puffed ones stores stale chicharrones pork rinds found health food site couldnt believe ordered box really yummy long dont overindulge enjoy every time seeking something crunchy salty low carbs',\n",
       " 'not like precooked pork rinds not even made fresh mexican carnecerias hubby likes decided buy shocked find light airy crispy bags saltier others weve cooked far majority arent overly salty another reviewer mentioned watching figure long cooking time watt oven seconds seems right key take moment bag fully inflated leave long end charcoal not enough time make gummy since follow fairly low carb regimen health weight reasons like fact perfect vehicle guacamole salsa without carbs im still trying come dip ideas go well flavoring wish theyd put version didnt seasoned salt id like salt andor garlic',\n",
       " 'interesting tasty alternative microwave popcorn well worth trying spicy version not spicy little kick careful even contents bag microwaving make sure bag rotates freely microwaves turntable microwave time short seconds come hot fresh tasting pieces relatively small inch square less intense pork flavor best pork rinds hot helps compensate amazingly pork rinds becoming diet food no carbs lot air minimizes calories volume relatively small quantities satisfying anyway good story go tasty snack',\n",
       " 'normally rate whatever items buy rarely offer words advice well things changed mind love pork rinds usually buy tub sams since im one house eats go stale long make dent saw positive reviews thought hey thats perfect solution perfect solution right perfect solution get stop eating pork rinds made first bag per directions no problem crisping perfect regard nice crunchy taste awful thought perhaps bad bag nope second batch tasted terrible no idea use flavor tastes like strange mixture salt soap theres enough salt kill horse wouldnt bad actually like salty things combined whatever garbage dug backed shower called seasoning left hunting listerine gasoline whatever could get hands get taste mouth im still shuddering like taste feet go not id suggest heading sams buy wonderful tasting pork rinds know love',\n",
       " 'someone work cooked smell making everyone sick smells kinda like puke hopefully smell not last overnight not recommended',\n",
       " 'thought might not great idea buy meat mail turned great love gyros thought not order amazon least would make feel better whole idea order delivered days would storm driver couldnt get fabulaously packed ice packs could reuse gyros taste great pretty conveniet makes great easy lunch definatly order',\n",
       " 'blue diamond almonds whole natural ounce packages pack buy nuts every time amazon good much less expensive grocery store figure per bag price pay heart condition need good protein get good source natural fat no added salt wish could get even bigger savings savings subscribe save husband carries pocket midday snack daily dose md orders taste good get used eating no salt added oils highly recommend hope helps',\n",
       " 'hot chocolate yesis good hot chocolate um sortais gourmet hot chocolate not chance opinion advantage get using green mountain kcups hot chocolate simplicity using keurig machine heat water instead using microwave stovetop finished product comparable swiss miss brand powdered instant cocoa actually may worse use largest setting machine largest setting makes much watery green mountain needs go back drawing board stars make hot chocolate keurig without dirty dishes tear open pouches youre looking good hot chocolate keep shopping',\n",
       " 'indeed rich creamy chocolaty delight use smallest cup size machine remember shake box well using cocoa still remains kcup brewing regardless get satisfying cup hot cocoa',\n",
       " 'never hot chocolate tastes better not homemade not starbucks not swissmiss hands best ive ever go much stuff whenever friends come go straight happened price kcups run amazon things going even bed bath beyond cheaper bring price back something reasonable star review return',\n",
       " 'price pay size cup really make smallest size getting taken purchase buy traditional mix company get better value better taste richer texture snot horrible mix tastes ok nothing decent cup chocolate flavored water no thickness swiss miss grocery store hot chocolate beats hands getting convenience using kcups not much one begin avoid',\n",
       " 'like another reviewer use granulated honey tea use coffee oh much better white sugar habit using unprocessed sugar good much better product indeed give backed goods bit different positive way flavor use cookies buy granulate honey local health food shop price even consider shipping quite competitive advantage stuff becoming popular area local shops forever running nice know reliable source highly recommend product',\n",
       " 'love stuff keep next brown white sugar cupboard use homemade bread kids like mixed milk although doesnt easily dissolve let make little honeymilk nights trouble falling asleep heard milk honey something makes sleepy anyway seems get back bed pretty well best use tea drink tea work easy take work little container whole lot better white sugar',\n",
       " 'wonderful could given honey granules would tastes great no sticky mess grandkids say taste magic hot cereals',\n",
       " 'loose tea hard find stores order online discovered better tea usually get added bonus less expensive im pleased use iced tea cant say hot stronger tea use less hope continue carry plan buying future',\n",
       " 'lipton taste good not good quality tea open tea bag youll see not tea leaves tea dust cheep even loos lipton tea described broken need fine filter strain steep good tea unfurl look like spinach say tea comes oz lets math devided oz buy tea set tea [ ] really good tea flavoring dried fruit pices comes oz tin refill weather buy loose bags get quality tea went tea party last year like tupperware party fun chick told us different kinds tea gave us samples',\n",
       " 'tea supposed loose tea purchase loose tea time instead packaging tea bags left loose gave couldy tea bitter taste',\n",
       " 'looking way get someone thinks eat anything hot purchased kick ass sauce rated sc put bunch chip eat nothing no reaction next day dabomb showed door thinking not much worse put bunch chip wow pain no joke pain instantly first thing mind ^ product something add soup something dont put anymore drop mouth time neat experience put drop mouth serious pain minutes rips insides even person heats habaneros food going play joke someone drop good braveheart yesterday leave work didnt return normal hours told drop quoto told peoples reactions took drop tell insides still fuego tried occasions puke nothing sitting decided id better pull pants case passed bathroom floorthat way person found wouldnt see pants around ankles took piss felt like razor blades coming hope youre happy trust fun stuff price much better stuff pushes limit',\n",
       " 'according article cnn com nutritional content brand not live lable researchers consumerlab com tested sodium potassium magnesium sugar content three leading brands coconut water found one zico natural contained stated amount four ingredients sugar potassium content two brands vita coco n e also matched label amounts sodium magnesiumtwo nutrients key hydrationwere much lower respectively listed amount',\n",
       " 'product received came different package pictured fine little bigger expected oil doesnt really smell good intend use mixture oils natural hair delivery fast even arrived day prior scheduled delivery date ive used far mixed olive oil hot oil treatment wasnt greasy left hair nice soft gave stars havent time use enough update review used awhile make better assessment',\n",
       " 'purchased chips mobile vending cart amazon prime cost per bag really good far reseller goes flavor really good right chips asian sweet spicy tasty right amount sweet slightest bit spice makes fantastic tasting chip lets talk detailschip thickness gourmet chips quality moment open bag one crunchy not thick enough let know didnt buy bag lays grease not greasy chips depending flavor mildy seasoned not coated heavy grease oil flavor flavor stands completely could blind taste test one flavors sold deep river bet could tell none flavors overpowering except maybe jalapeno flavor honestly hot love hot food resale may not resell current price using prime shipping cost per bag allows make decent profit overallthese great tasting unique flavored chips hands better ones get bulk sams bjs favor try bag two bet youll love em like thanks reading review',\n",
       " 'ive got believe reviewers havent actually looked list ingredients make chips areingredients sugar partially hydrogenated palm kernel oil coconut oil lactose whey natural artificial flavors including barley protein nonfat milk buttermilk solids sodium caseinate soy lecithinan emulsifier salt artificial colors yellow lake yellow lake blue lake must admit didnt look label either ive using nestles chocolate chips years thought name could trust apparently not let tell discovered ingredients making brownies kids semispecial occasion bought premium white morsels thinking white chocolate butterscotch ones dumped batter noticed took brownies chips didnt seem melted didnt think anything sampled white morsels snack waxy tongue not nice like good chocolate would tried butterscotch ones heck flavorwell shocked read label no idea white chocolate reformulated chocolate free assume past chips actually sort natural butterscotch element instead made barley protein artificial flavorings mean look ingredients theres artificial flavors volume butter milk theres whopping grams sugar teaspoon things would acceptable cooking sweets wasnt grams transfats laden goo also case ive thrown rest two bags health concerns werent bad enough dont taste good really sweet flavorful waxy tongue eat au naturel pam tmombloggerbrownie baker',\n",
       " 'bought olive oil testing done university california davis early results showed product passed extra virgin olive oil samples imported oil united states tested passed samples seems potent spicier trader joes organic brand cost less know extra virgin olive oil products not extra virgin olive oil five stars decent price trust product extra virgin name brands oil italy means oil milled october november december northern hemisphere olive oils southern hemisphere olive oils milled june july',\n",
       " 'using canola sunflower peanut oil entire life reading health benefits extra virgin olive oil evoo anti cancer anti inflammatorygood digestive system bones etc decided change evoo according uc davis study brand one imported oils actually evoo not mixture different kinds olive oil unbelievably even better whole foods brand evoo best part cheapest passed test would recommend buy costco buy l told not membership buy costco gift card use shop things like [ information taken [ ] ] approved brands arecorto olivecalifornia olive ranchmcevoy ranch organicand brands found fraudulently labeled extravirginwhole foodsrachel raysafewaynewmans owncolavitabertollifilippo beriopompeianstarcarapellimezzettamazzolathis best evoo would recommend friends',\n",
       " 'dont mean good gluten free cookie almost like normal cookie no mean cookie good no strange textures odd flavors smells no sticking refrigerator help texture basically taste like normal crunchy sugar cookie cinnamon happens gluten free no milk butter either believe casein free also according labeling vegan kosher well thats mighty impressive list good stuff youre probably wondering catch right definitely isnt taste said beginning good see two drawbacks cost gluten free foods expensive one isnt unexpected quantity ounce package contains cookies cookies really doesnt seem like many particularly enjoying however could considered positive attribute us know tendency times munch something yummy without paying attention much eating find ive eaten entire bag since package builtin pause stop point smaller size less overeating even still wish package one last note found unusual normally cookies would packed way e two rows eight arent instead two rows seven cookies side side two cookies end package rotated degrees others isnt anything wrong packaging method since maximizes usage packaging space not packaged cookies packaged symmetrical sticks unusual',\n",
       " 'admit im coffee snob one vice fell love coffee went venice found little coffee shop grand canal knew moment aromas sights would locked spirit rite passage sense unfortunately back states discovered another world coffees tasted like something scraped pavement jiffy lube eventually much research found couple great brands bought espresso machine lived happily ever one day read article weavers sounded good since im happy member amazon prime decided give try amazing even subtle caramel flavor scent rich soothing like finding new close friend share moments sun lets face good coffee like good friend great coffee like soul mate coffee',\n",
       " 'brew style french press espressosmell nothing special decent coffee smell earthiness no caramel notes no sweetness taste mild earthy somewhat smokey dirty mouth feel finish short mostly brew french press tried espresso maker see would fair caffeine seemed pronounced no sweetness speak nice crema though overall wont buying nothing special',\n",
       " 'definately coffee addicts tried tons different coffees internet years go pound coffee every days ordered almost every specialty coffee place alot great ones always still looking certain taste one happy decided try coffee monthly subscribers also first review ever posted bought quite bit amazon coffee great',\n",
       " 'glutenfree starch used thicken soups gravies main advantage starch thickeners permitted ingredient passover unlike cornstarch grainbased foods liquids thickened potato starch never boiled supermarkets often stock among kosher products used cakes gentle sauces no taste comes flavor ingredients comes silky fine remember not want let sauce boil starch gluten free diet may able use',\n",
       " 'dont fooled not health cereal second ingredient sugar cereal also fructose feel like im eating kid cereal would healthy less sugar carbconscious people diabetics beware',\n",
       " 'ordered product lazy convert mm inches consequently discovered coarse grinder salt almost exact way coarse salt grinder shortly receiving order amazon received courtesy email spice lab make sure happy order replied actually not happy fault mine didnt convert metric dimensions english units consequently didnt realize coarse salt would coarse salt mill two days later received package smaller crystals no charge thats amazing customer service',\n",
       " 'product seems replaced similar previous product natural himalayan crystal salt previous prodcut deeper pink color texture better finding elsewhere new product himalayan organic natural unprocessed cooking salt much like competitors selling ive enjoyed products spice lab disappointed replacent product',\n",
       " 'pink salt nice subtle flavor didnt know salt could vary flavor tried one bought salt initially organic b daughter wanted pink salt flavor really made difference dont know much salt want say rounded flavor meaning isnt harsh distinctive food rather seems become part food going bringing back flavor food enhanced way sounds silly learning good quality ingredients really make difference',\n",
       " 'yes use product salting foods also another handy use grains salt much larger normal use salt clean cast iron grill skillet pour one two tablespoons salt slightly warm grill skillet rub salt bottom sides pans wadded paper towel salt even quickly makes short work cleaning ridged bottom cast iron grill pan works perfectly usually keep two three packages product spices shelf use frequently salting food cleaning cast iron',\n",
       " 'pleased salt actually salty regular salt even kosher salt sea salt little bit goes long way dont usually cook add things afterwards ive hand grinding',\n",
       " 'placed order tuesday received saturday cheapest shipping super faster himalayan salt comes sealed ziploc bag bottom allows sit vertically convenient storage especially way many spices sacks beans sugars not like addition came samples himalayan salt lemon citron flake salt cyprus white flake salt weighing quite grams sorry doesnt say weight dont scale moment far product quality goes typically buy himalayan salt whole foods aesthetically salt look exactly like salt get whole foods havent tasted yet bet tastes like salt course price wise salt spice lab way cheaper buying himalayan salt whole foods even including shipping',\n",
       " 'put glass jar chow watmore ken talk pink salt resifet fest',\n",
       " 'using butter ghee cooking purposes found product amazon color much darker grocery store product using product richer flavor well buying grassfed butter online well clear flavor difference would recommend product continue buy cooking butter good bread ghee better cooking grassfed best',\n",
       " 'im somewhat foodiefood snob ghee excellent well containing health benefits ghee contain cows grassfed means fat burning cancer fighting cla use nonhomogenized milk linked heart disease tastes amazing ill buying',\n",
       " 'dont know lot credibility review since first time tried ghee loved booklet comes purchase assures grassfed ghee main consideration great cooking since doesnt smoke burn even high temperatures',\n",
       " 'organic grassfed ghee embodies everything modern healthful food tasty healthful fresh lovingly produced hand small batches according agesold methods principles began using ghee part transition eating healthy homecooked foods recently participated ayurvedic cleanse required take cup plain warm ghee several mornings straight though unpleasant experience ghee lower quality pure indian foods ghee truly delicious flavor clean sweet without harshness overbearing unctuousness ghees even labelled organic not hint rancidity im sensitive unhomogenized milk used ghee unusual extremely beneficial homogenization alters structure milkfats adversely impacts bioavailability handling blood attention quality raw materials one example companys dedication customers health highly recommended',\n",
       " 'tried brand purity farm organic ghee clarified butter ounce brand ghee far tell two brands completely grass fed cows elated see health flavor benefits ill say one takes slight edge taste aroma department rich buttery smell seems like clarify little less slightly grainy taste room temperature said find buying purity farm ghee brand almost twice expensive edge taste slight not worth big premium might worth primarily using room temperature like bread usually use regular butter cooking really cannot tell difference flavor also chance getting ghee different times year brand affect flavor short amazing high quality ghee bit overshadowed much cheaper also amazing high quality purity farm organic ghee clarified butter ounce brand ghee',\n",
       " 'expensive not worth price try purityfarm organic ghee much cheaper taste much better ghee dont waste money',\n",
       " 'cannot detect difference ghees also supposed free sample not really ship tiny jar box mail costs postage something box costs disappointed reconsider taints offerings',\n",
       " 'previous reviewers rated low bc claim dragees cause cancer not true may referring silver gold dragees not longer available ca bc fda ruled bc trace amount metal must state decoration though people eating centuries get metal tap water cooking pans cookies eat decorated occassional celebrations btw ca law traced one lawyer made sole platform google pearl dragees perfectly safe not fall fda restrictions still available baking supply shops whove pulled metallic ones shelves avoid legal trouble looking product probably already know exploring new ideas decorating benefit learning truth reason dont rate higher bc shipping rates happy baking',\n",
       " 'world would amazon want sell item say ingested clearly ingredients cause cancer wish every state would wake like california ban cancer causing things',\n",
       " 'warning package things cause cancel would put cancer food',\n",
       " 'begin review let say read product specs especially dimensions measured space armed knowledge ordered item item exactly described pictured premeasured knew would fit unlike reviewers apparently couldnt bothered give lowrating result simple design well built sturdy enough hold weight large cuisinart kcup brewer full reservoir solid wireframe build rails drawer runs part wiredesign mesh walls tad lightweight arent loadbearing meant aesthetics contain kcups also store splenda packets one column mine normal blend tend additional flavors weekend treat mix occasion keeping loose counter bouncing around mixed box made pain pick keep line segmented rows drawer lack storage space cupboards kitchen drawers makes natural ideal choice many disappointed didnt fit need measure brewers footprint height beneath cupboards applicable not perfect item mesh could tad better grade price lower otherwise highly recommended purchase',\n",
       " 'bought coffee pod drawer thinking answer cluttered coffee area kitchen counter not exactly first foremost let say great product hold pods neatly nice durable slip resistant top lets feel comfortable keurig wont slip tip gave product stars issue purchased simply thought would use less space counter kcups stored inside drawer underneath keurig opposed somewhat bulky kcup carousel way chrome really despise chrome anyways not consider fact raises keurig inches bought drawer keurig enough space counter cupboard sits lift top keurig open put new kcups fill water etc additional inches really makes difference no longer open top keurig way without banging cupboard know dont need open way thats used well understand pretty much bang cupboard every day another drawback idea purchasing soley save space cant keep anything front drawer since obviously need open drawer get kcups used keep coffee condiments front keurig cant heres bottom line great product sense gets carousel one counters would buy ample clearance keurig able still lift top open set dont need use space front drawer happy coffee drinking update almost year later still using storage drawer yes time time forget still whack cupboard keurig cupboard no worse wear still keep eye better storage solutions none really looked like would better product well made durable still looking practically new heavily used kitchen still think bit pricey checked online still ranges hoping nobody pays get plus use coupon bed bath beyond reviews written amazon one seems bring not nice comments people kind odd everyone entitled opinion still hold firm stars mentioned reply one comment thats b theres nothing wrong b product think people buy product impressed durability thanks reading',\n",
       " 'length minsundercabinet clearance keurigkeurig coffee pod drawer holder kcup capacity perfect kitchen sitting top pod drawer',\n",
       " 'finally get rid five boxes kcups sitting counter padded top drawer shelf means dont get rattling vibration noise brewer runs drawer slide action smooth drawer extends far enough easy get last cup row see cups much better digging around bunch boxes whole thing feels sturdy nice modern look',\n",
       " 'excellent kcup storage drawer holds cups nicely drawer bit sturdy supports weight machine easy clean would definitely recommend product loved one however would also recommend purchase elsewhere purchased exact item local bbb past sunday almost half price',\n",
       " 'great little item cakecookie decorating collection adds great accents silver probably used color added many colors highly recommend check local michaels joanns amazon usually competitive prices local craft store wayy overprice amazon com',\n",
       " 'product wonderful apply nice paint brush almost creation watch sparkle many ooos ahhhs cookies sparkles add leaves royal frosting flowers turn gorgeous well cannot wait try colors even though fondant sick tasting look stunning almost makes want eat almost',\n",
       " 'no obvious taste perfect decorating cakes highly recommend check local michaels joanns amazon usually competitive prices local craft store wayy overprice amazon com',\n",
       " 'recently started buying erin bakers breakfast cookies fast easy nutritious way start day flavor not always available limited edition flavor fear not cookies well frozen go directly freezer microwave seconds nice chewy delicious cookie flavor delicioussome major ingredients whole grain rolled oats raisins dried apples walnuts coconut spices cinnamon nutmeg carrot cake spices cookie comes calories fiber g sugar iron doubtful large cookie would sustain lunch hours away no problem cookie filling delicious fiber filled product make sure drink fluids buy breakfast cookies assured freeze microwave limited edition flavors buy extra really love particular flavor',\n",
       " 'purchased st order miracle noodle directly [ ] got mother needs switch diet less carbs far less calories overall purchased pack oz angel hair noodles w shipping total days later received package surprised find oz package miracle noodles actually contained ounces water less oz noodles marketing material barely mention water content neither clear particularly forthcoming fact fact accounts purchase product considering fact instruct immediately rinse noodles use not supposed prepare noodle using water well couple reasons including not limited water volume decided return without opening even package completely unused instructed phone call main office mail back expense told would receive full refund well cost approx another ship back due water weight days later received refund paid shipping ways basically paid shipping get called refund paid got back may legal unethical wrong spoke rep phone never mentioned especially company claims stand behind product contacted email informed policy cited requisite schpeal website not informed phone call socalled policy changed may legal hardly ethical right ok get back half spend return product not not mention fact youre getting less oz noodle oz package ridiculous oh make matters worse commented shipping policy water weight facebook fan page instead addressing issues openly honestly directly immediately repeatedly deleted comments blocked making comments whats tell',\n",
       " 'pretty nice starter kit price complaint would light damage done tree display box obviously long months later bonsai great new green growth old damaged branches nice still overall good deal price would make great gift ok months tree absolutely great woudnt worry said came box strong dependable tree regardless im pleased tree moved bigger pot well far favorite different bonsai trees ordered online almost year still growing strong ive three bonsai plants die different companies one continues thrive im using small pot originally came another bonsai yes pot comes small durable great starting small bonsai plants id still strongly recommend starter kit anyone interested starting art bonsai even experienced growers wonderful kit tree healthy pot durable soil works great',\n",
       " 'brand ive able buy market uses extra virgin olive oil brands use cheaper nonvirgin olive oil use stuff leafy green salad throw cherry tomatoes shake delicious high protein salad no need saturated fatcarb stuffed dressings reviewers entitled opinions need throw bit education reason sardines not processed united states no sardine processors united states last one maine closed big news already reasons multiple californias sardine processing crashed overfishing california sardines ruined industry ca cost buying american processed sardines high price americans simply opted buy stuff processed morocco portugal blaming particular company sending fish vietnam misplaced criticism blame not buying american save money complain later seriously people',\n",
       " 'good range reviews especially like one seeks educate unfortunate no canneries states heres realityi believe company put quality products really concerned business practice due diligence website stopped years eating anything single person cant afford buying wild fish bulk love fact company puts product pacific island decent born raised u proud buy american food ethnic community eats horrible combination msg salt not asians eat vegetables particularly filipinos fry everything eat much bread spanish influence respect dietary choices didnt work years ago gradually shifted health believe moderation research companies buy ive never considered sardines tried sardines olive oil hooked study health benefits things ive years study psychology yoga health first comes mind comes testing learning body likes doesnt help scare people health doesnt work long run ive met health freaks worry much negatives physiologically affects health thing much information enjoy eat simple eat stuff flavor fantastic great brown rice veggies havent quite made transition totally raw dont think ever next best thing price not comparable price health dont know measure way watch people waste money things like eating booze claim save money buy one dollar microwaveable meals doesnt compare frugal individuals suffer long term get older people poke fun folks like take supplements yoga see long term investment people tend neglect body health needs balance levels mind body thats reap benefits want great healthy food affordable price still support planet support company body long run thank',\n",
       " 'sustainably caught california coast packaged disclosed previous review feel tad guilty buying time local coop simply best tasting sardines distinctive flavorful know buying premium product compared plethora sardine purveyors nordic portugal mediterranean etc cool waters california well known sardines',\n",
       " 'recently found wild planet purchased wild sardines tuna taste amazing sardines tuna simply cant beaten use bpa free cans rare country thanks another review amazon discovered many canned goods buying family organic also packed cans coated lining includes bpa research discovered wild planet tuna sardines expensive worth products sustainably caught packaged responsibly theyre good planet great family reason im not rating stars sardines processed vietnam not us tuna processed sardines not im sure canneries used monitored wild planet would much rather serve family something packaged country giving fellow americans much needed jobs also think price sardines packaged anyway taste concern buy sardines theyre best ive tasted care food processed might not youaltho no sardines processed country anymore guess luck reason americans dont seem care make little country go figure',\n",
       " 'originally made us made china see back bag advertised naturalcage free no hormones no fillers no antibiotics huh not china not trust safe treats follow dogs vomited ate original warnings fda chicken product china follow issued fda remain vigilant concern fed smaller dogs update dec chicken jerky remains problem according fda product china noted concern dogs made ill chicken jerky product recovered treatment others died email vet stated fda would like report problem chicken jerky treats',\n",
       " 'im disturbed treats many reviewers state addictive dog loves begun shun meals eat treats trying make sense current state anorexia recently became aware fda advisory dec stating one symptoms aware dogs eating chicken jerky treats made china decreased appetite although may continue consume treats exclusion foods wary fact dogs seem go crazy treats although dogswell company states clearly product not contaminated third party testers confirmed owners company truly know whats happening china behind scenes might get paid test certain batches jerky vet unable come explanation dogs anorexia except coincides increased interest interest happy hips since began treating last spring thankfully kidney function still fine research web many dogs not lucky died due kidney failure see link fda website suggesting caution consumers using chicken jerky products china informed [ ]',\n",
       " 'bought product last year dog loved subscribe couple bichon frise newsgroup saying not feed dog come china threw left outside critters forest called dogswell today verified even though say u still coming china',\n",
       " 'please aware although dogs absolutely love treats may caused recent unexplainable illness month old mastiff pup getting day chicken jerkys week suddenly became lethargic along vomiting diarrhea no appetite except would eat treats drink water vet thinks hell recover ok advised us stop feeding dogs still made china reports shown dogs getting sick brands still reported cases today careful watch pets closely feeding no longer feed dogs ever wish dogswell would manufacturer usa',\n",
       " 'chicken strips others like priced low hard resist dogs love course dogs tolerate chicken excellent treats however not trust pet foods sourced china remember melamine disaster several years ago killed permanantly injured ten thousand pets remains almost impossible determine conditions chinese food products produced manufactured rumors veterinary world dvm majority chickens used cheap products dead processing no one clue adulterants added many brands irradiated matters overall recommend purchasing pet food products manufacturer guarantees made us grown processed ingredients',\n",
       " 'ordering chicken jerky treats long time amazon subscribe save boston terriers really love get excited get treat every morning opened bag recent shipment dogs refused take treat hand took one sniff backed away sons lab got sick chicken jerky made china vet told buy treats made u im going follow advice',\n",
       " 'made china anything else need saidi used buy noticed label not buy',\n",
       " 'disappointed happy hips product made china wasnt going pet food store doesnt carry products not made usa would still feeding product dog really concerned finding new product due bichons allergies lamb sits cabinet cries treat think may need make lamb jerkey dehydrator work worth no regulations china knows swept floors put product know packaging misleading misleading ingredents china scary take much granted usa dp',\n",
       " 'dogs loved product happy spend money made china thumbs thinking ill never buy better products made usa care well dog avoid products made china',\n",
       " 'no longer giving dog caused dog diarrhea vomit research online many many posts treats caused dogs similar even much severe health issues dog loves treats giving year two every would diarrhea start vomiting yellow foamy substance cases finally linked treats research buy product however would not recommend',\n",
       " 'bought product last week dogs within day vomiting refusing food larger dog ok since stopped feeding little guy not taking vet tomorrow along treats',\n",
       " 'admittedly dog loves treats thinks delicious however made china dog lovers us usually choose not buy products china due prior problems quality control sickened many animals dogswell take note manufacture us also noted competitive brands grocery store shelves also made china even though distributed california brand found manufactured us trader joes love dog not buy item go trader joes',\n",
       " 'used subscribe item dogs loved found made china never feed dogs buy anything company',\n",
       " 'believed feeding dogs healthful treat good note glucosamine chondroitin content jerky treats highest ive seen treat actually like look forward feeding daily joint supplement poodle particular late experiencing joint issues traumatic hip injury years earlier thanks savvy poster brought light product produced china costco sells jerky treats made china well no longer purchase warn clients purchasing made usa usda inspected far im concerned oh cant pet owners find decently priced trustworthy jerky treat pets high glucosamine b isnt manufactured china china shown little diligence regards creating childs toy isnt later involved recall im certainly not give credence something ingested pets im tossing rest treats trash no thank',\n",
       " 'used many different ways like ease use fact pantry item said doesnt texture fresh cooked chicken ive found best things either mixed something like chicken salad added soup dont think works well genuine chicken texture would wanted ie stir fry chunky item chicken large peices think good item worth aware isnt perfect substitute fresh cooked',\n",
       " 'grew diabetic household always aware difference people food diabetic food course recently put nonpeople stuff exclusively candies surprisingly satisfying doc says artificial sweeteners havent yet admitted arent allowed sweet tooth longer may true little candies quite nice fact hard nice change diabetic candies child decent mouth feel almost caramel taste dont catch aftertaste need fix nice around house wont mistake people candy really amazingly lifelike',\n",
       " 'delicate ground hazelnut cookies ladies tea not children men appreciated sophisticated palates neither cloyingly sweet fatty set aside unexpected guests youd like impress',\n",
       " 'amazon sends twelve boxes fabulous cookies box disappears fast fact not sit whole box nearby munch thru without stopping delicately sweet crunchy buttery without greasy youve warned',\n",
       " 'item though cute idea really doesnt live title pink fun especially use glass mug see whole drink hot chocolate part title disappointing course wasnt fully expecting milk chocolate taste honestly cant even say tastes remotely like white chocolate really kind chocolate matter youre looking novelty drink cute especially young girls however youre expecting something akin hot cocoa generally understood would look elsewhere',\n",
       " 'good tasting cereal probably sweet side second ingredient sugar taste alone id give stars deducting star overall rating unfortunate ingredients like disodium phosphate caramel color yellow bht yellow red blue dont understand need junk ingredients coloring delivery cereal arrived fine no problems shipping delivery packaging received may best date march healthier cereal like kashi organic cereal cinnamon harvest made small number ingredients without questionable stuff also not sweet give one stars also tastes great even though not sweet ingredients healthier life',\n",
       " 'taste ok simply using many artificial colors blue red yellow yellow approved fda doesnt mean healthy chemicals bht etc used children youre going eat take chances since many good healthy alternatives bother',\n",
       " 'excited get product used love toasted pumpkin seed oil unfortunately couldnt taste pistachio flavor price lack taste wouldnt purchase great company though michael great guy michelle',\n",
       " 'ive tried kinds hemp powders favorite hemp super source efas protein highly available type due amount different amino acids good animal milk allergies concerned cruelty farm animals also good us need avoid estrogenic properties ingesting many soy products great healthy taste well hempshake amazing taste really great particularly like chocolate im impressed although tastes times better plain hemp powder contains calories grams sugar digestibility add inulin good gut dont problem however high amount fiber might present problem coming straight sad standard american diet might want begin slow small drink work full dose fact im drinking nutiva hempshake smoothie right breakfast contains hempmilk natch choco hempshake cayenne cinnamon frozen berries awesome',\n",
       " 'warning not vegan not hug trees though love really not whole organic movement though no problem stance three issues different might love product found somewhat disgusting typically drink meijer branded chocolate shake mix meijer western us megastore shake mix knockoff slimfast puts hoped mix would taste least somewhat even little bit like meijer brand ways described taste wife morning well arent good im listing tasted like rope tasted like licking wet horses bridle tasted like sucking water wet hemp bracelet tasted like someone mixed dirt unsweetened bakers cocoa tasted like chewing tree barkin seriousness rope wet hemp bracelet analogies closest used wear lot hemp part organic eating movement guess remember chewing necklacebracelets product tastes like another note not impressed blending stuff shake mixes actually dissolve liquid stuff sorta clumped liquid hand ate almost much palatable mixed meijer shake mix parts meijer mix part stuff fiber content really high always plus fairly reasonable earth loving hipster movement standard faire hippy stuff might joe sixpack even liberal type product probably avoided',\n",
       " 'giant anchovies incredible value please aware whole saltpacked anchovies arrived super fast huge delicious need fillet half salt salty also marked must refrigerated shipped via standard ups hope means must refrigerated opening [ emphasis mine ]',\n",
       " 'plant pretty didnt gave ask ask plant picture send another one darker color not good open not send back also small one orchid fake',\n",
       " 'im droolin fool thinkin tasty cakes day long cakes cakes cakes japanese bread crumbs use says master yoda thoughtfulness shows ever expanding waistline cakes cakes cakes fresh creamery thighs chunky lumpy rump social services caseworker asks ssi going youll soon streets bigger burden society reply cakes cakes cakes im crustacean junky strung bangor white succulent chunks maine reef roaches infesting soul thick luscious claws pinch sanity crave gastronomic release innumerable patties oh santa god please deliver unto sweet delectable cakes cakes cakes',\n",
       " 'vegan natural raw kosher wonderful whole raw macadamias great everything delightfully tender nuts not dry roasted cooked oil no added salt ingredients macs value size divided many treats great baking melt favorite vegan dark chocolate dip cool chocolate mac love large lb g package portion control highly recommended repackage smaller snack sized bags cup g oz whole mac nuts highly caloric full servings calories half serving whole pieces would calories whole servings half servings per bag great value also available dry roasted dont prefer raw azar nut company macadamia nuts whole dry roasted ounce resealable bag review makes difference see reviews vegancompassion profile great choices check vegan grocery favorites vegan grocery top ten helpful vegan grocery listmania input counts greatly appreciated benefit search others thank',\n",
       " 'boxes oz item plus shipping stores',\n",
       " 'never know product amazonstarbucks chose send order requirement sign would order beyond work not home sign packages package returned amazonstarbucks yet reply emails even return money first amazon disappointment ben customer nearly years',\n",
       " 'years years scoured land search pizza sauce quench everlasting desire pizza sauce cheese bowl ancestors spent forty years desert several thousand years places somebody finally decided create pastorelli let tell pastorelli dream come true every time mix cheese bowl eat feel like top world proceed go basement run mile treadmill takes approximately minutes rather fat let tell turd unleash eating pastorelli not pleasent think worth',\n",
       " 'even though not like everything sampler space food sticks like energy bars gym sampler exactly said would surprised much sampler get lot money whats best get multiple ice cream bars great break piece let melt tongue youll see really ice cream took backyard bbq hit not tried peaches apples yet ice cream alone makes five star product',\n",
       " 'today tried spaghetti tofu shirataki noodles house foods would give noodles five stars werent prepreparation involved found local asian mart first must rinse noodles well liquid come smells like lake prepare smell second need lay noodles paper towels press removing much liquid possible use next fried high heat small amount oil butter minutes added frozen stirfry vegetable medley added broth soy sauce finally thickener corn starch stir bring boil turn really tasted great much like ramen noodles important note noodles no flavor actually absorb flavor whatever ingredients cooking let sit whatever flavor suits',\n",
       " 'first heard shirataki noodles years ago decided would try went fiesta got tofu shirataki noodle shirataki made konjac yams added tofu gives harder texture noodles without tofu added calories one tofu cal per oz low cal always rinse noodles first never cook longer minutes first time ever made shirataki noodles cooked like regular pasta turned gelthis years ago learned worst mistake make changed make noodles next time made correctly tried eat pasta sauce didnt work since flavors not merry accustomed hard texture pasta noodles similar texture vermicelli rice noodles personally prefer soups not substitute spaghetti would sometimes eat sauce make soy sauce shredded ginger chili paste sprinkle green onions top looks tried rinsed without cooked no flavor whatsoever isnt like ramen noodles flavor without anything added even though still eat tofu shirataki got one without tofu similar one without tofu cal plus updatei research shirataki noodles order expand ideas recipes found reason shirataki noodles may turned mush expired seems shirataki noodles still good year even still edible however would turn mush cooked long noodles also apparently shrink become thinner something seems people like went store used get tofu shirataki noodles looked expiration date lo behold expired year even saw store expired years seems non expired shirataki noodles become alot chewy cooked long mom used stir fry also tried baked also great idea lazy not use boullion cube noodles works fine let sit seasoning hours take flavor soup',\n",
       " 'tried plain shirataki noodles zero calories purchased local asian market prefer best plain shirataki feel like noodle shaped gummie candy eat not hard slippery house brand tofu didnt slippery taste didnt find preperation bothersome couple posters mentioned open pour strainer let water run throughly flipping twice get rinsed well toss pan boiling water seconds theyre already cooked drain season however wish great addition low calorie diet tried last night packet seasoning box suddenly salad classic heaven calories whole bag',\n",
       " 'agree reviewer preparation alone noodles would cause give fewer five stars however tasted like regular pasta calories bag could deal unfortunately disgusting big fan cookbook authorfood blogger hungry girl uses time try needless say disappointed chewy told fans prepared smelled nauseating opened bag rotting vegetables fish smell maybe bizarre taste regular pasta kind works texture filler dishes noodles strong weird chalky flavor never ever buy settle eating pasta dishes made whole wheat noodles still feel need try id recommend buying one bag know whether not',\n",
       " 'truffle oil quite good prefer plantin brand france urbani italy plantin expensive oh delicious tried black white good black bit stronger pungent event healthy alternative butter enjoy',\n",
       " 'keen albeit amateur kind cook enjoy italian food recipes tend put truffle oil truffle butter slided truffles number dishes cook tried urbani ending touch risotto al funghi efect incredible wonderfully aromatic tried simple scrambled eggs effect incredible',\n",
       " 'peeew know sometimes something smell bad secret want smell like fart sometimes bad smell good smell like musty man smell stinky perfume smell food no flavor want taste truffle no recommend put body people think homeless maybe partner truffle fetish use food body bottle cute big hands make bottle look like playtime barbie teacups use party salad people think genius use mac n cheese good husband makes scent',\n",
       " 'im chemist tried order chemical thiol used make truffle products no avail anyone wanna split tank car full smelly thiol product decent use anything salads pasta popcorn yes popcorn though not supposed hold well heating volatile daughter wanted pig pet noone else thought could train find truffles truffles indiana might able justify pig pet borrowed pb month old female weekend proceedeed bite std poodle aggressive returned next day recepient said shes mean isnt dogs bitten well think bored urbani truffle infused oil probably saved hundreds not thousands dollars petvet bills rescued years trying keep pig amused thank urbani p pig trained find morels suck former nyer married hoosier go colts',\n",
       " 'guess palate not sophisticated thought im rather adventurous diner truffle oil really cashed tried scallops pretty near trash no idea amuses people truffle oil gave mine away ananomously',\n",
       " 'purchased planning make freeze baby food daughter like easy pop food frozen unlike regular ice trays freeze put baby food freezer bags working great gave stars little pricey',\n",
       " 'tray makes perfect monkey platter toddler purchasing putting items directly onto sons booster tray using several small dishes way better solution seven deep wells perfectly toddlersized put heaping spoonfuls yogurt one brown rice another diced squash chopped apple steamed spinach bit bit monkey platter approach great way encourage small children try wide variety foods without overwhelming tray perfect also cute easy clean',\n",
       " 'basically title sums works like really wish wasnt expensive something also works ice cube trays dont ones lids put large baggie putting freezer cover aluminum foil spray tray pam filling really make frozen food pops right one nice thing tray ice cube trays freezes bigger cubes right baby eats little bit smaller portionscubes actually better',\n",
       " 'bought trays originally using plastic ice cube trays kept breaking everytime would take food trays work wonderful slide right perfect portion size love little expensive worth every penny',\n",
       " 'freezer tray not airtight puree get freezer burn ive enclose tray plastic freezer bag storing would expect work better price however easy popout ready defrost',\n",
       " 'total sucker kitchen gadgets goes far price insane essentially glorified ice cube tray not work well basic ice cube tray difficult get cubes tray odd shape wastes space freezer makes ounce servings fine know want ounces prefer make ounce sizes combine different flavors make ounces baby not hungry dont want waste reason gave stars lid handy must admit buy ice cube trays lids actually fit freezer stack well total waste money okay cute wish wasnt cute',\n",
       " 'unfortunately made china not trust manufacturing standards looking alternative',\n",
       " 'listing sells freezer tray nearly retailers sell make sure look buy',\n",
       " 'started sprouting enjoying seeds use salads sandwiches add good crunch help flavor bite amount radish seeds seem give right spice mixture',\n",
       " 'tasty mix sprouts easy grow keep freezer expect bag last long time',\n",
       " 'mix came quickly sproutable lots seeds sprout long great',\n",
       " 'people serve would excellent purchase serving however would important inform guest would receive one pop tart seconds would not possible unless course one person decided eating pop tart case one person could seconds would advise however would rude guests provide seconds one deny others',\n",
       " 'led believe product individual tea bags not loose tea requires special brewing equipment im stuck product cant move chef joseph',\n",
       " 'lovely healthy treealong helpful paper came treeyou ready start taking care new bonsai thankyou informationthis first bonsai weeks later tree dead no leavesi instructions said not know went wrongi guess maybe not bonsai tree thanks anyway tree healthy arrived',\n",
       " 'closest thing going norway great taste fresh satisfying appreciate pickled herring far better anything available local supermarket',\n",
       " 'nov keebler website says gram serving contains gram trans fat dont take word terrible quotations survey articlemozaffarian et al trans fatty acids cardiovascular diseasethe new england journal medicine volume pages quotations articlegiven million annual myocardial infarctions deaths chd [ coronary heart disease ] united states nearelimination industrially produced trans fats might avert percent percent chd events [ e heart attacks ] year estimates based replacement trans fats carbohydrates practice however trans fats partially hydrogenated oils would commonly replaced unhydrogenated cis unsaturated fats may additional potential benefits compared carbohydrates additional potential benefit considered greater proportions chd events percent might averted note disproportionate percentage heart disease attributable transfat astonishing since authors point first page transfat makes tiny proportion american dietthe average consumption industrially produced trans fatty acids united states percent total calories consumed concludeon basis evidence vitro experimental studies dietary trials prospective observational studies consumption trans fatty acids partially hydrogenated oils provides no apparent nutritional benefit considerable potential harm professor willett one coauthors article chairman harvards nutrition department author medical school textbook nutritional epidemiology mostcited author field also written transfat general audience book eat drink healthy harvard medical school guide healthy eating',\n",
       " 'like crunchy snacks im eating low carb doctor advises helps fill popcorn spot life lot things like product economical cook fresh whenever want taste fresher ones buy prepopped bag dont msg like lawrys brand dont come lot extra packaging low carber looking pork rinds cook arent heavily seasoned wont influence recipes flavor like clean flavor not hard add seasoning want experiment like variety little bit oil butter serve glue hold parmesan cheese seasoned salt etc bit learning curve involved terms discovering long take microwave know feel size handful grab long nuke worth effort get know highly recommended',\n",
       " 'pork rinds fry fat rather deep fried lifesaver like pork rinds im not biggest fan sometimes im kind hungry pack way protein average fatty snack problem type fat fried inmelted pig fat skin not particularly healthy much healthier mexican bagged varieties since dont microwave oh god get without one toast toaster oven baking tray minutes ff come great lean closer minutes get crunchyporky tasting snack go past youll get typically superpuffed pork rind youd expect cardenas cant comment well crisp microwave expect yield results',\n",
       " 'long time fan piggy skins tried microwave bag version ucookem rinds wanted try something wasnt drowning packaging im happy tasty nuggets find fairly powerful microwave run small plate condensed pieces theyre shipped least package says try seconds start dont think imagination taken nuke chamber start contract bit consider get fresh hot plate puffy rinds short order well worth price course get trashbag full rinds warehouse stores venues couple bucks fresh eating home thing id compare fryin batch hugely convenient point scale id give zons star system go',\n",
       " 'ordered product vacation rental property delivered quickly exactly expected continue order item',\n",
       " 'lb dog could not break treats chewing gave minute decided look elsewhere treat unable break treats two even though scored across middle toy breed dog thought fun play couldnt get much headway trying chew either never ate need come something soft',\n",
       " 'dogs decidedly not new age impressed fact dog treats high protein naturally preserved no wheat corn no artificial colors [ sic ] flavor enhancers free added hormones antibiotics chemical additives bag treats seem decidedly overmanufactured dry dusty uninteresting left australian shepherds decide first taste test kirwan throw head back like alligator eat anything tossed way crunched first one not interested second helping newmans organics lamb barley new zealand ranch style dog treats pippin discerning palette moved across rug nose subsequently abandoned morning placed treat floor dog kirwan ate without enthusiasm pippin ignored look love dogs think newmans fine company product seems result overzealous people going great lengths make feel good feeding dogs cannot imagine amount farmland energy resources expended create organic dog treats really balance priorities perspectives perhaps animal nutritionist blessed recipe art department created bucolic packaging marketing folks carefully crafted spin product make us feel good tucked away pantries bag time product appears house besides dogs actually like foul smelling foods gloriously roll knows sorts awful stuff find not like sorts boutique fabrications really think reality check needed already feel sharp sting venom folks take task holding contrarian opinion',\n",
       " 'wife wanted get gift basket like father christmas werent going able visit person year enjoy christmas morning breakfast thought gift basket would nice researching tons options became frustrated often shipping products like cost actual products lets face prearranged gift basket food rarely going value add shipping things right outrageous came across basket available amazon prime free shipping not less expensive alternatives looking nonamazon vendors went ahead ordered arrived exactly time excellent condition according fatherinlaw excellent no complaints happy find option pleased company amazon hopefully remains primeeligible future',\n",
       " 'kombu wonderful energizer especially summer cold flu season drop one strip boiling water minutes remove cut smaller pieces add cups water add teaspoons shiro miso mild white miso heat stir miso dissolves avoid boiling ingredients add cubed tofu soft best spinach swiss chard cut thin strips shiitake mushrooms cut thin strips scallions thinly cut including green part reserve half soup garnish heat not boil minutes servie splash soy sauce little extra flavor kombu mild flavor best not overcooked softened great vegans better chicken soup enjoy',\n",
       " 'please investigate ingredient list called healthy alternatives especially body already sensitive gluten msg wheat things one review one ingredients crackers ammonium bicarbonateammonia powder ammonium bicarbonate leavening agent precursor todays baking powder baking soda must ground powder using also known hartshorn carbonate ammonia powdered baking ammonia still called recipes especially cookies suggested substituting equal amount double acting baking powder powdered ammonia hartshorn recipe kitchen would stink ammonia cookies baked cookies would not taste smell ammonianow doesnt make want gobble crackers not product comes china another caution preferred food processors cheap expensive common baking soda bakin g powder',\n",
       " 'five family members gf diet favorite crackers even family not gf diet like crackers highly recommended',\n",
       " 'great dont much like glutenfree cracker options e g rice crackers etc taste pretty close normal ive also used recipes like topping broccoli casserole worked great',\n",
       " 'monitor dog carefully give himher chews one dogs died result eating chews three ill two days product difficult dogs digest result blocked intestines infection since package not contain warnings thought harmless careful buy dog',\n",
       " 'product excellent complaint shipment product lost dozen items come open transit created sticky mess clean second time occurred type product no problem quality product packaging might require adjustment',\n",
       " 'read reviews find situation creamers not arrive blue dispenser box shown creamers arrive loose inside cardboard box no padding perhaps less creamers would burst transit display box shown wrapped inside cardboard box box arrived completely undamaged outside none appeared frozen transit appears creamer singles pop high altitude transit perhaps box thrown shipper pressure placed box sticky mess arrives creamer taste convenience great unfortunate many people commented problem interational delight not fixed packaging shipping issue',\n",
       " 'ive never found anything works better mild tummy trouble tums mylanta etc etc never worked well tea settles stomach right away',\n",
       " 'love tea great people suffer ibs helps relieve bloating gas foods great tasting',\n",
       " 'finally purchasing best coffee maker ive ever years drinking coffee hunt find best tasting coffee go comes coffee suppose really thing ive tried em various varieties offered amazon kcup provides pleasurable mix everything looking cup coffee undisputedly emerils big easy bold nothing beats emerils big easy bold plenty brands trying suggest theyre bold ive tried midnight magic brand ive tried jet fuel brand ive tried donut shop brand ive tried extra bolds kcup really tastes like jet fuel packed cup coffee get best donut shop emerils big easy bold whats really cool whether make small cup large cup emerils big easy bold wont lose rich flavor keurig coffee makers least two buttons let choose make large small cup even three buttons large medium small like large cup brands noticeably lost flavor went medium cup large not emerils no question like darker roast thats full flavor packs punch youve found right page amazon wake people add cart bam',\n",
       " 'ran across coffee looking dark bold coffee ive always called good strong cup coffee coffee meets criteria not bitter doesnt leave bad coffee taste mouth im tightwad kcup appealed also sometimes add teaspoon favorite instant rotate kcup deg run gives second good cup coffee reduced prices buy big easy bold',\n",
       " 'product comes amazon packaging defective appears attempt save cost little foil material used seal top kcup result kcup punctured keurig coffee maker foil lid separates side kcup resulting explosion coffee grounds coffee maker kcups not specifically brandpackaging since making varieties kcup coffee coffee maker time none broke seal left grounds coffee maker looking seal product compared kcups varieties seal much tighter since larger amount coffee grounds kcup theres lot make mess loved taste coffee cant waste much time cleaning coffee pot dont buy amazon hasslefree packaging youll sorry',\n",
       " 'sure coffee tastes good not sure ever get find cup insert keurig busts open brewing dont think seal withstand heat opens oozes grounds coffee yuck',\n",
       " 'like hot stuff thing killer put tiny dab toothpick sick rest day',\n",
       " 'fairness product taste taste good however couldnt get fact no safety seal tamper evident seal know im probably paranoid day age like see type safety seal products im going consume think least button pops open bottle thats order came bottles didnt return next buyer would absolutely no evidence opened one bottles loss oh well guess one risks ordering internet not able inspect packaging purchase',\n",
       " 'used super coffee snob buying green coffee beans roasting home tedious good espresso blend would make one heck cup joe due economy needed scale back tried folgers black silk seeing ad first launched became immediately hooked coffee drink brew home use french press youre treat black silk excretes delightful nutty oil allowed steep using filtered brewers miss coffee strong deep dark smooth delicious',\n",
       " 'nothing like fresh roasted chestnut not available french roasted chestnuts come jar typically second best alternative cost two half time not single serve packages best alternative quick snack drawback smaller dark look unappetizing although taste fine thing makes yearn french chestnuts moisture content either manufacturer roasting incompletely weigh roasted french equivalent must problem manufacturing technique pack warm increasing moisture content bag time even sticky fingers would buy yes money no issue would buy no would buy french roasted chestnuts glass jars better yet would maid roast peal lol',\n",
       " 'id looking whole wheat orzo awhile almost impossible find grocery stores great pasta reasonable price ive pleased pasta one thing accustomed enriched wheat nonwhole grain orzo lot firmer another thing ive noticed develops grainy texture leave pasta fridge overnight',\n",
       " 'love chocolate cinnamon artisan chocolates general high hopes product disappointed first grainy toomuchsugar way not coarselygroundcacaoway break piece see sugar crystals glinting chocolate second almost no flavor couldnt taste cinnamon even chocolate weak smells wonderful tastes like grainy nothing',\n",
       " 'received fly trap traps closed called help line asked guy normal man line spoke poor english could hardly understand get repeat everything said told heads closed ok would open weeks like well ok week passes traps still closed begin get black spots call help line says oh thats normal go away week time goes still traps remain closed black completely covered two read online get black spots immediately pop head new one grow back rest leaf got really black began limp ive fly trap half weeks still havent lost black one heads opened dead exactly instructions said still no luck dont fooled photo item not anywhere close size photo maybe third size photo disappointed',\n",
       " 'syrup delicious natural organic great deal even compared costco warehouse stores importantly vermont maple syrup required vermont law produced higher level purity less water maple syrup elsewhere us e g new york canada vermont maple syrup good maple syrup gets brand good vermont maple syrup comparing product syrups new york canada keep mind youre getting syrup less water since vermont maple farmers boil give concentrated flavor worth pointing grade dark amber probably best bet pancakes waffles like flavor lighter grade syrups light amber fancy cleaner taste grade b syrup difference grades colors based part short maple harvesting season syrup gathered grade dark amber comes heart season later earlyseason lighter syrups trees really warming bakingquality grade b harvested',\n",
       " 'first time tried organic maple syrup grade dark amber already promised great taste organic added expectations product surpassed expected warm mellow taste reminds northern woods campfires tingle frost air raised authentic flavor real maple syrup artificial syrups big disappointment product enlivened taste saturday morning pancakes',\n",
       " 'put chemical garbage body pure original tastes good price considerably better price local grocery store ordered checked local prices would store pantry yummy',\n",
       " 'syrup good not usually like maple syrup one delicious not overly strong maple flavor sweet puchase based flavorits organicgreat price made usavermont maple syrup not get better need use stonger shipping boxes wipe jugs sugar ants box not syrup',\n",
       " 'highland sugarworks organic maple syrup far best maple syrup daughter tasted tried many brands including maple syrup produced individuals syrup best opportunity purchase months ago amazon com unfortunately price gone like everything else grocery related good hesitate try brands not want disappointed buying near future',\n",
       " 'good maple syrup like pure maple syrup expensive husband duped purchasing product math wrong though paying half gallon rather oz man surprised see small jug came mail',\n",
       " 'find similar grade maple syrup sams costco much less product great not happy amazons pricing',\n",
       " 'purchased maple syrup line due savings use real maple syrup stick grade consideration price',\n",
       " 'switched cat food purina one mature formulation chicken first ingredient many cat foods rice chicken byproducts first ingredient food specially formulated older indoor cat good thing food low protein important older cats decreased renal function purina one mature formualtion much protein cat really likes taste no problem switching food purina one highquality cat food although bit expensive brands cat well worth',\n",
       " 'black white tuxedo male living outside horribly injured racoons possibly fight another male cat took vet extensive injuries tended neutered recovered started developing looked like dandruff coat trying several foods came across one happy report coat great loves food coat shiny wonderful named sylvester adorable cuddly thing world happy glad found product like',\n",
       " 'cats love cat food much easier eat much easier chew older cats much better cant get larger bags food local feed stores order amazon cats',\n",
       " 'gluten intolerant really nice see pamelas put gf type clif bar best analogy oddly enough taste like lighter version clif bar usually dense mind would take two fill like clif bar rds size clif bar loaded oats first thing taste chocolate chips last thing taste moist chewy like soft cookie medium sweetness compared regular cookie per bar calories fat gr carbs gr fiber gr protein gr ingredients gf oats organic agave brown rice flour white rice flour sweet rice flour tapioca starch xanthan gum organic chocolate chunks organic natural evaporated sugar organic cocoa paste organic cocoa butter nongmo soy lecithinemulsifier glutenfree organic vanilla coconut sugar monounsaturated safflower oil organic eggs almonds coconut chia seeds natural flavors sea salt baking soda xanthan gum note packaging may traces milk nuts peanuts soy theyre processed overall theyre pretty darn good taste bit baking soda think thats im pretty sensitive end bite oats really main taste someone eats gluten free would eat take break quicklyyeah would theyre like soft oaty cookie easy take good ingredients taste quite nice ill buy easily pick clif bar pamelas whenever bars id take pamelas',\n",
       " 'must good never lies even skizip likes drinks strawberry protein shakes',\n",
       " 'eat brown rice least times week product definitely excellent buy needs however two things consider eat rice much not expect brown rice go rancid months secondly importantly not order amazon jacked price order directly honeyvillgrain website also shipping anywhere u no matter weight size',\n",
       " 'expensive lb bag looked around long time found economical cosco one membership stores isnt available regular warehouses cosco business store dont need business membership card go price lb bag live phoenix az one store near indian school road j',\n",
       " 'first foremost make sure not let tea steep long let steep recommended two minutes shouldnt run bathroom like pants fire let steep minutes decent trip bathroom not explosive diarrhea way eat mostly women need clean plumbing every fabulous way not recommended everyday use',\n",
       " 'selected company even though price higher hoping pieces would consistent size tuened container filled smaller crum like pieces worse companys never buy anything company',\n",
       " 'price dr foster smith',\n",
       " 'freeze dried liver hypnotic effect dogs love anything great treat use training powdered freeze dried liver even added many dog medicines nowadays heartworm arthritis tablets etc causes dog scarf medicine like treat freeze dried liver dry hard yet powderyeasy chew consistency comes choppedcubed extremely lightweight due fact little moisture product thus low weights product labels even though dog love liver treats shouldnt overfeed manufacturer recommends cubes daily small dogs cubes medium dogs cubes large dogs largest package sizes liver treats tend far economical recommend buying larger tubs save lots money youll handy treat supply around longer time dog never tire product really zero waste product near end tub youll find powdery bits dried liver bottom dogs go crazy sprinkle dust dog food wonderful reward easy use heres nutritional analysis freeze dried liverno additives preservatives crude protein not less crude fat not less crude fiber not moisture not',\n",
       " 'wont say im expert cheese curls sure taste great slightly milky flavor touch blue cheese give edge literally figuratively competition great part ingredients organic wish course organic price dont surprised open bag fill third guess empty space keeps shape bad part buy expect discount amazon price local high priced natural food store still nobody comes close flavor wise although flavor course subjective update december could disappointed makers cheese curls stopped buying baked cheese puffs brand quality varies one batch expiration date another last batch many puffs without cheese back curls previous batch november excellent good flavor crispiness reported wife came one bought week ago not single curl proper cheese flavor bags not complain complaining company doesnt care told last year quality puffs varied one batch another got worse retail price increased since price expect good product especially buy time notice says back bag freshness guaranteed thats right dont care whether happy product fresh thanks michael seasons guess ill start making cheese curls no product market uses partially organic ingredients id give one star today could',\n",
       " 'id hearing product couple years finally ordered inadvertantly ordered lite yuk much anticipation waiting arrival finally opening cheap plastic jar putting piece bread try tasted like wall spackle ok ive never eaten wall spackle im pretty sure tastes like lite baconnaise realized careful examination label ordered lite dammit determined finally taste original baconnaise went back amazon carefully ordered original baconnaise pretty dang good ill leave review original nonlite product',\n",
       " 'bacon fiend excited try baconnaise however small taste husband found disgusting tastes chemically not much like bacon like smoke flavoring threw away',\n",
       " 'hey bacon lovers original baconnaise absolutely delicious nothing else like store shelves no not maker product associated way happy customer yummmy lite baconnaise like calorie restricted products doesnt taste great original fattier baconnaise suggest go jds website buy original baconnaise not lite variety hooked fast food especially mcdonalds big macs got jar original baconnaise looks darker lite jar pictured seeing featured oprah love first bite although not diet food lost almost pounds weeks id rather eat home using baconnaise grab something drivethru especially like lean roast beef sandwich baconnaise no fast food means no french fries super sized coke think thats im dropping pounds financially saving lot cash discovered something makes satisfied im putting mouth make sense seriously costs us fast food meal used eat several times week still pizza every often fast food lost allure even went far dab baconnaise stalk ugh broccoli yesterday eatable assure not veggie eater thanks tasty product hope break addiction fast food even eating veggies possibility almost unbelievable statement junque food junkie took time write could not believe negative reviews wanted clarify thinking trying baconnaise purchase original baconnaise formula helped great deal hooked life good luck happy eats',\n",
       " 'really like nantucket blend drink way much thought would buy ct pack mistake ordered weeks ago product not arrived checked amazon account said product would ship july august three four months shipping ridiculous must say fault clearly says product listing however usually get everything order amazon com within couple three days didnt even think look buy coffee another vendor please',\n",
       " 'green mountain colors box light green product caffeinated wife got snookered caused thought medium roast didnt caffeine cause box light green dont get fooled coffee bitter taste put french vanilla creamer make smoother taste medium roast going back newmans medium roast decafe kuerig',\n",
       " 'prefer deep dark roasted coffees many people dont mother used standard household blends folgers many years received keuring machine started experiment brands blends occasionally drinks flavored coffee become favorite get couple boxes month loves tried take blendthe body mouthfeel light medium acidity mediumlow wont much bite especially use cream flavor surprisingly complex spice maybe cardamom anise little pepper well rich coffee finish not replace favorite dark roasts keep hand guests find starbuckstype coffee strong bitter like mother enjoy regular blend dont think gets better',\n",
       " 'green mountain favorite coffee switched grinding k cups recently still love vermont country blend heifer hope ultimate kcup us medium roast rich not bitter satisfies every time',\n",
       " 'one favorites amazon charging much though bought easily elsewhere amazon competitive one two boxes price',\n",
       " 'best one ive tried keurig not strong creamy taste cant go wrong one',\n",
       " 'yes ordered boxes ct pecan turtles butwhat shipped boxes pecan cashew turtles emailed back asking substituted without approval response website clearly stated turtles combination pecan cashew turtles needless say not happy future orders go someone else john',\n",
       " 'length minsmy eightyearold son volunteered try nong shims new flavor spicy chicken made video interview eating noodles dinner came home judo practice hungry family enjoys nong shim instant noodles stock pantry every autumn bowls ramen yakisoba udon nong shim leading brand ramyoen ramen instant noodles south korea package design getting better endorsement professional chefs chefs best award easier read three colored boxes lower right corner note noodles no msg added theres less sodium regular product noodles grams trans fat recommend adding refrigerator scraps instant noodles perhaps whole kernel corn sweetness tofu finely chopped green onions scallions chopped cooked beef chicken seafood egg another delicious addition rating five stars earlier year j kenji lopezalt executive editor serious eats posted ramen hacks easy ways upgrade instant noodles highly recommend search read full article never go back relying flavoring packet alone make instant noodles distilled tips four bullet points simple addins miso paste chili bean sauce thai curry paste japanese curry powder fish sauce harrisa vinegar ponzu vegetation baby spinach romaine lettuce bean sprouts thinly sliced cabbage watercress scallions wilt matter seconds eggs hard boiled soft boiled eggdrop method poached eggs fried eggs simple simmered meat thinly sliced meats cook matter seconds directly pot chicken breast pork tenderloin flank steak great candidates instant noodles available amazon family eats recommendsnong shim big bowl noodle udonnong shim big bowl noodle kimchinong shim beef ginger bowlnong shim kimchi noodle bowlmyojo ippeichan yakisoba noodlesin many cases sign amazons subscribe save program additional savings convenience',\n",
       " 'dont giggle open eat nothing wonderful spotted dick lashings custard good cup strong tea friends yum keep cupboard ready friends tea moments notice rich sponge cake currents savory rich tones brown sugar chocolate sticky toffee treacle good get know name seems bit naughtyit adds fun offering cultural engagement wonderful world slip gifts offer bring dessert friends also love line products quality',\n",
       " 'british food often poorly regarded comparison cuisine european neighbours france italy germany spain yet areas britain truly leads world would without sandwich exampleanother area british culinary preeminence steamed pudding amongst spotted dick king puddingfan deeply saddened several rather puerile reviewers find name mildly amusing doubt would stoop pathetic attempts humour bothered taste first take word nothing tastes better mouthful dick especially comes load hot custard',\n",
       " 'not pudding american standards name somewhat obscene american standards found treat sweet long long time since seen bread tasted much better heating microwave pouring cream half half top give gift christmas birthdays almost everyone loves dont give anyone work hr department learned hard way',\n",
       " 'fellow named mickwhose tackle never sicktill put somewheremany others darednow mick fine spotted pudding hey must satisfy censors theo',\n",
       " 'least two known breeds spotted dick spotted dog called one staple childhood english working class diet steamed suet pudding made suet flour sugar currants raisins usually served treacle heinz canned version different animal member sponge pudding race containing no suet nice enough especially good englishstyle custard tasty filling easy prepare name makes great fun fan aubreymaturin stories want eat like warned not real thing genuine spotted dick dog described obrians books glorious suet pudding youth [ peterreeve ]',\n",
       " 'british foods reputation tasting like recycled garbage dubious name best spotted dick sounds like leftovers saw movies anything edible nonetheless gave girlfriend also ate spotted dick soggy bread delightful straying typical rubbage british plates injection flavor spotted dick welcome taste sweet treat hints cinnamon perfect party filled dick hungry guests ten ounces roughly four servings based upon nutritional facts thats roughly calories fat calories total grams fat say dick fat would understatement trace amounts calcium iron rumors go healthy benefits charming confection highly recommended',\n",
       " 'news aubreymaturin fans experience dining table relish beloved heroes gobbled chow sailing knot tempest cape horn french corsair two hot stern dont forget put boccherini cd delectable sponge pudding steaming nautical microwave',\n",
       " 'well ordered expecting something quite different mean cmon look name however reading ingredients found doesnt contain product listed label falst advertising trooper dumped ate anyway pretty good not youd expect',\n",
       " 'got years ago trip albania albanians refer gypsy curse people grossed spots think glorious women go crazy bring parties love spongy texture im glad see comes pack getting tired telling people keep hands spotted dick everyone enjoy',\n",
       " 'odd product says no gm ingredients genetically modified ingredients include partially hydrogenated canola palm oils yucky source transfats aware thsi imported product contains g trans fat per serving servings taste wise opinion tastes like soggy wet fruitcake not good way way sweet even got bites sandy gritty crunch texture horrible hope raisins product not pleasant tasting not sure great reviews taste couldnt choke even bites stuff thing appreciated laughs friendsfamily name heinz product',\n",
       " 'looking spotted dick best ever find',\n",
       " 'find stuff delicious cant stop eating suggestion read voice night shortstory william hope hodgeson practically guarantee never want eat heinz spotted dick sponge pudding ounce pack size reading story ever life instead something healthy wholesome like tuscan milk',\n",
       " 'purchased grocery store night vodka ojs know bought serious note good dont like flavors fruit cake cooked raisins isnt kind like super moist fruit cake without nuts candied fruits also awesome whip parties say things like put mouth',\n",
       " 'hits spot especially alone pack no less',\n",
       " 'look main ingredients partially hydrogenated canola palm oils stuff may taste sweetly good hydrogenated oils wreak havoc body youd terrible hostess poisoning guests stuff well unless bad guests p',\n",
       " 'kidding would name product really love part preventing spurting lol',\n",
       " 'didnt remove spots going sponges bought',\n",
       " 'ive always wanted experience mouthful dick like obama yes even comes black flavor look extra long',\n",
       " 'ordered spotted dick eating felt little strange went bathroom horror realized horrible disease luckily gallon floz tuscan whole milk cleared',\n",
       " 'husband love coachs oats first tried recommendation friend kind nutty rich flavor oat not rolled not quite cracked somewhere great texture take minutes cook first bought costco dont carry anymore cant find anywhere would like order online dont want dish shipping charges hoping amazon starts carrying soon',\n",
       " 'packare serioustrader joes sells packs thats worth',\n",
       " 'found first local supermarket ive looking blend could use standard everyday cup coffee finally ive tried many blends brands either harsh bitter know people think coffee taste way bland weak smooth nice coffee presence actually taste coffee taste not burned grounds highly recommend youre not make hair stand end type coffee review based using medium size coffee machine may get different results use small large dispenser sizes',\n",
       " 'tried many varieties k cups green mountain best favorite blend breakfast blend mild coffee like dunkin donuts like starbucks drinker try bolder blend',\n",
       " 'im glad taste one ideal not bitter taste smooth whether adding sugarcream black ill order',\n",
       " 'coffee good price ridiculous kcup approx get green mountain cents kcup delivered still much buy cents kcup bed bath beyond kohls',\n",
       " 'disappointed since regular wheat thins dont msg variety need stay away msg since get migraines sure nabisco find way make flavorful cracker without msg crackers strong taste found taste stayed mouth long time prefer original unflavored wheat things',\n",
       " 'brought heavens us mere mortals taste theres cereals weve truly blessed lucky charms cinnamon toast crunch id throw fruitloops thats man made attempt creating god given cereal',\n",
       " 'used visit chipotle mexican restaurants douse burrito delicious concoction one day walking aisles local safeway happened upon bottle shelf life hasnt ever since',\n",
       " 'web information fails mention main ingredient alcohol small percentage pure extract',\n",
       " 'ive purchased cheese meat ravioli previously cheese bland meat little bland_ italian sausage variety tasty really taste like italian sausage even little bits sausage sauce even little spicy like italian sausage less per long shelf life ones ordered oct use date may thats years eat order lots price low wouldwill buy added june _in regards person said factory rejects dented cans say wrongive ordered cases italian sausage ravioli not single dented ive ordered couple cases minibeef ravioli werent dented either_ cans not single one dented',\n",
       " 'read overstuffed sausage would expect artery hardener not total fats mayo clinic recommended limits total calorieschef boyardee overstuffed sausage saturated fats mayo clinic recommended limits total calorieschef boyardee overstuffed sausage trans fatsmayo clinic recommended limits total calorieschef boyardee overstuffed sausage almost qualifies health food think best tasting raviolis chef boyardee',\n",
       " 'cans seriously dented dents not occur shipping dented befor packed case factory get trashed pain return never buy amazon refund money without return cans cudos amazon class act',\n",
       " 'beer brewed extremely fast actually foamed top think maybe temperature house high f either way ended tasting fantastic highly impressed ease coopers beer make great always taste',\n",
       " 'wow didnt think extract brew would taste like got easy takes no time true comparitively grain brew not draw wil not sacrifice taste color smell joy beer',\n",
       " 'service return poor product reached melted fully bloomed chocolate white spots streaks surface though something reused melting not seeding id needed not agreeing return product reached form not acceptable explain need purpose not refund previous shipment tax pay return shipment ended paying return shipment product lot costly vendor actually double price bought kg block chocolate local callebaut vendor please research local listings stop buying channels want callebaut chocolates call number callebaut website get contacts local distributor vendor milkwhite chocolate kg costed close shipping bought kg block local distributor',\n",
       " 'terribly excited heard nescafe finally decided touch idea carrying wide array flavors intensities straight espresso ive always jealous nespressos collection capsules introducing new singleshot intenso ive stuck making doubleshots fairly disappointing espresso option ages ive decided little comparison reviewing new exciting addition working espresso g coffee capsule dark roast caffe grande g noted latte macchiato review generally accepted typical single shot espresso made g ground coffee final shot sitting no ml espressos instructions recommend ending ml liquid seems light amount coffee much water dark roast doesnt much better recommending ml g tastetests able pump fairly heavy ml singleshot espresso kept dark roast ml note tips give previously mentioned macchiato review really squeezing every mg coffee capsules feeling work dolce gusto machines allow completely control flow machine ballpoint silver lever pointing head dispenser like melody circolo seems machines nescafe released past month specifically creativa somewhat automated right bat dispense grande notice thicker creamier color texture coffee retains good seconds settles deep brown even less noticeable light passing compared espresso even though pour started pushing ml thickness far greater espresso absolutely no hint water literally liquid feels heavier richer mouth espresso pales comparison regard taste aroma texture im definitely not expert comes pinpointing descriptive flavors espressos id say espresso something sweet bitter dominating taste hand grande lacks resemblance espresso anything id say theres warm spicy flavor mixes quite well overall dark roast qualities ofcourse know anything definitely coffee might say well youre comparing dark roast regular espresso yes guess thus expect differences however past three years nescafe one option came strong singleshot espresso choices caffe lungo americano got deep strong drinks guess giving new cafe grande intenso try ultimately given worthwhile competing option espressobased choices finally enjoy drink machine requires one capsule espressos could trick doubleshots whove similar situation review give idea expect youre missing new choice usual buying boxes amazon com subscribe save inexpensive option ive found also make sure signup online dolce gustos website award points get every box box three amazon subscribe save factoring sometimes award points get every box may eventually redeem amazon gift cards price per box drops little dollars compared dollars box sur la table retailers nescafe finally entered realm differing strengths flavors espresso line felt brands mild espressos werent quite hitting spot musthave easily goto singleshot drink',\n",
       " 'eating thai sticky rice local thai restaurant wanted able enjoy tasty dish home purchased steamer basket cheese cloth rice kit arrived quickly carefully packaged complete instructions included enabled make great sticky rice first try import foods also offers full list thai receipes along list ingredients needed ability simply click order needed items offer easy use web buying experience excellent quality products definitely order',\n",
       " 'shipping great packaging great product wonderful shipping cost line order sent usps flat rate boxes get much cheaper shipping cost fast ups especially nome alaska shippers like ups ease picking items ship home work would see usps much cheaper nome alaska faster thank letting vent patty andersenalaska resident years',\n",
       " 'farmer lots farm cats perfect food primarily sold farm fleet stores think meant farm cats ingredient list marginal quality though expected corn grain products meat byproducts better iams not much ive feeding cat diamond maintenance years without problem switching something substance soon youre looking cheap option lots cats good product buy bulk domestic cat wish keep around awhile id suggest something else hey youre looking good alternative get chicken soup adult cat formula great stuff doesnt cost lot much better regular diamond food',\n",
       " 'love crystal light helped shed pounds month period taste good stopped drinking sodas sweet drinks done long price affordable boot',\n",
       " 'dont understand flavors included variety pack not listed product features section photo one read past legal disclaimers find flavors included even one gets product features section reveals included flavors one must first get past hypeproduct descriptionevery refreshing variety lets add flavor water without adding calories great bottle water comes flavors wild strawberry raspberry lemonade natural lemonade cherry pomegranatedespite concerns aspartame not harmless drink lot crystal light sugar not harmless either us cant afford sugar calories real fruit juices beverage choice day crystal light natural leomonade flavor delicious dont understand flavors bad aftertaste suppose must something tartness lemonlike flavor disguises natural lemonade aside ridiculous use one big fake foods favorite bs terms natural good grief look ingredients list taste best crystal light flavor though not people would consider natural taste remarkably like real lemonade however use nearly twice amount powder loads crushed ice get taste raspberry lemonade artificial tasting slight bad aftertaste improve adding half real squeezed lemon used taste better year ago changed still less aftertaste flavors wild strawberry fake tasting terrible strong bitter fake sugar aftertaste almost bad saccharine cherry pomegranate dittomy final complaint cost think theres good deal corporate greed involved imagine profit margin astronomical yeah know dont buy dont greedy batrd either',\n",
       " 'oh would gluten free pantry mess great thing reviews product prerecipe change wonder everyone thinks recipe changed first ingredient brownies used dutch cocoa oh decadent dont stand mix okay used far superior heads shoulders competition im extremely disappointed taste blah wont buying anymore',\n",
       " 'tasted many packages brownie mix contain hydrogenated oils propylene glycol lots nasty ingredients brownies far best tasting pure ingredients love bake batch cut small squares put freezer great treat anyone sensitive wheat absolutely love brownies wont disappointed great walnuts',\n",
       " 'brownies delicious period didnt even follow instructions forgetting whip eggs added turned wonderful gluten free products tasted great',\n",
       " 'see no reviews item yet need great recent changes twinings lineup im sure people like looking good replacement hope helpful done took blind chance tea glad ive fan black currant iced tea ever since first tried years used twinings brand changed formula read many negative reviews decided look new brand tried several others mighty leaf black currant best far fan twinings black currant original andor like black currant iced teas served jasons deli corner bakery probably really like tea similar taste slightly stronger little bite twinings version like excellent quality tea around several brands whose interpretation black currant tea tastes like far removed flavor familiar tried downright weird not really sure black currant taste authentic honest know like happy tea buying brand making iced tea well worth order',\n",
       " 'got lb bag petsmart not good price amazon dog loves though',\n",
       " 'recently ran gmcrs blend forced try newmans took colleagues minutes convince wasnt drinking urine truly offended taste buds taste lack passion pride blend newman could take lesson blend show little pride work dont afraid think outside box create coffee doesnt taste like cow sweat thats makes blend great taste uniqueness creativity brew advice newmans step aside let artists behind blend restore americas faith coffee',\n",
       " 'tried many kcup coffees newmans extra bold one best absolutely no bitterness strong flavorful mellow way love unless youre fan weak coffee',\n",
       " 'high quality coffee particularly well suit bold coffee drinkers taste strong flavorful no bitterness generally morning coffee drinker since afternoon coffee upsets stomach however tolerate newmans coffee afternoon well balanced favor acidity great value kcup package',\n",
       " 'weve tried many brands flavors keurig system kcups one absolutely must keep hand favorite coffee wake morning tastes wonderful fullbodied strong enough without bitter us',\n",
       " 'fabulous drank traveling cancun every morning found grocery thrilled put tablet blender pulverize one time otherwise melt pour hot milk blender else put separate container stir hot milk ive heated microwave tablet makes four cups ill add heaping tablespoons yum',\n",
       " 'real mexican chocolate version much better mass produced american chocolate simply cocoa content much higher w european chocolate real dark chocolate w little spice sugar not think requires additional sugar make since want dark chocolate flavor use whisk comes delicious think one best products nestle makes one consistently purchase fact im going try powder mix version convenience since chocolate processed probably wont good however also received positive reviews',\n",
       " 'bought one picture front thought might reinforce threats send naughty children grammas dont behave',\n",
       " 'seasonal asthma ever since child tried rather unsuccessfully overcome excercise inhalers medication nothing worked well yogis breathe deep tea like miracle breathing feeling restricted drink hot cup delicious tea bed sends nice deep sleep wake breathing better feel great next days thats no exaggeration reccommend tea not asthmatics anyone suffering stress anxiety lack sleep anyone appreciates good tea thank thank thank yogi tea people may success flourish may always keep cupboard chocked full wonderful teas',\n",
       " 'amazed well tea works relieve chronic congestion recurring sinus problems not quick fix either therapeutic effects last hours bit worried tea would bit licoricey since one main ingredients licorice root fragrance taste mild incredibly soothing think package six boxes much youll happily proven wrong would stock entire garage tea could',\n",
       " 'tried yogi rejuvenation good one contains actual tea leaves artificial sweenter taste found wincing sip like medicine not enjoyable really bad tasting well also returns not elgible item would rather stuffy nose put cup bad bad tasting concoction herbs',\n",
       " 'little education ayurveda ayurvedic principles kapha element said similar clay elements water earth helps hold constitution together provides structure fluid balance endurance strength slow stable calming sweet cold aspect self governs resistance disease promotes self healing imbalance kapha leads respiratory illnesses excess coughcold symptoms weight gain general feeling lazinessheaviness kapha tea excellent antidote kapha imbalance tea spicy invigorating strong notes cardamom ginger followed cinnamon lemon verbena spicy complex new favorite ordered bodum tea press brew tea work',\n",
       " 'enjoying cup coffee not great option enjoy lot high calorie creamer buying gloria green mountain original hot chocolates ww weight watcher points however always tasted watery something drank necessity fill void snacking fast forward pounds lighter purchased cafe escapes chai latte dark hot chocolate bed bath beyond carried amazon quit carrying brands never surprised fantastic flavor latte ww points dark hot chocolate ww point even use highest water option still get rich full taste looking alternative coffee not disappoint way could happier holiday season amazon started carrying product prime shipping',\n",
       " 'research natural sweeteners zero glycemic index see erythritol one best sugar alcohol found various fruits vegetables like xylitol unlike xylitol not dangerously toxic dogs not bloating gaseous effects dont need sweetener without blood sugar effects look brown rice syrup agave since low effect blood sugar want no blood sugar effects id recommend since nice taste like sugar no aftertaste stevia another option strong less appealing taste use even bit much stevia generally rather bitter aftertaste not true erythritol would say downside cost sweet sugar spike stevia make difference like stevia doesnt take much add get lot sweeter shake really well using though note want buy particular item discovered company not charged extra shipping bags going address would avoid emeraldforest though erythritol got strange foul smell like mothballs faint aftertaste customer service nasty called return spite satisfaction guarantee sticking foods also bit misleading call particular item powdered regular powdered sugar pulverized cornstarch added give silky feel well calcium phosphate improve flowing ability mean though much finer grain regular erythritol still grain however buy dissolves faster larger crystals good products',\n",
       " 'foods erythritol sugar substitute made corn fermenting corns sugars manufacturer produces naturallyoccurring sugar alcohol product sugar alcohols taste exactly like sugar without calories blood sugar spike alcohols chemistry terms not confused kind alcohol one finds adult beverages pros tastes like sugar no unpleasant aftertastes unlike stevia glycemic index zero great diabetics simply wishing eliminate excess sugar diets contains virtually no calories made manufacturer committed wide range sweeteners food products company experienced trusted field erythritol occurs naturally many foods fda recognizes viable safe sugar substitute erythritolbased sweeteners market countries years unlike sugar alcohols xylitol mannitol sorbitol not cause gas consumed large amounts not erythritol not promote tooth decay actually prevents inhibiting growth harmful bacteria mouth used baking cons not quite sweet sugar need quarter third erythritol volume equivalent though tastes exactly like sugar erythritol slight mintlike cooling effect tongue foods effect would undesirable erythritol would need combined another sweetener diminish effect effect seems vary person person clear liquids tea adding erythritol initially cloud liquid though cloudiness fades quickly issue probably comes release oxygen bubbles product dissolves though dissolves erythritol not rapidly sugar retain granularity foods people recommended powdering compensate involves steps make corn syrup sugar not cheap product perhaps future economies scale drive price many companies discovering benefits erythritol natural sugar substitute lacks nagging questions dog artificial sweeteners like sucralose aspartame foods erythritol one best values natural sweetener market available much lower price point competitors products though not cheap compared sugar artificial sweeteners healthy alternative makes higher cost definitely recommended',\n",
       " 'stuff amazingit not tastes exactly like sugar looks like sugar substitute sugar husband not detected sugar bowl five months still thinks sugar',\n",
       " 'erythritol become sugar substitute choice since became diabetic months ago crystal form seems sweet regular sugar wife uses little bit added sugar bring sweetness rest family things need happy onetoone replacement sugar things not noticed glycemic impact blood sugar laxative effects seen sugar alcohol sweeteners important consideration highly recommended',\n",
       " 'erythritol tastes like sugar like xylitol not however toxic pets xylitol also not gastrointestinal effects bloating gas etc come intake large quantities case xylitol quite safe people however dogs cannot eat chocolate either due toxicity xylitol another thing works us not erythritol safe people animals downside erythritol costs xylitol sweet sugar whereas xylitol closer sweetness sugar havent much luck baking either maybe others different experiences xylitol erythritol taste great cant tell sugar stevia also healthy sugar alternative definitely taste not pleasant large amounts bitter not brands xylitol erythritol equal many come birch trees often extracted using sulfuric acid ones foods corn not require sulfuric acid good company happy hand not good experience emerald forests products customer service products come birch trees unpleasant odor much preferred products company taste great dont really odor',\n",
       " 'purchased product based research internet reviews amazon regarding products lack aftertaste low glycemic response mainly people stated no gastric effects xylitol used morning banana bread recipe afternoon began paying price minutes later everybody near began paying price impacted gut exactly way sugar alcohols ill passing item sister diabetes meds already tear gut probably wont notice much back drawing board',\n",
       " 'gross tastes like salty menthol sugar something might passable youre hiding something youre baking coffee nah dont dog use xylitol xylitol kill dog dog man either quit sweeteners together enjoy sugar unless diabetes truth try sweetener sweetener eventually end back sugar sugar crushes erythritol',\n",
       " 'policy use nongmod products possible cant guarantee product produced nongmo corn low prices majority corn produced us gmod assume gmod product isnt great amazon no return policy food items stuck',\n",
       " 'reading positive reviews thought id give product try not know anyone say tastes like sugar stuff awful taste agonizing could smell difference coffee let alone taste glad not use place sugar trying cut calories glad alternatives choose splenda site would not allow place review without giving product star zero book',\n",
       " 'well ill begin saying really looking forward product tried truvias erythritolstevia sweetener ran stevia sweetener used wanted get something instead plain sugar figured liked mix wanted try powder already ordered stevia amazon got used right away not taste difference conservative adding coffee didnt know sweet adding large spoonfuls coffee gave usually add spoonful sugar cup want sugar free sweetener even make home get stevia used local health food stores always ended funny aftertaste stevia one ordered amazon sweetleaf vanilla creme didnt aftertaste used drops coffee looking typically use drops coffee',\n",
       " 'friend recently got hooked gummy frogs curious flavor emailed haribo directly reply green gummy apple white marshmallow passion fruit price great',\n",
       " 'know wondered clicking product haribos website big pound bag gummibaerchen well big adult human head big heavy buying two gets free shipping better bulk price one get im aware haribo factory bonn germany like gummibaerchen suggest visit candies frogs not favorite entire bag yields no variety amazon starts selling classic bears multitude flavors smaller easier chew would buy frogs hot second sugarfree kind not classic version people digestive problems artificial sweetener nb not case frogs sugarsweetened note haribo catchphrase german haribo macht kinder froh und erwachsene ebenso better translated haribo makes kids happy adults likewise happy world haribo rhyming addition englishlanguage packaging informed',\n",
       " 'make great snack left glove compartment vehicle available need dont seem melt together get warm white belly texture almost like toughened version marshmallowish texture interesting tongue flavour frog interesting well say pineapplish sort green tea pear flavor flavor green frogs ive found department storefood places im guessing universal frog flavor brand likely',\n",
       " 'haribo makes wide range candies including world class goodies not one frogs made hard gummi green except thin white layer frogs bellies might not recognize frogs unless youre told no discernible taste texture difference white green substances case flavor unidentified unidentifiable not good definitely not lime advertised maybe somebody likes stuff didnt set bag office first sample',\n",
       " 'fault not reading small print save someone else fate smallest boxes not moviesize boxes get product moviesize locally small box cost almost doouble lesson learned',\n",
       " 'could eat spoon good partial hazel nut chocolates love delicious spread toast put bun like pastry natural one free chemicals highly recommended youll love havent tied yet',\n",
       " 'man tried stuff delicious however palm oil not palm oil extremely unhealthy contributes clearcutting rainforests see rainforest action network info personally committed not buying items palm oil im going try different brand',\n",
       " 'received package today already opened spilled box opened box air protector bags sitting top items instead filling space nutella rocking around whole time im sure would delicious id rather get car buy elsewhere come bad packaging handling',\n",
       " 'bought replace large container schilling red pepper flakes bought long time ago old stuff served well cooking pizza topping last decade first tasted new stuff little disappointed not hot schilling also seems losing heat quickly theres less heat got months ago',\n",
       " 'added two tablespoons chocolate protein vanilla soy milk slices bananna delicious tasted like smoothies regular peanut butter cut calories grams fat',\n",
       " 'comes powdered form mix water consistancy like far best low callow fat peanut butter product ive tried although not good full fatfull cal peanut butter pretty good',\n",
       " 'tricky product review one hand flavor great especially choc peanut butter rating flavor alone would give five stars however took one star price another star quantity servings serving two tablespoons however two tablespoons powder mixed little water yields teaspoons peanut butter making peanut butter sandwich apples go jar pretty quick took two days going add vanilla protein shake one serving adds ton flavor would repurchase adding shakes',\n",
       " 'first purchased pb manhattan excited great taste bought another four jars mixed spoonfuls colleagues work use pb others suggested like sandwiches entire life ive addicted peanut butter much college ate lbs freshly ground health store peanut butter per week find mix tbsp pb powder jelly put sandwich tastes good peanut butter sandwich ive ever im blessed great shape tried stop eating peanut butter together impossible im order four jars consider miracle pb mix jelly even margarine little butter enjoy extremely low fat old fashioned peanut butter sandwich',\n",
       " 'excellent mixes well protein shake tastes like jar peanut butter problem ordering amazon obvious pricing mistake get websites jar even amazon prime member get free shipping still save lot ordering elsewhere even get manufactures website much cheaper called company suggested retail price approx per jar',\n",
       " 'great product tastes great much healthier regular commercial peanut butter unfortunately also available everywhere else internet nearly amazon notified amazon difference price nearly two months ago assured would look no adjustment price made would assume point wont buy product buy anywhere else',\n",
       " 'love highoctane peanut butter not fatcalorie content taste accustomed lowsalt raw products taste fine someone house balks taste toss dash fine sea salt honey agave works well could easily mix pb pb wean onto gradually texture mixes fast smooth surprisingly jar similar consistency powdered sugar open factory seal jar carefully doesnt fly trust mixing easily mixes using small spoon spatula gently sloping small bowl use pinch bowl usage pb recipes website bell plantation also sell chocolatepb product im fan straight pb spoon pb crackers sprinkled bananaapple slices looking forward making homemade pb ice cream summer storage bit disappointed shelf life projection dry product last years company says months unopened opened would prefer buy larger sizes case save cost obtained cheaper elsewhere like pb website free shipping purchases offset cost wanted try one jar committing larger sized container company purchase natural products price wont shock biggest pros lower calorie fat content hands best dogs like biggest cons high cost not product make ahead successfully though could considered pro helps portion control make needed product not change life satisfy peanut butter cravings',\n",
       " 'strange pricing amazon get companys site makes bell plantation',\n",
       " 'product good follow directions exactly mix water havent tried mixing w jelly honey anything else others suggested whole reason bought wanted lower calorie lower fat alternative regular peanut butter mixing calories worth jelly doesnt make sense case definitely not exactly like regular peanut butter consistency little different suppose could adjust liking adding less water also definitely tell lower fat product regular peanut butter mean take tablespoon regular peanut butter instantly taste sense richness due fat content eat pb definitely notice difference thats not necessarily bad thing different almost used eating super premium high fat ice cream one day switch low fat low fat may still taste good used eating high fat stuff instantly notice difference however get used wont bother would say pb definitely not exact taste texture regular peanut butter still good fresh clean taste opinion definitely worth compromise considering huge amount fat calories regular peanut butter much healthier pb comparison cravings peanut butter every day allowed eat regular peanut butter week due fat calorie content since finding pb allow whenever want way tried pb chocolate version ordered sample website ok not fabulous not bad going really go eat chocolate peanut butter anything not going low fat version not worth words craving reeses peanut butter cup chocolate pb would not satisfy craving hand craving regular peanut butter sandwich right spoon regular pb satisfy craving without wrecking diet bottom line arent sure whether not like product go bell plantation website spend four bucks order sample give try know sure commit buying jars plus shipping folks shipping costs almost much jars make sure like order final verdict pretty sure replacing regular peanut butter pb long keep making probably order case future save shipping',\n",
       " 'consider buying bell plantations much cheaper jar amazon riping people product shame',\n",
       " 'usually never give bad reviews products bad peanut butter daily love much got mix smoothies far salty use way taste nothing like peanut butter gross',\n",
       " 'make pbj really eating jelly sandwich guess would ok mix smoothie maybe didnt think flavor',\n",
       " 'unfortunately flavor peanut butter oil fat remove tell put water replace wont end peanut butter end thin slightly peanutflavored stuff buy dont expect anything else',\n",
       " 'want remove sugar peanut butter not fat honestly tastes bad comparison roughly percent fat peanuts monounsaturated unsaturated fats help lower ldl cholesterol bad cholesterol levels blood without affecting hdl cholesterol good cholesterol research shows people eat greater percentage monounsaturated fats lower risk heart disease asthma alzheimers disease breast cancer even depression buy natural kind avoid additives',\n",
       " 'feel tuscan milk jokes starting ever stopped tuscan whole milk gallon fl ozwow thought would way gonot save money lunches keep long time without spoilage couldnt wait get peanut butterhad jelly bread awaitin low behold tried spread breadyuckwouldnt even adhere knife jar next tried shaking jar onto bread picked bread fell clean someone suggested put jelly first stuck knife jar ended messy knifestill wouldnt spread finally gave opened mouth put head back dumped stuff directly onto awaiting tastebuds second attempt somehow bypassed tastebuds went directly throat strangled id tell story verbally unable speak ate vocal cords much convenience',\n",
       " 'someone gave jar pb thought awful yuck thank goodness didnt actually pay money nasty',\n",
       " 'anyone doesnt like product probably fat slob amazing substitute extremely fat calorie dense original trying dont think ill ever eat traditional peanut butter ever',\n",
       " 'classic assam estate tea malty fullbodied mediumstrength organic black tea slightly sweet aroma aftertaste clearly second flush offering first flush pickings darjeelinglike astringency drinkable nicely spot milk purchase tea highly recommended',\n",
       " 'good rich malty bready assam stand milk sugar usual dont steep assam wonderful value fair trade organic',\n",
       " 'wonderful deepflavored classic assam tea certified organic well flavor malty rich no bitterness offflavors stands well milk bit sugar would also excellent without say iced tea summer simple tea drinker not gourmet expert simply like tea lot purchase',\n",
       " 'salt seriously fantastic lots folks say isnt difference taste salt salt imo not true natural salt minerals going may make milder old fashioned sodium chloride im sure debated maldon aka english sea salt super chunky crunchy milder normal salt imo tastes great everything also milder doesnt mean add salt like use finishing salt add flavorful crunch pan fried asparagus black pepper garlic sprinkle lightly meats serving also perfect coarse dry herb rub chicken',\n",
       " 'man love salt swear even compared premium sea salts theres something special stuff using exclusively year even given gift along good peppercorns olive oil friends arent foodies really surprised difference good salt makes not matters see salt used iron chef america frequently',\n",
       " 'love texture salt use place kosher salt finishing food looks great wonderfully irregular texture perfect sprinkling salted caramels sweet salty goodies',\n",
       " 'heard maldon supposed wonderful taste using husband dont care tast much far use impression used cooking heard later garnishing finished plate added pan saute takes alot longer melt kosher salt thicker flakes never melt completely get mouthful large salt flakes bites meal dont like used garnish looks cool way salty thick eat flavor clean super salty taste salty sea kosher salts use know popular probably one doesnt care',\n",
       " 'okay decent drinking wines larger bottles gives dont tell organic japanese cooking usa people cook kinds ethnic food use lots mirin find btw find exact bottle eden mirin price free shipping elsewhere',\n",
       " 'pot plant take amount soil need put oven degrees hour take care gnats larva currently soil used method remained gnat free',\n",
       " 'purchased potting mixes horrified find bits chewing gum crushed tin cans etc ive never happen miracle gro miracle gro makes good mix decent ratio great growing standard houseplants excellent growing seed gnats fungus gnats found anywhere rot dont clean sink week see bugs thing eat rot cannot live dry soil best prevention fungus gnats water either dripirrigation system plastic tubing holes hidden beneath soil surface water bottomup water dish plant let soil soak water upwards fastest common way become infested overwater plants one year everywhere food walls disgusting already infestation try lowering frequency waterings plants wont get dehydrated little less gnats happy theyve let soil top dry completely water gnats young live near top damp soil yes ive seen gnats soils however could easily batch kept damp store stuff water less youll fewer gnats get scotts prepared disappointed thats brand found crushed tincan pieces gum',\n",
       " 'not buy repotted plants soil ones soil full gnats ones didnt use dont potting soil caused gnats get everywhere house almost bit snadwich today gnat right take bite theyve found food drinks dive bombing peoples heads everywhere unless really like gnats would suggest another brand definitely not one',\n",
       " 'youve ever dark chocolate kit kat know good horribly difficult find youve never one like dark chocolate must try quite pleased see could get even meant white milk chocolate coming along ride youre expecting equal share variety bag youll disappointed bag milk chocolate dark white chocolate varieties boo still opportunity satisfy craving dark chocolate kitkat since go stock quickly available want order promptly',\n",
       " 'giving pound shepherdlabcolliehusky mix hip action since pup vet believes realy going help prevent hip problems shepherds usually eventhough cannot buy locally make sure buy line boy remain healthy happy',\n",
       " 'days not easy find us made dog natural treat relatively low price treated year old westie long time healthy partner beefturkey strips gave zukes try yet soon opened bag knew dog would not like dosent look good smell good dont even like taste dog would like',\n",
       " 'vet told little yorkie stage iv luxating patellas knees blown devastated vet told give glucosamine chondrotin went local pet chain spent considerable amount chicken flavor tablets large chain tablets product carried hard tablets not easily broken half small lbs dog top wouldnt anything took little nose pushed away start crushing hiding piece people food annoyance began search different product form found zukes online soft cant wait zukes treat every day no crushing still tabs left use zukes product also includes beef fruits vegetables happy product continue use little echo perked jumps runs one would never know condition condition stage correctable surgery thousands dollars dont thank founder company patrick memory dog zuke also donate dog cat cancer fund know long review thats product really deserves kudos side note pain management physician also recommended golden aloe daily help arthritic pain sets diagnosis well shes best friend im disability wont able afford surgery required really relying products keep comfortable long possible years old',\n",
       " 'eldery dog hip joint problems using zukes little month seen amazing improvements loves way treats taste goes crazy sight bag navigate stairs interested play even runs daily walks zukes',\n",
       " 'year old lab mix started problemswith hip joints always active dog watching lay around not want interact hard see initially vet gave us rimadyl get acute phase bit pricey know hard stomach kidneys searched internet read reviews several days time reasearch led back product went local pet supply store get treat opened bag thought sure dog would turn nose smell awful well husband calls doggie crack dog loves treats soon sees bag runs get snack yep runs not giving something loves something helped mobility followed directions found vets website double dose several weeks give maintenance dose glucosamine difference shop around purchase local store make mistake run quite difference price stores online completely sold product started purchasing treats products well cant go wrong zukes',\n",
       " 'enjoy instant oatmeal breakfast snack however often brands quaker instance include much sugar additives love dr mcdougalls oatmeal organic much less sugar still flavorful lots real fruit pieces nutritious grains great filling food trust healthy great fuel',\n",
       " 'recieved oil last week rancid smells tastes like rotten tomatos avacados no way could eat type salad cans arrived perfect condition neither near expiration date bottle recommend purchasing local retailer taken back rancid much gamble buying amazon cannot return food items lesson learned update reading many reviews good product contacted la tourangelle email system told situation asked avocado oil supposed taste wasnt sure supposed taste way not didnt ask replacements anything know lot companies not back product sold amazon not case la tourangelle contacted diane email week later asking batch numbers gave didnt hear anything back today hour ago ups delivered box contained two large cans oil one avocado oil one hazelnut oil surprised didnt even remember giving address recall required email submission form rate la tourangelle went beyond getting business future bm store website place recommend anyone buy products amazon not take back food items far oil new avocado oil tastes like real avocados no rancid taste smell hazelnut world plan try la tourangelle website companies go beyond always get business actually care product thank la tourangelle',\n",
       " 'bought avocado oil specifically two reasons one similar olive oil texture smell yet brings new flavor component cooking secondly importantly much higher smokeburn point extra virgin olive oileven higher canola oil grapeseed oil yes even safflower oil ive also read healthy smoke point avocado oil somewhere north f roughly f fact thats amazing gives versatility need quickfire sear virtually anything high heat la tourangelles avocado oil one ive tried tastes great fresh subtly aromatic basically cure burned olive oil blues thats especially nice thing since hypersensitive smoke detector little room error comes smoke sum though dont always cook still use olive oil low medium temperature cooking love avocado oil close hand times need actually wont replace olive oil though somewhat different flavor flavor love avocado oil ingenious somewhat new discovery la tourangelle trusted producer finest fine edible oils trust brand less wellknown oils well highly enthusiastically recommendedto point im trying persuade family friends start cooking avocado oil',\n",
       " 'although olive oil healthy guess ive never found one really loved flavor ofeither no flavor tastes bit like paint thinneror price astronomical whatever case id become quite frustrated search learned oil smokes releases carcinogens air free radicals within oil olive oil not heated beyond degrees f searching oil higher smoke point plus staying within paleo eating way life discovered avocado oil new holy grail oils got smoke point degrees f tastes wonderful made healthy fat looks gorgeous homemade vinaigrette due beautiful green color oil refrigerated opened cans expiration date theyll long used cans arrived dented little bitwhich promptly got gently squeezing cans metal quite pliant advise amazon need wrap cans heavy bubble wrap prevent somehow oil not yet well knownbut hope amazon keeps stocking would definitely highly recommend product',\n",
       " 'product wonderful however package contents bent dinged arrived suspect lack expertise lack airpackets packaging one almost bent point puncture',\n",
       " 'oil seems good quality received package one cans badly dented threw away plenty airbags packed around cans box wasnt dented creased think one cans already dented shipped dented heavy metal leaches product feel bit cheated',\n",
       " 'thought would fun gift boyfriends sister cooking read many reviews cans came dented reason hoping would different well arrived today dented one isnt dented bad still give gift dented consider giftworthy cant attest quality oil yet havent used wanted get review let people know cans like come dented way fact mine came big box amazon purchases amazon seemed wrap well guess cans dented amazon shipped',\n",
       " 'ordered month ago not received product not received answer company not get product buyer beware tubes',\n",
       " 'know love english breakfast see earlier star review twinings english breakfast greatest delight earl grey tea deep smokey heavy not burdensome mysterious wonderful flavors linger hauntingly tongue bring sublime moments joy grey day no pun intended steep long enough flavor intensity cup tea pot drink straight no sugar sweeten bring even wonderful flavor special treat add cream milk soy milk earl grey take chai presence either way twinings earl grey tea look forward time time lady grey new yes bit lighter not intense earl lady grey still good notably irish breakfast tea may make break song robust delightful clearing morning fog hearty way good variety pack imho keep hand office panel meetings board meetings break kitchen folks enjoy want tea break wonderful flavors aromas like cant help make people sit notice make sometimes dull workday ahem meeting enjoyable',\n",
       " 'warning tea packaged us not uk hence weak tasteless compared british equivalent disappointing',\n",
       " 'enjoyed cup tea preferably green tea breakfast morning years im say best never used like bothering loose tea manageable rolled young tea leaves actually fun handle make strong like green tea robust id call irish breakfast green tea im totally spoiled green teas happy able buy multi packs thanks amazon',\n",
       " 'gunpowder tea green tea comes city named pingshui eastern chinese province zhejiang south yangtse river delta cultivated centuries known green pearl tea pingshui tea market records date far back tang dynasty ad areas gunpowder tea important tribute traditionally given chinese emperors growing trade volume china west also acquired increasing number lovers europe particularly second half th century gunpowder tea export reached peak price london market second thenpopular wu yi oolong also china even today zhejiang province still proudly calls home silk tea two primary natural products name gunpowder derives teas elaborate method processing traditionally lasts several hours tea leaves withered steamed stirfried individually rolled small pellets early foreign traders mistook pellets gunpowder gunshot gunpowder tea delicate aroma slightly smokey note always enjoyed without milk cream',\n",
       " 'little hesitent make big order much tea not knowing would like went local supermarket bought tin might give taste test quite good green tea buying generic green teabags usually buy bancha tea tea not grassy bold slight smokey taste kickiness cannisters nice inside foil liner keep tea fresh thing aware lot tea altogether ounces divided six separate cannisters unless really love tea plan making gifts',\n",
       " 'tin container not laced plasic crap tea stonge not mixture add flavors taste good plain strong taste wise stonge inner spice like taste drink tea supposed not gulper chuckle less thought reviewer strong dont need much id still say great deal add twist favorite herb like orange peal ginger making great exotic tea thing missing organic seal quality gets stars proving grown kosher conditions important tins nice look hate thow away obviously put lot pride product',\n",
       " 'ordered twinings green gunpowder mint without notice recieved regular not mint nothing like ordered',\n",
       " 'used various sports supplements years biking skiing hockey none created problems decided try sports beans use hour road bike rides would convient bulky food products comsumed three bags noticed no energy benefit fact road three hours instead four worst yet come morning awoke severe teeth acres product caused teeth become infected ended going urgent care pain meds amoxicillin looking closely ingredients top two evaporated cane juice tapioca syrup jelly belly candy company not sports nutrition thats product candy misrepresented sports supplement beware avoid unless bullet proof teeth many better safer products market',\n",
       " 'ordered loose tea tins received boxes tea bags labeling box barcode sticker tea tins incorrect calling customer service two options return tea bags keep overcharged no follow no way know would receive correct product ordered price gone mean time rather without tea cant buy brand live kept cant get money back charged cant complain anyone cares never use amazon grocery help suggest',\n",
       " 'orange lemon peels make tea hippy despite initial oohing ahing pretty blue flowers regrettable purchase hoping stronger bergamot component twinings earl grey instead got something seems herbal blech disagree positive reviews',\n",
       " 'best sandwich topping ever grew eating branston pickle cheddar cheese ham sandwiches holds lots good memories deliciously sweet tangy taste say e g wife acquired one nice crunchiness pickled vegetables cannot say enough good things',\n",
       " 'although marketed coconut product really isnt people seem success baking coconut flour delicious tastes great many substitute recipes not consistency taste wheat flour saw success stories grew suspicious looked ingredients first one white rice flour coconut flour fourth ingredient potato starch serving packs walloping g carbs not necessarily glutenintolerant living lowcarb lifestyle primal paleo atkins ketogenic etc youll want avoid',\n",
       " 'completely missed blend note thinking coconut flour im sure many people looking gluten free part youre looking lower carb nongrain flour like primal diet wont work rice flour potato starch carb city',\n",
       " 'love tea tried least brands earl grey including british imports boutique tea shops special blends variations traditional bergamotblack tea blend flavor well balanced real bergamot taste not typical weak flavor many shelf blends real deal compared best traditional blend offer',\n",
       " 'drink lot earl grey tea tried four five brands years bigelow favorite ive trying organic rishi tea two weeks experimented different amounts tea get flavor right not able okay tea advertised bold tea see many reviewers agree not add much tea try make stronger adversely affects taste unlike loose teas use also tea requires tbl dry tea per oz water need use twice amount not weak whereas loose teas use require tsp strength rishi tea would much expensive use regularly may prepare occasionally change awhile packaging beautiful packed nice earthy looking tin slender tall fits cabinet nicely big plus tea organic',\n",
       " 'oh gosh ate whole yummy potatoes getting concerned not eating enough vegetables found natural libbys brand didnt know expect pleasantly surprised heat microwave little butter salt pepper savor fresh taste mixed potatoes libbys gourmet whole baby carrots heaven dont get grocery store fresh veggies often fit bill nutritious easy tastey substitute love product price insanely inexpensive im happy consumer',\n",
       " 'havent purchased product wanted post misleading cream tartar salt tartaric acid cream tartar used baking trying make mascarpone cheese need tartaric acid',\n",
       " 'noodles not made thailand website states china advised amazon yet change advertising buyer beware prefer not eat rice products china not purchase noodles',\n",
       " 'lived italy years became addicted espresso confection problem get winter months hard find stateside found via amazon felt would good deal truth told day ordered found twice quantity ebay directly ebay store germany bet guess buying next year love pocket coffee check ebay st',\n",
       " 'tasted bottle ocean spray cranbery product labeled juice big letters word cranberry underneath realized way sweet cranberry juice finally looked tiny dark red strip bottom label found combined grape apple juices called customer info line asked could order cranberry juice website customer service representative told ocean spray doesnt make product asked percentage cranberry juicr product said not information asked could find said didnt know truth advertising commercials show funny men standing cranberry bogs give break needing cranberry juice health careful',\n",
       " 'aware new formula als not agreeing lot dogs one dogs no amount transitioning improved diarrhea vomiting hot spots many many complaints web people dogs symptoms finally stopped upon changing another food canidae made major changes als formulas nothing alert public web site still nothing bags make people aware changes except new ingredient list homework buying dog food dog owners across country spent lots money unnecessarily vets trying find answers dogs medical problems find food theyve feeding used outstanding product wish could give zero stars',\n",
       " 'searched food wasnt full preservatives fillers didnt cost pound alot research read alot labels siberian husky pup canidae really proven former conissour cheap discount store dog foods finally realized advantages feeding natural premium food dogs poop doesnt really stink true poop still poop smell minimal noticed also quickly disinigrates ground rains cheap food smelled like rank dog poop would make retch gag much less poop firmer stools barely odor less food consumed per day no bad breath dog food swells wet also undesirable flint river ranch brand canidae stay intact avoiding bloat factor learned learn also excellent value try canidae youll see',\n",
       " 'ive happy canidae customer year recommending product everyone however recently changed formula dog violently ill ive talked suppliers canidae chicago area receiving countless complaints sick dogs since new formula introduced im taking dog food immediately hes sensitive different foods past never violently disturbing would make switch without notification least finally know whats wrong dog happening countless others beware',\n",
       " 'weve dogs cats years always fed science diet iams newest dog itcher research decided try new dog food settled canidae reason reviewers top notch ingredients reasonable price loves alternate dry drywet every day best no itching hot spots vet believes allergic corn products iams common allergy dogs added benefits poop less poop pick poop solid not runny like reviewer said poop way less smelly',\n",
       " 'update march still feed grain free kibble shelties still love im still happy ive found way eliminate gas younger sheltie mixing dry kibble bit hot water letting sit minutes feeding furry kids reason younger shelties tummy finds easier digest doesnt gas woohoo im able feed kibble get twice much used think ive feeding canidae grain free dogs almost years dogs never upset tummy way buying directly amazon item says usually ships weeks days order ill get update email amazon saying something like good news able ship sooner thought item delivered week date ordered sure enough arrives within week ordering original reviewi feed dogs canidae grainfree life stages food called canidae pureelements dont think amazon updated photo name food yet ingredients havent changed grain free variety younger sheltie epilepsy gluten corn possible seizure triggers feed shelties wheat corn gluten free diet canidae part diet feed small meals day cup canidae grain free als piece raw turkey neck veggies last two meals last meal sometimes another cup canidae instead veggies know complicated right dogs really better mostly raw diet like still use kibble fastest way feed meal first thing morning let go potty ive fed variety kibbles natural pet food shops grain others grain free fed allkibble diet canidae brands younger sheltie terrible gas older sheltie anal gland problems shed anal sac blowout least month gross thats covered couches blankets easily washed gosh hope youre not eating lunch read review anyway started giving raw food gas disappeared girl sheltie no longer anal gland issues teeth cleaner didnt want turn raw food way go preaching session swear dogs raw better easier younger sheltie digest doesnt gas us home gives older sheltie firmer poo anal glands work like theyre supposed canidae doesnt help dogs particular issues like raw however canidae heck lot easier cheaper feed furry kids certainly love canidaes taste inhale dog doesnt weird kibble digestion issues like mine canidae grain free als star dog food dogs sensitive systems star food canidae grainfree life stages protein level seems better shetland sheepdogs stomachs higher protein kibbles ive fed another brand grainfree kibble innova evo turkey chicken protein high handle even switching gradually getting cup day protein made poo liquid ive stuck canidaes grain free als ive also done mix grain free als grain free salmon furry kids love salmon variety smells like fish big surprise right try not breathe dishing dont care smell fish like pups write amazons price local natural pet store much id like support local business local natural pet store terrible long story buy canidae amazon ingredientschicken meal turkey meal lamb potatoes peas chicken fat preserved mixed tocopherols lamb meal ocean fish meal tomato pomace natural flavor choline chloride suncured alfalfa meal inulin chicory root lecithin sage extract cranberries betacarotene rosemary extract sunflower oil yucca schidigera extract dried enterococcus faecium fermentation product dried lactobacillus acidophilus fermentation product dried lactobacillus casei fermentation product dried lactobacillus plantarum fermentation product dried trichoderma longibrachiatum fermentation extract vitamin e supplement iron proteinate zinc proteinate copper proteinate ferrous sulfate zinc sulfate copper sulfate potassium iodide thiamine mononitrate manganese proteinate manganous oxide ascorbic acid vitamin supplement biotin niacin calcium pantothenate manganese sulfate sodium selenite pyridoxine hydrochloride vitamin b vitamin b supplement riboflavin vitamin supplement folic acid papaya pineapple',\n",
       " 'husband switched three dogs canidae earlier year based many glowing recommendations found internet dogs done well recently always bought pound bags three large dogs pound bags became ill diarrhea oldest dog diarrhea horrible hot spots buttocks fur falling flaky dry skin last weeks one dogs sick house today husband mentioned beginning suspect canidae suspected canidae may changed formula checked internet see anyone else complaining complaints internet apparently canidae changed formula without warning many dogs tolerated well past suddenly becoming violently ill husband picking bag another brand tonight used no problems past dont feed canidae dog owners know not change pets food suddenly cause become ill apparently canidae without warning anyone allowing opportunity gradually switch dogs new formula apparently canidae blaming net hysteria reason people blaming food dog illnesses dogs sick several weeks way even suspected canidae',\n",
       " 'dogs eating canidae since stopped eating puppy food great yesterday bought new bag became violently ill eating one bowl variant diet returned bag back pet store found changed formula ingredients become expensive not even notify consumers dogs sensitive stomachs may consider simple change made sick complete disregard dogs supposedly care understand need make money notify consumer make educated decision buy old formula higher price',\n",
       " 'lot research decided switch yr old doberman iams canidae impressed product samson loves stuff iams entice eat mixing canned foodtablefood canidae eagerly wolfs not first ingredients meats humangrade besides less filler canidae uses no corn products good dogs allergies corn common allergen dogs may balk price going use less food per day junk brands due high quality indredients stuff besides canidae considerably cheaper topshelf brands like eagle pack flint river im happy able feed dog superpremium grade food knowing much healthier bucks per bag midgrade food like iams pro plan look like believe one best values pet nutrition market today',\n",
       " 'used great food theyve changed formula dogs suffered customer service rude dogs showed signs distress within first hours eating new formula explosive diaherra vomiting fur became dull change back canidae',\n",
       " 'started feeding dogs canidae life stages dry dog food almost years ago prior used nutromax wow amazing food german shepherd golden retrievers incredible coats poops firm easy pick nearly odorless no allergies either unlike friends whose poor dogs suffer kind food skin problems ive convinced one person change canidae happy well golden buy locally go thru pounds every weeks feeding large dogs highly recommend food could not happier update canidae moved manufacturing different plant late time order save money changed formulas added lot grain products caused dogs numerous skin gi problems organization oversees pet food standards received complaints canidae manufacturer recent history due formula change fried mine owns pet supply store says getting canidae bags back owners w pets problems w new formula dogs bad reactions even gradual change told ahead time friend changed formula diarrhea vomiting itching scratching one golden scratched raw point take vet using canidae many years recommending many others decided enough enough got rid switched using california natural lamb rice orijen adult two natural foods produced highest quality control available company control ingredients manufacture food numerous quality checkpoints distribution dogs different ages different needs blend calnat orijen wow difference coats shiny energy levels great poops solid virtually odor free love great foods bit expensive foods worth every penny cal nat orijen best foods buy opinion considering canidae id recommend look cal nat orijen instead new ratingcanidae starscalifornia natural starsorijen stars id give orijen stars could really good',\n",
       " 'dogs canidae past several years even picky dog lost half teeth loved however recently bought new bag canidae packaging different thought thing changed nothing bag indicating new formula noticed kibble lighter color previous bags still didnt think much however two three dogs consistently refuse eat dog eat new bag one diet two years quite frankly eat anything im disappointed change formula not even mentioned bag changed great food one dogs wont eat note emailed canidae ask formula changed not mentioned new bags responseour quality raw material well quality control actually increased not decreased yes diversified complex carbohydrates rice continues climb high quality availability decreases products better ever consistent getting lot positive feedback customers actually feeding pets improved formulas hadnt actually said thought raw material decreased dogs refused eat say getting positive feedback customers actually feeding new formula trying imply pretended feed new food',\n",
       " 'fed recommended food several years one best dry foods available however last months late something changed dogs experienced chronic digestive upset food refused eat upon switching another quality food problems stopped tried another bag last week results dog ownersbreedersvetshandlers also reported problems canidae foods past months no one including successful getting sort satisfactory reply canidae asked changed formulas ingredient suppliers etc im disappointed canidae one quality foods not raised prices significantly past year still affordable dog owners apparently also led changes company not willing address im disappointed food recommended highly past problems ive changed dogs eagle pack holistic selects expensive back old selves healthy no digestive troubles great coats',\n",
       " 'generally make los food organic scratch yes work fulltime important make time however ive tried prepackaged foods lo loves taste chick chick like wellrounded others absolutely hate packaging little one decides doesnt want finish package three bites rest total waste scoop different container store hes ready finish absolutely love item hate packaging',\n",
       " 'daughter absolutely used love original version chick chick baby food chicken sweet potatoes brown rice unfortunately recipe apparently updated though not reflected amazons page include totally different ingredients except chicken daughter absolutely refuses eat product consistency flavor seem drastically changed hopefully child enjoy new blend wanted provide warning may tried version',\n",
       " 'give props mom especially one holds full time job two puree strain food thats hats youre hero im no superhero goal find best quality best tasting food minimal processing lets face plenty organic options days think good little man likes gerber organics fruits theyre easy find inexpensive hands happy baby products best quality best tasting opinion convenient pouches great especially go eat fruit varieties without even putting bib chick chick mans favorite bib required negative theyre twice price gerber fruits meats youre budget may bit stretch nonetheless keep pouches around travel baby love',\n",
       " 'hoping new recipe would include proteinfat original since opinion proteinessential fatty acids abundant salmon best reasons feed baby well taken time research nutritional info purchasing item actually contains less manage get baby eat entire pouch heshe get mere gram protein rda baby grams fat calories makes nutrient poor food happybaby pretty despicable company',\n",
       " 'wifes shop keurig shop loved wanted buy one went visuals black two cup sizes happiness found amazon taken aback two weeks backorder finaly use home instructions says keurig classic b brews two cup sizes small smaller oz oz respectively great want tea imaginary friends plastic barbie china ware not great need morning cup jose heck fire not even fill normal sized travel mug coffee cup would recomend keurig elite b people wanting coffee closer american proportions b brew oz classic b waste k cups not reccomend anyone tea conasewers least amazon steeped plate gave gift card refund purchase correct one thanks amazon boo keurig classic thumbs',\n",
       " 'bought keurig coffee sisters house coffee maker using home standard traditional one found kept wasting coffee grounds would go stale wasnt right fit maker bought keurig machine seems take longer time sisters whose expensive fine reservoir left handy means dont fill water every time make cup find need two keurig cups full large mug full coffee knew going drink occasional cup want variety flavors would recommend one',\n",
       " 'mom bought coffee maker birthday love granted first keurig coffee maker everything makes excellent coffee warm cup fantasticquality coffee minute start finish months havent problems planning buying one mom christmas',\n",
       " 'less three months descale week water gram hardness almost perfect sent new water reservoir way keurig great help line honestly money mr coffee better add water time works time hard get consistent full cup coffee keurig machine',\n",
       " 'bought replace mr coffee kcup brewer mr coffee one okay flavors noticed distinct difference tried keurig brewer apartment complex particular brand coffee id trouble mr coffee maker noticed immediate difference good brewer decent price best quality dollar',\n",
       " 'like product wish brewer made larger cup size higher priced one good brewer though month want largest mug size advise pay extra money use lateevening cup use regular coffee maker mornings kcups pricy need shop around best price use refillable solofill see review',\n",
       " 'bought item concerned increasing cost kcups find solofill amazon com great item use coffee per cup',\n",
       " 'coffee maker okay not make full cup coffee even select larger cup kind dissapointing',\n",
       " 'bought brewer one work awesome one doesnt brew large enough cup coffee fills cup less mark k cups expensive get cup coffee taste coffee one kind chemical taste not good cup coffee dissapointed tell item cant returned either ughhh',\n",
       " 'excited receive coffee maker christmas gift three weeks use cups per day started brewing partial cups followed troubleshooting instructions get working find cups brewed brew partial cup oz quit error disappointing not mention waste number kcups based low ratings comments looks like model line design problems',\n",
       " 'new purchase works fine get little half cup coffee senseo gave full cup coffee tasted better would return item amazon wont accept returns item reason ill give item family member doesnt mind half cups coffee',\n",
       " 'makes great coffee months cheaply made product pipes inside cheap plastic even mr coffee copper water pipes carry degree water not keurig plastic water lines heat plugs lines months piece cheap junk made look pretty save money',\n",
       " 'visited daughter nc keurig coffeemaker loved ordered keurig kcup home brewer received not understand oz oz cups coffee not come full amount problem not understand happening put oz comes half cup not full size',\n",
       " 'nothing else matters engineering thing fail soon no matter convenient easy no matter choices coffee forget everything else huge problem way made maker hinged clamshell kcup holder uses amazingly poorly designed plastic track track formed complex set curves mated piece must follow pieces simply bare dry plastic time start drag catch try follow complex curve open close clamshell inevitable dragging catching starts kcups suffer jagged puncture upper piercing water fill piece catastrophic anything less perfect small hole allows coffee grounds flood top kcup brew happens never know next brew work normally youll get coffee grounds everywhere google keurig hole problem common taking thing apart see works obvious design flawed',\n",
       " 'bought machine years ago trouble filling cup thought ok might try reading number reviews machine still problem not purchase another kurig',\n",
       " 'purchased chips mobile vending cart amazon prime cost per bag really good far reseller goes flavor really good right chips asian sweet spicy tasty right amount sweet slightest bit spice makes fantastic tasting chip lets talk detailschip thickness gourmet chips quality moment open bag one crunchy not thick enough let know didnt buy bag lays grease not greasy chips depending flavor mildy seasoned not coated heavy grease oil flavor flavor stands completely could blind taste test one flavors sold deep river bet could tell none flavors overpowering except maybe jalapeno flavor honestly hot love hot food resale may not resell current price using prime shipping cost per bag allows make decent profit overallthese great tasting unique flavored chips hands better ones get bulk sams bjs favor try bag two bet youll love em like thanks reading review',\n",
       " 'course problem wife fact belgians lived first years lifes liege born raised get pearl sugar online liege waffles like one pretending belgian pearl sugar written box disappointed guess good enough never belgium passed swedish made pearl sugar least not rocky sugar big melt cooking give taste caramel instead making waffle chewy oh well im sure one day well find real belgian pearl sugar somewhere online',\n",
       " 'like looking south beach living protein fit cinnamon raisin cereal bars product want according south beach living website foods reimagined im not sure means ultimately means protein cereal bars unavailable local grocery stores time saw local store decided give try turns identical size taste nutritional content looking packaging see actually owned kraft foods snackwells product rebranding exact protein bars wanted price posting pretty high amazon reseller recommend asking local grocer carry dont already know glad find bottom line youre looking thesesouth beach diet high protein cereal bars cinnamon raisin eabuy insteadsnackwells cinnamon raisin bars ounce pack',\n",
       " 'dont like illy roasted like starbucks peets not going like hate starbucks may like like beans almost burnt',\n",
       " 'shame amazon allowing crooked highly priced item sell site im talking nestle coffee creamer vanilla caramel sugar free powder oz sold mancor fulfilled wait amazon oz jug bottle jar outrageous amazon not screen deceptive sale practices',\n",
       " 'im novice comes bonsai purchased elm juniper arrived well packaged healthy actually packaging little tough tightly wrapped kind plastic wrap although im not expert hard testify juniper actually years old amateur eyes looks much younger elm lost leaves yellowing falling internet searches learned happening pots expected believe nice quality box also green bottle fertilizer wasnt expecting nice appreciate think would better seller would included complementary brochure bonsai related products humidity trays reason say novice upon initially ordering no clue things needed help bonsai thrive least complementary brochure could looked say hmm humidity tray would gotten around getting sooner bonsai almost two weeks neither appear dying fringes dying considering winter supposed dormant season dont expect much activity spring would buy seller',\n",
       " 'got sent holly bush instead bonsai tree funny part receipt correct flora attached inside slightly funnier christmas morning saw plant sealed paper said refunds void took watered however another piece paper said dont water immediately die took poor thing watered dollar potted plant something grows like weeds outside window gee thanks',\n",
       " 'one best purchases ive done years well wrapped moist pretty little tree people mispronounce name call bonzai whuch means kill bonsai bone sigh means plant basin correct sound relaxing comforting creating taking care miniatures highly recommend anyone needs destress life alttle',\n",
       " 'bonsai tree received tiny unattractive looks like someone stuck twig dirt unlike image advertised tree one branch not happy bonsai tree also little green branch jutting one side adds unattractiveness piece horrible false advertising',\n",
       " 'dont like write poor review seller prompt responding miscommunication beginning mailing address quickly resolved however told two weeks ago new product mailed never came patiently waited even commuicated seller finally received today post mark date exactly one week ago todays date meaning not mail said post mark date nearly week date told sent new product plant ok really disappointed expecting something somewhat bigger prettier',\n",
       " 'bought bonsai gift came within week well packaged im posting review second day im waiting see survives came rectangular pot instead circle like one picture dont mind also healthy wish drainage tray see people saying nothing like picture guess style tree vary depending buy since different buying choices got mine sheryl shop updatecheck bonsai spider mites mine got infected knew died within year half buying still nice tree though',\n",
       " 'several reviewers alluded healthfulness product think owe beloved pets pay closer attention educate actual ingredients overall appearance gives allure wholesomeness product item listed ingredients actually controversial regards pets health youre considering food good enough consumption please note ingredient also potentially toxic human organs heres list ingredients manufacturers websitefish brothtuna filletsyellow fin whole loin tunared snappershrimpsolesoy bean oiltrialcium phosphateguar gumcalcium sulfatecarrageenanvitamins mineralsvitamin e supplementvitamin supplementvitamin supplementzinc sulfatethiamine mononitratemanganese sulfatemenadione sodium bisulfite complex source vitamin k activity riboflavin supplementfolic acidpyridoxine hydrochloridecopper amino acid complexiron amino acid complexfirst great manufacturer whole seafood major ingredients opposed byproducts meal grains etc one item would not expected find something quality menadione sodium bisuifite complex menadione synthetic precursor k vitamins reported high doses toxic effects moreover actually never seen menadione listed ingredient cat foods though seem others little bit internet sleuthing yielded disturbing information feel obliged list menadione banned food drug administration overthecounter supplements due potential organ toxicity also banned europe human consumption safer alternatives menadione proper k vitaminrelated functions e g blood clotting use menadione alternatives leafy greens kelp costsaving reasons hence usually found cheaper lower quality animal food study rats showed exposure menadione produced lesions kidney heart liver lung chiou et al toxicology menadiones toxicity seems due ability induce oxidative stress cells seems pet food watchdog trying stop inclusion menadione pet food [ ] information mean food bad cats normal doses given dont know sure wish id aware ingredient feeding cats admittedly research needs done regarding subject light recent episodes toxic pet food questionable behaviors manufacturers regulatory agencies im erring side caution one',\n",
       " 'im serious labelreader even cat ordered petite cuisine went website see say pleased read use no wheat gluten food meat byproducts neither belongs pet food also make point saying use no products china reassurance appreciate light recent spate pet deaths linked product coming china use also reassuring white meat chicken veggies olive soybean oils vitamins minerals sesame chicken contain rice isnt something necessarily fed often minor consideration never said ingredients human grade listed safe humans eat dont know anyone else wouldnt want feed pets anything wasnt safe eat carton arrived marked product thailand bit surprise since no mention thailand appears site however quick point no child labor used production food also listed dolphin safe pretty politically correct company course proof pudding case cat food eating response opened cans sesame chicken looked smelled tempting chicken pot pie not much smells wonderful watery minor consideration cat likes thats important thing hes picky boy part cant eat beef lamb hes limited poultry certain types fish doesnt tend like soupedup holistic foods add things like rosemary acai things humans cheerfully add foods stuff pretty basic well lets say doesnt hate probably add rotation without causing much consternation know hes getting quality meal mileage cats may vary course cats perverse little beasts never know theyre going take violent dislike cant tell cat like food not tell looks like quality product made people high standards yes pricey feel cat deserves consideration youd give member family probably wont balk cost rest cat',\n",
       " 'according manufacturers website many products contains menadione sodium bisulfite complex menadione synthetic precursor vitamin k reported toxic effects use menadione natural alternatives leafy greens kelp costsaving reasons hence usually found cheaper lower quality animal food surprising pet food high price actually contains substance menadione banned food drug administration overthecounter supplements due potential organ toxicity also banned europe human consumption study rats showed exposure menadione produced lesions kidney heart liver lung chiou et al toxicology menadiones toxicity seems due ability induce oxidative stress cells online search menadione youll find info pet food watchdog trying stop inclusion substance light recent episodes toxic pet food questionable behaviors manufacturers regulatory agencies would advise avoid feeding cats',\n",
       " 'loved half flavors liked one dumped one drain im glad ordered six pack though didnt make mistake buying threepack one flavors didnt like heres thought themvanilla excellent ive used syrup ice cream coffee diet cola even lowcarb crepe recipe really good one reorder hazelnut yummy rich flavor great coffee would order raspberry loved one also great coffee berry smoothies chocolate liked one strong literally one drop glass diet cola make chocolate coke good dont need much didnt work well coffee irish creme knew wouldnt like one remains unopened made mistake buying three pack one hated ill give away someone enjoy classic caramel dont know torani insists making sugar free caramel syrup sugar free classic caramel syrup classic caramel terrible experimenting trying find use syrup dumped drain not worth avoid one',\n",
       " 'actually got package black friday deal amazon price even lower one posted couldnt believe sugarfree variety pack bottles less bottles amazon prime deal couldnt resist favorites raspberry vanilla chocolate although also enjoy three flavors arent familiar torani syrups excellent addition coffee frappes oatmeal hot chocolate almost anything sweeten add little torani flavor unlike creamy texture liquid chocolates clear fact ask squirt flavor local coffee shop likely receive one torani bottles summer bought mr coffee bvmcfm ounce frappe maker started making ice blended coffee home love using flavored coffees difficult find favorites locally decaf blend also impossible find torani sugarfree flavors locally need diabetic throw regular decaf wow im love note one kind available local grocery store oz bottle comparing bottles cautious buying single bottles amazon run much higher however variety pack works fantastic price great taste great price great product husband wishes cherry flavor came deal hey means get use',\n",
       " 'package price amazing buying store one small bottle costs saw thought would never go im ordering second set even ordered pumps makes super easy measure much adding one pump two normal flavor pumps chocolate often strong extra flavor large cup might mainly use coffee ive found flavored coffee doesnt taste good talked friend owns coffee store said none coffee stores use flavored coffee dont get lot flavor use syrups variety better flavor main suggestion not afraid mixing flavors trick saw coffee shops found mixing caramel chocolate coffee milk close starbucks latte get didnt like raspberry much added tiny bit chocolate wow chocolate covered raspberries great vanilla ice cream find dont like one flavors try adding bit another',\n",
       " 'great way try sugar free torani sytups great brand great flavor good price becausemy grocery store big bottle bucks wish amazon offered sugar free flavors',\n",
       " 'amazon doesnt list ingredients contain lots high fructose corn syrup regular corn syrup corn syrup especially high fructose variety quite bad cheap manufacturers thats partly use im disappointed heinz due grams sugar per tbsp serving double sugar another bottle regular ketchup since us use least tbsp per serving quite bit sugar second uses potassium chloride main ingredient no salt salt substitute fine many people used moderation strict nono people taking certain blood pressure medications think many medications aceinhibitor family especially somehow found ingredients list heinz somewhere net buying maybe tried forget rate convenience list ingredients exact order labelingredients tomatoe concentrate made red ripe tomatoes distilled vinegar high fructose corn syrup potassium chloride spice onion powder garlic powder natural flavoring not regular ketchupinterestingly not come case even though minumum order came loose bottles box also barcodedescription label sticker part manufacturer ingredients list nutrition info label exact place bottle probably internal amazon purposes bit pain peel back read underneath really need one bottle anyway not big deal hope review helpful',\n",
       " 'yr old yr old dog yr old eat anything yr old extremely picky delicate stomach using brands dog food find grocery store trainer opened eyes difference qualities dog food effect behavior well overall health websites checked chose premium edge healthy weight ii one whole dog journal approved food list [ ] dog food analysis [ ] websites food recommended dogs absolutely love food feel much better knowing getting quality food',\n",
       " 'really important feed pets quality food first dog severe allergies food vets took caught terrible skin rashes raw hot spots constant ear infectionsall indications food allergies wish internet back could saved life eventually ended getting stomach cancer dying young age five truly believe switched quality food could lived longer happier life important lesson learn never feed animals subpar food ever current dog natural balance ultra premium well solid gold hund n flocken foods good quality also pricey would like research different food options brands [ ] [ ] great sites natural balance solid gold premium edge received star ratings dog food analysis biggest issue premium edge diamond foodsincluding nb sg fact werent written guarantees not use ethoxyuin preservative emailed diamond foods received email stating suppliers no longer use ethoxyquin preservative im really impressed premium edge good quality food comes much better price top significantly cheaper bags lbs opposed nb sgs lb bags final selling point dog really loves food previous brands would eat half food walk away eat rest later got hungry enough premium edge skin coat scarfs everything right away even begs feed morning evening im really happy choice switch premium edge affordable good quality dog food dog loves highly recommend giving try',\n",
       " 'received packets frozen hot chocolate christmas tonight whipped first batch quick easy need blender ice milk amazing rich wonderful chocolate flavor told husband going need constant supply stuff addicted already definately treat worth buying',\n",
       " 'cant fully appreciate packaged frozen hot chocolate youve real frozen hot chocolate serendipity nyc doesnt come close homemade kind get great alternative youre really craving miss youre far away cant etc adding personal touch ice maybe whipped cream cocoa shavings like restaurant no not chocolate dessert end chocolate desserts thats original frozne hot chocolate delicious inexpensive fast substitute makes fabulous gift paired mug coffeesweet goodies thats point not replace original satisfy cravings youve never original might not best thing world youve original youll find packets satisfy many many cravings taht follow hope helps fellow chocolate love frozen hot chocolate expert',\n",
       " 'saw advertised oprah must say money said best cant go wrong one found order amazon not save cost wont ration packs',\n",
       " 'obviously looking reviews people think stuff either really good really bad think according taste expecting price ordered packets two different web sites taste ok like frostyrich shake ordered drive thru window ok wouldnt pay price found recipe serendipity restaurant make frozen hot chocolate adding tiny bits real chocolate bit milk cocoaand ice blender feeling recipe taste much like oprah said good equivalent restaurant actually serves want expensive milkshake would try recipe using real chocolate stay away drive thru milkshake mix',\n",
       " 'saw first oprah every bit good said hooked frrrozen hot chocolate',\n",
       " 'saw oprah ordered christmas gifts packages really ugly cheap looking didnt help giving gifts saved packages family christmas eve treats cant say horrible tasted like old chocolate shake strong chocolate taste added milk tame taste pretty exprensive expected better',\n",
       " 'pretty good customer service bad packs broken got cut broken glass sent nothing major took weeks cellphone minutes tell get free shipping next order tried mix wouldint refund anything not allergic chocolate drinking product maybe minutes started vomiting horridly let friend try packhe also not allergic broke bad started swellewing bring hospital minutes hold first lady forgot hit hold apparently confused spoke manager thing could say simple sorry would send another half figured hey maybe bad luck ordered another time instead broken packets missing packets spoons really never ordering company',\n",
       " 'found bugs packette dont like bugs might not want item',\n",
       " 'would like remind everyone restaurant serendipity nyc closed nyc health dept years ago beacause infested roaches mice found live roaches chocolate exterminate entire place reopened since functioned disgusting conditions trust cleando google search serendipity nyc roaches mice closedlots info comes dont buy',\n",
       " 'serendipity frrrozen hot chcolate mix gift package several packs hot chocolate mix october purchased gift set along several packs hot chocolate mix used stocking stuffers christmas sometime late november early december read short article local paper readhealth inspectors close restaurant serendipity may art finding pleasant things chance health inspectors found celebrated eatery serendipity not agreeable officials closed restaurant wednesday night failed second inspection month inspector spotted live mouse mouse droppings fruit flies house flies live cockroaches inspections revealed rodent fly infestation conditions conducive pest infestation including stagnant water basement department said needless say approximately hot chocolate mix thrown away would never purchase products serendipity even must oprah half star less would rated product',\n",
       " 'lavazza offer several variations espresso beans tried dont recall pienaroma great top class good super crema tasty produces good crema not high aroma crema e aroma retains aroma well acidic lavazzas tierra appears hardest find us opinion combines good aspects far ive found amazon amazon also best prices crema e aroma',\n",
       " 'complex maybe nasal coffees use gaggia classic theres almost none ethiopian velvetyslick feel almost european taste meaning flavor tones coffee less fruit chocolate mouthfeel clean not coatingcloying great aroma crema great aftertaste lasts twenty minutes easily makes great straight doubleshot dont mix one milkfoam good enough never issue grind pourpull rate crema production not overly caffeinated doesnt robusta causes little temple headache overpulledthinunderdosed pretty temperatureinsensitive appreciate coffees thicker mouthfeel darker flavors klatch belle espresso black cat coffee lighter focused flavor find pull shots lavazza twice often pull boutique shots solid coffee sets bar standard bean keep kitchen',\n",
       " 'saeco super automatic starbucks caribou beans oily gum machine illy expensive lavazzas work well one tastes best',\n",
       " 'husband big fans lavazzas super crema coffee got bag tierra blend recently super crema stock smell color wonderful found tierra arabica blend much bitter regular blend even added cream milk coffee felt unable continue drink gave away brews straight espresso drinkers otherwise received regular super crema couldnt happier',\n",
       " 'healthier version craisins mind much better tasting super moist slightly less sweet eden adds no refined sugar instead cranberries sweetened organic apple juice concentrate dont allow think sugarfree however juice concentrate still strong source natural sugars cup serving cranberries total grams said looking healthier moist goodtasting dried cranberry organic boot',\n",
       " 'item though cute idea really doesnt live title pink fun especially use glass mug see whole drink hot chocolate part title disappointing course wasnt fully expecting milk chocolate taste honestly cant even say tastes remotely like white chocolate really kind chocolate matter youre looking novelty drink cute especially young girls however youre expecting something akin hot cocoa generally understood would look elsewhere',\n",
       " 'biscuits excellent become staple cupboard agree packaging shipping amazon leaves lot desired received two shipments product first shipment great little no crumbling crushing good better found local grocer second shipment arrived poor condition box looked like dropped kicked couple times no effort cushion protect biscuits shipping damage six biscuit packages simply put shipping box shipped first shipment obviously lucky shipping experience without need cushioning second shipment obviously mishandled youre listening amazon need start using air pillows product enough actually work last experience left wary ordering without improvements shipping packaging product starspackaging stars',\n",
       " 'like others weve ordered excellent cookies disappointed amazons packaging good price kept us coming back appears amazon listened everyones complaints recent order arrived rolls cookies arranged shipping box clever way prevented damage theres no broken end pieces kudos amazon',\n",
       " 'feeding dogs greenie bones since first came never problem german shepards dobermans medium sized hound dogs love gbs find dobie tends garbage belly meaning shell eat anything sometimes doesnt smell nice really benefits green greenie bones would like know e antic gets hisher information find nothing says deadly except people havent done responsible research not hearsay list dogs gulpers greedy chewers wouldnt feed anything especially rawhide could gulped swallowed large pieces whole need bring nylabones always responsible dog owner supervise dogs giving kind treats please dont afraid greenie bones e antics post buy greenies singles try one commit whole box friends dogs dont really like thats okay girls live morning gbs give greenie smart biscuits afternoon snack love taste love benefits respectfully request amazon amazon members make minds not fall fear mongers ignorance amoung us always supervise dogs giving treats animals supposed smart ones dont afraid homework always pays',\n",
       " 'still worry rumored threat dogs treats changed formula assuming well assuming since front center pet places safe italian greyhound obsessed make usually hideous breath smell fresh clean really made difference cleanliness teeth always make sure watch shes eating not safety freaking adorable watch chew tip cheaper entirelypets amazon httpwww amazon comgreeniesdentalchewsounceteeniedpbcwecwrefsr__ieutfshomegardenqidsr',\n",
       " 'german shepherd complete greenie addict knows theyre house knows cupboard theyre kept knows time day shes supposed get vet compliments pretty white teeth although credit definitely go fact husband brush teeth one fingertoothbrushes kiddie toothpaste no fluoride safe swallows know dog chews greenie least enough get pieces teeth four years old doesnt kind doggie breath knocks breathes face believe ingredients greenies help breath within even dog inhales greenie theres still benefit complaint greenies theyre expensive theres no denying math tub talking dollar fortyseven cents apiece see might stop people tracks understand dog shes limited diet shes allergic lot things standard ingredients lot dog food dog treats feel like ive little bit trained not bat eye price definitely makes least dollar halfs worth happy every day youre looking greenies piece tub considering purchase though im guessing canine also greenie addict like mine youre going buy anyway get free shipping amazons place get',\n",
       " 'using greenies years including older formula reportedly digestion problems however never problems greenies make sure get appropriate size dog never seen dog could resist greenie start tricks never seen bring house help breath teeth cleaning training normally use well earned treats arent cheapest thing treat world ordered oz tubs teenies papillons know dogs enjoy every one never worry dogs getting fat eating not give multiple times day new formula reportedly solved digestibility problem manufacturer claims digestible normal dog food original formula problem usually involved incidents dogs tried swallow whole get bites dogs always chewed small pieces avoiding problems believe dogs love',\n",
       " 'give dog help minor tartar problems loves definitely job one favorite things sturdy coated enough freeze themi put one small plastic bag snack bag folded half full water freeze hours dog lick crunch ice get treat keeps busy gets fluids dog treats tend dissolve become mushy guys definitely hold',\n",
       " 'dogs st day tried didnt really seem like practically climb get older dog trouble tarter bad breathe weeks using treats teeth looked lot better nasty odor gone reason stars expense times',\n",
       " 'first historyour dog cant chew rawhide bones habit breaking pieces swallowing whole problems blockages constipation result everytime received rawhide yr old beagle introduced greenies yrs ago given couple large ones friend try carelessness part dog destroyed large treats within minutes found scared figuring would die swallowing large plasticky looking treat quickly web searches found newer formula supposed dissolve rather easily water making sure drank good amount water monitored activity end no problems able find treat chewable biscuit type treats safer rawhide least tried many different treats toys never type response get giving greenie seriously like crack dogs',\n",
       " 'dogs love really help freshening dogs breaths costefficient pack could find',\n",
       " 'little dog whos rather picky treats absolutely loves greenies regular hes getting older thought id go lite since im sure regular greenies lot higher calories bought greenies lite teenie pack sniffed first one literally pushed away nose several attempts gone unsuccessful ive handing friends lesspicky dogs buy tub greenies regular surely enough sniffed dance grabbed ran away well happy skipped away smell regular definitely smells bettermore appetizing whereas lite blah smell dog already taste regular greenies suggest stick regular',\n",
       " 'dog bland diet boiled chicken rice poop usually solid days eating greenie day poop became liquidy green not sure greenies actually cause googled read various dog forums greenies affected dogs stopped giving dog greenies thrown away beware greenies bad watch dog giving',\n",
       " 'second box greenies quite pleased today pull greenie found worm along larvae horrible box months emptied box found dozen worms disgusted couldnt believe greenies product contaminating dogs expiration date dated clearly shows something wrong product hope someone greenies department give contact fix posting comments every doggy treat review forumwebsite hear someone know trying fix shows much value customers product dont know long feeding greenies worms two pups go vet',\n",
       " 'set buy thinking theyd great dog foundat least dogs died fed topselling pet treat country owners veterinarians told cnn problem comes treats called greenies become lodged dogs esophagus intestine veterinarians say dont break cnn investigation uncovered cases since veterinarian extract greenie dog treat became lodged either animals esophagus intestine cases pet died directions also tell customers monitor dogs ensure treat adequately chewed always offer water feeding gulping item harmful even fatal dog directions say vets pet owners say directions unrealistic things tend wolfed said dr brendan mckiernan board certified internist wheat ridge animal hospital outside denver meant chewed carefully thats like giving sharp knife yearold dogs cant controlled way [ ] even though info links may improved considering following quote end day literally millions greenies enjoyed dogs weekly basis absolutely no incidents[ ] im still extremely leary',\n",
       " 'opened greenies joint care individually sealed december found small worm crawling next one looked fine really supposed trust',\n",
       " 'expected recieve box greenies ordered thought would nice neat way store instead recieved bubble bag full individually wrapped greenies not neat easily stored picture item shows box not recieve box greenies wish would ordered bag greenies ziploc top least easily stored dog also sensitive stomach food allergies even though greenies dont corn still pukes doesnt seem interested try give one larger dog bigger size likes fine guess depends dog main complain purchase didnt recieve box greenies described maybe ran threw individually wrapped greenies bubble mailer either way disappointing',\n",
       " 'ordered packs count greenie dog chews entirely pets ordered product various sources many years opened nd pack greenies stuck together one big lump forcibly pull apart although didnt try leads believe old products probably stale not order vendor even buck cheaper',\n",
       " 'bought greenies dog years since puppy always digestive problems didnt know googling greenies couple weeks ago found several dogs died not able digest greenies please research buying product could save dogs life since switching another dog treat dog not problems although two weeks',\n",
       " 'writing product killed inlaws year old yorkie breeding yorkies years first product used killed one dogs started using product past summer sweetie dog chewing greenie chew front started convulsing immediately took mile vet time arrived sweetie dead greenie pierced trachea please aware od dangerous could small dogs',\n",
       " 'made mistake give greeny puppy without reading reviews product bad idea poor puppy got sick eating greenie vomited diarrhea took urgent care vets verdict informed xray greenie got stocked intestine lucky get puppy recovered medicine surgery considered vet mind worst case scenario puppy could died intestinal system obstructed days unfortunate incident lookedup reviews unsafe product not surprised found several concerning stories like mine also learned dog owners sued greenies believe reason provoked obstruction pets digestive system sadly resulting death roughly million greenies sold last year breathfreshening treats blamed least pet deaths two dozen complaints filed feds dogstercomnote product label says greenies not digestible read attention label warning saying dogs may get sick even chock ingesting greenie end day hard believe companies like grennies dont address issues care marketing profiting not much producing healthy safe treat best buddies case id recommend ask vet read dog owners reviews giving greenies dog',\n",
       " 'arent negative reviews site greenies known harm theyve caused many dogs look see years ago pomeranian died due biting chunk greenie bone obstruct intestine painful horrific death found thing happened many dogs fact full cellulose fiber many types teethcleaning bones wont seriously injure dogs theyre probably cheaper well',\n",
       " 'ill admit reviewing product not used reason wheat gluten cause allergies dogs wheat gluten broken gets sticky coats cilia digestive tract cause irritation cause immune system actually destroy lining intestines means pup might not able absorb nutrients eating often allergies show hot spots dog gets itchy possibly scratches fur problem food allergies possible wont obvious damage internal not seen problem product known dogs terrible reactions wheat things gluten intolerancein humans much common dogs not quite good digesting grains wheat flour bad enough including concentrated wheat protein much worse causes allergies',\n",
       " 'read stories online dogs died greenies gave lb pound dog greenies first time weeks ago became sick week vomiting potty issues entire time cause blockages not allow dog fully digest cant believe still market one loving pet owner another research giving dogs greenies trust',\n",
       " 'ad says regular greenies package received says greenies',\n",
       " 'two st bernards one close ancient last year developed dental problem someone mentioned greenies went find old girl something help age gracefully hopefully without pain well loved younger saint couple thousand dollars later wondering wean least younger dog obviously addictive green hard gel bones dont single expensive ingredient packaging however nicer department stores many boxes really wanti calculated expensive dentist around would cost less dent greenies made pocketbook warning first time browsers move another product might well job third money stop local butchers shop could cost saving compared overpriced pieces strange green someone tell folks inching toward depression date reaction must declining sales keep upping price',\n",
       " 'not recommend people dog seemed enjoy big cat',\n",
       " 'helloi dont care manufacturers amazons description weak cant blow product picture description inconsistent sometimes states quantity box time not size petite way someone tell manufacturer bad french theres no e end thanks',\n",
       " 'reading good agave nectar number excellent reviews decided take plunge order madhavas agave nectar light oz bottles pack two not clue good bad product going taste nervous wondered made wise decision big mistake couldnt wait try delightfully surprised tea tastes sweeter sugar smoothies sensational even spoonful wonderful husband loves oatmeal like mix dehydrated coconut raw cacao nibs real treat could not pleased discovery',\n",
       " 'since cancer not eat artificial sweeteners looking years something honey diabetic agave wonderful dark minerals light love price also good thanks amazon',\n",
       " 'found using product basically everthing requirng sweetner easy use mixes easy not crytalize raw honey not give sugar rush feeling amazon best price found excellent job shipping sweetener damaged bottles place go purchase product background information product interesting look sometime great newmans organic green tea also purchace tea amazon',\n",
       " 'im sick ppl trying mislead ive lost lbs last year diet changes no working agave one changes people say actually bad high gi value always question went onto gi site value per grams low highs also not agave created equal meaning processed ruin quality content careful purchase less processing better grams sugar gi grams agave gi',\n",
       " 'jonny bowden phd c n agave syrup nectar basically highfructose corn syrup masquerading health food sorry dont kill messenger easy understand agave syrup got great reputation even word agave fine pedigree coming greek word noble blue agave species considered best making agave nectar flourishes rich volcanic soil also variety permitted used making tequila extracts agave plant shown antiinflammatory antioxidant properties unfortunately theres zero evidence compounds present commercially made syrup agave nectar ambercolored liquid pours easily honey considerably sweeter sugar healthfood crowd loves glutenfree suitable vegan diets especially lowglycemic well get moment largely low glycemic impact agave nectar marketed diabetic friendly whats not likeas turns quite lot agave nectar lowglycemic index one reason largely made fructose although lowglycemic index probably single damaging form sugar used sweetener exception pure liquid fructose agave nectar highest fructose content commercial sweetener sugar table sugar hfcs highfructose corn syrup honey contains mixture fructose glucose table sugar hfcs agave nectar whopping percent fructose almost not quite twice high hfcs fructose sugar found naturally fruit perfectly fine get whole foods like apples percent fructose comes host vitamins antioxidants fiber commercially extracted fruit concentrated made sweetener exacts considerable metabolic price research shows fructose part sweeteners thats dangerous fructose causes insulin resistance significantly raises triglycerides risk factor heart disease also increases fat around middle turn puts greater risk diabetes heart disease metabolic syndrome aka prediabetes fructose linked nonalcoholic fattyliver disease rats given high fructose diets developed number undesirable metabolic abnormalities including elevated triglycerides weight gain extra abdominal fat agave plant sweetness comes particular kind fructose called inulin actually health benefits considered fiber inulin fructose polymer not digestible theres not much inulin left actual syrup manufacturing process enzymes added inulin separate inulin fructose molecules resulting syrup fructose content best percent much commonly high percent agave syrup almost fructose highly processed sugar great marketing said dr ingrid kohlstadt fellow american college nutrition associate faculty member johns hopkins school public health fructose interferes healthy metabolism consumed higher doses told many people fructose intolerance like lactose intolerance get acne worse diabetes symptoms even though blood [ sugar ] ok agave nectar syrup triumph marketing science true lowglycemic index gasoline doesnt mean good',\n",
       " 'purchased syrup making popsicles fresh fruit little sweetener time ago based discovered crap science misleading advertising normally strict choice foods nutrition members group spearheaded research trans fats partially hydrogenated oils forcing fdas hand trans fat labeling group good source easily understood food science nutrition weston price foundation ive completed research site others discovered disturbing facts called agave nectar quite dark history type agave search engine youll find number articlesreports might also try general internet search engine concerned health may suggest research get facts man made high fructose syrup believe better information available weigh agave industrys partial truths one article even suggests current agave syrup labeling not conform fda requirements consensus nonvested conscientious science agave syrup another bad guy power advertising dollar really something isnt itwere going back real maple syrup not original artificially flavored high fructose corn syrup syrups',\n",
       " 'using agave nectar main sweetner week gained pounds eat really healthy great shape couldnt figure research agave nectar made fructose high consentrated sugar causes fast weight gain im not sure going rest bottles im not putting body worst thing feeding family saying healthy research buy anything claims healthy',\n",
       " 'first dont usual spend time write product reviews felt obligated case despite negative reviews seen low expectations ensued found pretty pleasantly surprised received gift basket earlier today packaging solid get darkchocolate colored basket enough plastic wrapping keep everything pristine shape without hassle open no signs repurposed jello boxes dense amount straw lining bottom serve cushion thought nice touch part actually matters candy get pretty well organized assortment chocolatethemed products varying chocolate covered peanuts raisins peanut butter cups marshmallow cups yes theres even pieces individuallywrapped dark milk chocolate diehard chocoholic variation well balanced tastebuds dont feel tired one particular confection course couple items featured basket probably comparable counterparts local grocer thats beside point youll hard pressed create anything similar caliber terms presentation overall packaging executive summary basket made chocolate lovers chocolate lovers id buy likely christmas rolls around',\n",
       " 'happy product shipped bring birthday party gift basket arrived time perfect condition items looked beautiful sleek made great first impression recipient loved everything box especially chocolate truffles would purchase',\n",
       " 'wife absolutely loved basket chocolate fanatic thought variety delicacies collection fantastic truffles chocolate chip marshmallow crispie bar favorites would highly recommend gift thought gave great value price',\n",
       " 'love chocolate excited see chocolate sampler gift basket back mountain baskets available vine review reading reviews strange packaging almost afraid open knows would find daughter strong chocolate urge pulled wrappers oh gosh hard know say company thinkinglets start packaging first glance basket looks simple yet classy attractive boasting appears assortment delectable chocolates illusion lost opened package paper wrappings around boxes product name actual boxes common grocery items like jello fruit loops flan etc imagine diving box truffles say kenzi surface find box jello box jello whose expiration several years ago long one keep old cereal boxes around importantly would package gift basket chocolate old jello cereal boxesone boxes computer generated label cheaply made taped box well one pulled bag peanuts melted solidified one chunk another small brown things believe supposed truffles also wrapped cheap chocolate chocolate graham cracker entire basket unappetizing unappealing cant share chocolate tastes pulling jello flan boxes seeing melted condition no way eating despite love chocolate proper packaging shipping would much better result not sale definitely not gift basket want give',\n",
       " 'toy takes effort get food buster cube like occupies dog longer find cube even hardest setting takes minutes get food rest doesnt come no matter long dogs work bottle dogs get nearly food keep first fill bottle half full way food come easily side encourage dog play food level goes food come toss pull bottle took dog days get seems mastered stands bottle knocks putting food neck works rope bit manages get piece kibble first got toy thought would never able figure even takes fair amount work get pieces food keep occupied day',\n",
       " 'month old yellow lab loves play empty liter pop bottles bought toy worried would cut mouth gums sharp plastic shards flimsy bottles no worry tugajug toy likely survive next millennium fill treats twist bottom couldnt easier lot fun watching dog figure get goodies inside honestly dont think rope pull going last long especially buying aggressive chewer however dont let stop buying tugajug even without rope still great challenging toy',\n",
       " 'length minstucker nervous toy first youll see video really warmed quickly enjoyed gnawing however not worked well us treat dispenser consider tucker quite clever puppy fiddling tugajug couple days began bringing thing dropping feet dispense treats suppose may evidence clever',\n",
       " 'medium size dog pounds enjoys chew things never thought heavy chewer night received excited tempting see hear smell treats well within minutes toy garbage chewed rubber toy blocks treats coming started chew smell treats able escape plastic fell apart easily started break little pieces woudl not recommend medium large sized dog',\n",
       " 'dog loves bad cuz toy loves shes tough chewer survived quite time no damage one thing protect toes toy pretty heavy get swung around bit wouldnt recommend toy low tables knickknacks sensitive shins teeny kids may get bonked gotten thrown dog repeatedly stairs onto hard floor hasnt broken yet far treats go remember rope knotted inside jug dont put anything jug thats soft rope end smelling really nasty',\n",
       " 'disappointed tugajug came mail today dog minutes rubber rope chewed half short amount time waste money yet find something black lab doesnt destroy record time',\n",
       " 'toy great preventing dog inhaling food unfortunately takes less hour empty doesnt keep occupied long id like far minimalsuspected wear bottle scratched nibs rubber chew part gone im waiting see manages untie knot rope like another toy update screw part suffered damage almost jasper bit toy intact nearly breaking chunk looks like im gonna buy another find another toy could id drop rating stars update rope unraveling near top knot getting stuck opening making hard even get rope enough dislodge food definitely time new toy dispense jaspers food could likely one simply ease loading food',\n",
       " 'beagle avid chewer really enjoys tugajug took day figure fastest way get treats even still takes time work everything better treatdispensing toys make treats either easy difficult get reason wouldnt give toy stars dog able chew right attached rope within first hour playing part not durable still even without rope good product',\n",
       " 'purchased two labs christmas filled usual training treats dogs loved played minutes trying get treats two dogs figured bit ball end rope could get treats fall sooner yup within minutes plastic ropes destroyed could really danger dogs swallowed watch dogs get new toys thank goodness anyhow totally disappointed product safety price toys not labtough',\n",
       " 'bought moold blue heelerhusky puppy managed pull rope enough break within days shes roughandtumbler sure claimed indestructible hardly pity shed almost learned use',\n",
       " 'try putting tennis ball inside bottle border collie chewed rope make challenging knocking treats spilling really easy put smaller sized tennis ball inside still work bottle back forth order get treats go back bottle neck hope helps ali kylie border collieflat coat retriever mix',\n",
       " 'attracted fiber along protein think taste great',\n",
       " 'generally not fan pretzels tried pretzel pretzel shapes sizes no avail finally stumbled upon one day loving ever since provide nice pretzel taste without overpowering amount salt two complaints product brown rice syrup ingredient organic would rather not health effects pretzels coated salt not sea salt sea salt healthier two recognized organic product whole great product',\n",
       " 'ok pretzels supposed salty tad salty also burnt flavor could say distinctive smokey flavor bags ahead prospects unsatisfied pallett mighty tall order hand subtle sweet flavors good not ordinary pretzel try safety first instead buying bags also note grocery items cannot returned amazon',\n",
       " 'received package today not worth money definitely not not buy one',\n",
       " 'kava stress relief tea yogi tea anxiety relief unusual tea slightly sweet contains stevia caroby good news not usual kava taste smell many people find offensive bad news cant feel anxiety relief effects tea although say mg kava root extract tea still lovely cup tea relaxing tastes good also taste spiciness tea pleasant usually brew two bags one cup recommended package stronger relaxing effect however even tried four bags still didnt notice relaxing effect familiar kava overall effect kava pretty subtle anyway something aware experience tea may different kava stress relief tea comes expiration date good thing not full preservatives plus tell fresh many organic ingredients ingredients kava stress relief tea kava root extract carob pod indian sarsaparilla root organic cinnamon bark organic ginger root organic cardamom seed stevia leaf barley malt natural hazelnut flavor natural cinnamon flavor natural licorice flavor amazingly taste many lovely complex cup tea would rate taste five stars flavor uniqueness yogi tea seems another company like numi aspen traditional medicinals values sustainable healthy practices web site helpful glossary tea ingredients beautifully designed info tea make tea bag tags metaphysical sayings like breath voice soul head must bow heart yogi tea writes box teas benefits kava stress relief tea helps calm relieves stress anxiety minor pain well lending gentle support digestion kidneys member peppercorn family kava piper methysticum highly prized medicinal beverage plant whose primary benefit alleviating anxiety kavakava native oceania south pacific islands used cultivated ability calm body mind encourage good nights sleep powerful antispasmodic herb promotes state relaxed unconcern compromising neither mental functions clarity thought used appropriately furthermore kava shown relax uterus relieve menstrual cramps minor menopausal symptoms herb research foundation indicates scientific data supports use kava minor anxiety stress restlessness muscle tension mild pain added flavor formula complemented stevia sarsaparilla organic carob enjoy warm soothing cup kava stress relief delicious way relax addition standard disclaimer tea not intended diagnose treat cure prevent disease warning box ask healthcare professional use liver problems frequently use alcoholic beverages taking medication stop use see doctor develop symptoms may signal liver problems e g unexplained fatigue abdominal pain loss appetite fever vomiting dark urine pale stools yellow eyes skin not use persons years age pregnant breastfeeding women not use alcoholic beverages excessive use use products cause drowsiness may impair ability operate vehicle heavy equipment note media scare kava several years ago not kava root opinion based research kava safe however not physician health concerns check appropriate professional decided give kava stress relief tea four stars since didnt really work still wonderful recommended tea may work update r benjamin say comments important use hot not boiling water boiling water may kill part kava helps one relaxed please see comment section information thanks r benjamin comments',\n",
       " 'tea pleasant cinnamon like aroma cinnamonycarob like flavor take longer brew worth takes edge stress enjoyable tea morning nightime take morning hour stressfull meetings hour go sleep stressful day like stock prepared things get tense',\n",
       " 'im totally hooked annie chuns soup bowls far away best instant soup market find frequently craving soft noodles intense flavors found annie chuns soups tried varieties new vietnamese pho soup shot top favorites list savory broth definitely recognize flavor youve enjoyed real pho vietnamese noodle house not spicy soupif prefer kick id suggest investing bottle sriracha sauce obviously one major selling points annie chuns soup bowls convenience factor nevertheless soup makes want grab fresh cilantro bean sprouts authentic pho experience home since everyones tastes differ matter reference favorite annie chuns soup flavors tom yum kimchi although upper range spicy handle miso',\n",
       " 'no idea tastes like real thing im going guess no tasty easy make filling instant noodles either bland spicey perfectly seasoned broth noodles firm without tough like annie chun soup bowls really liked huge pieces green onion well good product new favorite flavor huge downside mg sodium per bowl sodium need day never mind one meal ouch bowl servings rounds calories not something want eat often really want buy read label bad not something ill eat',\n",
       " 'ive eating annies mac n cheese not whole wheat type since amazon offers excellent price around per box certified organic whoa im going commit upfront boxes mac cheese figured try little healthier get whole wheat type quality product isnt suited taste buds surprised prefer brown rice wild rice white rice generally enjoy whole wheat products eater whole wheat shells heavy chewy watery white cheddar sauce enhanced pastas rougher texture blandness white cheddar sauce like alfredo less creamy annies regular cheddar friends love stuff think acquired tasted known know id stuck enriched white yet stripped nutrients shells least gone regular cheddar sauce updatewhile still not fullon fan enjoying product tastes much better cooked minutes sealevel box recommends texture less rough gummy noodley adding fresh herbs cheese sauce gives depth flavor favorite herb add far cilantro add cup chopped mixing cheese sauce enjoyable variations adding cup italian parsley cup fresh dill leaves',\n",
       " 'ive recently decided switch eating whole grains picked box health food store alternative kraft mac cheese son likes prepared per instructions sauce runny quite flavorless one bite son wouldnt eat bite couldnt blame nasty dont problems eating whole wheat pasta neither son couldnt eat firm believer food healthy delicious time may healthy not tasty means not worth eating try hodgson mills whole wheat macaroni cheese instead much better',\n",
       " 'title really says enjoy brewing tea drink daily great everyday sencha good clean flavor get full leaf tea like thing two rishis actual brewing instructions second rishi tea ive tried like first quality great ive thoroughly enjoying follow rishis brewing instructions however get overly potent undrinkable mess instead mild subtle yet undeniable flavor properly brewed green tea green tea isnt supposed taste like crap get panera lipton youre not supposed assaulted intense flavor drink follow rishis instructions though happen youll probably end writing reviews tastes like grass tablespoon per ounces water beyond overkill brewing minutes even greater overkill like full leaf greens teaspoon per ounces water brewed minutes brewing instructions tea put tablespoons stuff tetsubin brew minutes dont even want know would come spout teaspoon ounces water minutes even pushing youll get amazing green tea subtlety smoothness youre supposed get green like bitter feel like youre green tea roller coaster youve brewed wrong',\n",
       " 'ive teavana mighty leaf many green sencha teas one seems freshest strongest not bitter fact use get oomph teas really swells water added delicious seems less stemmy leafy yum im green tea lover understand japanese green teas provide polyphenols chinese green teas sencha one best polyphenols highly recommended',\n",
       " 'silk pure almond original almondmilknutrition factsserving size cup ml amount per servingcalories calories fat daily valuetotal fat g saturated fat g trans fat g polyunsaturated fat g monounsaturated fat gcholesterol mg sodium mg potassium mg total carbohydrates g dietary fiber g sugars gprotein gvitamin vitamin c calcium iron vitamin vitamin e riboflavin vitamin b magnesium zinc copper manganese percent daily values based calorie diet daily values may higher lower depending calorie needs',\n",
       " 'ingredients natural almondmilk filtered water almonds natural evaporate cane juice calcium carbonate sea salt locust bean gum sunflower lecithin gellan gum dalphatocopherol natural vitamin e zinc gluconate vitamin palmitate riboflavin b vitamin b vitamin locust bean gum sunflower lecithin gellan gum thickeners theres also rda vitamin e rda calcium cup seems excessively supplemented',\n",
       " 'best almond milk ive ever tasted vanilla flavor even sweeter almond milk know doesnt contain carrageenan not good used drink silk milks vanilla soy milk switched got pregnant didnt want feed baby carrageenan wish silk company could find way not use carrageenan milks one favorite',\n",
       " 'thought ordering unsweetened since typed almond milk unsweetened search bar product came selection price good bought arrived noticed cane sugar ingredients would think unsweetened search engine amazon would better sorting job sweetened version choice fault not looking closely live learn amazon search engine isnt perfect since cannot sugar cannot rate product',\n",
       " 'given living time least us told fats diets bad us real pleasure find item like long fan animal fats used moderation ok not always moderation makes duckfat french fries not long ago incredible yes many people eat way much fat importantly often eat wrong ones certain hydrogenated fats not dubious effects health dont add much flavor traditional fats butter olive oil chicken fat yes duck fat try watch calorie fat intake eating less choosing fats flavor duck fat gives ordinary dishes like spinach mashed potatoes taste complexity would butter god forbid margarine french known centuries use duck fat add flavor depth wide variety foods sometimes buy duck fat larger tubs oz like little oz containers stay fresh shelf unopened use entire thing not needing worry finding room overlystocked refrigerator cost per ounce not bad buying little cups larger tubs thing dont like oils fat solids tend separate not big deal mixing dish browning something want use spread highly recommended stick fridge first stir must say staple great addition pantry used reasonably course',\n",
       " 'soybeans whole attraction cooking duck fat besides flavor natural healthy animal fat earth product need contain soybeans processed not healthy oh thats right government subsidizes soybean farms soybean products must appear everything americans eat reprehensible',\n",
       " 'really enjoy coffee ever since teenage years tastes gradually evolved escalated first go kind instant coffee anyone could drink swill beyond next go kind additive cream sugar next go kind ground coffee marginally ok compared wholebean coffee doesnt cut no wholebean coffee without additives ground spot coffee ill drink short kind emergency comes wholebean coffees theres quite amazing variety found trader joes excellent selection world cost per pound basis typically might expect pay local super market particularly liked columbian supremo problem local trader joes long way sometimes run visits well ive picked large bags beans one starbucks french roast local costco store quite excellent starbucks first rate tends somewhat pricey even purchased costco well one day discovered kirkland signature house blend bags wholebean coffee costco opinion kirkland signature products always highest quality substantially reduced price example kirkland coffee almost half cost per pound basis starbucks french roast right front kirkland package says roasted starbucks coffee co hmmmm try one well excellent little less robust starbucks french roast prefer way id say first rate coffee bargain basement price buying wholebean coffee local supermarket question gary peterson',\n",
       " 'buy bag chocolate michaels store got ton bags sale dont waste money time waiting bag',\n",
       " 'really better ears know tried licking mom dads ears really didnt taste nearly good smell tase lot like meat dad breakfast kind never lets follow mom anywhere get treats chew thats bad part mom uses trick going places dont want go like basement company coming hard resist least tricks something good chew till comes gets',\n",
       " 'product recently reformulated imho isnt good box states black tea honey vanilla spices envelope containing chai mix states honey black tea spices used contain dried black tea contains instant black tea dont know instant black tea made difference disagreeable aftertaste didnt',\n",
       " 'best kcup coffee ive tasted every time show amazon theyre sold within week run affiliate site like rolling dice every day watch product link change available unavailable get hands kcup brewer home work seriously recommend try theyre dark roast problem darker roasts less caffeine breaks heat roasting fact theyre organic fair trade huge bonus well im glad dont wonder chemicals put beans know farmers paid fairly goods sustainability means lot environmental human sense flavor heavy rich smoother would expect theres hint acid bite aftertaste associate kcup coffees drink black certainly fullbodied enough handle even heavy cream take sugar probably bring woody flavor coffee might even hold honey fructose diabetics crowd',\n",
       " 'get count box costco prices stink',\n",
       " 'coffee little weak not distnctive stopping starbucks way work better ones coffee people coffees seem ones brew coffee not taste watered keurig coffees not hot enough comes machine',\n",
       " 'confession true fan starbucks used think starbucks best coffee ever many bags starbucks pantry prove however recently received gift half pound illy caffe normale dripmedium grind blue band coffee ounce tins pack life truly impressed quality flavor aroma coffee also find heartbreaking not know starbucks hand gave pounds starbucks motherinlaw since not drinking anymore true coffee conesseiur love illy coffee ever open coffee shop would happy invest company',\n",
       " 'one biggest frustrations weight watchers always problem finding good chips eat baked ones undeniably different regular fried chips addition ive never able find baked chip came salt vinegar flavor favorite type chip meant whenever craving particular flavor id eat regular fried kind picked oversize bag barbecue flavor pop chips whim costco id heard curious theyre like id never able find area much surprise thin husband totally addicted barbecue chips loved pretty much ate whole bag id tasted couple thought barbecue flavor good decided go ahead order individual bags amazon barbecue sea salt vinegar definitely worth money want emphasize however not fooled believing regular old fried chips taste texture something like cross rice cakes chips say rice cakes something puffed look rice cakes still good salt vinegar nice strong way like portion size pretty generous fellow weight watchers points per bag definitely make satisfying filling snack side sandwich would definitely recommend anyone sick limited flavors baked chips would like something comes wider variety exotic flavors im planning trying parmesan garlic next',\n",
       " 'want start saying thought first bag calories grams fat no saturated trans every chips going taste like crap must say not wrong favorite bbq chip market today light cannot taste fat grease eating thats arent baked fried popped name suggests chips easy dip well fantastic product',\n",
       " 'potato chips taste much better baked chips theyre points youre weight watchers theyre good snack afternoon',\n",
       " 'chip fanatics house decided try claim healthier alternative regular chips admit great crunch something ricecake kettle chip texture also nice similar ricecake great potato flavor big issue sodium level four five chips theyre almost unbearable salt really stop tasting anything salt review nutritional facts showed sodium per serving almost double standard potato chip serving original flavor cant imagine salt pepper style must like would buy regularly cut salt salt factor dont think call healthy alternative chips',\n",
       " 'chips really really good dont bother buying kind potato chips great taste no messy greasy fingers shocked disappointed find local grocery suddenly stopped carrying chips thank goodness amazon get chips right doorcheaper paying grocer',\n",
       " 'cannot understand high praise chips received ordered variety pack disappointed flavors really weird taste except maybe plain chips salt vinegar especially tasted gross took one bite throw bag away im stuck bunch chips ill never eat',\n",
       " 'read [ ] decided try bought variety pack not get stuck one flavor didnt like really tried like health benefits ended throwing whole case tasting one flavor looking substitute potato chips forget really taste like dissolving cardboard stick baked lays',\n",
       " 'fyi yeast extract one titles msg hides behind msg preservative dangerous one package lies contain preservatives not eating',\n",
       " 'chips flavors variety pack really terrible thrown away lot suffered eating spiced nasty',\n",
       " 'right kind chips crunchie light wonderful great people dieting popped not fried baked try youll enjoy',\n",
       " 'torani flavored syrup often presumed originate italy actually manufactured south san francisco industrial citytheir motto not mine makes many delicious flavors hazelnut one favorites hazelnut refers nuts species genus corylus raw hazelnuts bitter taste culinary uses many extending common pralines candies including nutella rarified confections europe justly famous viennese hazelnut torte hazelnut no stranger coffee house scene mixed vodka hazelnut liqueurs frangelica famoulsy enjoy widespread popularity straight topping even hazelnut butter making stand united states europe say adding hazelnut syrup coffee especially perhaps ice cream vigorously defended specious attack foodies enjoys widespread international esteem toraniz hazelnut nonalcoholic sweetner whicih imparts discernable hazelnut flavor add great deal depth flair otherwise ordinary coffee drink not sweet onedimensional vanilla flavor although higher ratio hazelnut sugar would certainly improve experience relatively inexpensive find favorite flavors various concoctions nice bright bottle often left display purposes unpretensious bohemian cafe black coffee drinkers gloating rejected poetry stinking galois scorn use sweetener perhaps best leave alone',\n",
       " 'sweet no flavoring could taste not expensive supposed real expensive use sugar syrup guess ill stay carnation flavored creamer altho really dont like give nestle anything',\n",
       " 'would never guessed ketchup no sugar addedmy wife served burgers seriously tasted better heinz ive eaten since five years old even kids love ketchup would never guess doesnt junky chemicals namebrands new familyfavorite',\n",
       " 'pretty good tastes good microwave food doesnt take long make min prep time fairly healthy american heart association approval difficult find easy make microwavable foods like dont tons salt ones not bad caloriesg total fat daily value g sat fat daily value g trans fatmg cholesterol daily value mg sodium daily value mg potassium daily value g total carb daily value g dietary fiber daily value g sugarg protein daily value vitamin vitamein c calcium iron',\n",
       " 'extended family goes lot tea genuine aficionados may even say snobs originally tried newmans tea liked products appreciate charitable giving ethos expecting price paid relatively lowgrade rebranded tea not got got not consistently high quality tea also astonishing value really impresses quality taste tea consistent really best black tea find box box price anywhere near sell even much higher honest dont know im delighted buy tea case flavor tea crisp clear rich never bitter accustomed tea englishstyle cream newmans black tea flavorful mellow ive taken straight time really good would tremendous value throw fact organic boot steal bags box individually wrapped personally would prefer loose even though recycle little paper bags come would feel better didnt easy give product enthusiastic five stars highly recommended',\n",
       " 'hands best black tea market im black tea junkie rich taste not grassy refreshing need point organic consistent quality taste lets hope dont change must buy',\n",
       " 'little back newmans tea sale enjoyed products brand name appreciate fact proceeds benefit charities tea phenomenal far less bitterness others mellow flavor lovely huewhether preference plain milk sugarlemon orange wedges iced oz pomegranate juice not uncomfortable boxes bags house husband guests sisterinlaw decided thinks best gifted box theres no chance lasting long around would also make great christmas gift lovely antique tea cup old fashioned sugar cubes',\n",
       " 'stuff worth math actually bargain later background dog pound american pit bull terrier love life ok hes tie husband horrible allergies environmental food doggie dermatologist yep theres dermatologists animals elimination diet venison completely spoil dog ive looking high quality venison treats feed stumbled upon ziwipeak venison amazon id not heard ziwipeak looked ingredients little research decided sounded close bambi bag could get sorry know thats sad visual ordered bags ziwipeak venison treats titan went mad sprinkling magical venison fairy dust would anything long would continue shower heavenly venison squares see raw air dried venison comes little compact squares size dime venison jerky still soft almost velvety still raw titan suffers tiny case separation anxiety recently leave alone fresh bambi bones put handful top food tip toed towards door barely lifted head bowl insurance threw half empty bag ziwipeak venison treats floor slipped door noticed bag kept eating bowl pushing around digging kibble nose sniff ziwipeak squares pig searching truffles south france returned couple hours later searched house evidence wasnt pleased departure apart garbage knocked fault leaving full bad mom place fine later went put dinner titan sat entrance kitchen stared cabinet venison treats kept told go eat stayed put staring cabinet added little canned venison entice no go finally poured little bit ziwipeak venison top ran bowl started eating not go near bowl unless hefty portion zp figuring could save money moved treats pound bag went week moved pound bag havent made complete transition zp bowl im still mixing old stuff matter time vet titan one vet prescribed diets looked ingredients bag not could not pronounce list huge first ingredient potato back point ive bought venison treats titan anywhere ounces translates per pound per pound venison jerky paid pound ziwipeak venison actually bargain high quality not mention know sometimes dog eats bowl food throws vomit looks like mixture spongy kibble foam titans never stuff think zp close natural thing isnt anything cause expand causes throw yes overall im happy product line think pretty cool thing use food treats still goes mad much like toddler cheerios ill experimenting varieties im allowed introduce foods per doggie dermatologist trying zp canned well',\n",
       " 'dog turns nose dry wet foods premium names wellness core merrick blue buffalo evo stella chewys freeze dried patties dr harveys etc give try dog lb sheltiecollie mix large highly active dog wouldnt eat stressful hear many people toy breeds problem never thought would happen high energy dog shocked hated dog food would eat little wet dry food hand fed would really try starve way not holding human food not give knowing problem would got worse possible found food searching online food picky eaters came not hopeful lot brands previously tried similar reviews picky eaters liking dog not read jerky like pieces sparked interest loves types treats company sent venison trial bag purchased lamb lb bag lovesssss wakes whimpering bag wants soooo much smell texture incredible never saw eat fast much energetic happy food amazing not expensive considering smaller portion could not happy product everything need',\n",
       " 'made every effort not buyfeed anything made china pet researched ducksweet potato treats finally deciding buy nowhere amazon product page tell treats made searched smokehouse website claimed chicken treats contained chicken china products made usa felt safe purchasing ducksweet potato treats opening bag giving dog glance product origin needless say dog likes much not happy find product china bag boo hiss amazon not putting product origin product page smokehouse misleading consumers product information website customers like care product originates many may not concerned think misleading not provide accurate complete information product purchasing internet store least product doesnt smell like plastic like dingo products wont purchasing dog seemed like wont getting anymore took star due lack complete information amazon misleading information smokehouse update big thumbs amazon great customer service called return item helpful processing refund considered grocery item didnt even return items also purchased smokehouse duck chips made china suggested addition country origin product pages another reason dont hesitate purchase amazon truly great customer service rare days',\n",
       " 'like previous reviewer concerned product made china looks like healthy product dog loves care feed dog usbased products ensure high quality deserves',\n",
       " 'others noted treats made china clearly stated bag didnt like news gets worse back bag statement not human consumption wash hands soap water handling wash hands handling things im sure hell not going feed yorkies expected amazon graciously accepted return',\n",
       " 'ive used product love one problem order never came ordered month half ago think would better ordering else however gave product two stars product good would five recieved product',\n",
       " 'time evening meal often enjoy tasty dry grains specialized indoor formula made important earth keeps fit healthy reducing fat intake im awake nathan gets home come rocketing kitchen get scoop purina cat chow sometimes im hungry cant contain eat food manner uh well lets say not always dignified sometimes wish pounds food bag send nathan get biweekly basis thats ok though serve ive pestering write review good know supreme beings like might benefit thoughts like enjoy tasty grains might also like try fancy feast gourmet gold savory chicken turkey formula oliverexpert cat food reviewer',\n",
       " 'two dogs yr old medium size bit larger strong health teeth chewing bones like lives told veterinarian one main reasons besides no soft food great oral hygiene natural bones right size dogs never leave alone gone take away dont give bed time crunch crunch crunch notice develop thirst chewing awhile no digestion problems result eating great bang buck far dog treats go strongly recommend dogs good teeth',\n",
       " 'ive fan carbquik baking mix sometime experiments become staple kitchen said wouldnt recommend paying price itits exhorbitant found much cheaper netrition reviewers hold amazon vendors accountable overpricing theyll continue',\n",
       " 'product came handy due big appetite slim person diabetic years type became useful able make pumpkin bread cocoa bread well experiment making baking goodies products vast majority mean vast majority baking ingredients meal flour breads e loaded carbs diabetics limited amount carbs one eat meal throughout day product gives back ways baking making things cannot eat anymore not eat anymore one limited small portion last product baked find taste great recipes baked goods p wished cost tad bit lower thanks',\n",
       " 'bought mix help curb cravings regular breads tried simplist recipe box drop biscuits add water bake biscuits didnt rise much picture box tasted delicious even kids devoured great staple carbconscious person recommend highly',\n",
       " 'tried tonight pizza crust really wasnt bad issues aware going use directions say add cup hot water mix form soft dough no way happen get hands kind work together pretty dry crumbly kneading brings together somewhat far getting pan patient flatten best start working center press outwards takes lot work cover inch pan thin though didnt find flavor objectionable lot toppings think trick low carb stuff desperation anyway diet long enough even cardboard tastes good',\n",
       " 'ive used many times past couple years biscuits breading fried chicken low carb brownies etc following low carb lifestyle great substitute white flourladen products different taste little aftertaste low carb thing youre probably already familiar use anything would usually use bisquick hadnt biscuit year tried glad found carbalose flour use also available sites use even recipes',\n",
       " 'atkins months carbquik really helped stay without cheating much takes little experimentation make recipes come right really good stuff adding cream butter liberally helps make really good biscuits girlfriend also makes great meat carbquik casseroles people complain not perfect low carb bread tastes amazing dont bread anything biscuit like texture come good joy eat hope come products like love food definitely helps eat dishes crave staying diabetic friendly diet',\n",
       " 'need biscuit fix good costs much price better way get book carb wars sugar new fat isbn use cooked gluten flour secret make much less money popovers great',\n",
       " 'trying low carb product works great receipies tovas website make poundcake pancakes variety items turn pretty great try great product donna',\n",
       " 'best breaded mushrooms husband loved low carb not hard tell',\n",
       " 'worst lowcarb product ever purchased using make pizza crust could not even cover half pizza pan taste horrible used make biscuits incredibly dry no flavor tried adding margarine still tasted awful tried make pancakes batter thick cement tried adding liquid horrible cannot imagine product still market krusteaz used make wonderful lowcarb baking products know done stuff however awful',\n",
       " 'suppose people might rate product higher great substitute bisquik however didnt like everything made tasted like bisquik',\n",
       " 'bought carbquick wish didnt not taste good baking definately comes different regular bisquick not buy',\n",
       " 'something wrong peaches purchased sun maid dried peaches grocery stores walmart past wonderful absolutely foul tasting also notice dried peaches no longer shown one sun maids products sun maid web site also no longer find local grocery stores note amazon not accept returns food products highly recommend buying',\n",
       " 'love dried peaches normally respect sunmaid brand thought bargain pack unfortunately pungent smell kind funky turns edible think ill give away unopened packs local food bank rather eating',\n",
       " 'excited see amazon offering van houtte k cups far favorites one husbands favorite not big fruity flavored coffes love way one makes whole room smell surprised like one coffees great combination flavor medium bodied coffee tried five flavors taste exactly like supposed taste like tried raspberry truffle course creme caramel tastes like little square caramels see halloween spicy mayan favorite chocolate cinnamon mix pecan praline creme brulee happy no longer spend stock coffees house never raspberry chocolate truffle spicy mayan best unique flavors like flavored coffee full flavor yet nice smooth medium bodied coffee taste must try highly recommend van houtte line k cups',\n",
       " 'looking amazon start carrying van houtte k cups spending get flavors hope amazon adds subscribe save program creme brulee tastes like creme brulee nice cup coffee impressed k cups taste exactly like name coffee not whelmingly sweet hint flavor medium bodied smooth coffee like creme brulee like coffee try not disapointed',\n",
       " 'husband gave keurig coffee maker weve trying different flavors coffee dont care brand necessarily like flavored coffee top list gloria jeans assorted flavors hazelnut french vanilla white chocolate think one also includes mudslide flavor thought slight coconut taste didnt care like kahlua brand kahlua coffee flavor portion little strong favorite flavor van houtte chocolate raspberry truffle flavor right balance coffee flavor ratio taste still taste coffee kitchen smells heavenly lot boils personal taste preferences typically like type flavored coffee love flavor definitely recommend subscribe save kcups keurig economical way get get discount free shipping',\n",
       " 'ill keep short like flavored coffees perhaps sweet tooth youll love morning dinner delicious',\n",
       " 'bought puzzle help entertain smart curious food driven dogs boys love play every single day often work obedience sit get get fun administration treats even dinner golden retriever loves chewer must supervised pulled cups thought reward lol simply pointed treat hidden pawprint dish figured happy camper also bought spinner actually favorite two styles get goldens entire kibble allotment one meal feed twice day inside slows feeding doesnt gulp get bloat know dogs love perked ears bouncing see pick one toys also sit wait released start game great fun plastic nice since disinfect easily wash sink without worrying warping splitting cracking wood like expensive models similar toys plus price great found local canine speciality store',\n",
       " 'length minsbella two year old weimaraner really love toy everytime take wags little tail like crazy simple keeps busy time packaging great perfect super active dog please see video review well socialwriteup',\n",
       " 'called kyjen customer service recommendation puzzle toy bonus got iive person phone brownie points great service mini dachshund although adorable not bright difficult train kyjen kindly recommended star spinner upon receiving item dachshund figured within minutesi thought border collie solve quickly unfortunately wanted toy last one unfortunately easy see spin star degrees treat trays exposed dog walk around open tray eat treats trays exposed one time randomly would increase dogs playtime challenge however dog love kyjen toys tail teaser egg babies platypus hideasquirrel junior size based great customer service toys try different kyjen puzzle games instead',\n",
       " 'golden retriever well pembroke welsh corgi love food tend inhale also smart tend get board bought star spinner well paw print shaped toy company blast moment filled set floor love toys plastic much easier clean spray rinse sink wipe clorox wipe particularly since corgi prefers softmoist treats compared dry kibble loving golden bought roughly local canine specialty store far affordable name brand products since worry bacterial growth far expensive wooden models easy clean disinfect plastic one perfect us safety note dog toy please supervise dog using drive increased playing toy paw print model removable cups dont let dog chew cups redirect treat inside dish pulls cup golden retriever loves much use give kibble every day much safer bigger dogs tend towards bloat kill dog allows fun eating tiny amounts kibble time winwin',\n",
       " 'another great idea dog toy mediumsized dog cracked yellow covers less min plastic shattered never see little yellow covers might find way cover food wells something else im stuck toy dog not chewer toy not stand',\n",
       " 'admit worried big mistake first gave toy bacon confused first tried barking maniacally get treats appear tried digging carpet next toy wondered id able send toy back no way would pull toy prove dog not smart barks much luckily within minutes successfully unearthed treat not easy toy amazing learned hes learned bit patience problem solving two things doubted hed ever learn yellow plastic parts weve lost one im really not sure bacon use open cubby easy hole find treat bacon schnorkitzu schnauzer yorkie shihtzu imagine larger dogs would chew yellow parts pretty quickly im looking forward getting another puzzle toy future recommend toy',\n",
       " 'golden retriever excited try new toy first time gave took several minutes get tops get food however third time introduced mastered minutes use way feed full meals doesnt eat fast love dishwasher safe wish kept entertained longer',\n",
       " 'recently got kyjen kibble drop puzzle toy two dogs lb german shepherd dog lb golden retriever learning nosework thought would fun toy add scenting games plan use dropping one yummy treat time find get one cups ill give conclusion first decide want read details info including size toy info summaryi dont see toy could put ground left dog get food cups unless small dog dogs attempts move toy around floor larger dogs like toy way lightweight flaps cups low ground effective nosing flap technique addition dog couldnt nose flap effectively would need use mouth would naturally pick arm mouth attempt get treats cup thereby dumping treats cups hey problem solved means play youd hold toy downinplace dog puzzle gets treats think toy would work best maybe small dog kyjen needs make heavier larger sized version medium larger dogs details first let give sizing basics toy see match dogs size measured toy wide top dropin treat hole chamber high arm sticks almost middle dispenser treat cup end arm x lift flap look end arm flap shuts height flap edge ground arms toy obviously slope upwards end talking end arm extremely lightweight plastic toy weighing oz whew stats way actual puzzle toyinitially flaps open put treat open cup could find didnt open flaps phase x cup size adequate enough get treat dog good licking treat small size work fine dogs likes mouth treat larger dog x chamber size likely issue gsd trouble getting treats although eventually figured cram nose use tongue time would imagine really large dog would pretty good tongue get treat small cups issue appeared right away even simple usage toy lightweight moves soon dog touches hold toy place else would push across floor trying lick treat flap open cup think kyjen needs add weight help keep toy moving easily bottom little rubber nonskid feet arm nothing moving phase open flap get treat issue larger dogs flap low ground trouble nosing golden tends lie front finds scenting head already ground level made easier work flipping open verylowtotheground flap gsd stays standing though angle couldnt really use nose flip flap although tried also used mouth try open pawed etc im sure wasnt hold toy sliding would picked whole thing mouth problem solved see wrote summary experience wrong sizeweight toy dogs ill still use scent games need drop one piece time hold toy place not sure else toy could used unless small dog hard toy rate issues good idea implementation flawed rated low hope helpsc',\n",
       " 'okay ill admit im spoiled comes pasta lived italy two years tastebuds found real deal upon returning us ive searching something even remotely approaching velvety luciousness good roman pasta product no dice pasta products ive tried end little glueyglutinous gourmet brands purchased via dean deluca similar outlets similar mindboggling prices ive settle not anymore fiance diagnosed type diabetes years ago started dating began modifying pantry accordingly figuring might not bad idea start watching carbs well found carba nada searching good pasta though low carbs might still hopefully taste even remotely like pasta without stewed tennis shoe taste texture think chaplains famous scene eating boiled boot twirling shoelaces ala romana skepticism turned stunned disbelief taste amazing truly wonderful slightly eggfloury slightly nutty naturally buttery texture perfection light springy never shoelacy chewy top bit light butter butter substitute garlic romano heaven earth bit lightcream based alfredo sauce pure heaven partner fulltilt best hearty meatbased sauces orbithoustonwehavetastebudliftoff made clear truly good stuffput water ill get cheese grater nancy harding st louis mo',\n",
       " 'became familiar powder well many dry products barry farms son little involved scouting together even years left scouts remained involved large regional camp boy scouts teaching survival training still lot hiking camping powdered spices veggies cheeses bullion various stocks staple item camping trips due convenience dry wares much better others tomato powder definitely one turned consistently convenient tasty thus worthy recommending used made stews soups added flavorful tomato taste various broths stocks would not recommend product making tomato soup since rather costly besides dried soups easy cheap taking along hike best used enriching flavor soup stew whether ready made mix one making stock rich surprisingly good took one star little costly oz get designed worth price since dont use much stated reviews dried foods like barry farm brands always core group consumers would never give favorable nod powdered food substitute kind powder definitely not going remind old home days native tomatos grammas back yard sure feel one never considered dry substitute kind real food trust no time start feeling like daniel boone trying powder however one lot hiking camping cooking meals open fire big part experience means tasty powder would greatly enliven experience remember rather strong expensive use sparingly recommended',\n",
       " 'quick carbohydrate side dish hard beat light weight dehydrated potatoes not equivalent fresh mashed come closer similar products seasoning right good texture prepared instructed incidentally heat two cups water microwave pour potatoes bowl whip minute fork theyre ready',\n",
       " 'taste synthetic big difference mashing potatoes contents package second ingredient powdered cellulose thats taste like something cant shouldnt digested',\n",
       " 'length mins review originally posted oz size verified purchase amazon purchased three well reviewed brands catnip tristan six month old savannah cat video placed three plates catnip freshly opened packages brands left right sojos certified organic catnip middle product listing cosmic catnip video review shows oz jar far right frontier catnip leaf flower cs certified organic ounce bag like little bear goldilocks table tristan tries bit plate end clip seemed no overwhelming preference particular brand though far physical reactions sampled separately not act stoned hyper merely scratches scratch pad bit catnip without catnip gives good stretch also strongly prefers catnip infused mice noncatnip mice im happy oblige far prefer cat seems heres take things frontier brand far least expensive fifteen dollars oz slightly coarse seems little bit stems mixed fragrant though turned close second favorite cat reviewing products would definitely buy frontier brand use stuffing toys generously marinating little cloth mice organic suitable even human consumption like tea sojos brand oz expensive calculations comes hundred dollars oz description says produces harmless euphoric state saw no evidence smelled fresh definitely milder aroma two brands finest chopped leaves three hand harvested important cat cosmic cat brand may winner camera tristan returned cosmic cat sample several times brands repeated little taste test next two days cosmic cat small definite edge competition id say agree choice cosmic cat brand leaves darker fragrant two brands leaves also cut right not finenot large no stems coarse pieces find cosmic cat brands price reasonable storage container convenient oz size enough not little not much get stale spoil hope find information useful choosing cat kitten',\n",
       " 'strips friend mine introduced admittedly taste pretty good seitan color texture make think eating human flesh horrifying yet afterwards youll craving horrifying stars taste star cannibalism stars overall',\n",
       " 'number us earnestly tried product trying another brand found wanting much said company making soy jerky better flavor texture quality even make jerky unsweetened importantly company tasty eats not garlic onion powder products biggest felt downfall product except company every jerky company except tasty eats uses no garlic onion powder product line would list garlic onion ingredient primal strips company vegetarian spices one not clear even company phoning rather reticent saying granulated garlic onion primals strips form garlic possibly onion found tasty eats soy jerky perfect really quality texture also fact use no onion garlic whatsoever',\n",
       " 'first bunch us tried product rate poor comparing another brand found granulated garlic possibly onion not say ingredient label like every jerky company even addition spices part vegetarian spices ingredient company not seem forthcoming anyway found company tasty eats sales ginger teriyaki original peppered hot nspicy even unsweetened jerky none contains garlic onion also found best quality texture flavor fact ordered six cases ginger direct company bestselling teriyaki original many flavors well order available really try truly best tasty eats soy jerky tried numerous jerkys vegans vegetarians many not want garlic onion powder tasty eats soy jerky best tasting no onion garlic powder product line rated primal strip not compare',\n",
       " 'tried product bunch us vegetarian also not like onion garlic one friends esp sensitive well even calling company not forthcoming could taste garlic compared tasty eats soy jerky not even compare first ingredient vegetarian spices includes granulated garlic powder possibly onion ayurvedic terms not sathwic ones body totally recommend soy jerky tasty eats ordered six cases ginger use no onion garlic products companies list spices almost always label garlic onion powder separately company makes primal strips not comparisons found tasty eats soy jerky best taste quality texture fact teriyaki best selling jerky original flavor peppered hot n spicy order cases become available provide first class jerky healthy proper everyone esp vegans vegetarians',\n",
       " 'cardcarrying carnivore said also laziest man side lebowski even chewing much work given primal strips heaven texture close meat consistently chewable none gristle often associated beef jerky spam gooey real beef jerky makes jaw ache end spitting gristle frequently perfect replaced meat soylent browntype food id happily leave real thing behind im not sure health benefits guess good ive seen people healthier eating figure nutritious anyway tastes robust perfect texture perfect snack',\n",
       " 'bought two strips went backpacking trail decided break snack not knowing expect stuff awesome shared sister not vegan liked great protein boost great flavor great texture',\n",
       " 'great high protein snack without meat would give starts not sweet',\n",
       " 'tried every vegan jerky item market excited find one completely glutenbased offering reasonable proteintocalories ratio reasonable priceperounce plus great reviews boot got product discovered great chagrin requires refrigeration opening not fly face jerky supposed not disclosed anywhere amazon product description ouch much taking oz packages trail anywhere else matter also aware product unlike several competitive vegan jerky products made taiwan could mean uses chinese gluten thats source personally try avoid significant food safety issues past however contacted manufacturer told gluten imported either australia western europe usa ingredients sources manufacture taiwan ways cooking soy wheat gluten not found west said taste pretty good wet packaging gives softer texture competitive products personally still prefer',\n",
       " 'ordered expecting receive lorina sparkling lemonade ounce pack sixflavor gourmet selection states clearly description shows clearly photo received pack one variety fact ordered two variety packs received two packs variety people liars expect reship say selling',\n",
       " 'cant believe anyone buying stuff amazon go keurig com pay half price spread word rediculous',\n",
       " 'peppercorns beautiful rosy color clues even get chance open package theyre not peppercorns youve known life pull open bag inhale aroma youll find combine scent pepper wonderful fruity almost floral overtone hard describe even harder imagine youve experienced lovely part flavor profile doesnt diminish use ground steeped sichuan peppercorns dark chocolate mousse grind finely steep heavy cream minutes straining cream chocolate vibrant peppery fruitfloral scent top note mousse memorably different flavor im looking ways add dishes see new nuances impart old favorites',\n",
       " 'came packed plastic bags inside bubble envelope weight entire package unopened undamaged ounces dont know china usa thats well short pound not going bother trying get money back need aware',\n",
       " 'soon removed seal jar knew id happy perfect product buy youre not able get traditional turkish coffee ground cardamom settle generic roast sweet yet spicy think gingerbread reminds travels middle east problem arrived broken lid',\n",
       " 'monin site no idea expensive amazon',\n",
       " 'condensed mincemeat way make mincemeat pie results far better jar type mince filling reasonthe condensed mincemeat getting harder harder find familys favorite thanksgiving christmas pie hope wont disappointed year',\n",
       " 'hard find item pleased service received',\n",
       " 'first discovered kettle chips sea salt vinegar shopping trader joes daughter mindy couldnt believe tasty best chip ever eaten love first bite ive munching ever since things favor theyre thicker chips dont crumble im devouring theyre delightfully crunchy saltandvinegar combination heavenly tried create original line describe palatepleasing taste treat couldnt beat manufacturer said tonguepuckering tang crunch isnt poeticas health values since kettle chips not peeled preparation im getting nutrition potassium vitamin c mother would approve fact theyre handcooked small batches often enjoy kettle chips afternoon snack favorite soda iced tea theyre also delicious tuna sandwich hot dog lunch well actually kettle chips go perfect everything except sweets course problem theyre delicious cant stop eating thats reason chose smaller packets figured could last almost month good girl kept appetite controland hid kids sake fewer calories try hard succeeded far isnt easy told much love themreviewed betty dravis millennium babe prophecy',\n",
       " 'dont need salt hide taste potato chips chips prove taste potato comes instead masked ok theyre still snack food no salt no transfats mean healthiest potato chips get youre lowsalt diet like available means eat chips kettle best',\n",
       " 'potato chips excellent no trans fats taste absolutely delicious whenever mood potatoe chips kettles brand buy great product anyone enjoy highly recommend enjoy',\n",
       " 'kettle brand chips crunchy would say regular plain old lays potato chips soft end softcrunchy spectrum ruffles brand potato chips used considered crunchiest kettle brand chips far crunchy tender mouth bad teeth dentures might want steer clear kettle brand otherwise youll love chips sea salt vinegar chips super tangy enjoy taking swigs vinegar bottles time time dissapointed salt vinegar chips either chips soft andor vinegar taste whimpy andor chemically rest assured kettle sea salt vinegar gourmet flavor vinegar flavor no chemical flavor could never called whimpy',\n",
       " 'loved chips chips would buy discovered england back quickly became fan year ago picked bag sale local supermarket finding odd sale much took advantage opening bag found chips not even close kettle chips used uniform whitish yellow color flavor way lovely extra crisp brown chips gone completely disappointed emailed kettle following happened bought bag chips day different taste tastes cheaper dont know else put also noticed chips seemed less cooked not see browner colored chips flavor hoping nothing changed ingredients process used produce product get weird batch buying kettle chips years wondering receive reply thanks letting us know experience kettle brand chips sounds like may received bag not slipped inspections apologize potatoes vary seasonally could account variation colorbut chips still taste great thanks providing us best code bag really helps passing comments staff sending coupons replace purchase kettle brand flavors nut butters believing great experience next purchase case buy product suggest avoiding best date still rare instance another bag case slipped inspections time thanks letting us know expect coupons arrive within weeks please let know help well next bag good since time picked bags chips like bad bag pretty sure changed product reduce cost research found kettle bought private equity company cookie cutter management processes probably employed kettle acquire company high quality brand recognition sell product mass merchants lower qualitycost product increase margin finally sell company customer base starts realize brand no longer quality brand increased profits make company valuable paper make nice profit investors customer employees lose course unsuspecting buyer exploited brand stay away kettle chips no longer',\n",
       " 'product converted kid not not think liked instant coffee think ive tried international coffee type products powdered drink mixes not truly instant coffee never impressed eventually learned youll laugh not knowing instant coffee not mix like hot chocolate actually coffee beans treated differently production coffee beans intended brewed bean roasted usual crushed rather cut brewing beans preparation creating coffee concentrate either freeze dried spray dried product explained nescafe website robusta arabica beans freeze dried method may may not top choice connoisseurs instant coffee new instant coffee dont yet appreciate difference know product singleserving sticks product sold canisters new format current product not new product wow sheer pleasure convenience decent cup coffee cant mistaken richly brewed coffee restaurant home coffee machine not even douse cream instead compare office coffee cafe au cube farm definitely matches taste quality easy quick mellow great idea im soul wants cup coffee cant bear brew one two lonely cups big disadvantage instant coffee far im concerned serving product abut mg caffeine compared mg caffeine brewed cup coffee talking upper end way brew mine want caffeine flavored versions product even less caffeine per serving mg although couldnt tell information way comes nescafe website faq disadvantage suppose whole house doesnt fill sound fragrance brewing coffee choose go instant alas still given convenience decency beverage im buying little single sticks pretty regularly recommended',\n",
       " 'woke today sunday find sunday newspaper chicago tribune wrapped plastic bag words instant tastes rich not expensive sorry starbucks naturally decided put tasters choice packet test could please define word rich according dictionary rest world rich implies fullbodied drink nothing instant coffee rich quite opposite actually finished product oz water look exactly like dirty water looks like something would come rain gutter not coffee pot tastes repulsive fact liked drinking hot water might market would reason fact coffee costs x less starbucks via made x less quality taste cup embarrassed call tasters choice whos choice zombiealso low go text font bag exactly starbucks via stores come original dont sit defensive side use ideas others sounds like someone losing business product horrible beginning facing real competition maybe spend less money marketing recipe tasters choice money development something actually able compete via back drawing board nescafe product horrible taste package wouldnt recommend product anyone fact coffee lover make sure everyone know makes smart choice chooses anything tasters choice',\n",
       " 'nice blackstrap molasses say however looking bsm iron supplement try find kind house herbs rda iron brand',\n",
       " 'molasses expected not sweet not bitter seller reasonable shipping sent samples along molasses',\n",
       " 'though yet experience benefits bsm product delivered v nice packing thank seller',\n",
       " 'first tasted cafe next moulin rouge paris degrees reminded water hose washing old orange middle sahara rather day fact venture guess thats made bubbles process heat related fermentation experience ordering regretting bucks spent getting defend saying thirsty hoping cold drink ha ha later realize get kind experience better shot freezing bottles water us putting dry ice hoping positive customs experience far far better way obtain cool drink least vienne france gave nice inn keeper twenty got free use tiny fridge found remarkably strange use juice colas water thats topic heres get almost four dollars per bottle weak watered slightly sweet beverage cross hold mandarin orange pulp minor amount pulp rather dingy looking stuff thats settled bottom thats grainy lot carbonated water husband calls poor word water likes fill sentimental niche say france expensive adored much travel country like bottles save peel labels use rosemary oil kinds herbed oils like make hell drink pawn unaware visitor ive got nice bottle use making bath oils great lavendar scented bath potions love give regard not sami ammoment two us would not could not one foot bar car not not cathedral beagle icosahedral not drink sam not like watered juice jar',\n",
       " 'wasnt totally sure expect received coconut sugar receive two bags sugar one labeled blonde sugars caramel color blonde little lighter smell taste similar brown sugar however texture dryer granules not consistent size cane sugar no coconut taste whatsoever wanted bake sugar see interchangeable cane sugar coconut sugar supposed less calories lower glycemic level compared cane sugar understand glycemic levels lower level easier body metabolize thus not creating sugar crash compare cane sugar used ratio suggested company ate raw cinnamon toast blonde made pancakes blonde toll house cookies blonde regular part found completely interchangeable cane sugar recipes noticed granules left freckles sugar didnt completely blend however texture taste close cane sugar health reasons making switch great option',\n",
       " 'excited sugar alternative acts feels like sugar tastes great not exactly like sugar close tastes less sweet sugar right spoon definitely works like sugar recipes promised absolutely delicious coffee',\n",
       " 'really enjoyed using coconut sugar used baking oatmeal chocolate chip cookies flavor texture great ive tried substituting agave cookies texture suffers pleased healthier sugar alternative cannot importantly kids cannot detect flavor difference worth switching madhava',\n",
       " 'excited try white sugar alternative first worried would add coconut flavor turns doesnt add coconut flavor used classic chocolate chip recipe cookies turned great granuals quite bit chunkier fine baking sugar noticed melted rather quickly contact moisture overall product organic sustainable healthier traditional sugar plus price really good im glad tried',\n",
       " 'use coconut sugar everything used make cane sugar cookies muffins chocolate syrup fruit crisps cakes etc handful helpful tips made fine powdery consistency blending vitamix food processor even good coffee bean grinder enables one make powdered sugar add tb arrowroot powder tapioca starch per cup finely blended coconut sugar coconut sugar used make icing like sweetened condensed milk also made see allrecipes coms recipe regular sweetened condensed milk ingredients powdered milk cup water cup coconut sugar blended fine consistency isnt pretty beige color makes wonderful lemon bars coconut sugar doesnt taste exactly like cane sugar mapley hearty no sugar crash since low glycemic index lower apples carrots loaded potassium along nitrogen zinc magnesium several vitamin bs opposed agave syrup fairly empty nutritional value additionally price amazon offers less coops bulk price',\n",
       " 'dogs love bones bought sizes jack russel loves big ones small ones pound mutt loves big ones great able digest able enjoy bones bought many petsmart reason discontinued upset happy see amazon great price highly recommend',\n",
       " 'wasnt sure going like id tasty bite meals sold took thinking lentils mother used make wondering edible one favorite tasty bites soupy definitely need eat bowl spoon taste world perfectly seasoned rich creamy dont know exactly makes tongue dance eat lunch sometimes alone vegetable isnt lot packet good side dish size one person',\n",
       " 'vegan natural kosher beautiful classic yellow dal dal means lentils split half similar split peas split pea soup yellow dal staple indian meals thalis not spicy rich flavorful addition serving rice great bread toast jodhpur city rajastan india located southeast new delhi raja means king rajastan also well known high percentage orthodox hindu vegetarians living made lentils sunflower oil salt tomatoes garlic cumin tumeric chilis easyopen foil pouch approx calories g protein g fat per pouch labeled vegan back box using vegetable oils wonderful treat also lets ama gai [ mother cow ] save milk babies although freshly locally made always better tasty bite dish fantastic tribute cuisine rajastan great choice everyone enjoy wonders wonderful indian cuisine home product india highly recommended also really like tasty bite entree bombay potatoes ounce boxes pack tasty bite entree bengal lentils ounce packet pack review makes difference see reviews vegancompassion profile great choices check vegan grocery favorites vegan grocery top ten helpful vegan grocery listmania input counts greatly appreciated benefit search others thank',\n",
       " 'found product local whole foods significantly less shocking considering whole foods isnt exactly known low prices purchased bulk amazon per unit price definitely better also infant cereal supposed cup dry cereal oz liquid says container cereal way thick make like instructions say cup grams cereal not true weighed came double grams no idea whether nutrition facts apply g cup daughter seems like cereal though definitely prefers multigrain oatmeal brand',\n",
       " 'bought pack box arrived inspected nutrition label saw sugar reason gave product low rating organic cereal use not would like return grocery item not able wish amazon gave nutrition information products selling didnt stuck fault really could gone another website checked',\n",
       " 'shipping item received orgeat orgeat almond infused sugar syrup fee brothers orgeat corn syrup artificial flavors preservatives not surprisingly bland flavor good cocktails made good mixers not good mixer',\n",
       " 'litter wheat product attracts meal bugs bag actually came bugs opened bag left bathroom came back hours later bugs crawling bag wall done everything eliminate bugs naturally disposed every crumb swheat scoop house difficult get rid permanently due life cycle meal bugs think youve eliminated months later theyre back not buy product even think works great cat litter run risk plagued bugs forever',\n",
       " 'finger sized marinated grape leaves filled rice soft tasty side dish healthy snack salad add large amount keeps well fridge not much spice salt taste mint lemon flavors eat cheese pickles cold cuts great price',\n",
       " 'bought small sale azalea bushes last year made last summer winter without dying spring everything around turning green lush little bushes pretty sad looking brittle no flowers brown looking leaves fact almost looked like dead husband better known eeyore sure good dead said fertilizer would never work getting ready pull go buy already large healthy lookingand also expensive said hold everythingbefore give let look online see something save read review epinions miracid azaleacamelliarhodedendron food promised didnt work could pull plants start thank wrote reviews elsewhere want add recommendation becauseunbelievably within two days feeding first flowers peeking not even full week later bushes flowers andor buds counted least buds one bush alone naysaying husband first said coincidence talking feeding every couple weeks think become believer tooi never tell really thought bushes probably dead really amazing stuff',\n",
       " 'bear creek darn good chili mix darn good instructions turn mix chili dip clear concise include suggestions doctoring following directions letter result meatless not vegetarian read ingredient list chili flavorful not spicy especially love variety beans included suggestion perfect chili add half pound spicy turkey sausage mild sweet half pound lean ground beef brown meat first add water indicated package dont increase decrease water measure follow directions yum',\n",
       " 'bear creek darn good chili best chili ive ever quick easy following instructions back packet family enjoys chili little spicier little meatier ive added items kick chili another notch packs bear creek darn good chili mix cans tomato paste cans rotel tomatoes small onions chopped bellpepper chopped cloves garlic chopped lbs ground beef ground chuck lbs smoked sausage finely chopped hint cayenne pepper taste hint liquid smokein large pot add chili mixes boiling water directed add tomato paste stir well turn fire medium heat large sauce pan brown ground beef chopped sausage add pot large sauce pan saute chopped onion bellpeppers garlic min add pot add rotel tomatoes turn heat simmer let cook minutes stirring occasionally add cayenne pepper taste hint liquid smoke let simmer minutes still stirring last minutes chili cooking bake favorite cornbread like jiffy gather family friends darn good chili time recipe even better crockpot dont know added liquid smoke worked hope ya like',\n",
       " 'chef foodie worth fleur de sel de guerande sea salt knows fresh truffles real way go far whole product sure urbani oils truffle butters good substitute want infusion whole truffles want real quality youre going pay b get company high quality fresh goods know trust since fresh truffles cost bundle white black also seasonality plays truffles black harvested usually autumn winter white around october november buying fresh truffles may not usually advised local chefs gourmet restaurants sometimes tip good purveyors worth anything nothing else write famous chef admire give source goods youre lucky bottom line product bottlednot fresh truffle get pay say something substandard big price tag want good empty bank account buy fresh',\n",
       " 'purchased two boxes k cups ended trash beside fact every time tryed brew cup coffee coffee grind machine inside coffee cup due k cup bursting brewing not problem brand coffee purchased local supermarket though not buy ever line real nightmare',\n",
       " 'buyers beware guess fault really thought ordered coffee gettinng two boxes coffee like almost every coffee dealer amazon sells stuff guy sells coffee one box coffee arrived house asked wife box said thats one box arrived looked order sure enough sell box coffee making probably expensive kcup coffee amazon shame not looking order purchased look sellers coffee two boxes count kcups thats kcups guy gives kcups extremely expensive congratulations fooled hope review warns others',\n",
       " 'dissappointed find get box kcups almost cup usually get boxes price crazy buy online much cheaper stores not receive right flavor shipping seemed take long not happy',\n",
       " 'beef jerky get store stuff see advertised tv nothing compared ill never buy crap hate sugary taste jerky sometimes squishy texture salty slightly spicy sink teeth beefy goodness like jerky regret actually expensive online hometown pa regardless price drawback likely package disappear quickly especially family quite possibly cant stop one piece try jerky judge others',\n",
       " 'bought sampler mother loved woman not function without two three pots coffee day knows coffee not much coffee drinker tried flavors thought good without overly strong got two pots cups per bag without coffee watered definitely hit coffee drinkers life sprung gift wrapping not disappointed warned though box shipped name company inside trying surprise someone maybe shipped friends house first otherwise happy product',\n",
       " 'want say love form gatorade cost effective purchased locally tastes exactly like premixed bottles product im baffled amazon charging normal price product',\n",
       " 'not specified site not know received product something clear product page especially since fda specifically warned chicken jerky products pets made china going ask refund',\n",
       " 'food fantastic used year switched holistic premium brand dry kibble wysong considering going back dr harveys whyon dr harveys less poop practically odorless healthy firm higher quality food give dog less stinks less comes ive noticed huge difference kibble gives dog variety food every time make new batch rotate protein sourcechicken beef scrambled eggs turkey fish even chickpeas lentils dogs loved different oil source flax oil fish oil olive oil sesame oil know people done years cant completely healthy feed pet exact thing day day year year theres something counterintuitive dogs breath better dr harveysno joke brush dogs teeth every night tell gotten worse since stopped feeding dr harveys nothings changed brushing let know switched dr harveys first placeit little expensive side rotate cheaper protein sources lentils chickpeas lb eggs make affordable weeks dogs need meat kind worth buyingthat doesnt come horrific living conditions not pumped hormonesis expensive though good reasonwatch food inc found boiling whole chickens made affordable lb deboned chicken breasts lb still need beef couldnt get often ethical turkey expensive bit high maintenance husband would say several times ran go store come back cook batch hungry dogs hour asking kibble simple convenient dogs go hungry less often note organized mewhich likelyyou probably wont run problem alsoyou could also differentlywe weighed every portion gave dogs one got oz one got oz per meal also added time also takes minutes defrost frozen didnt defrost ahead time dr harveys also added dishes cooking measuring tough living small nyc dishwasherless apartment two last points aside kind miss dr harveys days always deeply warmed heart feed dogs real food colorful peas carrots spinach beets smelled sooo good well seeif conditions dont improve bad breath softish stool itchiness might go back dr harveys find place get affordable ethical meats amazon ad horrible job telling product important detailsingredients organic brown rice organic kamut organic oats organic spelt organic barley organic triticale potatoes carrots zucchini sweet potatoes peas broccoli green beans beets calcium citrate parsley lecithin garlic bee pollen nutritional yeast alfalfa rose hips red clover oat straw flax seed meal papaya rosemary dandelion peppermint ginger spirulina fenugreek basil leaf fennel seed dehydrated freezedried incredible right made itpick protein cook dogs didnt take raw beef chicken well also raw weigh cooked proteinthis determines proportions everything else add water dr harveys mix oil process protein need boiled chicken turkey breasts hardboiled eggs boil needed amount water big pot boiled add needed amount dr harveys dehydrated mix boiled water cover let sit rehydrate minutes minutes add cooked protein big pot rehydrated dr harveys mix add needed amount oil mix done dogs go nuts first warm batch dr harveys dont blame themit smells sooo good would make big batches put days worth fridge maximum amount time freeze rest note took us figure proportions needed instructions sheet inside give guidance ended making chart wasnt helpful alsowe needed scale might measure much protein havewhich determine much mix water oil use little tricky definitely manageable dr harveys fantastic grainfree version vegtobowl yet try forgot mentioni even spoke dr harvey questions hows customer service sum dr harveys great youre conscientious pet parent know whats good pets like not great youre struggling grad student short time cash like good luck',\n",
       " 'smaller sized sprout master sprouters great smaller batches leafy sprouts bean sprouts optional tray dividers makes easy make small batches many six different sprouts time larger tray would better big batches using trays concert achieve effect people not feeding large family would suggest starting evaluating whether often want make larger batches manage single smaller tray four lids come set exactly put one catch water use one top want block light helps prevent growth green leaves usually bean sprouts grown four lids three trays youll find necessary stack trays want cover one time sprout masters drainage holes allow excess water drain effectively youve sprouted jar youll probably find much easier hold tray running cool water two three times day allow excess water run putting tray away sprouts thoroughly rinsed prevent spoilage kept moist times not allowed sit water comparison jar sprouting youd need fill drain jar sprouts repeatedly rinse sprouts well difficult get properly drained one minor complaint smallest seeds get caught drain holes experience broccoli large enough safe alfalfa clover might get seeds stuck youre cleaning tray use may need get small poking instrument knock one two easy sprouter device doesnt problem allows slightly less light reach sprouts shape neither significant complaint find easy sprouter gets sufficient light purposes',\n",
       " 'sprouter easy use small quantities sprouted several small chambers fresh sprouts constantly really like product use time',\n",
       " 'item wonderful growing smaller crops several varieties consumption love white well see clean enjoy sprouts lettuce sandwiches salads even top soups decorate plates makes much easier takes little space thanks',\n",
       " 'germinate not tablespoons broccoli seeds one container undivided allow roots extend drainage hole easily hydrate roots spraying water across whenever happen kitchen sprouts matured greened find following helpful two three times day flip container immerse greens container water vigorously shake seed caps loose roots help keep sprouts anchored box dont find seed caps remain problem simply eat along greens',\n",
       " 'larger version item buying one like larger version big crowded refrigerator ive sprouters past one good better ive tried skip quinona sp seeds however one disaster',\n",
       " 'biggest disadvantage sprout master found difficult get rid hulls seems much easier jar screens however sprouts seem store well sprout master stay fresh long time',\n",
       " 'product ok consider expensive small plastic item seen product person never would paid much',\n",
       " 'looked forward receiving product no longer carried local store however received name gold kili ginger drink ingredients completely different still couple packets ginger drink used buy ingredients ginger honey received product ingredients high fructose corn syrup among additives upon seeing promptly returned item',\n",
       " 'chili great tasting filling one easily feed people medium spicy tasting chili always heat want shot hot sauce spices best tasting vegetarian canned chili tried highly recommend serve nice crusty bread got whole meal',\n",
       " 'yogurt made starter organic whole milk simply best ever tasted not thin sour taste singleculture starters produce taste instead smooth fullbodied also thicker little dry milk added process takes bit longer since milk must heated degrees cooled cooling requires icewater bath temperature would never get low kitchen hours yogourmet multi starts room temperature gradually increases degrees yogurt perfect every time good makes good dessert even better mixed fruit combined mayonnaise makes fine potato carrotraisin salad smoothies really smooth give try favorite recipe love',\n",
       " 'eat yogurt regularly found yogourmet brand reliableresulting good food product particular item additional probiotics got add regulart yogurt starter yogourmet used one packet one packet regular well one packet another brand bought amazon little green packets made new batch yogurt used little two quarts fresh farm milk added packet mentioned starters along little powdered milk make little thicker product optional resulting yogurt delicious good consistency take sample put freezer use next batch way dont use packets starter fast keep indefinitely freezer time use new packet box reason starter take new batch starts develop flavor stray bacteria got rarely happens long keep sample freezer delicious healthy food good',\n",
       " 'starter makes delicious yogurt like use whole milk must first heat milk least degrees cool degrees previous reviewer stated must use icewater bath cool milk works wonderfully let yogurt incubate hours extremely thick delicious bit tart taste yummy alternate using yogurt yogourmet freezedried yogurt variety eat yogurt every single day using yogourmet starters couple years wont use brand ive tried several ones yogourmet best',\n",
       " 'bought along yogourmet yogurt maker retrospect probably didnt need buy separately package deal included starter makes amazing yogurt seems like takes long time get going starting starter rather saving yogurt using starter id recommend using start culture using yogurt probiotic blend take longer start lower temperature flavor great health benefits even better oh yeah important note quarts yogurt use packetssomething isnt really mentioned packet grams',\n",
       " 'love product using many years makes perfect yogurt every time use yogourmet incubator gift mother got married years ago gift keeps giving always best tried yogourmet freeze dried starters fantastic success yogourmet casei bifidus acidophilus probiotic yogurt starter favorite found amazon great price give company positive review never problems culture products yogourmet incubator machine use quarts milk recommended grams yogourmet starter found key making great yogurt heat milk degrees continue cooking temperature minutes cooking temperature kills harmful bacteria milk remains even pasteurization also breaks proteins milk insuring great yogurt set apparently proteins easier body digest broken state well cool quarts milk degrees add starter grams freeze dried starter cup leftover yogurt original batch cups optional powdered milk cup optional sugar tablespoon optional flavoring extracts incubate desired tartness reached kids prefer maximum sugar yogurt tastes like store bought although much sugar milk takes longer turn yogurt hours try using honey extract vanilla extract raspberry extract etc',\n",
       " 'several failed attempts making yogurt discovered small slip paper included states paraphrase unit hold correct temperature making yogurt room temperature f f room temperature higher important summer use yogurt maker air conditioned room cant imagine turning ac cool house f make yogurt turn set winter kitchen usually imagine would keep temperature low proper incubation unless kitchen always around degrees id say pass unit ill listing local freecycle board get rid',\n",
       " 'every chocolate manufacturer chocolate go every season satisfy taste buds generations well lindt chocolate tastes absolutely awesome goes occassion either get milk chocolate go assorted one dark cocoa variations chocolates myth lindt liquor chocolates not lindt usa cocoa liquor dark chocolates whisky liquor variants normally available european markets got days back available amazon amazing chocolate melts much much makes go crazy taste opinion truffles best chocolates lindt ever made years affordable price mentioned amazon dont get many deals stufss preferred round year may also smaller gift boxes around truffles also mix match based prefernce',\n",
       " 'ordered product thrilled arrived valentines day not buy chocolate amazon arrived time gift arrived melted amazon not allow contact online nonreturnable items like chocolate express displeasure state arrives ive never problem amazon disappointed',\n",
       " 'love get oz bags wall mart dollars',\n",
       " 'havent tried many corn soy byproducts ingredients list automatic no soy corn crops genetically modified roundup readygee come pesticide grown unless says organic nongmo guaranteed gm wont eat gm products dont feed livestock pets',\n",
       " 'perfect basket friend coworker ordered coworkers birthday able opened items really well packaged beautifully presented got try items everything delicious say chocolate peanut butter pretzel yes please would absolutely order basket one thing usually get basket cant really use basket great house storage presentation loved leather handles great great great overall thank',\n",
       " 'overall disappointed basket salami cheese spread good much rest basket seemed fillers box chocolates actually contained wrapped candy mallo cup peanut butter cup called penny candy crackers pretzels small bag contained two hard pretzels realize purchase like really paying premium packaging delivery thought one little light actual food',\n",
       " 'well havent actually ordered product frankly im not going know cases flat rate shipping standard paying ship buy well stupid weighs lbs costs ship product first place shipping rates need come back know people need make money somewhere really make money shipping',\n",
       " 'first initial arrival came bigger box since things ordered well opened yellow bags set neatly ready eat packaging no boxes bags used necessary review value going put perspective average size bags ounces larger size bags range ounces depending one make several bag ounces go ounces certain packaging theory could go buy bunch ounce packages equal total ounces bag youd buy bags bag would cheaper go bags however cost item little disappointing expected little bags aside portion probably height bag air hoping mms overall give purchase c value cheaper buy way always beware pricing example another seller amazon charges bag pay shipping wanted buy using amazon prime like could get regular mms no peanuts less may worth savings okay value end day cheaper buying individually beats',\n",
       " 'love oatmeal occasionally make steelcut oatmeal ricemaker ive eating quaker oats maple brown sugar instant oatmeal years pallets literally bought lots value pack packs last time went sale shop rite finally ran couple months ago bought new improved package stop shop new flavor horrible not compared original mccanns truly horrible couldnt finish tasted little like coffee grounds even adding brown sugar little milk didnt change could screw decades old favorite like not offer new product leave loyal customers proven favorites didnt cocacola release new coke instead screwing brand loyalty didnt quaker learn coke since ive buying stop shop brand not bad not good original quaker oats maple brown sugar good enough quaker effectively removed instant oatmeal market opinion hope correct mistake dont think happens often ill waiting one heard making right commercials storebrand oats',\n",
       " 'used eat almost every morning says new great taste horrible not even extra brown sugar helps change back please',\n",
       " 'sugar police strike ruin oatmeal taste always selling local supermarket huge flakes horrid taste made exquaker consumer plenty choices low sugar oatmeals screw around classic not make another version leave one alonehorrible',\n",
       " 'real theater popcorn easiest way get best theater style popcorn home especially use whirleypop popper aware resellers selling stuff would pay buy direct source yes available online popcornpopper dot com per pouch depending volume buy closer paying not',\n",
       " 'live heartland american make homemade indian food condiments essential tamarind comes thick finally figured thin good years worth couple bucks',\n",
       " 'cans starbucks doubleshot not insane insulting consumers amazon get clue remove products absurdly priced',\n",
       " 'great product others like starbucks doubleshot energy drinks monster java etc twice price supermarket retail dont include shipping heck going',\n",
       " 'product available cold retail even less four pack case',\n",
       " 'struggled years using store bought green split peas never satisfied soup struggle no years tried different recipes never satisfied end result inferior product using green split pea soup never better started using companys product palouse brands product hardy tender flavorful creamy smooth cooked no dissapointment farming family knows delivery fresh',\n",
       " 'love drinking green tea delicious hot cold able take anywhere key searched long hard alternative canned bottled green tea cumbersome expensive hard come parts us beginning found either expensive sugar defeats purpose drinking green tea first place not get good reviews found product quickly ordered great price free shipping pleasantly surprised product works advertised dissolves quickly cold water making great carry anywhere tastes great instructions say use one packet ounces water actually used ounces water otherwise bitter not saves money replaced canned green tea completely eliminating number cans need recycle monthly',\n",
       " 'ordered product sent notification backordered reason ordered online local health food store weeks meanwhile health food store restocked month not received product online order yet like product much order another supplier',\n",
       " 'taste stars yes strong kick taste buds bitter might guarana bitterness difficult overcome regardless brew cup size ive tried ounces far like smoothness strength kona strength revv equal kona not smooth occasionaly add hazelnut nondairy creamer sweet treat coffee bitterness still comes hazelnut creamer latest go experiment seems make palate tolerant brewing ounces revv adding ounces milder medium roast coffee travel cup still bite reasonable amount sweetner bitterness seems dulled acceptable level kcup container star not less ive made cups coffee kcups ive used today lids come unsealed brewing resulting god awful mess coffee flowing around kcup holder gaps brewer coffee grounds place coffee brewer kcup holder ive used lots kcups every one havent tried wolfgang pucks products yet never kcup unseal like ill not ordering',\n",
       " 'like coffee placed second order aware order first time ordered came amazon com packs count second order thought getting amazon site came deals call receive one pack count price got packs first order amazon agreed send return lable reorder amazon making sure amazon directly',\n",
       " 'love rice really hopes product would great rice pain make taking seconds microwave really appealing really known better though product cooked plastic bag going come smelling like plastic smell plastic pretty stomach turning couldnt possibly good',\n",
       " 'son first grade block party school asked buy giant pixy stix prizes game class sponsoring quite pleased initially saw children brought giant pixy stix brand label name twice size weigh grams ounce inches long comparison larger stix grams ounce inches long seems like different name thing giant disappointment sons face',\n",
       " 'snack wonderful addicting ive reordered bag today great snack fact low fat big plus love spicy flavor wasabi cost beats local supermarket aside dog loves shes little odd',\n",
       " 'ordered item dab nutrition received item opened box opened candy piece damaged could tell stored improperly contacted dab nutrition opened refused return money even though good customer not supposed open candy product buy could tell entire box damaged pieces opened disappointed seller never buy lost good customers guess doesnt matter',\n",
       " 'ive suffering incredibly hot season sauna summertime ive enough sweat rolling back charge neighborhood kids three bucks pop slip n slide ride im finally end sweaty rope came looking something anything help beat summer heat ive watched peppermint pattie commercials years eating one gives sensation shushing snowcapped mountain say like yodeling frigid alpine snow tell feels like giant soothing snocone pants hot august afternoon say commercials hogwash particularly sweltering recent afternoon put advertising test ate fortysix little patties got sensation right not skiing crooning cooling undies though like feeling three pounds chocolate crammed colon faint minty tinge five senses ever heard peppermint cant recommend bottom line eat pattie youre looking nice sweet treat youre suffering summertime heat wave drop snocone colon bvds thank',\n",
       " 'really ready hate say packetunusual unusually good manioc tapioca add oil eggs milk water used rice milk rolls made came surprisingly bread like chewy middle crispy outside think taste better cool less eggy smell butseriouslya lot like bread ever imagined healthy tasty snack',\n",
       " 'used chebe bread mix original form quite ago reason id gotten away using recently chebe bread come long way ordered case allpurpose used make nice gluten free pie crust thanksgiving pumpkin pie also used make stuffing make dinner rolls came well pleased go chebe website find many recipes nice recipe tells versions chebe bread mix used recipes varieties mix planning trying sticky rolls pizza crust mix see goes mix fine fly away want take easy opening pouring bowl fine dusting powder around area mixing really pretty pleased items made chebe allpurpose mix',\n",
       " 'trying product one month say definitely provides energy morning also seems effective fighting initial effects common cold least found product dissolves best ice cold waterjuice overall product seems work advertised',\n",
       " 'got set husband part christmas present loved didnt know daves insanity wasnt hottest could get immediately opened ultimate started practicing eating crackers wouldnt make sweat could embarrass brother making sick went home holidays next year im getting bloody mary mix stocking stuffer maybe nuts',\n",
       " 'freshest aromatic saffron weve every even ups driver caught sniffing box tin cannot contain wonderful scent tastes good smells',\n",
       " 'nutshell recently begun using brand exclusively heres colavita extra virgin olive oil impressive list credentials clearly set apart makers olive oil particular product boasts following certification international standardization organization certified authentic product italy best olives olive oil grown best conditions natural product olive oil nothing added excellent fullbodied tastewhat nutritional componentsa tablespoon olive oil contains calories grams fat no cholesterol seventyseven percent fat olive oil monounsaturated nine percent polyunsaturated fat fourteen percent vegetablederived saturated fat virgin olive oils also contain antioxidants betacarotene vitamin e well phenolic compounds tyrosol hydroxytyrosol extra virgin olive used forthat said not oil cooking low smoke point excellent salads marinating boasts pretty low acid level cooking try extra light product much higher smoke point health benefitsproven protection atherosclerosiseating foods high alphalinolenic acid ala [ found olive canola flaxseed oil ] increase blood levels omega fatty acids ala shown confer large measure protection atherosclerosis part mediterranean diet researchers used products high ala found ala reduced risk dying heart disease first months canola peanut oil also contain large amounts ala similarly cardioprotective presence larger proportion monosaturated fats central cardioprotective properties oil no cholesterol no transfatwhich size best youthis conventional oils available groceries exact product sells ounces [ liter ] bear mind olive oil become rancid store prolonged periods however extend period keeping oil cool dry place preferably dark also dont buy largest containers unless finish within months stored correctly olive oil stay fresh years smaller containers like ounce bottle may costly per volume gallon oil fresh use ultimately [ not affiliated product company ]',\n",
       " 'one people must popcorn go movie many times favorite part movie finally bought movie style popcorn popper didnt like taste microwave popcorn first got popcorn popper went grocery store picked bag popcorn powered popcorn butter flavoring vegetable oil job like microwave popcorn didnt replicate taste movie theater popcorn searched read tons reviews amazon finally decided order brand god first batch blown away taste tastes exactly like movie theater popcorn not better know fresh first ounce packet enough serving person popped packets first time equivalent one huge buckets youd get theater share haha second received box packets thought oil going liquid actually solid first thought received old batch no thats supposed third like packets tell let popper heat minutes slide solid oil contents popper well cornsalt mix time takes minutes popping starts itll pop ton popcorn taste wow popcorn ive looking',\n",
       " 'bought popcorn use whirley popper highly recommended purchase purchased amazon popcorn greattasting eversoslight hint coconut yes extra something taste movietheater corn better popcorn wabash valley farms brand comes whirley popper opinion tastes like kind get movie theater carnival smell fantastic using whirleypop usually get unpopped kernels comfortable get using popper im sure number decrease corn pops nice crispy without greasiness sometimes movie theater popcorn however think popcorn bit salty thus giving stars instead familys taste use seasoning versus using entire packet think got great deal recieved popcorn oil seasoning free shipping couldnt easier dump popper turn crank minor complaint im wondering happened anyone else packets leak little bit nothing major enough notice continue purchase brand great taste ease use updatein retrospect wasnt great deal price gone using popper popcorn quite time rarely get unpopped kernels tried brands well buying bulk popcorn kernels orvil reddenbockers popcorn oil not even compare try save bit money not popcorn not come liking quite pain measuring ingredients sticking great american',\n",
       " 'good price easy use heat popper minutes cut top open pour minutes later movie theater quality popcorn cents pouch wish larger popper great product oz popper coconut oil kind movie theaters use get taste fyi use high burn temp not get burnt taste cooking case wondering since description not state type oil included salt popcorn premixed buy fast delivery',\n",
       " 'love popcorn subscription savings free shipping get subscription products stuff bargain used use th oz kits whirley pop made delicious popcorn every time moved oz bags matinee movie oz popper arrived discount tommy oz bags nearly twice yield oz kits less dollars case thats kit double batch oz popper creates little old maids kettle designed spit corn bottom tray pops oz kit bit big home use unless actually commercial style popper oil based poppers electric stove handle yield kits whirly pop stir crazy would get oz kits commercial style oz popper would totally recommend funny thing oz kits instructions hot air machines say dont use oil kidding coconut oil butter salt give stuff movie theatre taste buying stuff hot air machine plain dumb well using hot air machine popcorn plain dumb thats opinion',\n",
       " 'use popcorn popcorn popper roosevelt popper discount tommy makes best popcorn everyone comes movie night says best popcorn ever tried kinds buy popcorn easy make since everything included one bag cut top dump highly recommend popcorn',\n",
       " 'purchased popcorn machine media room called oz packs popcorn machine purchased sams club popcorn packs not available not finding town went amazon found exactly needed works perfectly machine one thing aware butteroil packet comes solid squeeze machine first opened case thought butteroil old solidified needed look great american popcorn site assure not need send back makes wonderful movie theatre style popcorn',\n",
       " 'second different brand type popcorn purchased didnt like first brand brand good continue purchase',\n",
       " 'lover popcorn course half century planet ive pretty much run gamut variety ways eat delight stove air popper nuking fads faded time greatness amazon found whirley popper ordered popcorn go along great albeit bit expensive discovered great northerns great american popcorn not great american popcorn cheaper price comparison sixounce package ordered larger similarlypackaged whirley pop ounces taste probably although psychologically tasted better better value probably went little overboard thanks special cent shipping time purchased three count cases packages produces whole lotta popcorn not eaten right away still really good week days later great value middle aged people could use little greattasting ruffage systems gotta go feel another batch coming',\n",
       " 'reviews popcorn im surprised not find mention horrible saturated fat content anyone concern cholesterol saturated fat content really needs look closely nutritional guide couldnt find listed website asked email copy wow g saturated fats one packets call servings daily limit saturated fats calorieday person would eat big macs match saturated content popcorn biggest concern company told no plans even offer healthful alternative prepackaged packets like problem entirely oil using coconut oil list packet no cholesterol no trans fats theres conveniently no mention overwhelming amount saturated fats due coconut oil movie theaters finally changed coconut oil canola good oils address major health concern bad press years asked great northern please follow suit not even asking replace oil good oils offer alternative refused tastes good movie theaters cases saturated fats reduced times change coconut good oils love popcorn health concern concerned saturated fats look nutritional guide packets',\n",
       " 'browsing threw snack isle local warehouse store spotted bag kirkland signature cashew clusters almonds pumpkin seeds hmmmm nice ingredients lightly held together candy glue cut little squares well could possibly resist shopping cart went along nicelooking bag trail mix love snacks like theyre tasty satisfy snacking urges yet theyre made nutritious ingredients including protein fiber mention theyre fresh delicious plus limited saturated fat no trans fat not much sugar mmmmm good perfect treat dont eat many gary peterson',\n",
       " 'hard describe taste version mio green thunder originally thunder punch tastes close green apple green koolaid noncarbonated green monster energy drink however definitely better current counterpart black cherry humble opinion syruplike texture green thunder much enjoyable try small amounts clearcolored drinks water sprite sierramist note dig internet find nutrientcaffeine numbers since nutrition facts per servings based percentages however besides zero common facts mio branded calories sugar carbs etc mg sodium heres came caffeine bcomplexcaffeine mg mg less red bull quite premium coffees b niacin daily value mgb pyridoxine daily value mgb cobalamine daily value g mg mixture taurine guarana extract ginseng extract panax side note bvitamin consumption overdose really nonissue counter mixtures abundance system usually urinated quite energy supplements daily value bvitamins hour doesnt come close effects main stream energy supplements drinks effect light homemade cup coffee b vitamins also doesnt add calorie count youre mixing water morning afternoon shifts work furthermore convenient container almost take anywhere make sure start small amounts youre sensitive caffeine bottom line despite price recommend trying buy flavor first like aforementioned described flavors',\n",
       " 'using lots lots bertolli oil long time use raw fully appreciate flavor really pleased see amazon price slightly lower local stores huge disappointment see upon delivery bottle cheap transparent plastic decent quality extra virgin olive oil must glass bottles cans e g carli oil big cans along glass bottles even better dark glass light also deteriorates quality italian italy extra virgin olive oil staple people use lot never seen extra virgin oil sold plastic years ive lived italy could not believe ruined bertolli oil storing cheap plastic taste reflects poor storage not nearly rich taste oil stored glass believe stored long worthless bottle expires year probably bottled months ago oil plastic really not worth price taste find better oils lower price bertolli oil glass bottles unbeatable rich taste tried many many oils canceling subscription going back buying oil local store sells respectable glass bottles google extra virgin olive oil plastic youll find many results advice stay away plastic bottles oils absorb pvcs lot even room temperature unhealthy also affects taste oil people think no big deal cannot notice difference taste matter fact even cannot taste anything different oil deteriorates plastic many foods perfectly fine stored plastic not plastic not oils especially less refined extra virgin ones',\n",
       " 'love coffee tried name brands well generic always come back folgers classic roast perfect medium blend taste rich suberb totally satisfying great morning pick time day coffee getting expensive large containers brands used come oz sizes went ounces price many going new ounce size amazed stores high price coffee folgers coffee amazon amazing deal price quality coffee use subscribe save get three canisters total ounces comes even cheaper two ounce used cost store local store ounce size sale thats great amazon deal review definitely superb folgers coffee though must add also find ounce size user friendly coffee stays fresh longer due smaller size amount coffee canisters rather price always sellers trying rip buyer amazon stock no coffee worth ridiculous prices charge real certain purchase ever reliable amazon getting best coffee unbeatable price love folgers amazon',\n",
       " 'purchased make popcorn saw andrew zimmerns bizarre foods ethiopia episode season three placed small pot lid mediumhigh heat canola oil added sorghum kept kernels moving amazingly actually started popping halfexpected simply burn popped quite nicely sorghum kernels small producing miniature popcorn slightly larger unpopped popcorn kernel popped sorghum heavier fuller taste regular popcorn best no kernel husks end result little fluffy popped sorghum experimented popping different quantities found keeping amount limited works best larger quantities significant number kernels not pop however wasnt bad unpopped sorghum kernels delicious well not hard crunchy unpopped kernels nice toasted flavor lot like corn nuts sorghum one wonder grains used everything making sugar molasses animal feed alcohol biofuel know makes nice popcorn well',\n",
       " 'weve using bread mix year best glutenfree bread mix ive found usually make sweet bread good although would make great savory bread herbs well didnt even think try make pizza crust using mix specifically pizza crust another popular glutenfree brand didnt really like light thick like deep dish without flavor tried pamelas bread mix pizza crust amazing not thick bit chewy like real pizza crust add italian spices optional suggested directions wonderful first decent pizza weve since weve glutenfree',\n",
       " 'past december year old son diagnosed allergic wheat little guy loves bread also allergic dairy searched tried many kinds wheat free bread mixrecipes might eat bites stopped sad face would cry said yucky grainy tasted bad often hid tears cause knew needed strong even ordered bread bakery chef loaf son took one bite thats june checked amazon found product review said moist not grainy desperate ordered box ended search put st loaf dining table son could not stop eating course cried secretly kitchen also ordered cake mix chocolate chip cookies mix cant express thankful see sons bright eyes enjoys bread way like thank people make pamelas products',\n",
       " 'high hopes glutenfree bread mix although many good qualities probably wouldnt buy didnt care flavor made breadmaker rose nicely held shape reasonably well took machine let bread cool cut gluten free bread fall cut hot bread sliced well individual slice spongy soft bread texture actually almost little soft like soft bread might enjoy cut slice put margarine honey expecting tasty bite fresh bread something flavor bothered difficulty enjoying almost every kind glutenfree bread market gluten free long time dont know feel new sorghum craze although yields decent nutritional value good texture similarly bean flour high ratio sorghum neutral flours white rice tapioca etc think flavor negatively impacted prefer subtle mix like bette hagmans four flour blend less sorghum thus gets good qualities flour without negatively impacting flavor toasted bread sandwiches days husband ate without complaint not glutenfree didnt like bread reminded little playdough dont think ill buy entirely subjective opinion aside looking easy glutenfree bread mix machine would recommend try mix trial error help find bread mix suits palate prefer homemade bean flour blends bobs red mill gf bread gluten free pantrys favorite sandwich bread may find mix fits bill perfectly one note reviews listed item actually not specific mix full spectrum pamelas products amazon people like mix people not yet rated item',\n",
       " 'discovered glutenintolerant year ago looking goodtasting wheatfree products ever since primary roadblock bread every single loaf glutenfree bread ive tried beyond disgusting ive health food store health food store havent found single loaf eat without gagging thought hopeless read reviews pamelas amazing wheatfree bread mix decided give shot borrowed sisterinlaws bread machine fired loaf simply put amazed results taste like regular bread no well almost lightyears beyond glutenfree breads hearty resounding yes youve eaten glutenfree gf breads let give comparison holds better premade gf bread still feels like could fall apart easily putting slice toaster helps little chewy side tastes like doesnt salt adding butter really helps kind looks like banana bread compare textures make sure milk onhand makes pretty thirsty eat would say good real bread thank goodness search wheatfree bread amazon sells nearly half price local health food stores youre glutenintolerant celiac family would recommend picking bread machine makes one loaf automatically follow direction package loaf came perfectly simple dumping ingredients machine making sure settings right hitting button easy even caveman could put bread machine work pm night woke next morning freshlybaked glutenfree bread edible bread awesome used older zojirushi machine newer models like breadman actually glutenfree setting hope decenttasting bread us glutenintolerant people thank pamelas products',\n",
       " 'gluten free bread mixes often disappointing come dry dont good flavor fall apart used sandwiches pamelas bread mix tastes good good texture doesnt toasted enjoyed makes great sandwiches several variations offered bag make nice variety breads husband especially favors cinnamon bread breakfast sandwich bread really enjoys plain bread recipe cup added sesame seeds batter extra sprinkled top since found mix stopped experimenting various gf recipes collected easy make',\n",
       " 'using mix months makes types incredibly good breads throw sorts things nuts cranberries raisons etc variations added ground almonds peanuts hearty filling bread purchased tried mixes many inedible treat find mix set bread maker plain white bread not use gluten free setting since white bread setting gives best bread',\n",
       " 'searching goodtasting wheatfree bread mix since found cannot wheat far best tried make bread maker also cannot dairy eggs use energ egg replacer eggs worth works great friends family eat regular bread prefer pamelas bread wheat',\n",
       " 'little disapointed product allergic dairy wheat looked ingreadents say say wheat free say may dairy got package said may contain dairy',\n",
       " 'typically get brownie crunch flavor happened grab one white chocolate chip bars accident good accident really good actually think like better brownie crunch usually dont like anything white chocolate overly sweet isnt typically buy bars whole foods quite expensive may start buying amazon downside cant pick choose youd like box amazon goodthe ingredients seem pretty good well nothing screams scary lab created chemical got good amount fiber lots protein no added sugar fake sugar big pet peeve mine tastes good comparison healthy protein bars taste like chalk smell like feet badit calories carbs would like see size bar calories whopping grams carbs',\n",
       " 'white chocolate moist best tasting flavor mine husbands opinion least ordering flavor celiac disease im type diabetic also model las vegas showgirl eat healthy stay fit look great bars best helping least gluten free best thing absolutely balanced husband picky doctor likes past favorite zone bars thank think products making bars',\n",
       " 'im big fan nutrition bars convenient snack meal substitute pinch bar delicious first thinkthin bar found interesting reasons bar enrobed thin layer looks like white chocolate bar chewy soft possesses cakelike texture enjoyed right amount sweetness flavor profile quite simple straightforward nothing spicy tricky thing disliked bar slightly synthetictasting white chocolate flavor not terrible wouldnt eat would definitely interested trying flavors get chance',\n",
       " 'husband really enjoys baking not mixed bisquick mayo together make biscuits kind traditional kind baking flour behaves well doesnt leave floury aftertaste get cheaper flours weve impressed',\n",
       " 'not buck deal got march bucks actually much cheaper stores purchased oz pack box close paying stores went free shipping bought two im rural area long trip store go month deal meant didnt look several stores find best price however bucks box no deal gave stars like raisin bran could not see made no complaints mexico use dates mid price right happy camper would not purchase price reasons possibly fathom side note check prices carefully food stores find larger boxes often per ounce smaller boxes one store store brand bag per ounce kelloggs',\n",
       " 'no longer consider buying product kelloggs following reasonkelloggs continues include gmo genetically modified organism ingredients products refuses include information product labels no long term studied prove gmos safe either human animal consumption kelloggs position gmos deemed safe fda not required identified consumers however michael taylor head fda former attorney monsanto chemical company responsible development wide spread use gmos american food supply illustrating conflict interest prevents fda acting responsibly interesting note countries around world banned gmos food supply together consumers united states not even right informed gmos present products buy kelloggs unacceptable choice long refuse fully disclose true nature ingredients consumers',\n",
       " 'kelloggs raisin bran contains unlabeled genetically modified ingredients kellogg doesnt want know contributed propaganda campaign california try trick people voting prop would require genetically engineered foods labeled raisin bran contains gmo bt corn gmo sugar derived gmo sugar beet developed patented chemical companies gmo bt corn epa registered pesticide genetically engineered forcing foreign gene makes pesticide plant dna every cell plant pesticide factory corn worms bite stomachs explode sugar corn foreign genes herbicide resistance forced dna plants made resist high levels roundup active chemical ingredient roundup chemical called glyphosate linked birth defects inflammatory bowel disease cancer gmos snuck food supply without telling us countries around world require gmos labeled including europe china russia japan australia brazil india us currently no labeling law fda not require long term peer reviewed studies determine gmos really safe let chemical companies patent foods decide fda protect us wrong google michael taylor food safety czar youll see hes setting food policy suits uses revolving door go back forth fda largest chemical company patenting trying monopolize food supply people eating stuff wouldnt feed pets family boycotting kelloggs products',\n",
       " 'husband read box raisin bran made mexico shocked dont feel confident quality made usa cancelled subscription',\n",
       " 'tried great high sams club sure hope amazon gets price right cause sure conv',\n",
       " 'love kcups unfortunately cost much unless drive costco amazon please set autoship program asap',\n",
       " 'love great rich taste folgers colombian coffee kcups packaging make expensive continue purchase skip expensive graphics printing costs package plain kcups save everyone big cost sell',\n",
       " 'one biggest frustrations weight watchers always problem finding good chips eat baked ones undeniably different regular fried chips addition ive never able find baked chip came salt vinegar flavor favorite type chip meant whenever craving particular flavor id eat regular fried kind picked oversize bag barbecue flavor pop chips whim costco id heard curious theyre like id never able find area much surprise thin husband totally addicted barbecue chips loved pretty much ate whole bag id tasted couple thought barbecue flavor good decided go ahead order individual bags amazon barbecue sea salt vinegar definitely worth money want emphasize however not fooled believing regular old fried chips taste texture something like cross rice cakes chips say rice cakes something puffed look rice cakes still good salt vinegar nice strong way like portion size pretty generous fellow weight watchers points per bag definitely make satisfying filling snack side sandwich would definitely recommend anyone sick limited flavors baked chips would like something comes wider variety exotic flavors im planning trying parmesan garlic next',\n",
       " 'want start saying thought first bag calories grams fat no saturated trans every chips going taste like crap must say not wrong favorite bbq chip market today light cannot taste fat grease eating thats arent baked fried popped name suggests chips easy dip well fantastic product',\n",
       " 'potato chips taste much better baked chips theyre points youre weight watchers theyre good snack afternoon',\n",
       " ...]"
      ]
     },
     "execution_count": 21,
     "metadata": {},
     "output_type": "execute_result"
    }
   ],
   "source": [
    "\n",
    "clean_text = normalize_corpus(df.Text)\n",
    "clean_text\n"
   ]
  },
  {
   "cell_type": "code",
   "execution_count": 22,
   "metadata": {},
   "outputs": [],
   "source": [
    "from sklearn.feature_extraction.text import CountVectorizer\n",
    "\n",
    "vectorizer = CountVectorizer()  #Convert a collection of text documents to a matrix of token counts\n",
    "X = vectorizer.fit_transform(clean_text) # a list of integers transformed from all text\n",
    "y = df.Score\n"
   ]
  },
  {
   "cell_type": "code",
   "execution_count": 23,
   "metadata": {},
   "outputs": [],
   "source": [
    "X_train, X_test, y_train, y_test = train_test_split(X, y, test_size= 0.30)"
   ]
  },
  {
   "cell_type": "code",
   "execution_count": 24,
   "metadata": {},
   "outputs": [
    {
     "data": {
      "text/plain": [
       "<21437x44755 sparse matrix of type '<class 'numpy.int64'>'\n",
       "\twith 1251129 stored elements in Compressed Sparse Row format>"
      ]
     },
     "execution_count": 24,
     "metadata": {},
     "output_type": "execute_result"
    }
   ],
   "source": [
    "X"
   ]
  },
  {
   "cell_type": "code",
   "execution_count": 25,
   "metadata": {},
   "outputs": [],
   "source": [
    "doc_sum = X_train.toarray().sum(axis = 0) # The number of times each word is occuring over all the documents.\n",
    "len_text = len(doc_sum) # number of unique words in all documents"
   ]
  },
  {
   "cell_type": "code",
   "execution_count": 26,
   "metadata": {},
   "outputs": [
    {
     "data": {
      "text/plain": [
       "Text(0.5,1,'% of Words That Appear In <= X Documents, N = 80')"
      ]
     },
     "execution_count": 26,
     "metadata": {},
     "output_type": "execute_result"
    }
   ],
   "source": [
    "import matplotlib.pyplot as plt\n",
    "N = 80 \n",
    "x_ax = np.arange(0,len_text)[:N] # [:N] changes this to only run for x_i values from 0 to 100 \n",
    "y_ax = [sum(doc_sum <= i)/len_text for i in x_ax]# Determines the percentage values for y_i \n",
    "\n",
    "plt.plot(x_ax, y_ax) \n",
    "plt.xlabel('number of docs') \n",
    "plt.ylabel('% of words') \n",
    "plt.title('% of Words That Appear In <= X Documents, N = 80')\n"
   ]
  },
  {
   "cell_type": "code",
   "execution_count": 27,
   "metadata": {},
   "outputs": [],
   "source": [
    "#sklearn.feature_extraction.text.TfidfVectorizer¶ http://scikit-learn.org/stable/modules/generated/sklearn.feature_extraction.text.TfidfVectorizer.html"
   ]
  },
  {
   "cell_type": "code",
   "execution_count": 28,
   "metadata": {},
   "outputs": [
    {
     "data": {
      "text/plain": [
       "(21437, 44755)"
      ]
     },
     "execution_count": 28,
     "metadata": {},
     "output_type": "execute_result"
    }
   ],
   "source": [
    "X.shape"
   ]
  },
  {
   "cell_type": "code",
   "execution_count": 29,
   "metadata": {},
   "outputs": [
    {
     "data": {
      "text/plain": [
       "(15005, 44755)"
      ]
     },
     "execution_count": 29,
     "metadata": {},
     "output_type": "execute_result"
    }
   ],
   "source": [
    "X_train.shape"
   ]
  },
  {
   "cell_type": "code",
   "execution_count": 30,
   "metadata": {},
   "outputs": [],
   "source": [
    "train_docs, test_docs, y_train, y_test = train_test_split(np.array(clean_text), y, test_size= 0.30)"
   ]
  },
  {
   "cell_type": "code",
   "execution_count": 31,
   "metadata": {},
   "outputs": [],
   "source": [
    "from sklearn.feature_extraction.text import TfidfVectorizer\n",
    "\n",
    "tv = TfidfVectorizer(min_df=5, max_df=1.0, use_idf=True)\n",
    "X_train = tv.fit_transform(train_docs)\n",
    "X_test = tv.transform(test_docs)"
   ]
  },
  {
   "cell_type": "code",
   "execution_count": 32,
   "metadata": {},
   "outputs": [
    {
     "name": "stdout",
     "output_type": "stream",
     "text": [
      "Accuracy on training set: 0.6767744085304899\n",
      "Accuracy on testing set:  0.6559390547263682\n"
     ]
    }
   ],
   "source": [
    "# Multinomial Naive Bayes\n",
    "from sklearn.naive_bayes import MultinomialNB\n",
    "clf_nb = MultinomialNB().fit(X_train, y_train)\n",
    "# MultinomialNB() is for classification with dicrete features. In this case, freshness and text in integers.\n",
    "print ('Accuracy on training set: {}'.format(clf_nb.score(X_train, y_train)))\n",
    "print ('Accuracy on testing set:  {}'.format(clf_nb.score(X_test, y_test)))"
   ]
  },
  {
   "cell_type": "code",
   "execution_count": 33,
   "metadata": {},
   "outputs": [
    {
     "data": {
      "text/plain": [
       "array([5, 5, 5, ..., 5, 5, 5])"
      ]
     },
     "execution_count": 33,
     "metadata": {},
     "output_type": "execute_result"
    }
   ],
   "source": [
    "y_pred = clf_nb.predict(X_test)\n",
    "y_pred"
   ]
  },
  {
   "cell_type": "code",
   "execution_count": 34,
   "metadata": {},
   "outputs": [
    {
     "name": "stdout",
     "output_type": "stream",
     "text": [
      "Model Performance metrics:\n",
      "------------------------------\n",
      "Accuracy: 0.6559\n",
      "Precision: 0.7426\n",
      "Recall: 0.6559\n",
      "F1 Score: 0.5752\n",
      "\n",
      "Model Classification report:\n",
      "------------------------------\n",
      "             precision    recall  f1-score   support\n",
      "\n",
      "          1       0.76      0.63      0.69      1873\n",
      "          2       0.92      0.05      0.09       474\n",
      "          3       1.00      0.00      0.00       480\n",
      "          4       1.00      0.03      0.07       534\n",
      "          5       0.62      0.97      0.76      3071\n",
      "\n",
      "avg / total       0.74      0.66      0.58      6432\n",
      "\n",
      "\n",
      "Prediction Confusion Matrix:\n",
      "------------------------------\n",
      "          Predicted:                 \n",
      "                   1   2  3   4     5\n",
      "Actual: 1       1189   0  0   0   684\n",
      "        2        138  22  0   0   314\n",
      "        3        115   0  1   0   364\n",
      "        4         39   0  0  18   477\n",
      "        5         80   2  0   0  2989\n"
     ]
    }
   ],
   "source": [
    "display_model_performance_metrics(true_labels= y_test, predicted_labels= y_pred, \n",
    "                                      classes=[1,2,3,4,5])"
   ]
  },
  {
   "cell_type": "code",
   "execution_count": 35,
   "metadata": {},
   "outputs": [],
   "source": [
    "# multiple logistics regression \n",
    "\n",
    "clf_log = LogisticRegression(random_state= 1, max_iter=2000, \n",
    "                                multi_class='ovr', \n",
    "                                #n_jobs=4, \n",
    "                                solver='newton-cg',penalty='l2',\n",
    "                                class_weight='balanced'\n",
    "                                )"
   ]
  },
  {
   "cell_type": "code",
   "execution_count": 36,
   "metadata": {},
   "outputs": [
    {
     "data": {
      "text/plain": [
       "LogisticRegression(C=1.0, class_weight='balanced', dual=False,\n",
       "          fit_intercept=True, intercept_scaling=1, max_iter=2000,\n",
       "          multi_class='ovr', n_jobs=1, penalty='l2', random_state=1,\n",
       "          solver='newton-cg', tol=0.0001, verbose=0, warm_start=False)"
      ]
     },
     "execution_count": 36,
     "metadata": {},
     "output_type": "execute_result"
    }
   ],
   "source": [
    "clf_log.fit(X_train, y_train)"
   ]
  },
  {
   "cell_type": "code",
   "execution_count": 37,
   "metadata": {},
   "outputs": [
    {
     "data": {
      "text/plain": [
       "(21437, 44755)"
      ]
     },
     "execution_count": 37,
     "metadata": {},
     "output_type": "execute_result"
    }
   ],
   "source": [
    "X.shape"
   ]
  },
  {
   "cell_type": "code",
   "execution_count": 38,
   "metadata": {},
   "outputs": [],
   "source": [
    "y_pred = clf_log.predict(X_test)"
   ]
  },
  {
   "cell_type": "code",
   "execution_count": 39,
   "metadata": {},
   "outputs": [
    {
     "name": "stdout",
     "output_type": "stream",
     "text": [
      "Accuracy on training set: 0.8740419860046651\n",
      "Accuracy on testing set:  0.7189054726368159\n"
     ]
    }
   ],
   "source": [
    "print ('Accuracy on training set: {}'.format(clf_log.score(X_train, y_train)))\n",
    "print ('Accuracy on testing set:  {}'.format(clf_log.score(X_test, y_test)))"
   ]
  },
  {
   "cell_type": "code",
   "execution_count": 40,
   "metadata": {},
   "outputs": [
    {
     "name": "stdout",
     "output_type": "stream",
     "text": [
      "Model Performance metrics:\n",
      "------------------------------\n",
      "Accuracy: 0.7189\n",
      "Precision: 0.7207\n",
      "Recall: 0.7189\n",
      "F1 Score: 0.7197\n",
      "\n",
      "Model Classification report:\n",
      "------------------------------\n",
      "             precision    recall  f1-score   support\n",
      "\n",
      "          1       0.77      0.79      0.78      1873\n",
      "          2       0.42      0.43      0.42       474\n",
      "          3       0.42      0.42      0.42       480\n",
      "          4       0.39      0.39      0.39       534\n",
      "          5       0.84      0.82      0.83      3071\n",
      "\n",
      "avg / total       0.72      0.72      0.72      6432\n",
      "\n",
      "\n",
      "Prediction Confusion Matrix:\n",
      "------------------------------\n",
      "          Predicted:                     \n",
      "                   1    2    3    4     5\n",
      "Actual: 1       1478  130   83   44   138\n",
      "        2        127  206   59   31    51\n",
      "        3         99   50  203   50    78\n",
      "        4         51   29   43  206   205\n",
      "        5        167   81   98  194  2531\n"
     ]
    }
   ],
   "source": [
    "display_model_performance_metrics(true_labels= y_test, predicted_labels= y_pred, \n",
    "                                      classes=[1,2,3,4,5])"
   ]
  },
  {
   "cell_type": "markdown",
   "metadata": {},
   "source": [
    "Model training: Naive bayes, logistic regression, SVM, decision tree, random forest, gradient boosting"
   ]
  },
  {
   "cell_type": "code",
   "execution_count": 41,
   "metadata": {},
   "outputs": [],
   "source": [
    "#SVM\n",
    "import numpy as np\n",
    "from sklearn.svm import LinearSVC\n",
    "import matplotlib.pyplot as plt\n",
    "\n",
    "clf_svc = LinearSVC(C=1)\n",
    "clf_svc_model = clf_svc.fit(X_train, y_train)\n",
    "\n",
    "y_c = clf_svc_model.predict(X_test)"
   ]
  },
  {
   "cell_type": "code",
   "execution_count": 42,
   "metadata": {},
   "outputs": [
    {
     "name": "stdout",
     "output_type": "stream",
     "text": [
      "Accuracy on training set: 0.9514828390536488\n",
      "Accuracy on testing set:  0.7545087064676617\n"
     ]
    }
   ],
   "source": [
    "print ('Accuracy on training set: {}'.format(clf_svc_model.score(X_train, y_train)))\n",
    "print ('Accuracy on testing set:  {}'.format(clf_svc_model.score(X_test, y_test)))"
   ]
  },
  {
   "cell_type": "code",
   "execution_count": 43,
   "metadata": {},
   "outputs": [
    {
     "name": "stdout",
     "output_type": "stream",
     "text": [
      "Model Performance metrics:\n",
      "------------------------------\n",
      "Accuracy: 0.7545\n",
      "Precision: 0.7354\n",
      "Recall: 0.7545\n",
      "F1 Score: 0.7376\n",
      "\n",
      "Model Classification report:\n",
      "------------------------------\n",
      "             precision    recall  f1-score   support\n",
      "\n",
      "          1       0.76      0.83      0.79      1873\n",
      "          2       0.57      0.40      0.47       474\n",
      "          3       0.59      0.36      0.45       480\n",
      "          4       0.54      0.31      0.40       534\n",
      "          5       0.80      0.90      0.85      3071\n",
      "\n",
      "avg / total       0.74      0.75      0.74      6432\n",
      "\n",
      "\n",
      "Prediction Confusion Matrix:\n",
      "------------------------------\n",
      "          Predicted:                     \n",
      "                   1    2    3    4     5\n",
      "Actual: 1       1549   65   37   24   198\n",
      "        2        160  190   28   12    84\n",
      "        3        123   26  175   33   123\n",
      "        4         62   15   21  168   268\n",
      "        5        152   39   36   73  2771\n"
     ]
    }
   ],
   "source": [
    "display_model_performance_metrics(true_labels= y_test, predicted_labels= y_c, \n",
    "                                      classes=[1,2,3,4,5])"
   ]
  },
  {
   "cell_type": "code",
   "execution_count": 44,
   "metadata": {},
   "outputs": [
    {
     "data": {
      "text/plain": [
       "DecisionTreeClassifier(class_weight=None, criterion='gini', max_depth=5,\n",
       "            max_features=None, max_leaf_nodes=None,\n",
       "            min_impurity_decrease=0.0, min_impurity_split=None,\n",
       "            min_samples_leaf=1, min_samples_split=2,\n",
       "            min_weight_fraction_leaf=0.0, presort=False, random_state=None,\n",
       "            splitter='best')"
      ]
     },
     "execution_count": 44,
     "metadata": {},
     "output_type": "execute_result"
    }
   ],
   "source": [
    "#decision tree\n",
    "import numpy as np\n",
    "from sklearn.tree import DecisionTreeClassifier\n",
    "import matplotlib.pyplot as plt\n",
    "\n",
    "# Fit regression model\n",
    "clf_1 = DecisionTreeClassifier(max_depth=68)\n",
    "clf_2 = DecisionTreeClassifier(max_depth=5)\n",
    "clf_1.fit(X_train, y_train)\n",
    "clf_2.fit(X_train, y_train)"
   ]
  },
  {
   "cell_type": "code",
   "execution_count": 45,
   "metadata": {},
   "outputs": [
    {
     "name": "stdout",
     "output_type": "stream",
     "text": [
      "Accuracy on training set: 0.9617460846384539\n",
      "Accuracy on testing set:  0.6764614427860697\n"
     ]
    }
   ],
   "source": [
    "print ('Accuracy on training set: {}'.format(clf_1.score(X_train, y_train)))\n",
    "print ('Accuracy on testing set:  {}'.format(clf_1.score(X_test, y_test)))"
   ]
  },
  {
   "cell_type": "code",
   "execution_count": 46,
   "metadata": {},
   "outputs": [
    {
     "name": "stdout",
     "output_type": "stream",
     "text": [
      "Accuracy on training set: 0.5206264578473841\n",
      "Accuracy on testing set:  0.5073072139303483\n"
     ]
    }
   ],
   "source": [
    "print ('Accuracy on training set: {}'.format(clf_2.score(X_train, y_train)))\n",
    "print ('Accuracy on testing set:  {}'.format(clf_2.score(X_test, y_test)))"
   ]
  },
  {
   "cell_type": "code",
   "execution_count": 47,
   "metadata": {},
   "outputs": [],
   "source": [
    "y_1 = clf_1.predict(X_test)\n",
    "y_2 = clf_2.predict(X_test)"
   ]
  },
  {
   "cell_type": "code",
   "execution_count": 48,
   "metadata": {},
   "outputs": [
    {
     "name": "stdout",
     "output_type": "stream",
     "text": [
      "Model Performance metrics:\n",
      "------------------------------\n",
      "Accuracy: 0.6765\n",
      "Precision: 0.6641\n",
      "Recall: 0.6765\n",
      "F1 Score: 0.6672\n",
      "\n",
      "Model Classification report:\n",
      "------------------------------\n",
      "             precision    recall  f1-score   support\n",
      "\n",
      "          1       0.66      0.73      0.70      1873\n",
      "          2       0.50      0.40      0.44       474\n",
      "          3       0.51      0.36      0.42       480\n",
      "          4       0.48      0.35      0.41       534\n",
      "          5       0.75      0.79      0.77      3071\n",
      "\n",
      "avg / total       0.66      0.68      0.67      6432\n",
      "\n",
      "\n",
      "Prediction Confusion Matrix:\n",
      "------------------------------\n",
      "          Predicted:                     \n",
      "                   1    2    3    4     5\n",
      "Actual: 1       1366   77   45   44   341\n",
      "        2        124  188   18   24   120\n",
      "        3        114   19  172   24   151\n",
      "        4         88   20   17  189   220\n",
      "        5        364   75   83  113  2436\n"
     ]
    }
   ],
   "source": [
    "display_model_performance_metrics(true_labels= y_test, predicted_labels= y_1, \n",
    "                                      classes=[1,2,3,4,5])\n"
   ]
  },
  {
   "cell_type": "code",
   "execution_count": 49,
   "metadata": {},
   "outputs": [
    {
     "name": "stdout",
     "output_type": "stream",
     "text": [
      "Model Performance metrics:\n",
      "------------------------------\n",
      "Accuracy: 0.5073\n",
      "Precision: 0.5406\n",
      "Recall: 0.5073\n",
      "F1 Score: 0.3794\n",
      "\n",
      "Model Classification report:\n",
      "------------------------------\n",
      "             precision    recall  f1-score   support\n",
      "\n",
      "          1       0.72      0.12      0.20      1873\n",
      "          2       0.62      0.01      0.02       474\n",
      "          3       0.00      0.00      0.00       480\n",
      "          4       0.59      0.03      0.06       534\n",
      "          5       0.50      0.99      0.66      3071\n",
      "\n",
      "avg / total       0.54      0.51      0.38      6432\n",
      "\n",
      "\n",
      "Prediction Confusion Matrix:\n",
      "------------------------------\n",
      "          Predicted:                \n",
      "                   1  2  3   4     5\n",
      "Actual: 1        216  2  0   4  1651\n",
      "        2         24  5  0   0   445\n",
      "        3         16  1  0   0   463\n",
      "        4          8  0  0  16   510\n",
      "        5         38  0  0   7  3026\n"
     ]
    }
   ],
   "source": [
    "display_model_performance_metrics(true_labels= y_test, predicted_labels= y_2, \n",
    "                                      classes=[1,2,3,4,5])"
   ]
  },
  {
   "cell_type": "code",
   "execution_count": 50,
   "metadata": {},
   "outputs": [],
   "source": [
    "# Random Forests\n",
    "from sklearn.ensemble import RandomForestClassifier\n",
    "from sklearn.datasets import make_regression\n",
    "import numpy as np\n",
    "\n",
    "clf_rf = RandomForestClassifier(random_state=1)\n",
    "clf_rf.fit(X_train, y_train)\n",
    "\n",
    "feature_names = tv.get_feature_names()\n",
    "\n",
    "clf_rf_feature_importances = clf_rf.feature_importances_\n",
    "clf_rf_feature_names, clf_rf_feature_scores = zip(*sorted(zip(feature_names, clf_rf_feature_importances), \n",
    "                                                          key=lambda x: -x[1]))\n"
   ]
  },
  {
   "cell_type": "code",
   "execution_count": 51,
   "metadata": {},
   "outputs": [
    {
     "data": {
      "image/png": "[encoded data removed]",
      "text/plain": [
       "<Figure size 432x288 with 1 Axes>"
      ]
     },
     "metadata": {},
     "output_type": "display_data"
    }
   ],
   "source": [
    "import matplotlib.pyplot as plt\n",
    "#y_position = list(range(len(clf_rf_feature_names)))\n",
    "plt.barh(clf_rf_feature_names[:20], clf_rf_feature_scores[:20])\n",
    "#plt.yticks(clf_rf_feature_names, y_position)\n",
    "plt.xlabel('Relative Importance Score in 100%')\n",
    "plt.ylabel('Target Variable')\n",
    "t = plt.title('Feature Importances for Random Forest')"
   ]
  },
  {
   "cell_type": "code",
   "execution_count": 52,
   "metadata": {},
   "outputs": [],
   "source": [
    "y_pred = clf_rf.predict(X_test)"
   ]
  },
  {
   "cell_type": "code",
   "execution_count": 53,
   "metadata": {},
   "outputs": [
    {
     "name": "stdout",
     "output_type": "stream",
     "text": [
      "Accuracy on training set: 0.9906031322892369\n",
      "Accuracy on testing set:  0.7444029850746269\n"
     ]
    }
   ],
   "source": [
    "print ('Accuracy on training set: {}'.format(clf_rf.score(X_train, y_train)))\n",
    "print ('Accuracy on testing set:  {}'.format(clf_rf.score(X_test, y_test)))"
   ]
  },
  {
   "cell_type": "code",
   "execution_count": 54,
   "metadata": {},
   "outputs": [
    {
     "name": "stdout",
     "output_type": "stream",
     "text": [
      "Model Performance metrics:\n",
      "------------------------------\n",
      "Accuracy: 0.7444\n",
      "Precision: 0.7738\n",
      "Recall: 0.7444\n",
      "F1 Score: 0.7191\n",
      "\n",
      "Model Classification report:\n",
      "------------------------------\n",
      "             precision    recall  f1-score   support\n",
      "\n",
      "          1       0.72      0.79      0.75      1873\n",
      "          2       0.92      0.35      0.51       474\n",
      "          3       0.90      0.31      0.46       480\n",
      "          4       0.95      0.30      0.45       534\n",
      "          5       0.73      0.92      0.82      3071\n",
      "\n",
      "avg / total       0.77      0.74      0.72      6432\n",
      "\n",
      "\n",
      "Prediction Confusion Matrix:\n",
      "------------------------------\n",
      "          Predicted:                     \n",
      "                   1    2    3    4     5\n",
      "Actual: 1       1477    4    6    3   383\n",
      "        2        144  166    0    1   163\n",
      "        3        141    1  149    1   188\n",
      "        4         77    4    1  159   293\n",
      "        5        216    5   10    3  2837\n"
     ]
    }
   ],
   "source": [
    "display_model_performance_metrics(true_labels= y_test, predicted_labels= y_pred, \n",
    "                                      classes=[1,2,3,4,5])"
   ]
  },
  {
   "cell_type": "code",
   "execution_count": 55,
   "metadata": {},
   "outputs": [],
   "source": [
    "# feature importance, sklearn.linear_model.SGDClassifier after PCA only for svc\n",
    "#http://scikit-learn.org/stable/modules/generated/sklearn.linear_model.SGDClassifier.html"
   ]
  },
  {
   "cell_type": "code",
   "execution_count": 56,
   "metadata": {},
   "outputs": [],
   "source": [
    "# Gradient Boosting\n",
    "import numpy as np\n",
    "import matplotlib.pyplot as plt\n",
    "\n",
    "from sklearn import ensemble\n",
    "from sklearn import datasets\n",
    "from sklearn.utils import shuffle\n",
    "from sklearn.metrics import mean_squared_error\n",
    "from sklearn.ensemble import GradientBoostingClassifier\n",
    "\n",
    "params = {'n_estimators':100, 'max_depth': None, 'min_samples_split': 2,\n",
    "          'learning_rate': 0.01, 'loss': 'ls'}\n",
    "\n",
    "params = {'n_estimators':100}\n",
    "\n",
    "clf_gb = ensemble.GradientBoostingClassifier(**params)\n",
    "\n",
    "clf_gb.fit(X_train, y_train)\n",
    "\n",
    "feature_names = tv.get_feature_names()\n",
    "\n",
    "clf_gb_feature_importances = clf_gb.feature_importances_\n",
    "clf_gb_feature_names, clf_gb_feature_scores = zip(*sorted(zip(feature_names, clf_gb_feature_importances), \n",
    "                                                          key=lambda x: - x[1]))\n"
   ]
  },
  {
   "cell_type": "code",
   "execution_count": 57,
   "metadata": {},
   "outputs": [
    {
     "data": {
      "image/png": "[encoded data removed]",
      "text/plain": [
       "<Figure size 432x288 with 1 Axes>"
      ]
     },
     "metadata": {},
     "output_type": "display_data"
    }
   ],
   "source": [
    "#y_position = list(range(len(clf_rf_feature_names)))\n",
    "plt.barh(clf_gb_feature_names[:20], clf_gb_feature_scores[:20])\n",
    "#plt.yticks(clf_rf_feature_names, y_position)\n",
    "plt.xlabel('Relative Importance Score in 100%')\n",
    "plt.ylabel('Target Variable')\n",
    "t = plt.title('Feature Importances for Gradient Boosting')"
   ]
  },
  {
   "cell_type": "code",
   "execution_count": 58,
   "metadata": {},
   "outputs": [],
   "source": [
    "y_pred = clf_gb.predict(X_test)"
   ]
  },
  {
   "cell_type": "code",
   "execution_count": 59,
   "metadata": {},
   "outputs": [
    {
     "name": "stdout",
     "output_type": "stream",
     "text": [
      "Accuracy on training set: 0.7347550816394535\n",
      "Accuracy on testing set:  0.6935634328358209\n"
     ]
    }
   ],
   "source": [
    "print ('Accuracy on training set: {}'.format(clf_gb.score(X_train, y_train)))\n",
    "print ('Accuracy on testing set:  {}'.format(clf_gb.score(X_test, y_test)))"
   ]
  },
  {
   "cell_type": "code",
   "execution_count": 60,
   "metadata": {},
   "outputs": [
    {
     "name": "stdout",
     "output_type": "stream",
     "text": [
      "Model Performance metrics:\n",
      "------------------------------\n",
      "Accuracy: 0.6936\n",
      "Precision: 0.722\n",
      "Recall: 0.6936\n",
      "F1 Score: 0.6455\n",
      "\n",
      "Model Classification report:\n",
      "------------------------------\n",
      "             precision    recall  f1-score   support\n",
      "\n",
      "          1       0.72      0.69      0.71      1873\n",
      "          2       0.89      0.17      0.29       474\n",
      "          3       0.82      0.15      0.26       480\n",
      "          4       0.76      0.17      0.28       534\n",
      "          5       0.67      0.95      0.79      3071\n",
      "\n",
      "avg / total       0.72      0.69      0.65      6432\n",
      "\n",
      "\n",
      "Prediction Confusion Matrix:\n",
      "------------------------------\n",
      "          Predicted:                  \n",
      "                   1   2   3   4     5\n",
      "Actual: 1       1301   4   6   4   558\n",
      "        2        173  81   2   4   214\n",
      "        3        136   2  73   8   261\n",
      "        4         54   2   0  90   388\n",
      "        5        133   2   8  12  2916\n"
     ]
    }
   ],
   "source": [
    "display_model_performance_metrics(true_labels= y_test, predicted_labels= y_pred, \n",
    "                                      classes=[1,2,3,4,5])"
   ]
  },
  {
   "cell_type": "code",
   "execution_count": 61,
   "metadata": {},
   "outputs": [],
   "source": [
    "# SGDC classifier\n",
    "from sklearn import linear_model\n",
    "\n",
    "clf_sgdc = linear_model.SGDClassifier()\n",
    "clf_sgdc.fit(X_train, y_train)\n",
    "y_pred = clf_sgdc.predict(X_test)\n"
   ]
  },
  {
   "cell_type": "code",
   "execution_count": 62,
   "metadata": {},
   "outputs": [
    {
     "name": "stdout",
     "output_type": "stream",
     "text": [
      "Accuracy on training set: 0.8381872709096968\n",
      "Accuracy on testing set:  0.7476679104477612\n"
     ]
    }
   ],
   "source": [
    "print ('Accuracy on training set: {}'.format(clf_sgdc.score(X_train, y_train)))\n",
    "print ('Accuracy on testing set:  {}'.format(clf_sgdc.score(X_test, y_test)))"
   ]
  },
  {
   "cell_type": "code",
   "execution_count": 63,
   "metadata": {},
   "outputs": [
    {
     "name": "stdout",
     "output_type": "stream",
     "text": [
      "Model Performance metrics:\n",
      "------------------------------\n",
      "Accuracy: 0.7477\n",
      "Precision: 0.7416\n",
      "Recall: 0.7477\n",
      "F1 Score: 0.7114\n",
      "\n",
      "Model Classification report:\n",
      "------------------------------\n",
      "             precision    recall  f1-score   support\n",
      "\n",
      "          1       0.72      0.85      0.78      1873\n",
      "          2       0.76      0.26      0.38       474\n",
      "          3       0.67      0.25      0.36       480\n",
      "          4       0.71      0.21      0.32       534\n",
      "          5       0.77      0.93      0.84      3071\n",
      "\n",
      "avg / total       0.74      0.75      0.71      6432\n",
      "\n",
      "\n",
      "Prediction Confusion Matrix:\n",
      "------------------------------\n",
      "          Predicted:                     \n",
      "                   1    2    3    4     5\n",
      "Actual: 1       1588   16   14    8   247\n",
      "        2        211  122   17    7   117\n",
      "        3        161   10  118   13   178\n",
      "        4         69    4   15  111   335\n",
      "        5        163    8   12   18  2870\n"
     ]
    }
   ],
   "source": [
    "display_model_performance_metrics(true_labels= y_test, predicted_labels= y_pred, \n",
    "                                      classes=[1,2,3,4,5])"
   ]
  },
  {
   "cell_type": "code",
   "execution_count": 64,
   "metadata": {},
   "outputs": [],
   "source": [
    "# hyperparameter tuning linear svc, random forests, and SGDClassifier"
   ]
  },
  {
   "cell_type": "code",
   "execution_count": 65,
   "metadata": {},
   "outputs": [],
   "source": [
    "# LinearSVC\n",
    "from sklearn.model_selection import GridSearchCV\n",
    "\n",
    "svc_params_grid = {\"C\": [0.001, 0.01, 0.1, 1, 10, 100, 1000]}\n",
    "\n",
    "grid_cv_svc = GridSearchCV(clf_svc, svc_params_grid, n_jobs=4, cv=5, return_train_score=True)"
   ]
  },
  {
   "cell_type": "code",
   "execution_count": 66,
   "metadata": {},
   "outputs": [
    {
     "data": {
      "text/plain": [
       "LinearSVC(C=1, class_weight=None, dual=True, fit_intercept=True,\n",
       "     intercept_scaling=1, loss='squared_hinge', max_iter=1000,\n",
       "     multi_class='ovr', penalty='l2', random_state=None, tol=0.0001,\n",
       "     verbose=0)"
      ]
     },
     "execution_count": 66,
     "metadata": {},
     "output_type": "execute_result"
    }
   ],
   "source": [
    "clf_svc"
   ]
  },
  {
   "cell_type": "code",
   "execution_count": 67,
   "metadata": {},
   "outputs": [
    {
     "data": {
      "text/plain": [
       "GridSearchCV(cv=5, error_score='raise',\n",
       "       estimator=LinearSVC(C=1, class_weight=None, dual=True, fit_intercept=True,\n",
       "     intercept_scaling=1, loss='squared_hinge', max_iter=1000,\n",
       "     multi_class='ovr', penalty='l2', random_state=None, tol=0.0001,\n",
       "     verbose=0),\n",
       "       fit_params=None, iid=True, n_jobs=4,\n",
       "       param_grid={'C': [0.001, 0.01, 0.1, 1, 10, 100, 1000]},\n",
       "       pre_dispatch='2*n_jobs', refit=True, return_train_score=True,\n",
       "       scoring=None, verbose=0)"
      ]
     },
     "execution_count": 67,
     "metadata": {},
     "output_type": "execute_result"
    }
   ],
   "source": [
    "grid_cv_svc.fit(X_train, y_train)"
   ]
  },
  {
   "cell_type": "code",
   "execution_count": 68,
   "metadata": {},
   "outputs": [
    {
     "name": "stdout",
     "output_type": "stream",
     "text": [
      "R-Squared::0.76107964011996\n",
      "Best Hyperparameters::\n",
      "{'C': 1}\n"
     ]
    }
   ],
   "source": [
    "print(\"R-Squared::{}\".format(grid_cv_svc.best_score_))\n",
    "print(\"Best Hyperparameters::\\n{}\".format(grid_cv_svc.best_params_))"
   ]
  },
  {
   "cell_type": "code",
   "execution_count": 69,
   "metadata": {},
   "outputs": [
    {
     "name": "stdout",
     "output_type": "stream",
     "text": [
      "Accuracy on training set: 0.9514828390536488\n",
      "Accuracy on testing set:  0.7545087064676617\n"
     ]
    }
   ],
   "source": [
    "print ('Accuracy on training set: {}'.format(grid_cv_svc.score(X_train, y_train)))\n",
    "print ('Accuracy on testing set:  {}'.format(grid_cv_svc.score(X_test, y_test)))"
   ]
  },
  {
   "cell_type": "code",
   "execution_count": 70,
   "metadata": {},
   "outputs": [
    {
     "name": "stdout",
     "output_type": "stream",
     "text": [
      "Model Performance metrics:\n",
      "------------------------------\n",
      "Accuracy: 0.7545\n",
      "Precision: 0.7354\n",
      "Recall: 0.7545\n",
      "F1 Score: 0.7376\n",
      "\n",
      "Model Classification report:\n",
      "------------------------------\n",
      "             precision    recall  f1-score   support\n",
      "\n",
      "          1       0.76      0.83      0.79      1873\n",
      "          2       0.57      0.40      0.47       474\n",
      "          3       0.59      0.36      0.45       480\n",
      "          4       0.54      0.31      0.40       534\n",
      "          5       0.80      0.90      0.85      3071\n",
      "\n",
      "avg / total       0.74      0.75      0.74      6432\n",
      "\n",
      "\n",
      "Prediction Confusion Matrix:\n",
      "------------------------------\n",
      "          Predicted:                     \n",
      "                   1    2    3    4     5\n",
      "Actual: 1       1549   65   37   24   198\n",
      "        2        160  190   28   12    84\n",
      "        3        123   26  175   33   123\n",
      "        4         62   15   21  168   268\n",
      "        5        152   39   36   73  2771\n"
     ]
    }
   ],
   "source": [
    "y_pred = grid_cv_svc.predict(X_test)\n",
    "\n",
    "display_model_performance_metrics(true_labels= y_test, predicted_labels= y_pred, \n",
    "                                      classes=[1,2,3,4,5])"
   ]
  },
  {
   "cell_type": "code",
   "execution_count": 71,
   "metadata": {},
   "outputs": [],
   "source": [
    "# SGDClassifier\n",
    "\n",
    "sgdc_params_grid = {\"penalty\": ['l1','l2','elasticnet']\n",
    "                   #\"l1_ratio\": [0.2, 0.5, 0.7]\n",
    "                   }\n",
    "\n",
    "grid_cv_sgdc = GridSearchCV(clf_sgdc, sgdc_params_grid, n_jobs=4, cv=5, return_train_score=True)"
   ]
  },
  {
   "cell_type": "code",
   "execution_count": 72,
   "metadata": {},
   "outputs": [
    {
     "data": {
      "text/plain": [
       "GridSearchCV(cv=5, error_score='raise',\n",
       "       estimator=SGDClassifier(alpha=0.0001, average=False, class_weight=None, epsilon=0.1,\n",
       "       eta0=0.0, fit_intercept=True, l1_ratio=0.15,\n",
       "       learning_rate='optimal', loss='hinge', max_iter=None, n_iter=None,\n",
       "       n_jobs=1, penalty='l2', power_t=0.5, random_state=None,\n",
       "       shuffle=True, tol=None, verbose=0, warm_start=False),\n",
       "       fit_params=None, iid=True, n_jobs=4,\n",
       "       param_grid={'penalty': ['l1', 'l2', 'elasticnet']},\n",
       "       pre_dispatch='2*n_jobs', refit=True, return_train_score=True,\n",
       "       scoring=None, verbose=0)"
      ]
     },
     "execution_count": 72,
     "metadata": {},
     "output_type": "execute_result"
    }
   ],
   "source": [
    "grid_cv_sgdc.fit(X_train, y_train)"
   ]
  },
  {
   "cell_type": "code",
   "execution_count": null,
   "metadata": {},
   "outputs": [],
   "source": []
  },
  {
   "cell_type": "code",
   "execution_count": 73,
   "metadata": {},
   "outputs": [
    {
     "name": "stdout",
     "output_type": "stream",
     "text": [
      "R-Squared::0.746484505164945\n",
      "Best Hyperparameters::\n",
      "{'penalty': 'l2'}\n"
     ]
    }
   ],
   "source": [
    "print(\"R-Squared::{}\".format(grid_cv_sgdc.best_score_))\n",
    "print(\"Best Hyperparameters::\\n{}\".format(grid_cv_sgdc.best_params_))"
   ]
  },
  {
   "cell_type": "code",
   "execution_count": 74,
   "metadata": {},
   "outputs": [
    {
     "name": "stdout",
     "output_type": "stream",
     "text": [
      "Accuracy on training set: 0.8409196934355215\n",
      "Accuracy on testing set:  0.7492226368159204\n"
     ]
    }
   ],
   "source": [
    "print ('Accuracy on training set: {}'.format(grid_cv_sgdc.score(X_train, y_train)))\n",
    "print ('Accuracy on testing set:  {}'.format(grid_cv_sgdc.score(X_test, y_test)))"
   ]
  },
  {
   "cell_type": "code",
   "execution_count": 75,
   "metadata": {},
   "outputs": [
    {
     "name": "stdout",
     "output_type": "stream",
     "text": [
      "Model Performance metrics:\n",
      "------------------------------\n",
      "Accuracy: 0.7492\n",
      "Precision: 0.7429\n",
      "Recall: 0.7492\n",
      "F1 Score: 0.7145\n",
      "\n",
      "Model Classification report:\n",
      "------------------------------\n",
      "             precision    recall  f1-score   support\n",
      "\n",
      "          1       0.73      0.84      0.78      1873\n",
      "          2       0.74      0.28      0.40       474\n",
      "          3       0.73      0.25      0.37       480\n",
      "          4       0.68      0.22      0.33       534\n",
      "          5       0.76      0.94      0.84      3071\n",
      "\n",
      "avg / total       0.74      0.75      0.71      6432\n",
      "\n",
      "\n",
      "Prediction Confusion Matrix:\n",
      "------------------------------\n",
      "          Predicted:                     \n",
      "                   1    2    3    4     5\n",
      "Actual: 1       1576   16   12   10   259\n",
      "        2        208  132   14    7   113\n",
      "        3        148   16  118   17   181\n",
      "        4         64    4    8  118   340\n",
      "        5        153   11   10   22  2875\n"
     ]
    }
   ],
   "source": [
    "y_pred = grid_cv_sgdc.predict(X_test)\n",
    "\n",
    "display_model_performance_metrics(true_labels= y_test, predicted_labels= y_pred, \n",
    "                                      classes=[1,2,3,4,5])"
   ]
  },
  {
   "cell_type": "code",
   "execution_count": 76,
   "metadata": {},
   "outputs": [],
   "source": [
    "#random forests\n",
    "\n",
    "rf_param_grid = {'n_estimators': [200],\n",
    "              #\"criterion\": [\"mse\"],\n",
    "              #\"min_samples_split\": [2, 3],\n",
    "              #\"max_features\": ['auto','log2', None]\n",
    "              #\"max_depth\": [3, 4],\n",
    "              #\"min_samples_leaf\": [10, 20, 30],\n",
    "              #\"max_leaf_nodes\": [20,40,60]\n",
    "             }\n",
    "\n",
    "grid_cv_rf = GridSearchCV(clf_rf, rf_param_grid, n_jobs=1, cv=5, return_train_score=True)"
   ]
  },
  {
   "cell_type": "code",
   "execution_count": 77,
   "metadata": {},
   "outputs": [
    {
     "data": {
      "text/plain": [
       "GridSearchCV(cv=5, error_score='raise',\n",
       "       estimator=RandomForestClassifier(bootstrap=True, class_weight=None, criterion='gini',\n",
       "            max_depth=None, max_features='auto', max_leaf_nodes=None,\n",
       "            min_impurity_decrease=0.0, min_impurity_split=None,\n",
       "            min_samples_leaf=1, min_samples_split=2,\n",
       "            min_weight_fraction_leaf=0.0, n_estimators=10, n_jobs=1,\n",
       "            oob_score=False, random_state=1, verbose=0, warm_start=False),\n",
       "       fit_params=None, iid=True, n_jobs=1,\n",
       "       param_grid={'n_estimators': [200]}, pre_dispatch='2*n_jobs',\n",
       "       refit=True, return_train_score=True, scoring=None, verbose=0)"
      ]
     },
     "execution_count": 77,
     "metadata": {},
     "output_type": "execute_result"
    }
   ],
   "source": [
    "grid_cv_rf.fit(X_train, y_train)"
   ]
  },
  {
   "cell_type": "code",
   "execution_count": 78,
   "metadata": {},
   "outputs": [
    {
     "name": "stdout",
     "output_type": "stream",
     "text": [
      "R-Squared::0.7559480173275575\n",
      "Best Hyperparameters::\n",
      "{'n_estimators': 200}\n"
     ]
    }
   ],
   "source": [
    "print(\"R-Squared::{}\".format(grid_cv_rf.best_score_))\n",
    "print(\"Best Hyperparameters::\\n{}\".format(grid_cv_rf.best_params_))"
   ]
  },
  {
   "cell_type": "code",
   "execution_count": 79,
   "metadata": {},
   "outputs": [
    {
     "name": "stdout",
     "output_type": "stream",
     "text": [
      "Accuracy on training set: 1.0\n",
      "Accuracy on testing set:  0.7657027363184079\n"
     ]
    }
   ],
   "source": [
    "print ('Accuracy on training set: {}'.format(grid_cv_rf.score(X_train, y_train)))\n",
    "print ('Accuracy on testing set:  {}'.format(grid_cv_rf.score(X_test, y_test)))"
   ]
  },
  {
   "cell_type": "code",
   "execution_count": 80,
   "metadata": {},
   "outputs": [
    {
     "name": "stdout",
     "output_type": "stream",
     "text": [
      "Model Performance metrics:\n",
      "------------------------------\n",
      "Accuracy: 0.7657\n",
      "Precision: 0.811\n",
      "Recall: 0.7657\n",
      "F1 Score: 0.7385\n",
      "\n",
      "Model Classification report:\n",
      "------------------------------\n",
      "             precision    recall  f1-score   support\n",
      "\n",
      "          1       0.81      0.78      0.79      1873\n",
      "          2       1.00      0.35      0.52       474\n",
      "          3       1.00      0.31      0.48       480\n",
      "          4       1.00      0.30      0.46       534\n",
      "          5       0.72      0.97      0.83      3071\n",
      "\n",
      "avg / total       0.81      0.77      0.74      6432\n",
      "\n",
      "\n",
      "Prediction Confusion Matrix:\n",
      "------------------------------\n",
      "          Predicted:                     \n",
      "                   1    2    3    4     5\n",
      "Actual: 1       1456    0    0    0   417\n",
      "        2        120  165    0    0   189\n",
      "        3        102    0  151    0   227\n",
      "        4         37    0    0  161   336\n",
      "        5         79    0    0    0  2992\n"
     ]
    }
   ],
   "source": [
    "y_pred = grid_cv_rf.predict(X_test)\n",
    "\n",
    "display_model_performance_metrics(true_labels= y_test, predicted_labels= y_pred, \n",
    "                                      classes=[1,2,3,4,5])"
   ]
  }
 ],
 "metadata": {
  "kernelspec": {
   "display_name": "Python 3",
   "language": "python",
   "name": "python3"
  },
  "language_info": {
   "codemirror_mode": {
    "name": "ipython",
    "version": 3
   },
   "file_extension": ".py",
   "mimetype": "text/x-python",
   "name": "python",
   "nbconvert_exporter": "python",
   "pygments_lexer": "ipython3",
   "version": "3.6.5"
  }
 },
 "nbformat": 4,
 "nbformat_minor": 2
}
